{
 "cells": [
  {
   "cell_type": "code",
   "execution_count": 8,
   "id": "1e656939",
   "metadata": {},
   "outputs": [],
   "source": [
    "import sys\n",
    "sys.path.append(\"..\")\n",
    "\n",
    "from src.SIR.SIR import SIR\n",
    "import plotly.express as px\n",
    "import pandas as pd"
   ]
  },
  {
   "cell_type": "code",
   "execution_count": 9,
   "id": "c90af314",
   "metadata": {},
   "outputs": [
    {
     "data": {
      "application/vnd.microsoft.datawrangler.viewer.v0+json": {
       "columns": [
        {
         "name": "index",
         "rawType": "int64",
         "type": "integer"
        },
        {
         "name": "S",
         "rawType": "float64",
         "type": "float"
        },
        {
         "name": "I",
         "rawType": "float64",
         "type": "float"
        },
        {
         "name": "R",
         "rawType": "float64",
         "type": "float"
        },
        {
         "name": "t",
         "rawType": "float64",
         "type": "float"
        }
       ],
       "ref": "46097e8a-4ecb-4873-99e7-2cd724661de2",
       "rows": [
        [
         "0",
         "100.0",
         "1.0",
         "0.0",
         "0.0"
        ],
        [
         "1",
         "0.416061170899937",
         "95.10289795844372",
         "5.481040870656344",
         "2.0408163265306123"
        ],
        [
         "2",
         "3.9875423950473326e-05",
         "86.25690873899765",
         "14.743051385578392",
         "4.081632653061225"
        ],
        [
         "3",
         "-9.931354042630251e-08",
         "77.88939493623063",
         "23.11060516308289",
         "6.122448979591837"
        ],
        [
         "4",
         "-2.1142162602918843e-07",
         "70.33355469674399",
         "30.66644551467762",
         "8.16326530612245"
        ],
        [
         "5",
         "1.2330768400950633e-07",
         "63.51068572087498",
         "37.48931415581732",
         "10.204081632653061"
        ],
        [
         "6",
         "-1.9930074303916012e-07",
         "57.34968550911106",
         "43.65031469018967",
         "12.244897959183675"
        ],
        [
         "7",
         "6.155328316376062e-07",
         "51.78634621650706",
         "49.21365316796009",
         "14.285714285714286"
        ],
        [
         "8",
         "6.7217578887123855e-09",
         "46.76269283974891",
         "54.23730715352932",
         "16.3265306122449"
        ],
        [
         "9",
         "2.3705265101209246e-07",
         "42.22636976199148",
         "58.77363000095586",
         "18.367346938775512"
        ],
        [
         "10",
         "4.425103740729311e-07",
         "38.13010316748458",
         "62.86989639000504",
         "20.408163265306122"
        ],
        [
         "11",
         "6.608464847513936e-07",
         "34.431204320458384",
         "66.56879501869514",
         "22.448979591836736"
        ],
        [
         "12",
         "1.0495086174733746e-06",
         "31.091125498721777",
         "69.90887345176961",
         "24.48979591836735"
        ],
        [
         "13",
         "7.963061532815803e-07",
         "28.075059341263138",
         "72.92493986243069",
         "26.53061224489796"
        ],
        [
         "14",
         "3.460351902794356e-07",
         "25.35157384824364",
         "75.64842580572116",
         "28.571428571428573"
        ],
        [
         "15",
         "-9.154091121352013e-08",
         "22.892286107245955",
         "78.10771398429495",
         "30.612244897959183"
        ],
        [
         "16",
         "-1.7612937166421584e-07",
         "20.67156648614092",
         "80.32843368998844",
         "32.6530612244898"
        ],
        [
         "17",
         "3.4889653620276787e-07",
         "18.66627393745743",
         "82.33372571364603",
         "34.69387755102041"
        ],
        [
         "18",
         "-3.387221496050169e-07",
         "16.855506871549988",
         "84.14449346717217",
         "36.734693877551024"
        ],
        [
         "19",
         "3.9760775616461184e-07",
         "15.220401504014964",
         "85.77959809837728",
         "38.775510204081634"
        ],
        [
         "20",
         "-1.0072193284396297e-07",
         "13.743907802587954",
         "87.25609229813398",
         "40.816326530612244"
        ],
        [
         "21",
         "3.0136668179778733e-08",
         "12.410649877525291",
         "88.58935009233805",
         "42.85714285714286"
        ],
        [
         "22",
         "2.390637467896516e-07",
         "11.206727282904499",
         "89.79327247803175",
         "44.89795918367347"
        ],
        [
         "23",
         "-7.113383500191384e-08",
         "10.11958204864808",
         "90.88041802248576",
         "46.93877551020408"
        ],
        [
         "24",
         "8.007591122429592e-08",
         "9.13791728262201",
         "91.86208263730208",
         "48.9795918367347"
        ],
        [
         "25",
         "1.3075566006097138e-07",
         "8.251472550233242",
         "92.7485273190111",
         "51.02040816326531"
        ],
        [
         "26",
         "5.550783523889959e-09",
         "7.450972885384596",
         "93.54902710906462",
         "53.06122448979592"
        ],
        [
         "27",
         "-1.7504599580468024e-08",
         "6.72816748984061",
         "94.27183252766399",
         "55.10204081632653"
        ],
        [
         "28",
         "4.739039157927775e-08",
         "6.075526436340649",
         "94.92447351626896",
         "57.142857142857146"
        ],
        [
         "29",
         "7.526150985800596e-08",
         "5.486180595985208",
         "95.51381932875329",
         "59.183673469387756"
        ],
        [
         "30",
         "3.358800091077984e-08",
         "4.953743203570415",
         "96.04625676284158",
         "61.224489795918366"
        ],
        [
         "31",
         "6.03566549768169e-09",
         "4.472843228697226",
         "96.52715676526711",
         "63.26530612244898"
        ],
        [
         "32",
         "4.18496452458051e-10",
         "4.038751090610544",
         "96.96124890897096",
         "65.3061224489796"
        ],
        [
         "33",
         "1.676473504176874e-08",
         "3.64702822497305",
         "97.35297175826221",
         "67.34693877551021"
        ],
        [
         "34",
         "4.731687096518677e-08",
         "3.2935270838652073",
         "97.70647286881793",
         "69.38775510204081"
        ],
        [
         "35",
         "7.653164235519931e-08",
         "2.974391135785251",
         "98.02560878768311",
         "71.42857142857143"
        ],
        [
         "36",
         "8.108003577720614e-08",
         "2.6860548656492007",
         "98.31394505327077",
         "73.46938775510205"
        ],
        [
         "37",
         "5.962584146210319e-08",
         "2.4251842664975976",
         "98.57481567387656",
         "75.51020408163265"
        ],
        [
         "38",
         "4.069520223916068e-08",
         "2.18922397395733",
         "98.81077598534746",
         "77.55102040816327"
        ],
        [
         "39",
         "2.7560867733173103e-08",
         "1.976142257860614",
         "99.02385771457853",
         "79.59183673469389"
        ],
        [
         "40",
         "2.1947138935088774e-08",
         "1.7839784772895575",
         "99.2160215007633",
         "81.63265306122449"
        ],
        [
         "41",
         "2.4180147295293148e-08",
         "1.6108418629104713",
         "99.38915811290939",
         "83.6734693877551"
        ],
        [
         "42",
         "3.3187854723609076e-08",
         "1.4549115169738762",
         "99.54508844983827",
         "85.71428571428572"
        ],
        [
         "43",
         "4.6500053589296465e-08",
         "1.3144364133145006",
         "99.68556354018544",
         "87.75510204081633"
        ],
        [
         "44",
         "6.024836672105281e-08",
         "1.187735397351274",
         "99.81226454240036",
         "89.79591836734694"
        ],
        [
         "45",
         "6.916624740701248e-08",
         "1.073197186087338",
         "99.92680274474641",
         "91.83673469387756"
        ],
        [
         "46",
         "6.703953041276305e-08",
         "0.9693007173462114",
         "100.03069921561426",
         "93.87755102040816"
        ],
        [
         "47",
         "6.102238901634695e-08",
         "0.8752699863603237",
         "100.12472995261729",
         "95.91836734693878"
        ],
        [
         "48",
         "5.605628945386182e-08",
         "0.7903631251941716",
         "100.20963681874954",
         "97.9591836734694"
        ],
        [
         "49",
         "5.191929392032629e-08",
         "0.7136932264149578",
         "100.28630672166575",
         "100.0"
        ]
       ],
       "shape": {
        "columns": 4,
        "rows": 50
       }
      },
      "text/html": [
       "<div>\n",
       "<style scoped>\n",
       "    .dataframe tbody tr th:only-of-type {\n",
       "        vertical-align: middle;\n",
       "    }\n",
       "\n",
       "    .dataframe tbody tr th {\n",
       "        vertical-align: top;\n",
       "    }\n",
       "\n",
       "    .dataframe thead th {\n",
       "        text-align: right;\n",
       "    }\n",
       "</style>\n",
       "<table border=\"1\" class=\"dataframe\">\n",
       "  <thead>\n",
       "    <tr style=\"text-align: right;\">\n",
       "      <th></th>\n",
       "      <th>S</th>\n",
       "      <th>I</th>\n",
       "      <th>R</th>\n",
       "      <th>t</th>\n",
       "    </tr>\n",
       "  </thead>\n",
       "  <tbody>\n",
       "    <tr>\n",
       "      <th>0</th>\n",
       "      <td>1.000000e+02</td>\n",
       "      <td>1.000000</td>\n",
       "      <td>0.000000</td>\n",
       "      <td>0.000000</td>\n",
       "    </tr>\n",
       "    <tr>\n",
       "      <th>1</th>\n",
       "      <td>4.160612e-01</td>\n",
       "      <td>95.102898</td>\n",
       "      <td>5.481041</td>\n",
       "      <td>2.040816</td>\n",
       "    </tr>\n",
       "    <tr>\n",
       "      <th>2</th>\n",
       "      <td>3.987542e-05</td>\n",
       "      <td>86.256909</td>\n",
       "      <td>14.743051</td>\n",
       "      <td>4.081633</td>\n",
       "    </tr>\n",
       "    <tr>\n",
       "      <th>3</th>\n",
       "      <td>-9.931354e-08</td>\n",
       "      <td>77.889395</td>\n",
       "      <td>23.110605</td>\n",
       "      <td>6.122449</td>\n",
       "    </tr>\n",
       "    <tr>\n",
       "      <th>4</th>\n",
       "      <td>-2.114216e-07</td>\n",
       "      <td>70.333555</td>\n",
       "      <td>30.666446</td>\n",
       "      <td>8.163265</td>\n",
       "    </tr>\n",
       "    <tr>\n",
       "      <th>5</th>\n",
       "      <td>1.233077e-07</td>\n",
       "      <td>63.510686</td>\n",
       "      <td>37.489314</td>\n",
       "      <td>10.204082</td>\n",
       "    </tr>\n",
       "    <tr>\n",
       "      <th>6</th>\n",
       "      <td>-1.993007e-07</td>\n",
       "      <td>57.349686</td>\n",
       "      <td>43.650315</td>\n",
       "      <td>12.244898</td>\n",
       "    </tr>\n",
       "    <tr>\n",
       "      <th>7</th>\n",
       "      <td>6.155328e-07</td>\n",
       "      <td>51.786346</td>\n",
       "      <td>49.213653</td>\n",
       "      <td>14.285714</td>\n",
       "    </tr>\n",
       "    <tr>\n",
       "      <th>8</th>\n",
       "      <td>6.721758e-09</td>\n",
       "      <td>46.762693</td>\n",
       "      <td>54.237307</td>\n",
       "      <td>16.326531</td>\n",
       "    </tr>\n",
       "    <tr>\n",
       "      <th>9</th>\n",
       "      <td>2.370527e-07</td>\n",
       "      <td>42.226370</td>\n",
       "      <td>58.773630</td>\n",
       "      <td>18.367347</td>\n",
       "    </tr>\n",
       "    <tr>\n",
       "      <th>10</th>\n",
       "      <td>4.425104e-07</td>\n",
       "      <td>38.130103</td>\n",
       "      <td>62.869896</td>\n",
       "      <td>20.408163</td>\n",
       "    </tr>\n",
       "    <tr>\n",
       "      <th>11</th>\n",
       "      <td>6.608465e-07</td>\n",
       "      <td>34.431204</td>\n",
       "      <td>66.568795</td>\n",
       "      <td>22.448980</td>\n",
       "    </tr>\n",
       "    <tr>\n",
       "      <th>12</th>\n",
       "      <td>1.049509e-06</td>\n",
       "      <td>31.091125</td>\n",
       "      <td>69.908873</td>\n",
       "      <td>24.489796</td>\n",
       "    </tr>\n",
       "    <tr>\n",
       "      <th>13</th>\n",
       "      <td>7.963062e-07</td>\n",
       "      <td>28.075059</td>\n",
       "      <td>72.924940</td>\n",
       "      <td>26.530612</td>\n",
       "    </tr>\n",
       "    <tr>\n",
       "      <th>14</th>\n",
       "      <td>3.460352e-07</td>\n",
       "      <td>25.351574</td>\n",
       "      <td>75.648426</td>\n",
       "      <td>28.571429</td>\n",
       "    </tr>\n",
       "    <tr>\n",
       "      <th>15</th>\n",
       "      <td>-9.154091e-08</td>\n",
       "      <td>22.892286</td>\n",
       "      <td>78.107714</td>\n",
       "      <td>30.612245</td>\n",
       "    </tr>\n",
       "    <tr>\n",
       "      <th>16</th>\n",
       "      <td>-1.761294e-07</td>\n",
       "      <td>20.671566</td>\n",
       "      <td>80.328434</td>\n",
       "      <td>32.653061</td>\n",
       "    </tr>\n",
       "    <tr>\n",
       "      <th>17</th>\n",
       "      <td>3.488965e-07</td>\n",
       "      <td>18.666274</td>\n",
       "      <td>82.333726</td>\n",
       "      <td>34.693878</td>\n",
       "    </tr>\n",
       "    <tr>\n",
       "      <th>18</th>\n",
       "      <td>-3.387221e-07</td>\n",
       "      <td>16.855507</td>\n",
       "      <td>84.144493</td>\n",
       "      <td>36.734694</td>\n",
       "    </tr>\n",
       "    <tr>\n",
       "      <th>19</th>\n",
       "      <td>3.976078e-07</td>\n",
       "      <td>15.220402</td>\n",
       "      <td>85.779598</td>\n",
       "      <td>38.775510</td>\n",
       "    </tr>\n",
       "    <tr>\n",
       "      <th>20</th>\n",
       "      <td>-1.007219e-07</td>\n",
       "      <td>13.743908</td>\n",
       "      <td>87.256092</td>\n",
       "      <td>40.816327</td>\n",
       "    </tr>\n",
       "    <tr>\n",
       "      <th>21</th>\n",
       "      <td>3.013667e-08</td>\n",
       "      <td>12.410650</td>\n",
       "      <td>88.589350</td>\n",
       "      <td>42.857143</td>\n",
       "    </tr>\n",
       "    <tr>\n",
       "      <th>22</th>\n",
       "      <td>2.390637e-07</td>\n",
       "      <td>11.206727</td>\n",
       "      <td>89.793272</td>\n",
       "      <td>44.897959</td>\n",
       "    </tr>\n",
       "    <tr>\n",
       "      <th>23</th>\n",
       "      <td>-7.113384e-08</td>\n",
       "      <td>10.119582</td>\n",
       "      <td>90.880418</td>\n",
       "      <td>46.938776</td>\n",
       "    </tr>\n",
       "    <tr>\n",
       "      <th>24</th>\n",
       "      <td>8.007591e-08</td>\n",
       "      <td>9.137917</td>\n",
       "      <td>91.862083</td>\n",
       "      <td>48.979592</td>\n",
       "    </tr>\n",
       "    <tr>\n",
       "      <th>25</th>\n",
       "      <td>1.307557e-07</td>\n",
       "      <td>8.251473</td>\n",
       "      <td>92.748527</td>\n",
       "      <td>51.020408</td>\n",
       "    </tr>\n",
       "    <tr>\n",
       "      <th>26</th>\n",
       "      <td>5.550784e-09</td>\n",
       "      <td>7.450973</td>\n",
       "      <td>93.549027</td>\n",
       "      <td>53.061224</td>\n",
       "    </tr>\n",
       "    <tr>\n",
       "      <th>27</th>\n",
       "      <td>-1.750460e-08</td>\n",
       "      <td>6.728167</td>\n",
       "      <td>94.271833</td>\n",
       "      <td>55.102041</td>\n",
       "    </tr>\n",
       "    <tr>\n",
       "      <th>28</th>\n",
       "      <td>4.739039e-08</td>\n",
       "      <td>6.075526</td>\n",
       "      <td>94.924474</td>\n",
       "      <td>57.142857</td>\n",
       "    </tr>\n",
       "    <tr>\n",
       "      <th>29</th>\n",
       "      <td>7.526151e-08</td>\n",
       "      <td>5.486181</td>\n",
       "      <td>95.513819</td>\n",
       "      <td>59.183673</td>\n",
       "    </tr>\n",
       "    <tr>\n",
       "      <th>30</th>\n",
       "      <td>3.358800e-08</td>\n",
       "      <td>4.953743</td>\n",
       "      <td>96.046257</td>\n",
       "      <td>61.224490</td>\n",
       "    </tr>\n",
       "    <tr>\n",
       "      <th>31</th>\n",
       "      <td>6.035665e-09</td>\n",
       "      <td>4.472843</td>\n",
       "      <td>96.527157</td>\n",
       "      <td>63.265306</td>\n",
       "    </tr>\n",
       "    <tr>\n",
       "      <th>32</th>\n",
       "      <td>4.184965e-10</td>\n",
       "      <td>4.038751</td>\n",
       "      <td>96.961249</td>\n",
       "      <td>65.306122</td>\n",
       "    </tr>\n",
       "    <tr>\n",
       "      <th>33</th>\n",
       "      <td>1.676474e-08</td>\n",
       "      <td>3.647028</td>\n",
       "      <td>97.352972</td>\n",
       "      <td>67.346939</td>\n",
       "    </tr>\n",
       "    <tr>\n",
       "      <th>34</th>\n",
       "      <td>4.731687e-08</td>\n",
       "      <td>3.293527</td>\n",
       "      <td>97.706473</td>\n",
       "      <td>69.387755</td>\n",
       "    </tr>\n",
       "    <tr>\n",
       "      <th>35</th>\n",
       "      <td>7.653164e-08</td>\n",
       "      <td>2.974391</td>\n",
       "      <td>98.025609</td>\n",
       "      <td>71.428571</td>\n",
       "    </tr>\n",
       "    <tr>\n",
       "      <th>36</th>\n",
       "      <td>8.108004e-08</td>\n",
       "      <td>2.686055</td>\n",
       "      <td>98.313945</td>\n",
       "      <td>73.469388</td>\n",
       "    </tr>\n",
       "    <tr>\n",
       "      <th>37</th>\n",
       "      <td>5.962584e-08</td>\n",
       "      <td>2.425184</td>\n",
       "      <td>98.574816</td>\n",
       "      <td>75.510204</td>\n",
       "    </tr>\n",
       "    <tr>\n",
       "      <th>38</th>\n",
       "      <td>4.069520e-08</td>\n",
       "      <td>2.189224</td>\n",
       "      <td>98.810776</td>\n",
       "      <td>77.551020</td>\n",
       "    </tr>\n",
       "    <tr>\n",
       "      <th>39</th>\n",
       "      <td>2.756087e-08</td>\n",
       "      <td>1.976142</td>\n",
       "      <td>99.023858</td>\n",
       "      <td>79.591837</td>\n",
       "    </tr>\n",
       "    <tr>\n",
       "      <th>40</th>\n",
       "      <td>2.194714e-08</td>\n",
       "      <td>1.783978</td>\n",
       "      <td>99.216022</td>\n",
       "      <td>81.632653</td>\n",
       "    </tr>\n",
       "    <tr>\n",
       "      <th>41</th>\n",
       "      <td>2.418015e-08</td>\n",
       "      <td>1.610842</td>\n",
       "      <td>99.389158</td>\n",
       "      <td>83.673469</td>\n",
       "    </tr>\n",
       "    <tr>\n",
       "      <th>42</th>\n",
       "      <td>3.318785e-08</td>\n",
       "      <td>1.454912</td>\n",
       "      <td>99.545088</td>\n",
       "      <td>85.714286</td>\n",
       "    </tr>\n",
       "    <tr>\n",
       "      <th>43</th>\n",
       "      <td>4.650005e-08</td>\n",
       "      <td>1.314436</td>\n",
       "      <td>99.685564</td>\n",
       "      <td>87.755102</td>\n",
       "    </tr>\n",
       "    <tr>\n",
       "      <th>44</th>\n",
       "      <td>6.024837e-08</td>\n",
       "      <td>1.187735</td>\n",
       "      <td>99.812265</td>\n",
       "      <td>89.795918</td>\n",
       "    </tr>\n",
       "    <tr>\n",
       "      <th>45</th>\n",
       "      <td>6.916625e-08</td>\n",
       "      <td>1.073197</td>\n",
       "      <td>99.926803</td>\n",
       "      <td>91.836735</td>\n",
       "    </tr>\n",
       "    <tr>\n",
       "      <th>46</th>\n",
       "      <td>6.703953e-08</td>\n",
       "      <td>0.969301</td>\n",
       "      <td>100.030699</td>\n",
       "      <td>93.877551</td>\n",
       "    </tr>\n",
       "    <tr>\n",
       "      <th>47</th>\n",
       "      <td>6.102239e-08</td>\n",
       "      <td>0.875270</td>\n",
       "      <td>100.124730</td>\n",
       "      <td>95.918367</td>\n",
       "    </tr>\n",
       "    <tr>\n",
       "      <th>48</th>\n",
       "      <td>5.605629e-08</td>\n",
       "      <td>0.790363</td>\n",
       "      <td>100.209637</td>\n",
       "      <td>97.959184</td>\n",
       "    </tr>\n",
       "    <tr>\n",
       "      <th>49</th>\n",
       "      <td>5.191929e-08</td>\n",
       "      <td>0.713693</td>\n",
       "      <td>100.286307</td>\n",
       "      <td>100.000000</td>\n",
       "    </tr>\n",
       "  </tbody>\n",
       "</table>\n",
       "</div>"
      ],
      "text/plain": [
       "               S          I           R           t\n",
       "0   1.000000e+02   1.000000    0.000000    0.000000\n",
       "1   4.160612e-01  95.102898    5.481041    2.040816\n",
       "2   3.987542e-05  86.256909   14.743051    4.081633\n",
       "3  -9.931354e-08  77.889395   23.110605    6.122449\n",
       "4  -2.114216e-07  70.333555   30.666446    8.163265\n",
       "5   1.233077e-07  63.510686   37.489314   10.204082\n",
       "6  -1.993007e-07  57.349686   43.650315   12.244898\n",
       "7   6.155328e-07  51.786346   49.213653   14.285714\n",
       "8   6.721758e-09  46.762693   54.237307   16.326531\n",
       "9   2.370527e-07  42.226370   58.773630   18.367347\n",
       "10  4.425104e-07  38.130103   62.869896   20.408163\n",
       "11  6.608465e-07  34.431204   66.568795   22.448980\n",
       "12  1.049509e-06  31.091125   69.908873   24.489796\n",
       "13  7.963062e-07  28.075059   72.924940   26.530612\n",
       "14  3.460352e-07  25.351574   75.648426   28.571429\n",
       "15 -9.154091e-08  22.892286   78.107714   30.612245\n",
       "16 -1.761294e-07  20.671566   80.328434   32.653061\n",
       "17  3.488965e-07  18.666274   82.333726   34.693878\n",
       "18 -3.387221e-07  16.855507   84.144493   36.734694\n",
       "19  3.976078e-07  15.220402   85.779598   38.775510\n",
       "20 -1.007219e-07  13.743908   87.256092   40.816327\n",
       "21  3.013667e-08  12.410650   88.589350   42.857143\n",
       "22  2.390637e-07  11.206727   89.793272   44.897959\n",
       "23 -7.113384e-08  10.119582   90.880418   46.938776\n",
       "24  8.007591e-08   9.137917   91.862083   48.979592\n",
       "25  1.307557e-07   8.251473   92.748527   51.020408\n",
       "26  5.550784e-09   7.450973   93.549027   53.061224\n",
       "27 -1.750460e-08   6.728167   94.271833   55.102041\n",
       "28  4.739039e-08   6.075526   94.924474   57.142857\n",
       "29  7.526151e-08   5.486181   95.513819   59.183673\n",
       "30  3.358800e-08   4.953743   96.046257   61.224490\n",
       "31  6.035665e-09   4.472843   96.527157   63.265306\n",
       "32  4.184965e-10   4.038751   96.961249   65.306122\n",
       "33  1.676474e-08   3.647028   97.352972   67.346939\n",
       "34  4.731687e-08   3.293527   97.706473   69.387755\n",
       "35  7.653164e-08   2.974391   98.025609   71.428571\n",
       "36  8.108004e-08   2.686055   98.313945   73.469388\n",
       "37  5.962584e-08   2.425184   98.574816   75.510204\n",
       "38  4.069520e-08   2.189224   98.810776   77.551020\n",
       "39  2.756087e-08   1.976142   99.023858   79.591837\n",
       "40  2.194714e-08   1.783978   99.216022   81.632653\n",
       "41  2.418015e-08   1.610842   99.389158   83.673469\n",
       "42  3.318785e-08   1.454912   99.545088   85.714286\n",
       "43  4.650005e-08   1.314436   99.685564   87.755102\n",
       "44  6.024837e-08   1.187735   99.812265   89.795918\n",
       "45  6.916625e-08   1.073197   99.926803   91.836735\n",
       "46  6.703953e-08   0.969301  100.030699   93.877551\n",
       "47  6.102239e-08   0.875270  100.124730   95.918367\n",
       "48  5.605629e-08   0.790363  100.209637   97.959184\n",
       "49  5.191929e-08   0.713693  100.286307  100.000000"
      ]
     },
     "execution_count": 9,
     "metadata": {},
     "output_type": "execute_result"
    }
   ],
   "source": [
    "sir_one = SIR()\n",
    "\n",
    "soln = sir_one.solve_basic_sir()\n",
    "\n",
    "df = pd.DataFrame( soln.y.T )\n",
    "df['t'] = soln.t.T\n",
    "df.columns = [\"S\",\"I\",\"R\",\"t\"]\n",
    "df"
   ]
  },
  {
   "cell_type": "code",
   "execution_count": 10,
   "id": "67a8b62a",
   "metadata": {},
   "outputs": [
    {
     "ename": "ValueError",
     "evalue": "Mime type rendering requires nbformat>=4.2.0 but it is not installed",
     "output_type": "error",
     "traceback": [
      "\u001b[31m---------------------------------------------------------------------------\u001b[39m",
      "\u001b[31mValueError\u001b[39m                                Traceback (most recent call last)",
      "\u001b[36mFile \u001b[39m\u001b[32m~/Documents/WebCompute/.venv/lib64/python3.13/site-packages/IPython/core/formatters.py:984\u001b[39m, in \u001b[36mIPythonDisplayFormatter.__call__\u001b[39m\u001b[34m(self, obj)\u001b[39m\n\u001b[32m    982\u001b[39m method = get_real_method(obj, \u001b[38;5;28mself\u001b[39m.print_method)\n\u001b[32m    983\u001b[39m \u001b[38;5;28;01mif\u001b[39;00m method \u001b[38;5;129;01mis\u001b[39;00m \u001b[38;5;129;01mnot\u001b[39;00m \u001b[38;5;28;01mNone\u001b[39;00m:\n\u001b[32m--> \u001b[39m\u001b[32m984\u001b[39m     \u001b[43mmethod\u001b[49m\u001b[43m(\u001b[49m\u001b[43m)\u001b[49m\n\u001b[32m    985\u001b[39m     \u001b[38;5;28;01mreturn\u001b[39;00m \u001b[38;5;28;01mTrue\u001b[39;00m\n",
      "\u001b[36mFile \u001b[39m\u001b[32m~/Documents/WebCompute/.venv/lib64/python3.13/site-packages/plotly/basedatatypes.py:846\u001b[39m, in \u001b[36mBaseFigure._ipython_display_\u001b[39m\u001b[34m(self)\u001b[39m\n\u001b[32m    843\u001b[39m \u001b[38;5;28;01mimport\u001b[39;00m\u001b[38;5;250m \u001b[39m\u001b[34;01mplotly\u001b[39;00m\u001b[34;01m.\u001b[39;00m\u001b[34;01mio\u001b[39;00m\u001b[38;5;250m \u001b[39m\u001b[38;5;28;01mas\u001b[39;00m\u001b[38;5;250m \u001b[39m\u001b[34;01mpio\u001b[39;00m\n\u001b[32m    845\u001b[39m \u001b[38;5;28;01mif\u001b[39;00m pio.renderers.render_on_display \u001b[38;5;129;01mand\u001b[39;00m pio.renderers.default:\n\u001b[32m--> \u001b[39m\u001b[32m846\u001b[39m     \u001b[43mpio\u001b[49m\u001b[43m.\u001b[49m\u001b[43mshow\u001b[49m\u001b[43m(\u001b[49m\u001b[38;5;28;43mself\u001b[39;49m\u001b[43m)\u001b[49m\n\u001b[32m    847\u001b[39m \u001b[38;5;28;01melse\u001b[39;00m:\n\u001b[32m    848\u001b[39m     \u001b[38;5;28mprint\u001b[39m(\u001b[38;5;28mrepr\u001b[39m(\u001b[38;5;28mself\u001b[39m))\n",
      "\u001b[36mFile \u001b[39m\u001b[32m~/Documents/WebCompute/.venv/lib64/python3.13/site-packages/plotly/io/_renderers.py:425\u001b[39m, in \u001b[36mshow\u001b[39m\u001b[34m(fig, renderer, validate, **kwargs)\u001b[39m\n\u001b[32m    420\u001b[39m     \u001b[38;5;28;01mraise\u001b[39;00m \u001b[38;5;167;01mValueError\u001b[39;00m(\n\u001b[32m    421\u001b[39m         \u001b[33m\"\u001b[39m\u001b[33mMime type rendering requires ipython but it is not installed\u001b[39m\u001b[33m\"\u001b[39m\n\u001b[32m    422\u001b[39m     )\n\u001b[32m    424\u001b[39m \u001b[38;5;28;01mif\u001b[39;00m \u001b[38;5;129;01mnot\u001b[39;00m nbformat \u001b[38;5;129;01mor\u001b[39;00m Version(nbformat.__version__) < Version(\u001b[33m\"\u001b[39m\u001b[33m4.2.0\u001b[39m\u001b[33m\"\u001b[39m):\n\u001b[32m--> \u001b[39m\u001b[32m425\u001b[39m     \u001b[38;5;28;01mraise\u001b[39;00m \u001b[38;5;167;01mValueError\u001b[39;00m(\n\u001b[32m    426\u001b[39m         \u001b[33m\"\u001b[39m\u001b[33mMime type rendering requires nbformat>=4.2.0 but it is not installed\u001b[39m\u001b[33m\"\u001b[39m\n\u001b[32m    427\u001b[39m     )\n\u001b[32m    429\u001b[39m display_jupyter_version_warnings()\n\u001b[32m    431\u001b[39m ipython_display.display(bundle, raw=\u001b[38;5;28;01mTrue\u001b[39;00m)\n",
      "\u001b[31mValueError\u001b[39m: Mime type rendering requires nbformat>=4.2.0 but it is not installed"
     ]
    },
    {
     "data": {
      "application/vnd.plotly.v1+json": {
       "config": {
        "plotlyServerURL": "https://plot.ly"
       },
       "data": [
        {
         "bingroup": "x",
         "histfunc": "avg",
         "hovertemplate": "variable=S<br>t=%{x}<br>avg of value=%{y}<extra></extra>",
         "legendgroup": "S",
         "marker": {
          "color": "#636efa",
          "pattern": {
           "shape": ""
          }
         },
         "name": "S",
         "nbinsx": 50,
         "orientation": "v",
         "showlegend": true,
         "type": "histogram",
         "x": {
          "bdata": "AAAAAAAAAAAVvJyCl1MAQBW8nIKXUxBAIBrrQ2N9GEAVvJyCl1MgQBrrQ2N9aCRAIBrrQ2N9KEAlSZIkSZIsQBW8nIKXUzBAmFPwcgpeMkAa60NjfWg0QJ2Cl1PwcjZAIBrrQ2N9OECisT401oc6QCVJkiRJkjxAp+DlFLycPkAVvJyCl1NAQNaHxvrQWEFAmFPwcgpeQkBZHxrrQ2NDQBrrQ2N9aERA3LZt27ZtRUCdgpdT8HJGQF5OwcspeEdAIBrrQ2N9SEDh5RS8nIJJQKKxPjTWh0pAY31orA+NS0AlSZIkSZJMQOYUvJyCl01Ap+DlFLycTkBprA+N9aFPQBW8nIKXU1BA9qGxPjTWUEDWh8b60FhRQLdt27Zt21FAmFPwcgpeUkB4OQUvp+BSQFkfGutDY1NAOgUvp+DlU0Aa60NjfWhUQPvQWB8a61RA3LZt27ZtVUC8nIKXU/BVQJ2Cl1PwclZAfmisD431VkBeTsHLKXhXQD801ofG+ldAIBrrQ2N9WEAAAAAAAABZQA==",
          "dtype": "f8"
         },
         "xaxis": "x",
         "y": {
          "bdata": "AAAAAAAAWUACpYkIv6DaP85LXiL95wQ/KCCoR8aoer7A/xlKZGCMvrDp4NvRjIA+TPwK4Ou/ir5YUeYCY6ekPgCEKqWm3jw+pPNhKxHRjz5bE/I0RbKdPh43z8mgLKY+FDSp7ZqbsT7iIua/N7iqPov4f9zWOJc+mF+hvaSSeL58SExWwqOHvsvAmzH/aZc+BpKvxDO7lr4GKqBn2a6aPiBfOfuOCXu+6FUrv/MtYD46az16FQuQPpjczqhHGHO+xHrzU8Z+dT6jrfbyuoyBPgDDwakm1zc+EGqXsKDLUr4k+rYrSXFpPqx5wHvuM3Q+u5XFuEwIYj7AQC7OSOw5PgD8o3dEwvw9vMPyWUEAUj488eRkLmdpPoIw/uM2i3Q+X9XpEsfDdT7172PldAFwPsS0RyMb2WU+Cs2cpt+XXT6obuuayJBXPt43ZZmW9lk+0TtV1E3RYT7/8Agw6/ZoPiwk6nk8LHA+lIAMfhGRcj6Hni/k6/5xPlpubzhtYXA+h6WXWFEYbj7UfoHBu99rPg==",
          "dtype": "f8"
         },
         "yaxis": "y"
        },
        {
         "bingroup": "x",
         "histfunc": "avg",
         "hovertemplate": "variable=I<br>t=%{x}<br>avg of value=%{y}<extra></extra>",
         "legendgroup": "I",
         "marker": {
          "color": "#EF553B",
          "pattern": {
           "shape": ""
          }
         },
         "name": "I",
         "nbinsx": 50,
         "orientation": "v",
         "showlegend": true,
         "type": "histogram",
         "x": {
          "bdata": "AAAAAAAAAAAVvJyCl1MAQBW8nIKXUxBAIBrrQ2N9GEAVvJyCl1MgQBrrQ2N9aCRAIBrrQ2N9KEAlSZIkSZIsQBW8nIKXUzBAmFPwcgpeMkAa60NjfWg0QJ2Cl1PwcjZAIBrrQ2N9OECisT401oc6QCVJkiRJkjxAp+DlFLycPkAVvJyCl1NAQNaHxvrQWEFAmFPwcgpeQkBZHxrrQ2NDQBrrQ2N9aERA3LZt27ZtRUCdgpdT8HJGQF5OwcspeEdAIBrrQ2N9SEDh5RS8nIJJQKKxPjTWh0pAY31orA+NS0AlSZIkSZJMQOYUvJyCl01Ap+DlFLycTkBprA+N9aFPQBW8nIKXU1BA9qGxPjTWUEDWh8b60FhRQLdt27Zt21FAmFPwcgpeUkB4OQUvp+BSQFkfGutDY1NAOgUvp+DlU0Aa60NjfWhUQPvQWB8a61RA3LZt27ZtVUC8nIKXU/BVQJ2Cl1PwclZAfmisD431VkBeTsHLKXhXQD801ofG+ldAIBrrQ2N9WEAAAAAAAABZQA==",
          "dtype": "f8"
         },
         "xaxis": "x",
         "y": {
          "bdata": "AAAAAAAA8D/SlVHhlcZXQEwDWjFxkFVAqxW92Ot4U0BUfMz1WJVRQJvYUiZewU9AMcKofsKsTECXnSn+puRJQLbOQeufYUdAQkcyr/kcRUDkuXg4pxBDQJ8hA7QxN0FAe9csAFQXP0AH/McWNxM8QNZVZL4AWjlA6UvB3GzkNkCdEP/H66s0QIuOw+2QqjJAe8+SfwLbMECLd0d32HAuQH+1xnvhfCtAsidks0DSKEASiI4o2GkmQK5DuNs5PSRAVtQUGJ1GIkDeL5YCwYAgQDpwCNbLzR1A2oALvaTpGkAcRFjNVk0YQDXTflPZ8RVABHjwDqLQE0D8ju0DMeQRQC5tq12uJxBAE8lOIh0tDUDQh026JFkKQPmtbZSNywdAyMxZVQp9BUAlDDsCx2YDQIog3tuHgwFAOBQcWEee/z/cnwsELYv8P6qmAx4Cxvk/8J9/TFFH9z+Ut/157gf1P/rN/tT2APM/MHgG0NAr8T/guB/wggTvP4rQ0jM2Auw/2IvVm6dK6T/mhlotk9bmPw==",
          "dtype": "f8"
         },
         "yaxis": "y"
        },
        {
         "bingroup": "x",
         "histfunc": "avg",
         "hovertemplate": "variable=R<br>t=%{x}<br>avg of value=%{y}<extra></extra>",
         "legendgroup": "R",
         "marker": {
          "color": "#00cc96",
          "pattern": {
           "shape": ""
          }
         },
         "name": "R",
         "nbinsx": 50,
         "orientation": "v",
         "showlegend": true,
         "type": "histogram",
         "x": {
          "bdata": "AAAAAAAAAAAVvJyCl1MAQBW8nIKXUxBAIBrrQ2N9GEAVvJyCl1MgQBrrQ2N9aCRAIBrrQ2N9KEAlSZIkSZIsQBW8nIKXUzBAmFPwcgpeMkAa60NjfWg0QJ2Cl1PwcjZAIBrrQ2N9OECisT401oc6QCVJkiRJkjxAp+DlFLycPkAVvJyCl1NAQNaHxvrQWEFAmFPwcgpeQkBZHxrrQ2NDQBrrQ2N9aERA3LZt27ZtRUCdgpdT8HJGQF5OwcspeEdAIBrrQ2N9SEDh5RS8nIJJQKKxPjTWh0pAY31orA+NS0AlSZIkSZJMQOYUvJyCl01Ap+DlFLycTkBprA+N9aFPQBW8nIKXU1BA9qGxPjTWUEDWh8b60FhRQLdt27Zt21FAmFPwcgpeUkB4OQUvp+BSQFkfGutDY1NAOgUvp+DlU0Aa60NjfWhUQPvQWB8a61RA3LZt27ZtVUC8nIKXU/BVQJ2Cl1PwclZAfmisD431VkBeTsHLKXhXQD801ofG+ldAIBrrQ2N9WEAAAAAAAABZQA==",
          "dtype": "f8"
         },
         "xaxis": "x",
         "y": {
          "bdata": "AAAAAAAAAACQCF76lewVQAWdMDtxfC1AszW2nlAcN0A0G1osnKo+QEVapNihvkJAizwDgz3TRUCmiaz8WJtIQPXBrxRgHktAqqfQTgZjTUB0/dDDWG9PQBjbOCNnpFBAZuON+yp6UUAF+vY2MjtSQBxd885/6VJAmPcxyeSGU0DrWb0OBRVUQGp8GMNblVRAXv+GYT8JVUB4I2zv5HFVQIxP89Bj0FVAIx9z6bclVkCmfe35xHJWQKlY1cRYuFZAXGqnXCz3VkAt1CDf5y9XQDODmUIjY1dAkxNCtGWRV0AsmfeSKrtXQBNDd2ri4FdA5ufs3vUCWED+q7rvvCFYQCTWJBqFPVhAdonbFpdWWEBlxfrZNm1YQLVlCpOjgVhAfiL+rBeUWEDLIa7HyaRYQMVc9cDjs1hA0PeB4obBWEC4QNhL081YQM/6bffn2FhA5V6quuLiWEBLG+ZF4OtYQNZTayT881hA2aF1vFD7WEDfxNf59gFZQKrUVpP7B1lARiSMsGoNWUB7i23ZUhJZQA==",
          "dtype": "f8"
         },
         "yaxis": "y"
        }
       ],
       "layout": {
        "barmode": "stack",
        "legend": {
         "title": {
          "text": "variable"
         },
         "tracegroupgap": 0
        },
        "margin": {
         "t": 60
        },
        "template": {
         "data": {
          "bar": [
           {
            "error_x": {
             "color": "#2a3f5f"
            },
            "error_y": {
             "color": "#2a3f5f"
            },
            "marker": {
             "line": {
              "color": "#E5ECF6",
              "width": 0.5
             },
             "pattern": {
              "fillmode": "overlay",
              "size": 10,
              "solidity": 0.2
             }
            },
            "type": "bar"
           }
          ],
          "barpolar": [
           {
            "marker": {
             "line": {
              "color": "#E5ECF6",
              "width": 0.5
             },
             "pattern": {
              "fillmode": "overlay",
              "size": 10,
              "solidity": 0.2
             }
            },
            "type": "barpolar"
           }
          ],
          "carpet": [
           {
            "aaxis": {
             "endlinecolor": "#2a3f5f",
             "gridcolor": "white",
             "linecolor": "white",
             "minorgridcolor": "white",
             "startlinecolor": "#2a3f5f"
            },
            "baxis": {
             "endlinecolor": "#2a3f5f",
             "gridcolor": "white",
             "linecolor": "white",
             "minorgridcolor": "white",
             "startlinecolor": "#2a3f5f"
            },
            "type": "carpet"
           }
          ],
          "choropleth": [
           {
            "colorbar": {
             "outlinewidth": 0,
             "ticks": ""
            },
            "type": "choropleth"
           }
          ],
          "contour": [
           {
            "colorbar": {
             "outlinewidth": 0,
             "ticks": ""
            },
            "colorscale": [
             [
              0,
              "#0d0887"
             ],
             [
              0.1111111111111111,
              "#46039f"
             ],
             [
              0.2222222222222222,
              "#7201a8"
             ],
             [
              0.3333333333333333,
              "#9c179e"
             ],
             [
              0.4444444444444444,
              "#bd3786"
             ],
             [
              0.5555555555555556,
              "#d8576b"
             ],
             [
              0.6666666666666666,
              "#ed7953"
             ],
             [
              0.7777777777777778,
              "#fb9f3a"
             ],
             [
              0.8888888888888888,
              "#fdca26"
             ],
             [
              1,
              "#f0f921"
             ]
            ],
            "type": "contour"
           }
          ],
          "contourcarpet": [
           {
            "colorbar": {
             "outlinewidth": 0,
             "ticks": ""
            },
            "type": "contourcarpet"
           }
          ],
          "heatmap": [
           {
            "colorbar": {
             "outlinewidth": 0,
             "ticks": ""
            },
            "colorscale": [
             [
              0,
              "#0d0887"
             ],
             [
              0.1111111111111111,
              "#46039f"
             ],
             [
              0.2222222222222222,
              "#7201a8"
             ],
             [
              0.3333333333333333,
              "#9c179e"
             ],
             [
              0.4444444444444444,
              "#bd3786"
             ],
             [
              0.5555555555555556,
              "#d8576b"
             ],
             [
              0.6666666666666666,
              "#ed7953"
             ],
             [
              0.7777777777777778,
              "#fb9f3a"
             ],
             [
              0.8888888888888888,
              "#fdca26"
             ],
             [
              1,
              "#f0f921"
             ]
            ],
            "type": "heatmap"
           }
          ],
          "histogram": [
           {
            "marker": {
             "pattern": {
              "fillmode": "overlay",
              "size": 10,
              "solidity": 0.2
             }
            },
            "type": "histogram"
           }
          ],
          "histogram2d": [
           {
            "colorbar": {
             "outlinewidth": 0,
             "ticks": ""
            },
            "colorscale": [
             [
              0,
              "#0d0887"
             ],
             [
              0.1111111111111111,
              "#46039f"
             ],
             [
              0.2222222222222222,
              "#7201a8"
             ],
             [
              0.3333333333333333,
              "#9c179e"
             ],
             [
              0.4444444444444444,
              "#bd3786"
             ],
             [
              0.5555555555555556,
              "#d8576b"
             ],
             [
              0.6666666666666666,
              "#ed7953"
             ],
             [
              0.7777777777777778,
              "#fb9f3a"
             ],
             [
              0.8888888888888888,
              "#fdca26"
             ],
             [
              1,
              "#f0f921"
             ]
            ],
            "type": "histogram2d"
           }
          ],
          "histogram2dcontour": [
           {
            "colorbar": {
             "outlinewidth": 0,
             "ticks": ""
            },
            "colorscale": [
             [
              0,
              "#0d0887"
             ],
             [
              0.1111111111111111,
              "#46039f"
             ],
             [
              0.2222222222222222,
              "#7201a8"
             ],
             [
              0.3333333333333333,
              "#9c179e"
             ],
             [
              0.4444444444444444,
              "#bd3786"
             ],
             [
              0.5555555555555556,
              "#d8576b"
             ],
             [
              0.6666666666666666,
              "#ed7953"
             ],
             [
              0.7777777777777778,
              "#fb9f3a"
             ],
             [
              0.8888888888888888,
              "#fdca26"
             ],
             [
              1,
              "#f0f921"
             ]
            ],
            "type": "histogram2dcontour"
           }
          ],
          "mesh3d": [
           {
            "colorbar": {
             "outlinewidth": 0,
             "ticks": ""
            },
            "type": "mesh3d"
           }
          ],
          "parcoords": [
           {
            "line": {
             "colorbar": {
              "outlinewidth": 0,
              "ticks": ""
             }
            },
            "type": "parcoords"
           }
          ],
          "pie": [
           {
            "automargin": true,
            "type": "pie"
           }
          ],
          "scatter": [
           {
            "fillpattern": {
             "fillmode": "overlay",
             "size": 10,
             "solidity": 0.2
            },
            "type": "scatter"
           }
          ],
          "scatter3d": [
           {
            "line": {
             "colorbar": {
              "outlinewidth": 0,
              "ticks": ""
             }
            },
            "marker": {
             "colorbar": {
              "outlinewidth": 0,
              "ticks": ""
             }
            },
            "type": "scatter3d"
           }
          ],
          "scattercarpet": [
           {
            "marker": {
             "colorbar": {
              "outlinewidth": 0,
              "ticks": ""
             }
            },
            "type": "scattercarpet"
           }
          ],
          "scattergeo": [
           {
            "marker": {
             "colorbar": {
              "outlinewidth": 0,
              "ticks": ""
             }
            },
            "type": "scattergeo"
           }
          ],
          "scattergl": [
           {
            "marker": {
             "colorbar": {
              "outlinewidth": 0,
              "ticks": ""
             }
            },
            "type": "scattergl"
           }
          ],
          "scattermap": [
           {
            "marker": {
             "colorbar": {
              "outlinewidth": 0,
              "ticks": ""
             }
            },
            "type": "scattermap"
           }
          ],
          "scattermapbox": [
           {
            "marker": {
             "colorbar": {
              "outlinewidth": 0,
              "ticks": ""
             }
            },
            "type": "scattermapbox"
           }
          ],
          "scatterpolar": [
           {
            "marker": {
             "colorbar": {
              "outlinewidth": 0,
              "ticks": ""
             }
            },
            "type": "scatterpolar"
           }
          ],
          "scatterpolargl": [
           {
            "marker": {
             "colorbar": {
              "outlinewidth": 0,
              "ticks": ""
             }
            },
            "type": "scatterpolargl"
           }
          ],
          "scatterternary": [
           {
            "marker": {
             "colorbar": {
              "outlinewidth": 0,
              "ticks": ""
             }
            },
            "type": "scatterternary"
           }
          ],
          "surface": [
           {
            "colorbar": {
             "outlinewidth": 0,
             "ticks": ""
            },
            "colorscale": [
             [
              0,
              "#0d0887"
             ],
             [
              0.1111111111111111,
              "#46039f"
             ],
             [
              0.2222222222222222,
              "#7201a8"
             ],
             [
              0.3333333333333333,
              "#9c179e"
             ],
             [
              0.4444444444444444,
              "#bd3786"
             ],
             [
              0.5555555555555556,
              "#d8576b"
             ],
             [
              0.6666666666666666,
              "#ed7953"
             ],
             [
              0.7777777777777778,
              "#fb9f3a"
             ],
             [
              0.8888888888888888,
              "#fdca26"
             ],
             [
              1,
              "#f0f921"
             ]
            ],
            "type": "surface"
           }
          ],
          "table": [
           {
            "cells": {
             "fill": {
              "color": "#EBF0F8"
             },
             "line": {
              "color": "white"
             }
            },
            "header": {
             "fill": {
              "color": "#C8D4E3"
             },
             "line": {
              "color": "white"
             }
            },
            "type": "table"
           }
          ]
         },
         "layout": {
          "annotationdefaults": {
           "arrowcolor": "#2a3f5f",
           "arrowhead": 0,
           "arrowwidth": 1
          },
          "autotypenumbers": "strict",
          "coloraxis": {
           "colorbar": {
            "outlinewidth": 0,
            "ticks": ""
           }
          },
          "colorscale": {
           "diverging": [
            [
             0,
             "#8e0152"
            ],
            [
             0.1,
             "#c51b7d"
            ],
            [
             0.2,
             "#de77ae"
            ],
            [
             0.3,
             "#f1b6da"
            ],
            [
             0.4,
             "#fde0ef"
            ],
            [
             0.5,
             "#f7f7f7"
            ],
            [
             0.6,
             "#e6f5d0"
            ],
            [
             0.7,
             "#b8e186"
            ],
            [
             0.8,
             "#7fbc41"
            ],
            [
             0.9,
             "#4d9221"
            ],
            [
             1,
             "#276419"
            ]
           ],
           "sequential": [
            [
             0,
             "#0d0887"
            ],
            [
             0.1111111111111111,
             "#46039f"
            ],
            [
             0.2222222222222222,
             "#7201a8"
            ],
            [
             0.3333333333333333,
             "#9c179e"
            ],
            [
             0.4444444444444444,
             "#bd3786"
            ],
            [
             0.5555555555555556,
             "#d8576b"
            ],
            [
             0.6666666666666666,
             "#ed7953"
            ],
            [
             0.7777777777777778,
             "#fb9f3a"
            ],
            [
             0.8888888888888888,
             "#fdca26"
            ],
            [
             1,
             "#f0f921"
            ]
           ],
           "sequentialminus": [
            [
             0,
             "#0d0887"
            ],
            [
             0.1111111111111111,
             "#46039f"
            ],
            [
             0.2222222222222222,
             "#7201a8"
            ],
            [
             0.3333333333333333,
             "#9c179e"
            ],
            [
             0.4444444444444444,
             "#bd3786"
            ],
            [
             0.5555555555555556,
             "#d8576b"
            ],
            [
             0.6666666666666666,
             "#ed7953"
            ],
            [
             0.7777777777777778,
             "#fb9f3a"
            ],
            [
             0.8888888888888888,
             "#fdca26"
            ],
            [
             1,
             "#f0f921"
            ]
           ]
          },
          "colorway": [
           "#636efa",
           "#EF553B",
           "#00cc96",
           "#ab63fa",
           "#FFA15A",
           "#19d3f3",
           "#FF6692",
           "#B6E880",
           "#FF97FF",
           "#FECB52"
          ],
          "font": {
           "color": "#2a3f5f"
          },
          "geo": {
           "bgcolor": "white",
           "lakecolor": "white",
           "landcolor": "#E5ECF6",
           "showlakes": true,
           "showland": true,
           "subunitcolor": "white"
          },
          "hoverlabel": {
           "align": "left"
          },
          "hovermode": "closest",
          "mapbox": {
           "style": "light"
          },
          "paper_bgcolor": "white",
          "plot_bgcolor": "#E5ECF6",
          "polar": {
           "angularaxis": {
            "gridcolor": "white",
            "linecolor": "white",
            "ticks": ""
           },
           "bgcolor": "#E5ECF6",
           "radialaxis": {
            "gridcolor": "white",
            "linecolor": "white",
            "ticks": ""
           }
          },
          "scene": {
           "xaxis": {
            "backgroundcolor": "#E5ECF6",
            "gridcolor": "white",
            "gridwidth": 2,
            "linecolor": "white",
            "showbackground": true,
            "ticks": "",
            "zerolinecolor": "white"
           },
           "yaxis": {
            "backgroundcolor": "#E5ECF6",
            "gridcolor": "white",
            "gridwidth": 2,
            "linecolor": "white",
            "showbackground": true,
            "ticks": "",
            "zerolinecolor": "white"
           },
           "zaxis": {
            "backgroundcolor": "#E5ECF6",
            "gridcolor": "white",
            "gridwidth": 2,
            "linecolor": "white",
            "showbackground": true,
            "ticks": "",
            "zerolinecolor": "white"
           }
          },
          "shapedefaults": {
           "line": {
            "color": "#2a3f5f"
           }
          },
          "ternary": {
           "aaxis": {
            "gridcolor": "white",
            "linecolor": "white",
            "ticks": ""
           },
           "baxis": {
            "gridcolor": "white",
            "linecolor": "white",
            "ticks": ""
           },
           "bgcolor": "#E5ECF6",
           "caxis": {
            "gridcolor": "white",
            "linecolor": "white",
            "ticks": ""
           }
          },
          "title": {
           "x": 0.05
          },
          "xaxis": {
           "automargin": true,
           "gridcolor": "white",
           "linecolor": "white",
           "ticks": "",
           "title": {
            "standoff": 15
           },
           "zerolinecolor": "white",
           "zerolinewidth": 2
          },
          "yaxis": {
           "automargin": true,
           "gridcolor": "white",
           "linecolor": "white",
           "ticks": "",
           "title": {
            "standoff": 15
           },
           "zerolinecolor": "white",
           "zerolinewidth": 2
          }
         }
        },
        "xaxis": {
         "anchor": "y",
         "domain": [
          0,
          1
         ],
         "title": {
          "text": "t"
         }
        },
        "yaxis": {
         "anchor": "x",
         "domain": [
          0,
          1
         ],
         "title": {
          "text": "avg of value"
         }
        }
       }
      },
      "text/html": [
       "<div>                        <script type=\"text/javascript\">window.PlotlyConfig = {MathJaxConfig: 'local'};</script>\n",
       "        <script charset=\"utf-8\" src=\"https://cdn.plot.ly/plotly-3.0.1.min.js\"></script>                <div id=\"770f9143-6878-4376-a516-698b7955bac6\" class=\"plotly-graph-div\" style=\"height:100%; width:100%;\"></div>            <script type=\"text/javascript\">                window.PLOTLYENV=window.PLOTLYENV || {};                                if (document.getElementById(\"770f9143-6878-4376-a516-698b7955bac6\")) {                    Plotly.newPlot(                        \"770f9143-6878-4376-a516-698b7955bac6\",                        [{\"bingroup\":\"x\",\"histfunc\":\"avg\",\"hovertemplate\":\"variable=S\\u003cbr\\u003et=%{x}\\u003cbr\\u003eavg of value=%{y}\\u003cextra\\u003e\\u003c\\u002fextra\\u003e\",\"legendgroup\":\"S\",\"marker\":{\"color\":\"#636efa\",\"pattern\":{\"shape\":\"\"}},\"name\":\"S\",\"nbinsx\":50,\"orientation\":\"v\",\"showlegend\":true,\"x\":{\"dtype\":\"f8\",\"bdata\":\"AAAAAAAAAAAVvJyCl1MAQBW8nIKXUxBAIBrrQ2N9GEAVvJyCl1MgQBrrQ2N9aCRAIBrrQ2N9KEAlSZIkSZIsQBW8nIKXUzBAmFPwcgpeMkAa60NjfWg0QJ2Cl1PwcjZAIBrrQ2N9OECisT401oc6QCVJkiRJkjxAp+DlFLycPkAVvJyCl1NAQNaHxvrQWEFAmFPwcgpeQkBZHxrrQ2NDQBrrQ2N9aERA3LZt27ZtRUCdgpdT8HJGQF5OwcspeEdAIBrrQ2N9SEDh5RS8nIJJQKKxPjTWh0pAY31orA+NS0AlSZIkSZJMQOYUvJyCl01Ap+DlFLycTkBprA+N9aFPQBW8nIKXU1BA9qGxPjTWUEDWh8b60FhRQLdt27Zt21FAmFPwcgpeUkB4OQUvp+BSQFkfGutDY1NAOgUvp+DlU0Aa60NjfWhUQPvQWB8a61RA3LZt27ZtVUC8nIKXU\\u002fBVQJ2Cl1PwclZAfmisD431VkBeTsHLKXhXQD801ofG+ldAIBrrQ2N9WEAAAAAAAABZQA==\"},\"xaxis\":\"x\",\"y\":{\"dtype\":\"f8\",\"bdata\":\"AAAAAAAAWUACpYkIv6DaP85LXiL95wQ\\u002fKCCoR8aoer7A\\u002fxlKZGCMvrDp4NvRjIA+TPwK4Ou\\u002fir5YUeYCY6ekPgCEKqWm3jw+pPNhKxHRjz5bE\\u002fI0RbKdPh43z8mgLKY+FDSp7ZqbsT7iIua\\u002fN7iqPov4f9zWOJc+mF+hvaSSeL58SExWwqOHvsvAmzH\\u002faZc+BpKvxDO7lr4GKqBn2a6aPiBfOfuOCXu+6FUrv\\u002fMtYD46az16FQuQPpjczqhHGHO+xHrzU8Z+dT6jrfbyuoyBPgDDwakm1zc+EGqXsKDLUr4k+rYrSXFpPqx5wHvuM3Q+u5XFuEwIYj7AQC7OSOw5PgD8o3dEwvw9vMPyWUEAUj488eRkLmdpPoIw\\u002fuM2i3Q+X9XpEsfDdT7172PldAFwPsS0RyMb2WU+Cs2cpt+XXT6obuuayJBXPt43ZZmW9lk+0TtV1E3RYT7\\u002f8Agw6\\u002fZoPiwk6nk8LHA+lIAMfhGRcj6Hni\\u002fk6\\u002f5xPlpubzhtYXA+h6WXWFEYbj7UfoHBu99rPg==\"},\"yaxis\":\"y\",\"type\":\"histogram\"},{\"bingroup\":\"x\",\"histfunc\":\"avg\",\"hovertemplate\":\"variable=I\\u003cbr\\u003et=%{x}\\u003cbr\\u003eavg of value=%{y}\\u003cextra\\u003e\\u003c\\u002fextra\\u003e\",\"legendgroup\":\"I\",\"marker\":{\"color\":\"#EF553B\",\"pattern\":{\"shape\":\"\"}},\"name\":\"I\",\"nbinsx\":50,\"orientation\":\"v\",\"showlegend\":true,\"x\":{\"dtype\":\"f8\",\"bdata\":\"AAAAAAAAAAAVvJyCl1MAQBW8nIKXUxBAIBrrQ2N9GEAVvJyCl1MgQBrrQ2N9aCRAIBrrQ2N9KEAlSZIkSZIsQBW8nIKXUzBAmFPwcgpeMkAa60NjfWg0QJ2Cl1PwcjZAIBrrQ2N9OECisT401oc6QCVJkiRJkjxAp+DlFLycPkAVvJyCl1NAQNaHxvrQWEFAmFPwcgpeQkBZHxrrQ2NDQBrrQ2N9aERA3LZt27ZtRUCdgpdT8HJGQF5OwcspeEdAIBrrQ2N9SEDh5RS8nIJJQKKxPjTWh0pAY31orA+NS0AlSZIkSZJMQOYUvJyCl01Ap+DlFLycTkBprA+N9aFPQBW8nIKXU1BA9qGxPjTWUEDWh8b60FhRQLdt27Zt21FAmFPwcgpeUkB4OQUvp+BSQFkfGutDY1NAOgUvp+DlU0Aa60NjfWhUQPvQWB8a61RA3LZt27ZtVUC8nIKXU\\u002fBVQJ2Cl1PwclZAfmisD431VkBeTsHLKXhXQD801ofG+ldAIBrrQ2N9WEAAAAAAAABZQA==\"},\"xaxis\":\"x\",\"y\":{\"dtype\":\"f8\",\"bdata\":\"AAAAAAAA8D\\u002fSlVHhlcZXQEwDWjFxkFVAqxW92Ot4U0BUfMz1WJVRQJvYUiZewU9AMcKofsKsTECXnSn+puRJQLbOQeufYUdAQkcyr\\u002fkcRUDkuXg4pxBDQJ8hA7QxN0FAe9csAFQXP0AH\\u002fMcWNxM8QNZVZL4AWjlA6UvB3GzkNkCdEP\\u002fH66s0QIuOw+2QqjJAe8+SfwLbMECLd0d32HAuQH+1xnvhfCtAsidks0DSKEASiI4o2GkmQK5DuNs5PSRAVtQUGJ1GIkDeL5YCwYAgQDpwCNbLzR1A2oALvaTpGkAcRFjNVk0YQDXTflPZ8RVABHjwDqLQE0D8ju0DMeQRQC5tq12uJxBAE8lOIh0tDUDQh026JFkKQPmtbZSNywdAyMxZVQp9BUAlDDsCx2YDQIog3tuHgwFAOBQcWEee\\u002fz\\u002fcnwsELYv8P6qmAx4Cxvk\\u002f8J9\\u002fTFFH9z+Ut\\u002f157gf1P\\u002frN\\u002ftT2APM\\u002fMHgG0NAr8T\\u002fguB\\u002fwggTvP4rQ0jM2Auw\\u002f2IvVm6dK6T\\u002fmhlotk9bmPw==\"},\"yaxis\":\"y\",\"type\":\"histogram\"},{\"bingroup\":\"x\",\"histfunc\":\"avg\",\"hovertemplate\":\"variable=R\\u003cbr\\u003et=%{x}\\u003cbr\\u003eavg of value=%{y}\\u003cextra\\u003e\\u003c\\u002fextra\\u003e\",\"legendgroup\":\"R\",\"marker\":{\"color\":\"#00cc96\",\"pattern\":{\"shape\":\"\"}},\"name\":\"R\",\"nbinsx\":50,\"orientation\":\"v\",\"showlegend\":true,\"x\":{\"dtype\":\"f8\",\"bdata\":\"AAAAAAAAAAAVvJyCl1MAQBW8nIKXUxBAIBrrQ2N9GEAVvJyCl1MgQBrrQ2N9aCRAIBrrQ2N9KEAlSZIkSZIsQBW8nIKXUzBAmFPwcgpeMkAa60NjfWg0QJ2Cl1PwcjZAIBrrQ2N9OECisT401oc6QCVJkiRJkjxAp+DlFLycPkAVvJyCl1NAQNaHxvrQWEFAmFPwcgpeQkBZHxrrQ2NDQBrrQ2N9aERA3LZt27ZtRUCdgpdT8HJGQF5OwcspeEdAIBrrQ2N9SEDh5RS8nIJJQKKxPjTWh0pAY31orA+NS0AlSZIkSZJMQOYUvJyCl01Ap+DlFLycTkBprA+N9aFPQBW8nIKXU1BA9qGxPjTWUEDWh8b60FhRQLdt27Zt21FAmFPwcgpeUkB4OQUvp+BSQFkfGutDY1NAOgUvp+DlU0Aa60NjfWhUQPvQWB8a61RA3LZt27ZtVUC8nIKXU\\u002fBVQJ2Cl1PwclZAfmisD431VkBeTsHLKXhXQD801ofG+ldAIBrrQ2N9WEAAAAAAAABZQA==\"},\"xaxis\":\"x\",\"y\":{\"dtype\":\"f8\",\"bdata\":\"AAAAAAAAAACQCF76lewVQAWdMDtxfC1AszW2nlAcN0A0G1osnKo+QEVapNihvkJAizwDgz3TRUCmiaz8WJtIQPXBrxRgHktAqqfQTgZjTUB0\\u002fdDDWG9PQBjbOCNnpFBAZuON+yp6UUAF+vY2MjtSQBxd885\\u002f6VJAmPcxyeSGU0DrWb0OBRVUQGp8GMNblVRAXv+GYT8JVUB4I2zv5HFVQIxP89Bj0FVAIx9z6bclVkCmfe35xHJWQKlY1cRYuFZAXGqnXCz3VkAt1CDf5y9XQDODmUIjY1dAkxNCtGWRV0AsmfeSKrtXQBNDd2ri4FdA5ufs3vUCWED+q7rvvCFYQCTWJBqFPVhAdonbFpdWWEBlxfrZNm1YQLVlCpOjgVhAfiL+rBeUWEDLIa7HyaRYQMVc9cDjs1hA0PeB4obBWEC4QNhL081YQM\\u002f6bffn2FhA5V6quuLiWEBLG+ZF4OtYQNZTayT881hA2aF1vFD7WEDfxNf59gFZQKrUVpP7B1lARiSMsGoNWUB7i23ZUhJZQA==\"},\"yaxis\":\"y\",\"type\":\"histogram\"}],                        {\"template\":{\"data\":{\"histogram2dcontour\":[{\"type\":\"histogram2dcontour\",\"colorbar\":{\"outlinewidth\":0,\"ticks\":\"\"},\"colorscale\":[[0.0,\"#0d0887\"],[0.1111111111111111,\"#46039f\"],[0.2222222222222222,\"#7201a8\"],[0.3333333333333333,\"#9c179e\"],[0.4444444444444444,\"#bd3786\"],[0.5555555555555556,\"#d8576b\"],[0.6666666666666666,\"#ed7953\"],[0.7777777777777778,\"#fb9f3a\"],[0.8888888888888888,\"#fdca26\"],[1.0,\"#f0f921\"]]}],\"choropleth\":[{\"type\":\"choropleth\",\"colorbar\":{\"outlinewidth\":0,\"ticks\":\"\"}}],\"histogram2d\":[{\"type\":\"histogram2d\",\"colorbar\":{\"outlinewidth\":0,\"ticks\":\"\"},\"colorscale\":[[0.0,\"#0d0887\"],[0.1111111111111111,\"#46039f\"],[0.2222222222222222,\"#7201a8\"],[0.3333333333333333,\"#9c179e\"],[0.4444444444444444,\"#bd3786\"],[0.5555555555555556,\"#d8576b\"],[0.6666666666666666,\"#ed7953\"],[0.7777777777777778,\"#fb9f3a\"],[0.8888888888888888,\"#fdca26\"],[1.0,\"#f0f921\"]]}],\"heatmap\":[{\"type\":\"heatmap\",\"colorbar\":{\"outlinewidth\":0,\"ticks\":\"\"},\"colorscale\":[[0.0,\"#0d0887\"],[0.1111111111111111,\"#46039f\"],[0.2222222222222222,\"#7201a8\"],[0.3333333333333333,\"#9c179e\"],[0.4444444444444444,\"#bd3786\"],[0.5555555555555556,\"#d8576b\"],[0.6666666666666666,\"#ed7953\"],[0.7777777777777778,\"#fb9f3a\"],[0.8888888888888888,\"#fdca26\"],[1.0,\"#f0f921\"]]}],\"contourcarpet\":[{\"type\":\"contourcarpet\",\"colorbar\":{\"outlinewidth\":0,\"ticks\":\"\"}}],\"contour\":[{\"type\":\"contour\",\"colorbar\":{\"outlinewidth\":0,\"ticks\":\"\"},\"colorscale\":[[0.0,\"#0d0887\"],[0.1111111111111111,\"#46039f\"],[0.2222222222222222,\"#7201a8\"],[0.3333333333333333,\"#9c179e\"],[0.4444444444444444,\"#bd3786\"],[0.5555555555555556,\"#d8576b\"],[0.6666666666666666,\"#ed7953\"],[0.7777777777777778,\"#fb9f3a\"],[0.8888888888888888,\"#fdca26\"],[1.0,\"#f0f921\"]]}],\"surface\":[{\"type\":\"surface\",\"colorbar\":{\"outlinewidth\":0,\"ticks\":\"\"},\"colorscale\":[[0.0,\"#0d0887\"],[0.1111111111111111,\"#46039f\"],[0.2222222222222222,\"#7201a8\"],[0.3333333333333333,\"#9c179e\"],[0.4444444444444444,\"#bd3786\"],[0.5555555555555556,\"#d8576b\"],[0.6666666666666666,\"#ed7953\"],[0.7777777777777778,\"#fb9f3a\"],[0.8888888888888888,\"#fdca26\"],[1.0,\"#f0f921\"]]}],\"mesh3d\":[{\"type\":\"mesh3d\",\"colorbar\":{\"outlinewidth\":0,\"ticks\":\"\"}}],\"scatter\":[{\"fillpattern\":{\"fillmode\":\"overlay\",\"size\":10,\"solidity\":0.2},\"type\":\"scatter\"}],\"parcoords\":[{\"type\":\"parcoords\",\"line\":{\"colorbar\":{\"outlinewidth\":0,\"ticks\":\"\"}}}],\"scatterpolargl\":[{\"type\":\"scatterpolargl\",\"marker\":{\"colorbar\":{\"outlinewidth\":0,\"ticks\":\"\"}}}],\"bar\":[{\"error_x\":{\"color\":\"#2a3f5f\"},\"error_y\":{\"color\":\"#2a3f5f\"},\"marker\":{\"line\":{\"color\":\"#E5ECF6\",\"width\":0.5},\"pattern\":{\"fillmode\":\"overlay\",\"size\":10,\"solidity\":0.2}},\"type\":\"bar\"}],\"scattergeo\":[{\"type\":\"scattergeo\",\"marker\":{\"colorbar\":{\"outlinewidth\":0,\"ticks\":\"\"}}}],\"scatterpolar\":[{\"type\":\"scatterpolar\",\"marker\":{\"colorbar\":{\"outlinewidth\":0,\"ticks\":\"\"}}}],\"histogram\":[{\"marker\":{\"pattern\":{\"fillmode\":\"overlay\",\"size\":10,\"solidity\":0.2}},\"type\":\"histogram\"}],\"scattergl\":[{\"type\":\"scattergl\",\"marker\":{\"colorbar\":{\"outlinewidth\":0,\"ticks\":\"\"}}}],\"scatter3d\":[{\"type\":\"scatter3d\",\"line\":{\"colorbar\":{\"outlinewidth\":0,\"ticks\":\"\"}},\"marker\":{\"colorbar\":{\"outlinewidth\":0,\"ticks\":\"\"}}}],\"scattermap\":[{\"type\":\"scattermap\",\"marker\":{\"colorbar\":{\"outlinewidth\":0,\"ticks\":\"\"}}}],\"scattermapbox\":[{\"type\":\"scattermapbox\",\"marker\":{\"colorbar\":{\"outlinewidth\":0,\"ticks\":\"\"}}}],\"scatterternary\":[{\"type\":\"scatterternary\",\"marker\":{\"colorbar\":{\"outlinewidth\":0,\"ticks\":\"\"}}}],\"scattercarpet\":[{\"type\":\"scattercarpet\",\"marker\":{\"colorbar\":{\"outlinewidth\":0,\"ticks\":\"\"}}}],\"carpet\":[{\"aaxis\":{\"endlinecolor\":\"#2a3f5f\",\"gridcolor\":\"white\",\"linecolor\":\"white\",\"minorgridcolor\":\"white\",\"startlinecolor\":\"#2a3f5f\"},\"baxis\":{\"endlinecolor\":\"#2a3f5f\",\"gridcolor\":\"white\",\"linecolor\":\"white\",\"minorgridcolor\":\"white\",\"startlinecolor\":\"#2a3f5f\"},\"type\":\"carpet\"}],\"table\":[{\"cells\":{\"fill\":{\"color\":\"#EBF0F8\"},\"line\":{\"color\":\"white\"}},\"header\":{\"fill\":{\"color\":\"#C8D4E3\"},\"line\":{\"color\":\"white\"}},\"type\":\"table\"}],\"barpolar\":[{\"marker\":{\"line\":{\"color\":\"#E5ECF6\",\"width\":0.5},\"pattern\":{\"fillmode\":\"overlay\",\"size\":10,\"solidity\":0.2}},\"type\":\"barpolar\"}],\"pie\":[{\"automargin\":true,\"type\":\"pie\"}]},\"layout\":{\"autotypenumbers\":\"strict\",\"colorway\":[\"#636efa\",\"#EF553B\",\"#00cc96\",\"#ab63fa\",\"#FFA15A\",\"#19d3f3\",\"#FF6692\",\"#B6E880\",\"#FF97FF\",\"#FECB52\"],\"font\":{\"color\":\"#2a3f5f\"},\"hovermode\":\"closest\",\"hoverlabel\":{\"align\":\"left\"},\"paper_bgcolor\":\"white\",\"plot_bgcolor\":\"#E5ECF6\",\"polar\":{\"bgcolor\":\"#E5ECF6\",\"angularaxis\":{\"gridcolor\":\"white\",\"linecolor\":\"white\",\"ticks\":\"\"},\"radialaxis\":{\"gridcolor\":\"white\",\"linecolor\":\"white\",\"ticks\":\"\"}},\"ternary\":{\"bgcolor\":\"#E5ECF6\",\"aaxis\":{\"gridcolor\":\"white\",\"linecolor\":\"white\",\"ticks\":\"\"},\"baxis\":{\"gridcolor\":\"white\",\"linecolor\":\"white\",\"ticks\":\"\"},\"caxis\":{\"gridcolor\":\"white\",\"linecolor\":\"white\",\"ticks\":\"\"}},\"coloraxis\":{\"colorbar\":{\"outlinewidth\":0,\"ticks\":\"\"}},\"colorscale\":{\"sequential\":[[0.0,\"#0d0887\"],[0.1111111111111111,\"#46039f\"],[0.2222222222222222,\"#7201a8\"],[0.3333333333333333,\"#9c179e\"],[0.4444444444444444,\"#bd3786\"],[0.5555555555555556,\"#d8576b\"],[0.6666666666666666,\"#ed7953\"],[0.7777777777777778,\"#fb9f3a\"],[0.8888888888888888,\"#fdca26\"],[1.0,\"#f0f921\"]],\"sequentialminus\":[[0.0,\"#0d0887\"],[0.1111111111111111,\"#46039f\"],[0.2222222222222222,\"#7201a8\"],[0.3333333333333333,\"#9c179e\"],[0.4444444444444444,\"#bd3786\"],[0.5555555555555556,\"#d8576b\"],[0.6666666666666666,\"#ed7953\"],[0.7777777777777778,\"#fb9f3a\"],[0.8888888888888888,\"#fdca26\"],[1.0,\"#f0f921\"]],\"diverging\":[[0,\"#8e0152\"],[0.1,\"#c51b7d\"],[0.2,\"#de77ae\"],[0.3,\"#f1b6da\"],[0.4,\"#fde0ef\"],[0.5,\"#f7f7f7\"],[0.6,\"#e6f5d0\"],[0.7,\"#b8e186\"],[0.8,\"#7fbc41\"],[0.9,\"#4d9221\"],[1,\"#276419\"]]},\"xaxis\":{\"gridcolor\":\"white\",\"linecolor\":\"white\",\"ticks\":\"\",\"title\":{\"standoff\":15},\"zerolinecolor\":\"white\",\"automargin\":true,\"zerolinewidth\":2},\"yaxis\":{\"gridcolor\":\"white\",\"linecolor\":\"white\",\"ticks\":\"\",\"title\":{\"standoff\":15},\"zerolinecolor\":\"white\",\"automargin\":true,\"zerolinewidth\":2},\"scene\":{\"xaxis\":{\"backgroundcolor\":\"#E5ECF6\",\"gridcolor\":\"white\",\"linecolor\":\"white\",\"showbackground\":true,\"ticks\":\"\",\"zerolinecolor\":\"white\",\"gridwidth\":2},\"yaxis\":{\"backgroundcolor\":\"#E5ECF6\",\"gridcolor\":\"white\",\"linecolor\":\"white\",\"showbackground\":true,\"ticks\":\"\",\"zerolinecolor\":\"white\",\"gridwidth\":2},\"zaxis\":{\"backgroundcolor\":\"#E5ECF6\",\"gridcolor\":\"white\",\"linecolor\":\"white\",\"showbackground\":true,\"ticks\":\"\",\"zerolinecolor\":\"white\",\"gridwidth\":2}},\"shapedefaults\":{\"line\":{\"color\":\"#2a3f5f\"}},\"annotationdefaults\":{\"arrowcolor\":\"#2a3f5f\",\"arrowhead\":0,\"arrowwidth\":1},\"geo\":{\"bgcolor\":\"white\",\"landcolor\":\"#E5ECF6\",\"subunitcolor\":\"white\",\"showland\":true,\"showlakes\":true,\"lakecolor\":\"white\"},\"title\":{\"x\":0.05},\"mapbox\":{\"style\":\"light\"}}},\"xaxis\":{\"anchor\":\"y\",\"domain\":[0.0,1.0],\"title\":{\"text\":\"t\"}},\"yaxis\":{\"anchor\":\"x\",\"domain\":[0.0,1.0],\"title\":{\"text\":\"avg of value\"}},\"legend\":{\"title\":{\"text\":\"variable\"},\"tracegroupgap\":0},\"margin\":{\"t\":60},\"barmode\":\"stack\"},                        {\"responsive\": true}                    )                };            </script>        </div>"
      ],
      "text/plain": [
       "Figure({\n",
       "    'data': [{'bingroup': 'x',\n",
       "              'histfunc': 'avg',\n",
       "              'hovertemplate': 'variable=S<br>t=%{x}<br>avg of value=%{y}<extra></extra>',\n",
       "              'legendgroup': 'S',\n",
       "              'marker': {'color': '#636efa', 'pattern': {'shape': ''}},\n",
       "              'name': 'S',\n",
       "              'nbinsx': 50,\n",
       "              'orientation': 'v',\n",
       "              'showlegend': True,\n",
       "              'type': 'histogram',\n",
       "              'x': {'bdata': ('AAAAAAAAAAAVvJyCl1MAQBW8nIKXUx' ... 'fG+ldAIBrrQ2N9WEAAAAAAAABZQA=='),\n",
       "                    'dtype': 'f8'},\n",
       "              'xaxis': 'x',\n",
       "              'y': {'bdata': ('AAAAAAAAWUACpYkIv6DaP85LXiL95w' ... 'htYXA+h6WXWFEYbj7UfoHBu99rPg=='),\n",
       "                    'dtype': 'f8'},\n",
       "              'yaxis': 'y'},\n",
       "             {'bingroup': 'x',\n",
       "              'histfunc': 'avg',\n",
       "              'hovertemplate': 'variable=I<br>t=%{x}<br>avg of value=%{y}<extra></extra>',\n",
       "              'legendgroup': 'I',\n",
       "              'marker': {'color': '#EF553B', 'pattern': {'shape': ''}},\n",
       "              'name': 'I',\n",
       "              'nbinsx': 50,\n",
       "              'orientation': 'v',\n",
       "              'showlegend': True,\n",
       "              'type': 'histogram',\n",
       "              'x': {'bdata': ('AAAAAAAAAAAVvJyCl1MAQBW8nIKXUx' ... 'fG+ldAIBrrQ2N9WEAAAAAAAABZQA=='),\n",
       "                    'dtype': 'f8'},\n",
       "              'xaxis': 'x',\n",
       "              'y': {'bdata': ('AAAAAAAA8D/SlVHhlcZXQEwDWjFxkF' ... 'M2Auw/2IvVm6dK6T/mhlotk9bmPw=='),\n",
       "                    'dtype': 'f8'},\n",
       "              'yaxis': 'y'},\n",
       "             {'bingroup': 'x',\n",
       "              'histfunc': 'avg',\n",
       "              'hovertemplate': 'variable=R<br>t=%{x}<br>avg of value=%{y}<extra></extra>',\n",
       "              'legendgroup': 'R',\n",
       "              'marker': {'color': '#00cc96', 'pattern': {'shape': ''}},\n",
       "              'name': 'R',\n",
       "              'nbinsx': 50,\n",
       "              'orientation': 'v',\n",
       "              'showlegend': True,\n",
       "              'type': 'histogram',\n",
       "              'x': {'bdata': ('AAAAAAAAAAAVvJyCl1MAQBW8nIKXUx' ... 'fG+ldAIBrrQ2N9WEAAAAAAAABZQA=='),\n",
       "                    'dtype': 'f8'},\n",
       "              'xaxis': 'x',\n",
       "              'y': {'bdata': ('AAAAAAAAAACQCF76lewVQAWdMDtxfC' ... 'P7B1lARiSMsGoNWUB7i23ZUhJZQA=='),\n",
       "                    'dtype': 'f8'},\n",
       "              'yaxis': 'y'}],\n",
       "    'layout': {'barmode': 'stack',\n",
       "               'legend': {'title': {'text': 'variable'}, 'tracegroupgap': 0},\n",
       "               'margin': {'t': 60},\n",
       "               'template': '...',\n",
       "               'xaxis': {'anchor': 'y', 'domain': [0.0, 1.0], 'title': {'text': 't'}},\n",
       "               'yaxis': {'anchor': 'x', 'domain': [0.0, 1.0], 'title': {'text': 'avg of value'}}}\n",
       "})"
      ]
     },
     "execution_count": 10,
     "metadata": {},
     "output_type": "execute_result"
    }
   ],
   "source": [
    "fig = px.histogram( df, x='t', y=['S','I','R'], barmode=\"stack\", nbins=df.shape[0], histfunc=\"avg\" )\n",
    "fig"
   ]
  },
  {
   "cell_type": "code",
   "execution_count": 11,
   "id": "dc1ba954",
   "metadata": {},
   "outputs": [
    {
     "ename": "ValueError",
     "evalue": "Mime type rendering requires nbformat>=4.2.0 but it is not installed",
     "output_type": "error",
     "traceback": [
      "\u001b[31m---------------------------------------------------------------------------\u001b[39m",
      "\u001b[31mValueError\u001b[39m                                Traceback (most recent call last)",
      "\u001b[36mFile \u001b[39m\u001b[32m~/Documents/WebCompute/.venv/lib64/python3.13/site-packages/IPython/core/formatters.py:984\u001b[39m, in \u001b[36mIPythonDisplayFormatter.__call__\u001b[39m\u001b[34m(self, obj)\u001b[39m\n\u001b[32m    982\u001b[39m method = get_real_method(obj, \u001b[38;5;28mself\u001b[39m.print_method)\n\u001b[32m    983\u001b[39m \u001b[38;5;28;01mif\u001b[39;00m method \u001b[38;5;129;01mis\u001b[39;00m \u001b[38;5;129;01mnot\u001b[39;00m \u001b[38;5;28;01mNone\u001b[39;00m:\n\u001b[32m--> \u001b[39m\u001b[32m984\u001b[39m     \u001b[43mmethod\u001b[49m\u001b[43m(\u001b[49m\u001b[43m)\u001b[49m\n\u001b[32m    985\u001b[39m     \u001b[38;5;28;01mreturn\u001b[39;00m \u001b[38;5;28;01mTrue\u001b[39;00m\n",
      "\u001b[36mFile \u001b[39m\u001b[32m~/Documents/WebCompute/.venv/lib64/python3.13/site-packages/plotly/basedatatypes.py:846\u001b[39m, in \u001b[36mBaseFigure._ipython_display_\u001b[39m\u001b[34m(self)\u001b[39m\n\u001b[32m    843\u001b[39m \u001b[38;5;28;01mimport\u001b[39;00m\u001b[38;5;250m \u001b[39m\u001b[34;01mplotly\u001b[39;00m\u001b[34;01m.\u001b[39;00m\u001b[34;01mio\u001b[39;00m\u001b[38;5;250m \u001b[39m\u001b[38;5;28;01mas\u001b[39;00m\u001b[38;5;250m \u001b[39m\u001b[34;01mpio\u001b[39;00m\n\u001b[32m    845\u001b[39m \u001b[38;5;28;01mif\u001b[39;00m pio.renderers.render_on_display \u001b[38;5;129;01mand\u001b[39;00m pio.renderers.default:\n\u001b[32m--> \u001b[39m\u001b[32m846\u001b[39m     \u001b[43mpio\u001b[49m\u001b[43m.\u001b[49m\u001b[43mshow\u001b[49m\u001b[43m(\u001b[49m\u001b[38;5;28;43mself\u001b[39;49m\u001b[43m)\u001b[49m\n\u001b[32m    847\u001b[39m \u001b[38;5;28;01melse\u001b[39;00m:\n\u001b[32m    848\u001b[39m     \u001b[38;5;28mprint\u001b[39m(\u001b[38;5;28mrepr\u001b[39m(\u001b[38;5;28mself\u001b[39m))\n",
      "\u001b[36mFile \u001b[39m\u001b[32m~/Documents/WebCompute/.venv/lib64/python3.13/site-packages/plotly/io/_renderers.py:425\u001b[39m, in \u001b[36mshow\u001b[39m\u001b[34m(fig, renderer, validate, **kwargs)\u001b[39m\n\u001b[32m    420\u001b[39m     \u001b[38;5;28;01mraise\u001b[39;00m \u001b[38;5;167;01mValueError\u001b[39;00m(\n\u001b[32m    421\u001b[39m         \u001b[33m\"\u001b[39m\u001b[33mMime type rendering requires ipython but it is not installed\u001b[39m\u001b[33m\"\u001b[39m\n\u001b[32m    422\u001b[39m     )\n\u001b[32m    424\u001b[39m \u001b[38;5;28;01mif\u001b[39;00m \u001b[38;5;129;01mnot\u001b[39;00m nbformat \u001b[38;5;129;01mor\u001b[39;00m Version(nbformat.__version__) < Version(\u001b[33m\"\u001b[39m\u001b[33m4.2.0\u001b[39m\u001b[33m\"\u001b[39m):\n\u001b[32m--> \u001b[39m\u001b[32m425\u001b[39m     \u001b[38;5;28;01mraise\u001b[39;00m \u001b[38;5;167;01mValueError\u001b[39;00m(\n\u001b[32m    426\u001b[39m         \u001b[33m\"\u001b[39m\u001b[33mMime type rendering requires nbformat>=4.2.0 but it is not installed\u001b[39m\u001b[33m\"\u001b[39m\n\u001b[32m    427\u001b[39m     )\n\u001b[32m    429\u001b[39m display_jupyter_version_warnings()\n\u001b[32m    431\u001b[39m ipython_display.display(bundle, raw=\u001b[38;5;28;01mTrue\u001b[39;00m)\n",
      "\u001b[31mValueError\u001b[39m: Mime type rendering requires nbformat>=4.2.0 but it is not installed"
     ]
    },
    {
     "data": {
      "application/vnd.plotly.v1+json": {
       "config": {
        "plotlyServerURL": "https://plot.ly"
       },
       "data": [
        {
         "hovertemplate": "variable=S<br>t=%{x}<br>value=%{y}<extra></extra>",
         "legendgroup": "S",
         "line": {
          "color": "#636efa",
          "dash": "solid"
         },
         "marker": {
          "symbol": "circle"
         },
         "mode": "lines",
         "name": "S",
         "orientation": "v",
         "showlegend": true,
         "type": "scatter",
         "x": {
          "bdata": "AAAAAAAAAAAVvJyCl1MAQBW8nIKXUxBAIBrrQ2N9GEAVvJyCl1MgQBrrQ2N9aCRAIBrrQ2N9KEAlSZIkSZIsQBW8nIKXUzBAmFPwcgpeMkAa60NjfWg0QJ2Cl1PwcjZAIBrrQ2N9OECisT401oc6QCVJkiRJkjxAp+DlFLycPkAVvJyCl1NAQNaHxvrQWEFAmFPwcgpeQkBZHxrrQ2NDQBrrQ2N9aERA3LZt27ZtRUCdgpdT8HJGQF5OwcspeEdAIBrrQ2N9SEDh5RS8nIJJQKKxPjTWh0pAY31orA+NS0AlSZIkSZJMQOYUvJyCl01Ap+DlFLycTkBprA+N9aFPQBW8nIKXU1BA9qGxPjTWUEDWh8b60FhRQLdt27Zt21FAmFPwcgpeUkB4OQUvp+BSQFkfGutDY1NAOgUvp+DlU0Aa60NjfWhUQPvQWB8a61RA3LZt27ZtVUC8nIKXU/BVQJ2Cl1PwclZAfmisD431VkBeTsHLKXhXQD801ofG+ldAIBrrQ2N9WEAAAAAAAABZQA==",
          "dtype": "f8"
         },
         "xaxis": "x",
         "y": {
          "bdata": "AAAAAAAAWUACpYkIv6DaP85LXiL95wQ/KCCoR8aoer7A/xlKZGCMvrDp4NvRjIA+TPwK4Ou/ir5YUeYCY6ekPgCEKqWm3jw+pPNhKxHRjz5bE/I0RbKdPh43z8mgLKY+FDSp7ZqbsT7iIua/N7iqPov4f9zWOJc+mF+hvaSSeL58SExWwqOHvsvAmzH/aZc+BpKvxDO7lr4GKqBn2a6aPiBfOfuOCXu+6FUrv/MtYD46az16FQuQPpjczqhHGHO+xHrzU8Z+dT6jrfbyuoyBPgDDwakm1zc+EGqXsKDLUr4k+rYrSXFpPqx5wHvuM3Q+u5XFuEwIYj7AQC7OSOw5PgD8o3dEwvw9vMPyWUEAUj488eRkLmdpPoIw/uM2i3Q+X9XpEsfDdT7172PldAFwPsS0RyMb2WU+Cs2cpt+XXT6obuuayJBXPt43ZZmW9lk+0TtV1E3RYT7/8Agw6/ZoPiwk6nk8LHA+lIAMfhGRcj6Hni/k6/5xPlpubzhtYXA+h6WXWFEYbj7UfoHBu99rPg==",
          "dtype": "f8"
         },
         "yaxis": "y"
        },
        {
         "hovertemplate": "variable=I<br>t=%{x}<br>value=%{y}<extra></extra>",
         "legendgroup": "I",
         "line": {
          "color": "#EF553B",
          "dash": "solid"
         },
         "marker": {
          "symbol": "circle"
         },
         "mode": "lines",
         "name": "I",
         "orientation": "v",
         "showlegend": true,
         "type": "scatter",
         "x": {
          "bdata": "AAAAAAAAAAAVvJyCl1MAQBW8nIKXUxBAIBrrQ2N9GEAVvJyCl1MgQBrrQ2N9aCRAIBrrQ2N9KEAlSZIkSZIsQBW8nIKXUzBAmFPwcgpeMkAa60NjfWg0QJ2Cl1PwcjZAIBrrQ2N9OECisT401oc6QCVJkiRJkjxAp+DlFLycPkAVvJyCl1NAQNaHxvrQWEFAmFPwcgpeQkBZHxrrQ2NDQBrrQ2N9aERA3LZt27ZtRUCdgpdT8HJGQF5OwcspeEdAIBrrQ2N9SEDh5RS8nIJJQKKxPjTWh0pAY31orA+NS0AlSZIkSZJMQOYUvJyCl01Ap+DlFLycTkBprA+N9aFPQBW8nIKXU1BA9qGxPjTWUEDWh8b60FhRQLdt27Zt21FAmFPwcgpeUkB4OQUvp+BSQFkfGutDY1NAOgUvp+DlU0Aa60NjfWhUQPvQWB8a61RA3LZt27ZtVUC8nIKXU/BVQJ2Cl1PwclZAfmisD431VkBeTsHLKXhXQD801ofG+ldAIBrrQ2N9WEAAAAAAAABZQA==",
          "dtype": "f8"
         },
         "xaxis": "x",
         "y": {
          "bdata": "AAAAAAAA8D/SlVHhlcZXQEwDWjFxkFVAqxW92Ot4U0BUfMz1WJVRQJvYUiZewU9AMcKofsKsTECXnSn+puRJQLbOQeufYUdAQkcyr/kcRUDkuXg4pxBDQJ8hA7QxN0FAe9csAFQXP0AH/McWNxM8QNZVZL4AWjlA6UvB3GzkNkCdEP/H66s0QIuOw+2QqjJAe8+SfwLbMECLd0d32HAuQH+1xnvhfCtAsidks0DSKEASiI4o2GkmQK5DuNs5PSRAVtQUGJ1GIkDeL5YCwYAgQDpwCNbLzR1A2oALvaTpGkAcRFjNVk0YQDXTflPZ8RVABHjwDqLQE0D8ju0DMeQRQC5tq12uJxBAE8lOIh0tDUDQh026JFkKQPmtbZSNywdAyMxZVQp9BUAlDDsCx2YDQIog3tuHgwFAOBQcWEee/z/cnwsELYv8P6qmAx4Cxvk/8J9/TFFH9z+Ut/157gf1P/rN/tT2APM/MHgG0NAr8T/guB/wggTvP4rQ0jM2Auw/2IvVm6dK6T/mhlotk9bmPw==",
          "dtype": "f8"
         },
         "yaxis": "y"
        },
        {
         "hovertemplate": "variable=R<br>t=%{x}<br>value=%{y}<extra></extra>",
         "legendgroup": "R",
         "line": {
          "color": "#00cc96",
          "dash": "solid"
         },
         "marker": {
          "symbol": "circle"
         },
         "mode": "lines",
         "name": "R",
         "orientation": "v",
         "showlegend": true,
         "type": "scatter",
         "x": {
          "bdata": "AAAAAAAAAAAVvJyCl1MAQBW8nIKXUxBAIBrrQ2N9GEAVvJyCl1MgQBrrQ2N9aCRAIBrrQ2N9KEAlSZIkSZIsQBW8nIKXUzBAmFPwcgpeMkAa60NjfWg0QJ2Cl1PwcjZAIBrrQ2N9OECisT401oc6QCVJkiRJkjxAp+DlFLycPkAVvJyCl1NAQNaHxvrQWEFAmFPwcgpeQkBZHxrrQ2NDQBrrQ2N9aERA3LZt27ZtRUCdgpdT8HJGQF5OwcspeEdAIBrrQ2N9SEDh5RS8nIJJQKKxPjTWh0pAY31orA+NS0AlSZIkSZJMQOYUvJyCl01Ap+DlFLycTkBprA+N9aFPQBW8nIKXU1BA9qGxPjTWUEDWh8b60FhRQLdt27Zt21FAmFPwcgpeUkB4OQUvp+BSQFkfGutDY1NAOgUvp+DlU0Aa60NjfWhUQPvQWB8a61RA3LZt27ZtVUC8nIKXU/BVQJ2Cl1PwclZAfmisD431VkBeTsHLKXhXQD801ofG+ldAIBrrQ2N9WEAAAAAAAABZQA==",
          "dtype": "f8"
         },
         "xaxis": "x",
         "y": {
          "bdata": "AAAAAAAAAACQCF76lewVQAWdMDtxfC1AszW2nlAcN0A0G1osnKo+QEVapNihvkJAizwDgz3TRUCmiaz8WJtIQPXBrxRgHktAqqfQTgZjTUB0/dDDWG9PQBjbOCNnpFBAZuON+yp6UUAF+vY2MjtSQBxd885/6VJAmPcxyeSGU0DrWb0OBRVUQGp8GMNblVRAXv+GYT8JVUB4I2zv5HFVQIxP89Bj0FVAIx9z6bclVkCmfe35xHJWQKlY1cRYuFZAXGqnXCz3VkAt1CDf5y9XQDODmUIjY1dAkxNCtGWRV0AsmfeSKrtXQBNDd2ri4FdA5ufs3vUCWED+q7rvvCFYQCTWJBqFPVhAdonbFpdWWEBlxfrZNm1YQLVlCpOjgVhAfiL+rBeUWEDLIa7HyaRYQMVc9cDjs1hA0PeB4obBWEC4QNhL081YQM/6bffn2FhA5V6quuLiWEBLG+ZF4OtYQNZTayT881hA2aF1vFD7WEDfxNf59gFZQKrUVpP7B1lARiSMsGoNWUB7i23ZUhJZQA==",
          "dtype": "f8"
         },
         "yaxis": "y"
        }
       ],
       "layout": {
        "legend": {
         "title": {
          "text": "variable"
         },
         "tracegroupgap": 0
        },
        "margin": {
         "t": 60
        },
        "template": {
         "data": {
          "bar": [
           {
            "error_x": {
             "color": "#2a3f5f"
            },
            "error_y": {
             "color": "#2a3f5f"
            },
            "marker": {
             "line": {
              "color": "#E5ECF6",
              "width": 0.5
             },
             "pattern": {
              "fillmode": "overlay",
              "size": 10,
              "solidity": 0.2
             }
            },
            "type": "bar"
           }
          ],
          "barpolar": [
           {
            "marker": {
             "line": {
              "color": "#E5ECF6",
              "width": 0.5
             },
             "pattern": {
              "fillmode": "overlay",
              "size": 10,
              "solidity": 0.2
             }
            },
            "type": "barpolar"
           }
          ],
          "carpet": [
           {
            "aaxis": {
             "endlinecolor": "#2a3f5f",
             "gridcolor": "white",
             "linecolor": "white",
             "minorgridcolor": "white",
             "startlinecolor": "#2a3f5f"
            },
            "baxis": {
             "endlinecolor": "#2a3f5f",
             "gridcolor": "white",
             "linecolor": "white",
             "minorgridcolor": "white",
             "startlinecolor": "#2a3f5f"
            },
            "type": "carpet"
           }
          ],
          "choropleth": [
           {
            "colorbar": {
             "outlinewidth": 0,
             "ticks": ""
            },
            "type": "choropleth"
           }
          ],
          "contour": [
           {
            "colorbar": {
             "outlinewidth": 0,
             "ticks": ""
            },
            "colorscale": [
             [
              0,
              "#0d0887"
             ],
             [
              0.1111111111111111,
              "#46039f"
             ],
             [
              0.2222222222222222,
              "#7201a8"
             ],
             [
              0.3333333333333333,
              "#9c179e"
             ],
             [
              0.4444444444444444,
              "#bd3786"
             ],
             [
              0.5555555555555556,
              "#d8576b"
             ],
             [
              0.6666666666666666,
              "#ed7953"
             ],
             [
              0.7777777777777778,
              "#fb9f3a"
             ],
             [
              0.8888888888888888,
              "#fdca26"
             ],
             [
              1,
              "#f0f921"
             ]
            ],
            "type": "contour"
           }
          ],
          "contourcarpet": [
           {
            "colorbar": {
             "outlinewidth": 0,
             "ticks": ""
            },
            "type": "contourcarpet"
           }
          ],
          "heatmap": [
           {
            "colorbar": {
             "outlinewidth": 0,
             "ticks": ""
            },
            "colorscale": [
             [
              0,
              "#0d0887"
             ],
             [
              0.1111111111111111,
              "#46039f"
             ],
             [
              0.2222222222222222,
              "#7201a8"
             ],
             [
              0.3333333333333333,
              "#9c179e"
             ],
             [
              0.4444444444444444,
              "#bd3786"
             ],
             [
              0.5555555555555556,
              "#d8576b"
             ],
             [
              0.6666666666666666,
              "#ed7953"
             ],
             [
              0.7777777777777778,
              "#fb9f3a"
             ],
             [
              0.8888888888888888,
              "#fdca26"
             ],
             [
              1,
              "#f0f921"
             ]
            ],
            "type": "heatmap"
           }
          ],
          "histogram": [
           {
            "marker": {
             "pattern": {
              "fillmode": "overlay",
              "size": 10,
              "solidity": 0.2
             }
            },
            "type": "histogram"
           }
          ],
          "histogram2d": [
           {
            "colorbar": {
             "outlinewidth": 0,
             "ticks": ""
            },
            "colorscale": [
             [
              0,
              "#0d0887"
             ],
             [
              0.1111111111111111,
              "#46039f"
             ],
             [
              0.2222222222222222,
              "#7201a8"
             ],
             [
              0.3333333333333333,
              "#9c179e"
             ],
             [
              0.4444444444444444,
              "#bd3786"
             ],
             [
              0.5555555555555556,
              "#d8576b"
             ],
             [
              0.6666666666666666,
              "#ed7953"
             ],
             [
              0.7777777777777778,
              "#fb9f3a"
             ],
             [
              0.8888888888888888,
              "#fdca26"
             ],
             [
              1,
              "#f0f921"
             ]
            ],
            "type": "histogram2d"
           }
          ],
          "histogram2dcontour": [
           {
            "colorbar": {
             "outlinewidth": 0,
             "ticks": ""
            },
            "colorscale": [
             [
              0,
              "#0d0887"
             ],
             [
              0.1111111111111111,
              "#46039f"
             ],
             [
              0.2222222222222222,
              "#7201a8"
             ],
             [
              0.3333333333333333,
              "#9c179e"
             ],
             [
              0.4444444444444444,
              "#bd3786"
             ],
             [
              0.5555555555555556,
              "#d8576b"
             ],
             [
              0.6666666666666666,
              "#ed7953"
             ],
             [
              0.7777777777777778,
              "#fb9f3a"
             ],
             [
              0.8888888888888888,
              "#fdca26"
             ],
             [
              1,
              "#f0f921"
             ]
            ],
            "type": "histogram2dcontour"
           }
          ],
          "mesh3d": [
           {
            "colorbar": {
             "outlinewidth": 0,
             "ticks": ""
            },
            "type": "mesh3d"
           }
          ],
          "parcoords": [
           {
            "line": {
             "colorbar": {
              "outlinewidth": 0,
              "ticks": ""
             }
            },
            "type": "parcoords"
           }
          ],
          "pie": [
           {
            "automargin": true,
            "type": "pie"
           }
          ],
          "scatter": [
           {
            "fillpattern": {
             "fillmode": "overlay",
             "size": 10,
             "solidity": 0.2
            },
            "type": "scatter"
           }
          ],
          "scatter3d": [
           {
            "line": {
             "colorbar": {
              "outlinewidth": 0,
              "ticks": ""
             }
            },
            "marker": {
             "colorbar": {
              "outlinewidth": 0,
              "ticks": ""
             }
            },
            "type": "scatter3d"
           }
          ],
          "scattercarpet": [
           {
            "marker": {
             "colorbar": {
              "outlinewidth": 0,
              "ticks": ""
             }
            },
            "type": "scattercarpet"
           }
          ],
          "scattergeo": [
           {
            "marker": {
             "colorbar": {
              "outlinewidth": 0,
              "ticks": ""
             }
            },
            "type": "scattergeo"
           }
          ],
          "scattergl": [
           {
            "marker": {
             "colorbar": {
              "outlinewidth": 0,
              "ticks": ""
             }
            },
            "type": "scattergl"
           }
          ],
          "scattermap": [
           {
            "marker": {
             "colorbar": {
              "outlinewidth": 0,
              "ticks": ""
             }
            },
            "type": "scattermap"
           }
          ],
          "scattermapbox": [
           {
            "marker": {
             "colorbar": {
              "outlinewidth": 0,
              "ticks": ""
             }
            },
            "type": "scattermapbox"
           }
          ],
          "scatterpolar": [
           {
            "marker": {
             "colorbar": {
              "outlinewidth": 0,
              "ticks": ""
             }
            },
            "type": "scatterpolar"
           }
          ],
          "scatterpolargl": [
           {
            "marker": {
             "colorbar": {
              "outlinewidth": 0,
              "ticks": ""
             }
            },
            "type": "scatterpolargl"
           }
          ],
          "scatterternary": [
           {
            "marker": {
             "colorbar": {
              "outlinewidth": 0,
              "ticks": ""
             }
            },
            "type": "scatterternary"
           }
          ],
          "surface": [
           {
            "colorbar": {
             "outlinewidth": 0,
             "ticks": ""
            },
            "colorscale": [
             [
              0,
              "#0d0887"
             ],
             [
              0.1111111111111111,
              "#46039f"
             ],
             [
              0.2222222222222222,
              "#7201a8"
             ],
             [
              0.3333333333333333,
              "#9c179e"
             ],
             [
              0.4444444444444444,
              "#bd3786"
             ],
             [
              0.5555555555555556,
              "#d8576b"
             ],
             [
              0.6666666666666666,
              "#ed7953"
             ],
             [
              0.7777777777777778,
              "#fb9f3a"
             ],
             [
              0.8888888888888888,
              "#fdca26"
             ],
             [
              1,
              "#f0f921"
             ]
            ],
            "type": "surface"
           }
          ],
          "table": [
           {
            "cells": {
             "fill": {
              "color": "#EBF0F8"
             },
             "line": {
              "color": "white"
             }
            },
            "header": {
             "fill": {
              "color": "#C8D4E3"
             },
             "line": {
              "color": "white"
             }
            },
            "type": "table"
           }
          ]
         },
         "layout": {
          "annotationdefaults": {
           "arrowcolor": "#2a3f5f",
           "arrowhead": 0,
           "arrowwidth": 1
          },
          "autotypenumbers": "strict",
          "coloraxis": {
           "colorbar": {
            "outlinewidth": 0,
            "ticks": ""
           }
          },
          "colorscale": {
           "diverging": [
            [
             0,
             "#8e0152"
            ],
            [
             0.1,
             "#c51b7d"
            ],
            [
             0.2,
             "#de77ae"
            ],
            [
             0.3,
             "#f1b6da"
            ],
            [
             0.4,
             "#fde0ef"
            ],
            [
             0.5,
             "#f7f7f7"
            ],
            [
             0.6,
             "#e6f5d0"
            ],
            [
             0.7,
             "#b8e186"
            ],
            [
             0.8,
             "#7fbc41"
            ],
            [
             0.9,
             "#4d9221"
            ],
            [
             1,
             "#276419"
            ]
           ],
           "sequential": [
            [
             0,
             "#0d0887"
            ],
            [
             0.1111111111111111,
             "#46039f"
            ],
            [
             0.2222222222222222,
             "#7201a8"
            ],
            [
             0.3333333333333333,
             "#9c179e"
            ],
            [
             0.4444444444444444,
             "#bd3786"
            ],
            [
             0.5555555555555556,
             "#d8576b"
            ],
            [
             0.6666666666666666,
             "#ed7953"
            ],
            [
             0.7777777777777778,
             "#fb9f3a"
            ],
            [
             0.8888888888888888,
             "#fdca26"
            ],
            [
             1,
             "#f0f921"
            ]
           ],
           "sequentialminus": [
            [
             0,
             "#0d0887"
            ],
            [
             0.1111111111111111,
             "#46039f"
            ],
            [
             0.2222222222222222,
             "#7201a8"
            ],
            [
             0.3333333333333333,
             "#9c179e"
            ],
            [
             0.4444444444444444,
             "#bd3786"
            ],
            [
             0.5555555555555556,
             "#d8576b"
            ],
            [
             0.6666666666666666,
             "#ed7953"
            ],
            [
             0.7777777777777778,
             "#fb9f3a"
            ],
            [
             0.8888888888888888,
             "#fdca26"
            ],
            [
             1,
             "#f0f921"
            ]
           ]
          },
          "colorway": [
           "#636efa",
           "#EF553B",
           "#00cc96",
           "#ab63fa",
           "#FFA15A",
           "#19d3f3",
           "#FF6692",
           "#B6E880",
           "#FF97FF",
           "#FECB52"
          ],
          "font": {
           "color": "#2a3f5f"
          },
          "geo": {
           "bgcolor": "white",
           "lakecolor": "white",
           "landcolor": "#E5ECF6",
           "showlakes": true,
           "showland": true,
           "subunitcolor": "white"
          },
          "hoverlabel": {
           "align": "left"
          },
          "hovermode": "closest",
          "mapbox": {
           "style": "light"
          },
          "paper_bgcolor": "white",
          "plot_bgcolor": "#E5ECF6",
          "polar": {
           "angularaxis": {
            "gridcolor": "white",
            "linecolor": "white",
            "ticks": ""
           },
           "bgcolor": "#E5ECF6",
           "radialaxis": {
            "gridcolor": "white",
            "linecolor": "white",
            "ticks": ""
           }
          },
          "scene": {
           "xaxis": {
            "backgroundcolor": "#E5ECF6",
            "gridcolor": "white",
            "gridwidth": 2,
            "linecolor": "white",
            "showbackground": true,
            "ticks": "",
            "zerolinecolor": "white"
           },
           "yaxis": {
            "backgroundcolor": "#E5ECF6",
            "gridcolor": "white",
            "gridwidth": 2,
            "linecolor": "white",
            "showbackground": true,
            "ticks": "",
            "zerolinecolor": "white"
           },
           "zaxis": {
            "backgroundcolor": "#E5ECF6",
            "gridcolor": "white",
            "gridwidth": 2,
            "linecolor": "white",
            "showbackground": true,
            "ticks": "",
            "zerolinecolor": "white"
           }
          },
          "shapedefaults": {
           "line": {
            "color": "#2a3f5f"
           }
          },
          "ternary": {
           "aaxis": {
            "gridcolor": "white",
            "linecolor": "white",
            "ticks": ""
           },
           "baxis": {
            "gridcolor": "white",
            "linecolor": "white",
            "ticks": ""
           },
           "bgcolor": "#E5ECF6",
           "caxis": {
            "gridcolor": "white",
            "linecolor": "white",
            "ticks": ""
           }
          },
          "title": {
           "x": 0.05
          },
          "xaxis": {
           "automargin": true,
           "gridcolor": "white",
           "linecolor": "white",
           "ticks": "",
           "title": {
            "standoff": 15
           },
           "zerolinecolor": "white",
           "zerolinewidth": 2
          },
          "yaxis": {
           "automargin": true,
           "gridcolor": "white",
           "linecolor": "white",
           "ticks": "",
           "title": {
            "standoff": 15
           },
           "zerolinecolor": "white",
           "zerolinewidth": 2
          }
         }
        },
        "xaxis": {
         "anchor": "y",
         "domain": [
          0,
          1
         ],
         "title": {
          "text": "t"
         }
        },
        "yaxis": {
         "anchor": "x",
         "domain": [
          0,
          1
         ],
         "title": {
          "text": "value"
         }
        }
       }
      },
      "text/html": [
       "<div>                        <script type=\"text/javascript\">window.PlotlyConfig = {MathJaxConfig: 'local'};</script>\n",
       "        <script charset=\"utf-8\" src=\"https://cdn.plot.ly/plotly-3.0.1.min.js\"></script>                <div id=\"d1cbc828-2db3-46ed-9fe6-75162c608780\" class=\"plotly-graph-div\" style=\"height:100%; width:100%;\"></div>            <script type=\"text/javascript\">                window.PLOTLYENV=window.PLOTLYENV || {};                                if (document.getElementById(\"d1cbc828-2db3-46ed-9fe6-75162c608780\")) {                    Plotly.newPlot(                        \"d1cbc828-2db3-46ed-9fe6-75162c608780\",                        [{\"hovertemplate\":\"variable=S\\u003cbr\\u003et=%{x}\\u003cbr\\u003evalue=%{y}\\u003cextra\\u003e\\u003c\\u002fextra\\u003e\",\"legendgroup\":\"S\",\"line\":{\"color\":\"#636efa\",\"dash\":\"solid\"},\"marker\":{\"symbol\":\"circle\"},\"mode\":\"lines\",\"name\":\"S\",\"orientation\":\"v\",\"showlegend\":true,\"x\":{\"dtype\":\"f8\",\"bdata\":\"AAAAAAAAAAAVvJyCl1MAQBW8nIKXUxBAIBrrQ2N9GEAVvJyCl1MgQBrrQ2N9aCRAIBrrQ2N9KEAlSZIkSZIsQBW8nIKXUzBAmFPwcgpeMkAa60NjfWg0QJ2Cl1PwcjZAIBrrQ2N9OECisT401oc6QCVJkiRJkjxAp+DlFLycPkAVvJyCl1NAQNaHxvrQWEFAmFPwcgpeQkBZHxrrQ2NDQBrrQ2N9aERA3LZt27ZtRUCdgpdT8HJGQF5OwcspeEdAIBrrQ2N9SEDh5RS8nIJJQKKxPjTWh0pAY31orA+NS0AlSZIkSZJMQOYUvJyCl01Ap+DlFLycTkBprA+N9aFPQBW8nIKXU1BA9qGxPjTWUEDWh8b60FhRQLdt27Zt21FAmFPwcgpeUkB4OQUvp+BSQFkfGutDY1NAOgUvp+DlU0Aa60NjfWhUQPvQWB8a61RA3LZt27ZtVUC8nIKXU\\u002fBVQJ2Cl1PwclZAfmisD431VkBeTsHLKXhXQD801ofG+ldAIBrrQ2N9WEAAAAAAAABZQA==\"},\"xaxis\":\"x\",\"y\":{\"dtype\":\"f8\",\"bdata\":\"AAAAAAAAWUACpYkIv6DaP85LXiL95wQ\\u002fKCCoR8aoer7A\\u002fxlKZGCMvrDp4NvRjIA+TPwK4Ou\\u002fir5YUeYCY6ekPgCEKqWm3jw+pPNhKxHRjz5bE\\u002fI0RbKdPh43z8mgLKY+FDSp7ZqbsT7iIua\\u002fN7iqPov4f9zWOJc+mF+hvaSSeL58SExWwqOHvsvAmzH\\u002faZc+BpKvxDO7lr4GKqBn2a6aPiBfOfuOCXu+6FUrv\\u002fMtYD46az16FQuQPpjczqhHGHO+xHrzU8Z+dT6jrfbyuoyBPgDDwakm1zc+EGqXsKDLUr4k+rYrSXFpPqx5wHvuM3Q+u5XFuEwIYj7AQC7OSOw5PgD8o3dEwvw9vMPyWUEAUj488eRkLmdpPoIw\\u002fuM2i3Q+X9XpEsfDdT7172PldAFwPsS0RyMb2WU+Cs2cpt+XXT6obuuayJBXPt43ZZmW9lk+0TtV1E3RYT7\\u002f8Agw6\\u002fZoPiwk6nk8LHA+lIAMfhGRcj6Hni\\u002fk6\\u002f5xPlpubzhtYXA+h6WXWFEYbj7UfoHBu99rPg==\"},\"yaxis\":\"y\",\"type\":\"scatter\"},{\"hovertemplate\":\"variable=I\\u003cbr\\u003et=%{x}\\u003cbr\\u003evalue=%{y}\\u003cextra\\u003e\\u003c\\u002fextra\\u003e\",\"legendgroup\":\"I\",\"line\":{\"color\":\"#EF553B\",\"dash\":\"solid\"},\"marker\":{\"symbol\":\"circle\"},\"mode\":\"lines\",\"name\":\"I\",\"orientation\":\"v\",\"showlegend\":true,\"x\":{\"dtype\":\"f8\",\"bdata\":\"AAAAAAAAAAAVvJyCl1MAQBW8nIKXUxBAIBrrQ2N9GEAVvJyCl1MgQBrrQ2N9aCRAIBrrQ2N9KEAlSZIkSZIsQBW8nIKXUzBAmFPwcgpeMkAa60NjfWg0QJ2Cl1PwcjZAIBrrQ2N9OECisT401oc6QCVJkiRJkjxAp+DlFLycPkAVvJyCl1NAQNaHxvrQWEFAmFPwcgpeQkBZHxrrQ2NDQBrrQ2N9aERA3LZt27ZtRUCdgpdT8HJGQF5OwcspeEdAIBrrQ2N9SEDh5RS8nIJJQKKxPjTWh0pAY31orA+NS0AlSZIkSZJMQOYUvJyCl01Ap+DlFLycTkBprA+N9aFPQBW8nIKXU1BA9qGxPjTWUEDWh8b60FhRQLdt27Zt21FAmFPwcgpeUkB4OQUvp+BSQFkfGutDY1NAOgUvp+DlU0Aa60NjfWhUQPvQWB8a61RA3LZt27ZtVUC8nIKXU\\u002fBVQJ2Cl1PwclZAfmisD431VkBeTsHLKXhXQD801ofG+ldAIBrrQ2N9WEAAAAAAAABZQA==\"},\"xaxis\":\"x\",\"y\":{\"dtype\":\"f8\",\"bdata\":\"AAAAAAAA8D\\u002fSlVHhlcZXQEwDWjFxkFVAqxW92Ot4U0BUfMz1WJVRQJvYUiZewU9AMcKofsKsTECXnSn+puRJQLbOQeufYUdAQkcyr\\u002fkcRUDkuXg4pxBDQJ8hA7QxN0FAe9csAFQXP0AH\\u002fMcWNxM8QNZVZL4AWjlA6UvB3GzkNkCdEP\\u002fH66s0QIuOw+2QqjJAe8+SfwLbMECLd0d32HAuQH+1xnvhfCtAsidks0DSKEASiI4o2GkmQK5DuNs5PSRAVtQUGJ1GIkDeL5YCwYAgQDpwCNbLzR1A2oALvaTpGkAcRFjNVk0YQDXTflPZ8RVABHjwDqLQE0D8ju0DMeQRQC5tq12uJxBAE8lOIh0tDUDQh026JFkKQPmtbZSNywdAyMxZVQp9BUAlDDsCx2YDQIog3tuHgwFAOBQcWEee\\u002fz\\u002fcnwsELYv8P6qmAx4Cxvk\\u002f8J9\\u002fTFFH9z+Ut\\u002f157gf1P\\u002frN\\u002ftT2APM\\u002fMHgG0NAr8T\\u002fguB\\u002fwggTvP4rQ0jM2Auw\\u002f2IvVm6dK6T\\u002fmhlotk9bmPw==\"},\"yaxis\":\"y\",\"type\":\"scatter\"},{\"hovertemplate\":\"variable=R\\u003cbr\\u003et=%{x}\\u003cbr\\u003evalue=%{y}\\u003cextra\\u003e\\u003c\\u002fextra\\u003e\",\"legendgroup\":\"R\",\"line\":{\"color\":\"#00cc96\",\"dash\":\"solid\"},\"marker\":{\"symbol\":\"circle\"},\"mode\":\"lines\",\"name\":\"R\",\"orientation\":\"v\",\"showlegend\":true,\"x\":{\"dtype\":\"f8\",\"bdata\":\"AAAAAAAAAAAVvJyCl1MAQBW8nIKXUxBAIBrrQ2N9GEAVvJyCl1MgQBrrQ2N9aCRAIBrrQ2N9KEAlSZIkSZIsQBW8nIKXUzBAmFPwcgpeMkAa60NjfWg0QJ2Cl1PwcjZAIBrrQ2N9OECisT401oc6QCVJkiRJkjxAp+DlFLycPkAVvJyCl1NAQNaHxvrQWEFAmFPwcgpeQkBZHxrrQ2NDQBrrQ2N9aERA3LZt27ZtRUCdgpdT8HJGQF5OwcspeEdAIBrrQ2N9SEDh5RS8nIJJQKKxPjTWh0pAY31orA+NS0AlSZIkSZJMQOYUvJyCl01Ap+DlFLycTkBprA+N9aFPQBW8nIKXU1BA9qGxPjTWUEDWh8b60FhRQLdt27Zt21FAmFPwcgpeUkB4OQUvp+BSQFkfGutDY1NAOgUvp+DlU0Aa60NjfWhUQPvQWB8a61RA3LZt27ZtVUC8nIKXU\\u002fBVQJ2Cl1PwclZAfmisD431VkBeTsHLKXhXQD801ofG+ldAIBrrQ2N9WEAAAAAAAABZQA==\"},\"xaxis\":\"x\",\"y\":{\"dtype\":\"f8\",\"bdata\":\"AAAAAAAAAACQCF76lewVQAWdMDtxfC1AszW2nlAcN0A0G1osnKo+QEVapNihvkJAizwDgz3TRUCmiaz8WJtIQPXBrxRgHktAqqfQTgZjTUB0\\u002fdDDWG9PQBjbOCNnpFBAZuON+yp6UUAF+vY2MjtSQBxd885\\u002f6VJAmPcxyeSGU0DrWb0OBRVUQGp8GMNblVRAXv+GYT8JVUB4I2zv5HFVQIxP89Bj0FVAIx9z6bclVkCmfe35xHJWQKlY1cRYuFZAXGqnXCz3VkAt1CDf5y9XQDODmUIjY1dAkxNCtGWRV0AsmfeSKrtXQBNDd2ri4FdA5ufs3vUCWED+q7rvvCFYQCTWJBqFPVhAdonbFpdWWEBlxfrZNm1YQLVlCpOjgVhAfiL+rBeUWEDLIa7HyaRYQMVc9cDjs1hA0PeB4obBWEC4QNhL081YQM\\u002f6bffn2FhA5V6quuLiWEBLG+ZF4OtYQNZTayT881hA2aF1vFD7WEDfxNf59gFZQKrUVpP7B1lARiSMsGoNWUB7i23ZUhJZQA==\"},\"yaxis\":\"y\",\"type\":\"scatter\"}],                        {\"template\":{\"data\":{\"histogram2dcontour\":[{\"type\":\"histogram2dcontour\",\"colorbar\":{\"outlinewidth\":0,\"ticks\":\"\"},\"colorscale\":[[0.0,\"#0d0887\"],[0.1111111111111111,\"#46039f\"],[0.2222222222222222,\"#7201a8\"],[0.3333333333333333,\"#9c179e\"],[0.4444444444444444,\"#bd3786\"],[0.5555555555555556,\"#d8576b\"],[0.6666666666666666,\"#ed7953\"],[0.7777777777777778,\"#fb9f3a\"],[0.8888888888888888,\"#fdca26\"],[1.0,\"#f0f921\"]]}],\"choropleth\":[{\"type\":\"choropleth\",\"colorbar\":{\"outlinewidth\":0,\"ticks\":\"\"}}],\"histogram2d\":[{\"type\":\"histogram2d\",\"colorbar\":{\"outlinewidth\":0,\"ticks\":\"\"},\"colorscale\":[[0.0,\"#0d0887\"],[0.1111111111111111,\"#46039f\"],[0.2222222222222222,\"#7201a8\"],[0.3333333333333333,\"#9c179e\"],[0.4444444444444444,\"#bd3786\"],[0.5555555555555556,\"#d8576b\"],[0.6666666666666666,\"#ed7953\"],[0.7777777777777778,\"#fb9f3a\"],[0.8888888888888888,\"#fdca26\"],[1.0,\"#f0f921\"]]}],\"heatmap\":[{\"type\":\"heatmap\",\"colorbar\":{\"outlinewidth\":0,\"ticks\":\"\"},\"colorscale\":[[0.0,\"#0d0887\"],[0.1111111111111111,\"#46039f\"],[0.2222222222222222,\"#7201a8\"],[0.3333333333333333,\"#9c179e\"],[0.4444444444444444,\"#bd3786\"],[0.5555555555555556,\"#d8576b\"],[0.6666666666666666,\"#ed7953\"],[0.7777777777777778,\"#fb9f3a\"],[0.8888888888888888,\"#fdca26\"],[1.0,\"#f0f921\"]]}],\"contourcarpet\":[{\"type\":\"contourcarpet\",\"colorbar\":{\"outlinewidth\":0,\"ticks\":\"\"}}],\"contour\":[{\"type\":\"contour\",\"colorbar\":{\"outlinewidth\":0,\"ticks\":\"\"},\"colorscale\":[[0.0,\"#0d0887\"],[0.1111111111111111,\"#46039f\"],[0.2222222222222222,\"#7201a8\"],[0.3333333333333333,\"#9c179e\"],[0.4444444444444444,\"#bd3786\"],[0.5555555555555556,\"#d8576b\"],[0.6666666666666666,\"#ed7953\"],[0.7777777777777778,\"#fb9f3a\"],[0.8888888888888888,\"#fdca26\"],[1.0,\"#f0f921\"]]}],\"surface\":[{\"type\":\"surface\",\"colorbar\":{\"outlinewidth\":0,\"ticks\":\"\"},\"colorscale\":[[0.0,\"#0d0887\"],[0.1111111111111111,\"#46039f\"],[0.2222222222222222,\"#7201a8\"],[0.3333333333333333,\"#9c179e\"],[0.4444444444444444,\"#bd3786\"],[0.5555555555555556,\"#d8576b\"],[0.6666666666666666,\"#ed7953\"],[0.7777777777777778,\"#fb9f3a\"],[0.8888888888888888,\"#fdca26\"],[1.0,\"#f0f921\"]]}],\"mesh3d\":[{\"type\":\"mesh3d\",\"colorbar\":{\"outlinewidth\":0,\"ticks\":\"\"}}],\"scatter\":[{\"fillpattern\":{\"fillmode\":\"overlay\",\"size\":10,\"solidity\":0.2},\"type\":\"scatter\"}],\"parcoords\":[{\"type\":\"parcoords\",\"line\":{\"colorbar\":{\"outlinewidth\":0,\"ticks\":\"\"}}}],\"scatterpolargl\":[{\"type\":\"scatterpolargl\",\"marker\":{\"colorbar\":{\"outlinewidth\":0,\"ticks\":\"\"}}}],\"bar\":[{\"error_x\":{\"color\":\"#2a3f5f\"},\"error_y\":{\"color\":\"#2a3f5f\"},\"marker\":{\"line\":{\"color\":\"#E5ECF6\",\"width\":0.5},\"pattern\":{\"fillmode\":\"overlay\",\"size\":10,\"solidity\":0.2}},\"type\":\"bar\"}],\"scattergeo\":[{\"type\":\"scattergeo\",\"marker\":{\"colorbar\":{\"outlinewidth\":0,\"ticks\":\"\"}}}],\"scatterpolar\":[{\"type\":\"scatterpolar\",\"marker\":{\"colorbar\":{\"outlinewidth\":0,\"ticks\":\"\"}}}],\"histogram\":[{\"marker\":{\"pattern\":{\"fillmode\":\"overlay\",\"size\":10,\"solidity\":0.2}},\"type\":\"histogram\"}],\"scattergl\":[{\"type\":\"scattergl\",\"marker\":{\"colorbar\":{\"outlinewidth\":0,\"ticks\":\"\"}}}],\"scatter3d\":[{\"type\":\"scatter3d\",\"line\":{\"colorbar\":{\"outlinewidth\":0,\"ticks\":\"\"}},\"marker\":{\"colorbar\":{\"outlinewidth\":0,\"ticks\":\"\"}}}],\"scattermap\":[{\"type\":\"scattermap\",\"marker\":{\"colorbar\":{\"outlinewidth\":0,\"ticks\":\"\"}}}],\"scattermapbox\":[{\"type\":\"scattermapbox\",\"marker\":{\"colorbar\":{\"outlinewidth\":0,\"ticks\":\"\"}}}],\"scatterternary\":[{\"type\":\"scatterternary\",\"marker\":{\"colorbar\":{\"outlinewidth\":0,\"ticks\":\"\"}}}],\"scattercarpet\":[{\"type\":\"scattercarpet\",\"marker\":{\"colorbar\":{\"outlinewidth\":0,\"ticks\":\"\"}}}],\"carpet\":[{\"aaxis\":{\"endlinecolor\":\"#2a3f5f\",\"gridcolor\":\"white\",\"linecolor\":\"white\",\"minorgridcolor\":\"white\",\"startlinecolor\":\"#2a3f5f\"},\"baxis\":{\"endlinecolor\":\"#2a3f5f\",\"gridcolor\":\"white\",\"linecolor\":\"white\",\"minorgridcolor\":\"white\",\"startlinecolor\":\"#2a3f5f\"},\"type\":\"carpet\"}],\"table\":[{\"cells\":{\"fill\":{\"color\":\"#EBF0F8\"},\"line\":{\"color\":\"white\"}},\"header\":{\"fill\":{\"color\":\"#C8D4E3\"},\"line\":{\"color\":\"white\"}},\"type\":\"table\"}],\"barpolar\":[{\"marker\":{\"line\":{\"color\":\"#E5ECF6\",\"width\":0.5},\"pattern\":{\"fillmode\":\"overlay\",\"size\":10,\"solidity\":0.2}},\"type\":\"barpolar\"}],\"pie\":[{\"automargin\":true,\"type\":\"pie\"}]},\"layout\":{\"autotypenumbers\":\"strict\",\"colorway\":[\"#636efa\",\"#EF553B\",\"#00cc96\",\"#ab63fa\",\"#FFA15A\",\"#19d3f3\",\"#FF6692\",\"#B6E880\",\"#FF97FF\",\"#FECB52\"],\"font\":{\"color\":\"#2a3f5f\"},\"hovermode\":\"closest\",\"hoverlabel\":{\"align\":\"left\"},\"paper_bgcolor\":\"white\",\"plot_bgcolor\":\"#E5ECF6\",\"polar\":{\"bgcolor\":\"#E5ECF6\",\"angularaxis\":{\"gridcolor\":\"white\",\"linecolor\":\"white\",\"ticks\":\"\"},\"radialaxis\":{\"gridcolor\":\"white\",\"linecolor\":\"white\",\"ticks\":\"\"}},\"ternary\":{\"bgcolor\":\"#E5ECF6\",\"aaxis\":{\"gridcolor\":\"white\",\"linecolor\":\"white\",\"ticks\":\"\"},\"baxis\":{\"gridcolor\":\"white\",\"linecolor\":\"white\",\"ticks\":\"\"},\"caxis\":{\"gridcolor\":\"white\",\"linecolor\":\"white\",\"ticks\":\"\"}},\"coloraxis\":{\"colorbar\":{\"outlinewidth\":0,\"ticks\":\"\"}},\"colorscale\":{\"sequential\":[[0.0,\"#0d0887\"],[0.1111111111111111,\"#46039f\"],[0.2222222222222222,\"#7201a8\"],[0.3333333333333333,\"#9c179e\"],[0.4444444444444444,\"#bd3786\"],[0.5555555555555556,\"#d8576b\"],[0.6666666666666666,\"#ed7953\"],[0.7777777777777778,\"#fb9f3a\"],[0.8888888888888888,\"#fdca26\"],[1.0,\"#f0f921\"]],\"sequentialminus\":[[0.0,\"#0d0887\"],[0.1111111111111111,\"#46039f\"],[0.2222222222222222,\"#7201a8\"],[0.3333333333333333,\"#9c179e\"],[0.4444444444444444,\"#bd3786\"],[0.5555555555555556,\"#d8576b\"],[0.6666666666666666,\"#ed7953\"],[0.7777777777777778,\"#fb9f3a\"],[0.8888888888888888,\"#fdca26\"],[1.0,\"#f0f921\"]],\"diverging\":[[0,\"#8e0152\"],[0.1,\"#c51b7d\"],[0.2,\"#de77ae\"],[0.3,\"#f1b6da\"],[0.4,\"#fde0ef\"],[0.5,\"#f7f7f7\"],[0.6,\"#e6f5d0\"],[0.7,\"#b8e186\"],[0.8,\"#7fbc41\"],[0.9,\"#4d9221\"],[1,\"#276419\"]]},\"xaxis\":{\"gridcolor\":\"white\",\"linecolor\":\"white\",\"ticks\":\"\",\"title\":{\"standoff\":15},\"zerolinecolor\":\"white\",\"automargin\":true,\"zerolinewidth\":2},\"yaxis\":{\"gridcolor\":\"white\",\"linecolor\":\"white\",\"ticks\":\"\",\"title\":{\"standoff\":15},\"zerolinecolor\":\"white\",\"automargin\":true,\"zerolinewidth\":2},\"scene\":{\"xaxis\":{\"backgroundcolor\":\"#E5ECF6\",\"gridcolor\":\"white\",\"linecolor\":\"white\",\"showbackground\":true,\"ticks\":\"\",\"zerolinecolor\":\"white\",\"gridwidth\":2},\"yaxis\":{\"backgroundcolor\":\"#E5ECF6\",\"gridcolor\":\"white\",\"linecolor\":\"white\",\"showbackground\":true,\"ticks\":\"\",\"zerolinecolor\":\"white\",\"gridwidth\":2},\"zaxis\":{\"backgroundcolor\":\"#E5ECF6\",\"gridcolor\":\"white\",\"linecolor\":\"white\",\"showbackground\":true,\"ticks\":\"\",\"zerolinecolor\":\"white\",\"gridwidth\":2}},\"shapedefaults\":{\"line\":{\"color\":\"#2a3f5f\"}},\"annotationdefaults\":{\"arrowcolor\":\"#2a3f5f\",\"arrowhead\":0,\"arrowwidth\":1},\"geo\":{\"bgcolor\":\"white\",\"landcolor\":\"#E5ECF6\",\"subunitcolor\":\"white\",\"showland\":true,\"showlakes\":true,\"lakecolor\":\"white\"},\"title\":{\"x\":0.05},\"mapbox\":{\"style\":\"light\"}}},\"xaxis\":{\"anchor\":\"y\",\"domain\":[0.0,1.0],\"title\":{\"text\":\"t\"}},\"yaxis\":{\"anchor\":\"x\",\"domain\":[0.0,1.0],\"title\":{\"text\":\"value\"}},\"legend\":{\"title\":{\"text\":\"variable\"},\"tracegroupgap\":0},\"margin\":{\"t\":60}},                        {\"responsive\": true}                    )                };            </script>        </div>"
      ],
      "text/plain": [
       "Figure({\n",
       "    'data': [{'hovertemplate': 'variable=S<br>t=%{x}<br>value=%{y}<extra></extra>',\n",
       "              'legendgroup': 'S',\n",
       "              'line': {'color': '#636efa', 'dash': 'solid'},\n",
       "              'marker': {'symbol': 'circle'},\n",
       "              'mode': 'lines',\n",
       "              'name': 'S',\n",
       "              'orientation': 'v',\n",
       "              'showlegend': True,\n",
       "              'type': 'scatter',\n",
       "              'x': {'bdata': ('AAAAAAAAAAAVvJyCl1MAQBW8nIKXUx' ... 'fG+ldAIBrrQ2N9WEAAAAAAAABZQA=='),\n",
       "                    'dtype': 'f8'},\n",
       "              'xaxis': 'x',\n",
       "              'y': {'bdata': ('AAAAAAAAWUACpYkIv6DaP85LXiL95w' ... 'htYXA+h6WXWFEYbj7UfoHBu99rPg=='),\n",
       "                    'dtype': 'f8'},\n",
       "              'yaxis': 'y'},\n",
       "             {'hovertemplate': 'variable=I<br>t=%{x}<br>value=%{y}<extra></extra>',\n",
       "              'legendgroup': 'I',\n",
       "              'line': {'color': '#EF553B', 'dash': 'solid'},\n",
       "              'marker': {'symbol': 'circle'},\n",
       "              'mode': 'lines',\n",
       "              'name': 'I',\n",
       "              'orientation': 'v',\n",
       "              'showlegend': True,\n",
       "              'type': 'scatter',\n",
       "              'x': {'bdata': ('AAAAAAAAAAAVvJyCl1MAQBW8nIKXUx' ... 'fG+ldAIBrrQ2N9WEAAAAAAAABZQA=='),\n",
       "                    'dtype': 'f8'},\n",
       "              'xaxis': 'x',\n",
       "              'y': {'bdata': ('AAAAAAAA8D/SlVHhlcZXQEwDWjFxkF' ... 'M2Auw/2IvVm6dK6T/mhlotk9bmPw=='),\n",
       "                    'dtype': 'f8'},\n",
       "              'yaxis': 'y'},\n",
       "             {'hovertemplate': 'variable=R<br>t=%{x}<br>value=%{y}<extra></extra>',\n",
       "              'legendgroup': 'R',\n",
       "              'line': {'color': '#00cc96', 'dash': 'solid'},\n",
       "              'marker': {'symbol': 'circle'},\n",
       "              'mode': 'lines',\n",
       "              'name': 'R',\n",
       "              'orientation': 'v',\n",
       "              'showlegend': True,\n",
       "              'type': 'scatter',\n",
       "              'x': {'bdata': ('AAAAAAAAAAAVvJyCl1MAQBW8nIKXUx' ... 'fG+ldAIBrrQ2N9WEAAAAAAAABZQA=='),\n",
       "                    'dtype': 'f8'},\n",
       "              'xaxis': 'x',\n",
       "              'y': {'bdata': ('AAAAAAAAAACQCF76lewVQAWdMDtxfC' ... 'P7B1lARiSMsGoNWUB7i23ZUhJZQA=='),\n",
       "                    'dtype': 'f8'},\n",
       "              'yaxis': 'y'}],\n",
       "    'layout': {'legend': {'title': {'text': 'variable'}, 'tracegroupgap': 0},\n",
       "               'margin': {'t': 60},\n",
       "               'template': '...',\n",
       "               'xaxis': {'anchor': 'y', 'domain': [0.0, 1.0], 'title': {'text': 't'}},\n",
       "               'yaxis': {'anchor': 'x', 'domain': [0.0, 1.0], 'title': {'text': 'value'}}}\n",
       "})"
      ]
     },
     "execution_count": 11,
     "metadata": {},
     "output_type": "execute_result"
    }
   ],
   "source": [
    "fig = px.line(df, x=\"t\", y=[\"S\",\"I\",\"R\"])\n",
    "fig"
   ]
  }
 ],
 "metadata": {
  "kernelspec": {
   "display_name": ".venv",
   "language": "python",
   "name": "python3"
  },
  "language_info": {
   "codemirror_mode": {
    "name": "ipython",
    "version": 3
   },
   "file_extension": ".py",
   "mimetype": "text/x-python",
   "name": "python",
   "nbconvert_exporter": "python",
   "pygments_lexer": "ipython3",
   "version": "3.13.3"
  }
 },
 "nbformat": 4,
 "nbformat_minor": 5
}
