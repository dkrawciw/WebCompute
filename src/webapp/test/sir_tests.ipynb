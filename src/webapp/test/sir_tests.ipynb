{
 "cells": [
  {
   "cell_type": "code",
   "execution_count": 21,
   "id": "1e656939",
   "metadata": {},
   "outputs": [],
   "source": [
    "import sys\n",
    "sys.path.append(\"..\")\n",
    "\n",
    "from src.SIR.SIR import SIR\n",
    "import plotly.express as px\n",
    "import pandas as pd"
   ]
  },
  {
   "cell_type": "code",
   "execution_count": 22,
   "id": "c90af314",
   "metadata": {},
   "outputs": [
    {
     "data": {
      "application/vnd.microsoft.datawrangler.viewer.v0+json": {
       "columns": [
        {
         "name": "index",
         "rawType": "int64",
         "type": "integer"
        },
        {
         "name": "S",
         "rawType": "float64",
         "type": "float"
        },
        {
         "name": "I",
         "rawType": "float64",
         "type": "float"
        },
        {
         "name": "R",
         "rawType": "float64",
         "type": "float"
        },
        {
         "name": "t",
         "rawType": "float64",
         "type": "float"
        }
       ],
       "ref": "2e15d896-66a6-461e-9a6b-0097f8dcb2e4",
       "rows": [
        [
         "0",
         "100.0",
         "1.0",
         "0.0",
         "0.0"
        ],
        [
         "1",
         "99.36375272578537",
         "1.6298644032435345",
         "0.006382870971082267",
         "0.1"
        ],
        [
         "2",
         "98.3374729864564",
         "2.6457617362017114",
         "0.01676527734188585",
         "0.2"
        ],
        [
         "3",
         "96.69928290115611",
         "4.267152176528576",
         "0.03356492231532381",
         "0.30000000000000004"
        ],
        [
         "4",
         "94.12749168090023",
         "6.811986436039861",
         "0.0605218830599202",
         "0.4"
        ],
        [
         "5",
         "90.19368150702877",
         "10.703103255661539",
         "0.10321523730970877",
         "0.5"
        ],
        [
         "6",
         "84.40963540343105",
         "16.420866282767875",
         "0.1694983138010828",
         "0.6000000000000001"
        ],
        [
         "7",
         "76.38086814781309",
         "24.349675111301956",
         "0.26945674088495797",
         "0.7000000000000001"
        ],
        [
         "8",
         "66.08306010259314",
         "34.502651124812765",
         "0.4142887725941047",
         "0.8"
        ],
        [
         "9",
         "54.13442909718118",
         "46.251828715724116",
         "0.6137421870947153",
         "0.9"
        ],
        [
         "10",
         "41.779581506032365",
         "58.34760496979395",
         "0.8728135241736985",
         "1.0"
        ],
        [
         "11",
         "30.434734088950105",
         "69.37561129991724",
         "1.1896546111326625",
         "1.1"
        ],
        [
         "12",
         "21.094581997466168",
         "78.34914266157645",
         "1.556275340957385",
         "1.2000000000000002"
        ],
        [
         "13",
         "14.068050678748762",
         "84.97045569047872",
         "1.9614936307725235",
         "1.3"
        ],
        [
         "14",
         "9.129195333459645",
         "89.47671377813273",
         "2.394090888407624",
         "1.4000000000000001"
        ],
        [
         "15",
         "5.81867867162147",
         "92.33660753474638",
         "2.8447137936321556",
         "1.5"
        ],
        [
         "16",
         "3.667930727629821",
         "94.0256563684083",
         "3.306412903961885",
         "1.6"
        ],
        [
         "17",
         "2.29774470810946",
         "94.92786792685901",
         "3.7743873650315436",
         "1.7000000000000002"
        ],
        [
         "18",
         "1.4349541064593685",
         "95.3195774474533",
         "4.245468446087334",
         "1.8"
        ],
        [
         "19",
         "0.895178799469453",
         "95.38719820651409",
         "4.717622994016474",
         "1.9000000000000001"
        ],
        [
         "20",
         "0.558562591803391",
         "95.25186820567802",
         "5.189569202518604",
         "2.0"
        ],
        [
         "21",
         "0.42708627815059486",
         "94.91253232377474",
         "5.660381398074668",
         "2.1"
        ],
        [
         "22",
         "0.42708627815059486",
         "94.44382941531009",
         "6.129084306539321",
         "2.2"
        ],
        [
         "23",
         "0.42708627815059486",
         "93.9774410843941",
         "6.5954726374553125",
         "2.3000000000000003"
        ],
        [
         "24",
         "0.42708627815059486",
         "93.51335590103747",
         "7.059557820811943",
         "2.4000000000000004"
        ],
        [
         "25",
         "0.42708627815059486",
         "93.05156249169517",
         "7.5213512301542345",
         "2.5"
        ],
        [
         "26",
         "0.42708627815059486",
         "92.59204953898774",
         "7.980864182861672",
         "2.6"
        ],
        [
         "27",
         "0.42708627815059486",
         "92.13480578142385",
         "8.438107940425562",
         "2.7"
        ],
        [
         "28",
         "0.42708627815059486",
         "91.6798200131244",
         "8.893093708725013",
         "2.8000000000000003"
        ],
        [
         "29",
         "0.42708627815059486",
         "91.22708108354783",
         "9.345832638301582",
         "2.9000000000000004"
        ],
        [
         "30",
         "0.42708627815059486",
         "90.7765778972169",
         "9.796335824632528",
         "3.0"
        ],
        [
         "31",
         "0.42708627815059486",
         "90.32829941344667",
         "10.244614308402749",
         "3.1"
        ],
        [
         "32",
         "0.42708627815059486",
         "89.88223464607408",
         "10.690679075775343",
         "3.2"
        ],
        [
         "33",
         "0.42708627815059486",
         "89.43837266318856",
         "11.13454105866087",
         "3.3000000000000003"
        ],
        [
         "34",
         "0.42708627815059486",
         "88.99670258686419",
         "11.576211134985254",
         "3.4000000000000004"
        ],
        [
         "35",
         "0.42708627815059486",
         "88.55721359289306",
         "12.015700128956373",
         "3.5"
        ],
        [
         "36",
         "0.42708627815059486",
         "88.1198949105201",
         "12.453018811329336",
         "3.6"
        ],
        [
         "37",
         "0.42708627815059486",
         "87.684735822179",
         "12.888177899670453",
         "3.7"
        ],
        [
         "38",
         "0.42708627815059486",
         "87.25172566322956",
         "13.321188058619876",
         "3.8000000000000003"
        ],
        [
         "39",
         "0.42708627815059486",
         "86.82085382169646",
         "13.752059900152984",
         "3.9000000000000004"
        ],
        [
         "40",
         "0.42708627815059486",
         "86.39210973800901",
         "14.180803983840448",
         "4.0"
        ],
        [
         "41",
         "0.42708627815059486",
         "85.96548290474244",
         "14.60743081710701",
         "4.1000000000000005"
        ],
        [
         "42",
         "0.42708627815059486",
         "85.54096286636045",
         "15.031950855489006",
         "4.2"
        ],
        [
         "43",
         "0.42708627815059486",
         "85.11853921895886",
         "15.454374502890593",
         "4.3"
        ],
        [
         "44",
         "0.42708627815059486",
         "84.69820161001071",
         "15.874712111838736",
         "4.4"
        ],
        [
         "45",
         "0.42708627815059486",
         "84.27993973811255",
         "16.292973983736907",
         "4.5"
        ],
        [
         "46",
         "0.42708627815059486",
         "83.8637433527319",
         "16.709170369117555",
         "4.6000000000000005"
        ],
        [
         "47",
         "0.42708627815059486",
         "83.44960225395614",
         "17.123311467893327",
         "4.7"
        ],
        [
         "48",
         "0.42708627815059486",
         "83.03750629224245",
         "17.535407429607016",
         "4.800000000000001"
        ],
        [
         "49",
         "0.42708627815059486",
         "82.62744536816913",
         "17.945468353680337",
         "4.9"
        ]
       ],
       "shape": {
        "columns": 4,
        "rows": 101
       }
      },
      "text/html": [
       "<div>\n",
       "<style scoped>\n",
       "    .dataframe tbody tr th:only-of-type {\n",
       "        vertical-align: middle;\n",
       "    }\n",
       "\n",
       "    .dataframe tbody tr th {\n",
       "        vertical-align: top;\n",
       "    }\n",
       "\n",
       "    .dataframe thead th {\n",
       "        text-align: right;\n",
       "    }\n",
       "</style>\n",
       "<table border=\"1\" class=\"dataframe\">\n",
       "  <thead>\n",
       "    <tr style=\"text-align: right;\">\n",
       "      <th></th>\n",
       "      <th>S</th>\n",
       "      <th>I</th>\n",
       "      <th>R</th>\n",
       "      <th>t</th>\n",
       "    </tr>\n",
       "  </thead>\n",
       "  <tbody>\n",
       "    <tr>\n",
       "      <th>0</th>\n",
       "      <td>100.000000</td>\n",
       "      <td>1.000000</td>\n",
       "      <td>0.000000</td>\n",
       "      <td>0.0</td>\n",
       "    </tr>\n",
       "    <tr>\n",
       "      <th>1</th>\n",
       "      <td>99.363753</td>\n",
       "      <td>1.629864</td>\n",
       "      <td>0.006383</td>\n",
       "      <td>0.1</td>\n",
       "    </tr>\n",
       "    <tr>\n",
       "      <th>2</th>\n",
       "      <td>98.337473</td>\n",
       "      <td>2.645762</td>\n",
       "      <td>0.016765</td>\n",
       "      <td>0.2</td>\n",
       "    </tr>\n",
       "    <tr>\n",
       "      <th>3</th>\n",
       "      <td>96.699283</td>\n",
       "      <td>4.267152</td>\n",
       "      <td>0.033565</td>\n",
       "      <td>0.3</td>\n",
       "    </tr>\n",
       "    <tr>\n",
       "      <th>4</th>\n",
       "      <td>94.127492</td>\n",
       "      <td>6.811986</td>\n",
       "      <td>0.060522</td>\n",
       "      <td>0.4</td>\n",
       "    </tr>\n",
       "    <tr>\n",
       "      <th>...</th>\n",
       "      <td>...</td>\n",
       "      <td>...</td>\n",
       "      <td>...</td>\n",
       "      <td>...</td>\n",
       "    </tr>\n",
       "    <tr>\n",
       "      <th>96</th>\n",
       "      <td>0.427086</td>\n",
       "      <td>65.475015</td>\n",
       "      <td>35.097898</td>\n",
       "      <td>9.6</td>\n",
       "    </tr>\n",
       "    <tr>\n",
       "      <th>97</th>\n",
       "      <td>0.427086</td>\n",
       "      <td>65.151683</td>\n",
       "      <td>35.421231</td>\n",
       "      <td>9.7</td>\n",
       "    </tr>\n",
       "    <tr>\n",
       "      <th>98</th>\n",
       "      <td>0.427086</td>\n",
       "      <td>64.829947</td>\n",
       "      <td>35.742967</td>\n",
       "      <td>9.8</td>\n",
       "    </tr>\n",
       "    <tr>\n",
       "      <th>99</th>\n",
       "      <td>0.427086</td>\n",
       "      <td>64.509799</td>\n",
       "      <td>36.063114</td>\n",
       "      <td>9.9</td>\n",
       "    </tr>\n",
       "    <tr>\n",
       "      <th>100</th>\n",
       "      <td>0.427086</td>\n",
       "      <td>64.191233</td>\n",
       "      <td>36.381681</td>\n",
       "      <td>10.0</td>\n",
       "    </tr>\n",
       "  </tbody>\n",
       "</table>\n",
       "<p>101 rows × 4 columns</p>\n",
       "</div>"
      ],
      "text/plain": [
       "              S          I          R     t\n",
       "0    100.000000   1.000000   0.000000   0.0\n",
       "1     99.363753   1.629864   0.006383   0.1\n",
       "2     98.337473   2.645762   0.016765   0.2\n",
       "3     96.699283   4.267152   0.033565   0.3\n",
       "4     94.127492   6.811986   0.060522   0.4\n",
       "..          ...        ...        ...   ...\n",
       "96     0.427086  65.475015  35.097898   9.6\n",
       "97     0.427086  65.151683  35.421231   9.7\n",
       "98     0.427086  64.829947  35.742967   9.8\n",
       "99     0.427086  64.509799  36.063114   9.9\n",
       "100    0.427086  64.191233  36.381681  10.0\n",
       "\n",
       "[101 rows x 4 columns]"
      ]
     },
     "execution_count": 22,
     "metadata": {},
     "output_type": "execute_result"
    }
   ],
   "source": [
    "sir_one = SIR(t_length = 10, n_steps=100)\n",
    "\n",
    "t,y = sir_one.solve_basic_sir()\n",
    "\n",
    "df = pd.DataFrame( y.T )\n",
    "df['t'] = t\n",
    "df.columns = [\"S\",\"I\",\"R\",\"t\"]\n",
    "df"
   ]
  },
  {
   "cell_type": "code",
   "execution_count": 23,
   "id": "67a8b62a",
   "metadata": {},
   "outputs": [
    {
     "ename": "ValueError",
     "evalue": "Mime type rendering requires nbformat>=4.2.0 but it is not installed",
     "output_type": "error",
     "traceback": [
      "\u001b[31m---------------------------------------------------------------------------\u001b[39m",
      "\u001b[31mValueError\u001b[39m                                Traceback (most recent call last)",
      "\u001b[36mFile \u001b[39m\u001b[32m~/Documents/WebCompute/.venv/lib64/python3.13/site-packages/IPython/core/formatters.py:984\u001b[39m, in \u001b[36mIPythonDisplayFormatter.__call__\u001b[39m\u001b[34m(self, obj)\u001b[39m\n\u001b[32m    982\u001b[39m method = get_real_method(obj, \u001b[38;5;28mself\u001b[39m.print_method)\n\u001b[32m    983\u001b[39m \u001b[38;5;28;01mif\u001b[39;00m method \u001b[38;5;129;01mis\u001b[39;00m \u001b[38;5;129;01mnot\u001b[39;00m \u001b[38;5;28;01mNone\u001b[39;00m:\n\u001b[32m--> \u001b[39m\u001b[32m984\u001b[39m     \u001b[43mmethod\u001b[49m\u001b[43m(\u001b[49m\u001b[43m)\u001b[49m\n\u001b[32m    985\u001b[39m     \u001b[38;5;28;01mreturn\u001b[39;00m \u001b[38;5;28;01mTrue\u001b[39;00m\n",
      "\u001b[36mFile \u001b[39m\u001b[32m~/Documents/WebCompute/.venv/lib64/python3.13/site-packages/plotly/basedatatypes.py:846\u001b[39m, in \u001b[36mBaseFigure._ipython_display_\u001b[39m\u001b[34m(self)\u001b[39m\n\u001b[32m    843\u001b[39m \u001b[38;5;28;01mimport\u001b[39;00m\u001b[38;5;250m \u001b[39m\u001b[34;01mplotly\u001b[39;00m\u001b[34;01m.\u001b[39;00m\u001b[34;01mio\u001b[39;00m\u001b[38;5;250m \u001b[39m\u001b[38;5;28;01mas\u001b[39;00m\u001b[38;5;250m \u001b[39m\u001b[34;01mpio\u001b[39;00m\n\u001b[32m    845\u001b[39m \u001b[38;5;28;01mif\u001b[39;00m pio.renderers.render_on_display \u001b[38;5;129;01mand\u001b[39;00m pio.renderers.default:\n\u001b[32m--> \u001b[39m\u001b[32m846\u001b[39m     \u001b[43mpio\u001b[49m\u001b[43m.\u001b[49m\u001b[43mshow\u001b[49m\u001b[43m(\u001b[49m\u001b[38;5;28;43mself\u001b[39;49m\u001b[43m)\u001b[49m\n\u001b[32m    847\u001b[39m \u001b[38;5;28;01melse\u001b[39;00m:\n\u001b[32m    848\u001b[39m     \u001b[38;5;28mprint\u001b[39m(\u001b[38;5;28mrepr\u001b[39m(\u001b[38;5;28mself\u001b[39m))\n",
      "\u001b[36mFile \u001b[39m\u001b[32m~/Documents/WebCompute/.venv/lib64/python3.13/site-packages/plotly/io/_renderers.py:425\u001b[39m, in \u001b[36mshow\u001b[39m\u001b[34m(fig, renderer, validate, **kwargs)\u001b[39m\n\u001b[32m    420\u001b[39m     \u001b[38;5;28;01mraise\u001b[39;00m \u001b[38;5;167;01mValueError\u001b[39;00m(\n\u001b[32m    421\u001b[39m         \u001b[33m\"\u001b[39m\u001b[33mMime type rendering requires ipython but it is not installed\u001b[39m\u001b[33m\"\u001b[39m\n\u001b[32m    422\u001b[39m     )\n\u001b[32m    424\u001b[39m \u001b[38;5;28;01mif\u001b[39;00m \u001b[38;5;129;01mnot\u001b[39;00m nbformat \u001b[38;5;129;01mor\u001b[39;00m Version(nbformat.__version__) < Version(\u001b[33m\"\u001b[39m\u001b[33m4.2.0\u001b[39m\u001b[33m\"\u001b[39m):\n\u001b[32m--> \u001b[39m\u001b[32m425\u001b[39m     \u001b[38;5;28;01mraise\u001b[39;00m \u001b[38;5;167;01mValueError\u001b[39;00m(\n\u001b[32m    426\u001b[39m         \u001b[33m\"\u001b[39m\u001b[33mMime type rendering requires nbformat>=4.2.0 but it is not installed\u001b[39m\u001b[33m\"\u001b[39m\n\u001b[32m    427\u001b[39m     )\n\u001b[32m    429\u001b[39m display_jupyter_version_warnings()\n\u001b[32m    431\u001b[39m ipython_display.display(bundle, raw=\u001b[38;5;28;01mTrue\u001b[39;00m)\n",
      "\u001b[31mValueError\u001b[39m: Mime type rendering requires nbformat>=4.2.0 but it is not installed"
     ]
    },
    {
     "data": {
      "application/vnd.plotly.v1+json": {
       "config": {
        "plotlyServerURL": "https://plot.ly"
       },
       "data": [
        {
         "bingroup": "x",
         "histfunc": "avg",
         "hovertemplate": "variable=S<br>t=%{x}<br>avg of value=%{y}<extra></extra>",
         "legendgroup": "S",
         "marker": {
          "color": "#636efa",
          "pattern": {
           "shape": ""
          }
         },
         "name": "S",
         "nbinsx": 101,
         "orientation": "v",
         "showlegend": true,
         "type": "histogram",
         "x": {
          "bdata": "AAAAAAAAAACamZmZmZm5P5qZmZmZmck/NDMzMzMz0z+amZmZmZnZPwAAAAAAAOA/NDMzMzMz4z9nZmZmZmbmP5qZmZmZmek/zczMzMzM7D8AAAAAAADwP5qZmZmZmfE/NDMzMzMz8z/NzMzMzMz0P2dmZmZmZvY/AAAAAAAA+D+amZmZmZn5PzQzMzMzM/s/zczMzMzM/D9nZmZmZmb+PwAAAAAAAABAzczMzMzMAECamZmZmZkBQGdmZmZmZgJANDMzMzMzA0AAAAAAAAAEQM3MzMzMzARAmpmZmZmZBUBnZmZmZmYGQDQzMzMzMwdAAAAAAAAACEDNzMzMzMwIQJqZmZmZmQlAZ2ZmZmZmCkA0MzMzMzMLQAAAAAAAAAxAzczMzMzMDECamZmZmZkNQGdmZmZmZg5ANDMzMzMzD0AAAAAAAAAQQGdmZmZmZhBAzczMzMzMEEAzMzMzMzMRQJqZmZmZmRFAAAAAAAAAEkBnZmZmZmYSQM3MzMzMzBJANDMzMzMzE0CamZmZmZkTQAAAAAAAABRAZ2ZmZmZmFEDNzMzMzMwUQDQzMzMzMxVAmpmZmZmZFUAAAAAAAAAWQGdmZmZmZhZAzczMzMzMFkA0MzMzMzMXQJqZmZmZmRdAAAAAAAAAGEBnZmZmZmYYQM3MzMzMzBhANDMzMzMzGUCamZmZmZkZQAAAAAAAABpAZ2ZmZmZmGkDNzMzMzMwaQDQzMzMzMxtAmpmZmZmZG0AAAAAAAAAcQGdmZmZmZhxAzczMzMzMHEA0MzMzMzMdQJqZmZmZmR1AAAAAAAAAHkBnZmZmZmYeQM3MzMzMzB5ANDMzMzMzH0CamZmZmZkfQAAAAAAAACBAMzMzMzMzIEBnZmZmZmYgQJqZmZmZmSBAzczMzMzMIEAAAAAAAAAhQDMzMzMzMyFAZ2ZmZmZmIUCamZmZmZkhQM3MzMzMzCFAAAAAAAAAIkAzMzMzMzMiQGdmZmZmZiJAmpmZmZmZIkDNzMzMzMwiQAAAAAAAACNANDMzMzMzI0BnZmZmZmYjQJqZmZmZmSNAzczMzMzMI0AAAAAAAAAkQA==",
          "dtype": "f8"
         },
         "xaxis": "x",
         "y": {
          "bdata": "AAAAAAAAWUAPRYO5R9dYQEcHTCiZlVhAhccRDcEsWECh/t3SKIhXQNShHkdljFZASkFpdzcaVUCAvMskYBhTQFsPUttQhVBAEgMA+TQRS0DbfKhTyeNEQD9/trtKbz5AVeiZhjYYNUCgZN+J1yIsQI4CCOQlQiJAEDCis1NGF0D7TrkQ7FcNQPsYP/rHYQJA7w/ob5L19j8pZ3kCTqXsP+QQEqi+3+E/3IlOr2FV2z/ciU6vYVXbP9yJTq9hVds/3IlOr2FV2z/ciU6vYVXbP9yJTq9hVds/3IlOr2FV2z/ciU6vYVXbP9yJTq9hVds/3IlOr2FV2z/ciU6vYVXbP9yJTq9hVds/3IlOr2FV2z/ciU6vYVXbP9yJTq9hVds/3IlOr2FV2z/ciU6vYVXbP9yJTq9hVds/3IlOr2FV2z/ciU6vYVXbP9yJTq9hVds/3IlOr2FV2z/ciU6vYVXbP9yJTq9hVds/3IlOr2FV2z/ciU6vYVXbP9yJTq9hVds/3IlOr2FV2z/ciU6vYVXbP9yJTq9hVds/3IlOr2FV2z/ciU6vYVXbP9yJTq9hVds/3IlOr2FV2z/ciU6vYVXbP9yJTq9hVds/3IlOr2FV2z/ciU6vYVXbP9yJTq9hVds/3IlOr2FV2z/ciU6vYVXbP9yJTq9hVds/3IlOr2FV2z/ciU6vYVXbP9yJTq9hVds/3IlOr2FV2z/ciU6vYVXbP9yJTq9hVds/3IlOr2FV2z/ciU6vYVXbP9yJTq9hVds/3IlOr2FV2z/ciU6vYVXbP9yJTq9hVds/3IlOr2FV2z/ciU6vYVXbP9yJTq9hVds/3IlOr2FV2z/ciU6vYVXbP9yJTq9hVds/3IlOr2FV2z/ciU6vYVXbP9yJTq9hVds/3IlOr2FV2z/ciU6vYVXbP9yJTq9hVds/3IlOr2FV2z/ciU6vYVXbP9yJTq9hVds/3IlOr2FV2z/ciU6vYVXbP9yJTq9hVds/3IlOr2FV2z/ciU6vYVXbP9yJTq9hVds/3IlOr2FV2z/ciU6vYVXbP9yJTq9hVds/3IlOr2FV2z/ciU6vYVXbPw==",
          "dtype": "f8"
         },
         "yaxis": "y"
        },
        {
         "bingroup": "x",
         "histfunc": "avg",
         "hovertemplate": "variable=I<br>t=%{x}<br>avg of value=%{y}<extra></extra>",
         "legendgroup": "I",
         "marker": {
          "color": "#EF553B",
          "pattern": {
           "shape": ""
          }
         },
         "name": "I",
         "nbinsx": 101,
         "orientation": "v",
         "showlegend": true,
         "type": "histogram",
         "x": {
          "bdata": "AAAAAAAAAACamZmZmZm5P5qZmZmZmck/NDMzMzMz0z+amZmZmZnZPwAAAAAAAOA/NDMzMzMz4z9nZmZmZmbmP5qZmZmZmek/zczMzMzM7D8AAAAAAADwP5qZmZmZmfE/NDMzMzMz8z/NzMzMzMz0P2dmZmZmZvY/AAAAAAAA+D+amZmZmZn5PzQzMzMzM/s/zczMzMzM/D9nZmZmZmb+PwAAAAAAAABAzczMzMzMAECamZmZmZkBQGdmZmZmZgJANDMzMzMzA0AAAAAAAAAEQM3MzMzMzARAmpmZmZmZBUBnZmZmZmYGQDQzMzMzMwdAAAAAAAAACEDNzMzMzMwIQJqZmZmZmQlAZ2ZmZmZmCkA0MzMzMzMLQAAAAAAAAAxAzczMzMzMDECamZmZmZkNQGdmZmZmZg5ANDMzMzMzD0AAAAAAAAAQQGdmZmZmZhBAzczMzMzMEEAzMzMzMzMRQJqZmZmZmRFAAAAAAAAAEkBnZmZmZmYSQM3MzMzMzBJANDMzMzMzE0CamZmZmZkTQAAAAAAAABRAZ2ZmZmZmFEDNzMzMzMwUQDQzMzMzMxVAmpmZmZmZFUAAAAAAAAAWQGdmZmZmZhZAzczMzMzMFkA0MzMzMzMXQJqZmZmZmRdAAAAAAAAAGEBnZmZmZmYYQM3MzMzMzBhANDMzMzMzGUCamZmZmZkZQAAAAAAAABpAZ2ZmZmZmGkDNzMzMzMwaQDQzMzMzMxtAmpmZmZmZG0AAAAAAAAAcQGdmZmZmZhxAzczMzMzMHEA0MzMzMzMdQJqZmZmZmR1AAAAAAAAAHkBnZmZmZmYeQM3MzMzMzB5ANDMzMzMzH0CamZmZmZkfQAAAAAAAACBAMzMzMzMzIEBnZmZmZmYgQJqZmZmZmSBAzczMzMzMIEAAAAAAAAAhQDMzMzMzMyFAZ2ZmZmZmIUCamZmZmZkhQM3MzMzMzCFAAAAAAAAAIkAzMzMzMzMiQGdmZmZmZiJAmpmZmZmZIkDNzMzMzMwiQAAAAAAAACNANDMzMzMzI0BnZmZmZmYjQJqZmZmZmSNAzczMzMzMI0AAAAAAAAAkQA==",
          "dtype": "f8"
         },
         "xaxis": "x",
         "y": {
          "bdata": "AAAAAAAA8D9Sh02y7BP6P8z0DyGFKgVAWPsUV5AREUDiWE5feT8bQAyOYSb9ZyVAJHqI5L1rMEBeRN9OhFk4QCkvP99WQEFASB1h7DsgR0CWmNRRfixNQMRJ+gMKWFFA/kZ2WliWU0CvNC/yGz5VQH6ogXqCXlZAqlRU+ooVV0Dcz5tapIFXQHk3KDBiu1dAeFb39HPUV0AQg/zax9hXQISS0pse0FdA8sn57Wa6V0Ce8H2zZ5xXQFPPDGWOfldAiIq10tpgV0D84cPMTENXQBzkvyPkJVdAvaFtqKAIV0BH4swrgutWQDTYGH+IzlZA9NXHc7OxVkAqA4vbApVWQFMSToh2eFZAvfY2TA5cVkDmmqX5yT9WQDGXM2OpI1ZAAemzW6wHVkAkqjK20utVQKLI9EUc0FVA6L533oi0VUBHTHFTGJlVQNEtz3jKfVVAlte2Ip9iVUAwLoUllkdVQK1AzlWvLFVA1AJdiOoRVUC9BzOSR/dUQMU8iEjG3FRA1qTKgGbCVEAKFJ4QKKhUQKDr280KjlRAS9aSjg50VEDQhAYpM1pUQANrr3N4QFRAEn06Rd4mVEAl7Yh0ZA1UQE/pr9gK9FNA3ln4SNHaU0Dxn96ct8FTQGhUEqy9qFNAIQd2TuOPU0CO/h5cKHdTQJf3VK2MXlNAz+WRGhBGU0D2s4F8si1TQNIEAqxzFVNAVPQhglP9UkAO2SHYUeVSQPIFc4duzVJAaIy3aam1UkCw/sFYAp5SQI0ylS55hlJAQgRkxQ1vUkDhGZH3v1dSQNmmrp+PQFJA3C9+mHwpUkAQT/C8hhJSQIV4JOit+1FA/L5o9fHkUUD3mDnAUs5RQBWmQSTQt1FAtXRZ/WmhUUDnR4cnIItRQJ7d/n7ydFFAOzUh4OBeUUBPVnwn60hRQLAXyzERM1FA0+b021IdUUBsjw0DsAdRQFgDVYQo8lBA0CI3PbzcUEDZhEsLa8dQQAZAVcw0slBAerNCXhmdUEAsUC2fGIhQQHdiWW0yc1BA79s1p2ZeUEBwHVwrtUlQQIDBj9gdNVBA6ma+jaAgUECje/8pPQxQQA==",
          "dtype": "f8"
         },
         "yaxis": "y"
        },
        {
         "bingroup": "x",
         "histfunc": "avg",
         "hovertemplate": "variable=R<br>t=%{x}<br>avg of value=%{y}<extra></extra>",
         "legendgroup": "R",
         "marker": {
          "color": "#00cc96",
          "pattern": {
           "shape": ""
          }
         },
         "name": "R",
         "nbinsx": 101,
         "orientation": "v",
         "showlegend": true,
         "type": "histogram",
         "x": {
          "bdata": "AAAAAAAAAACamZmZmZm5P5qZmZmZmck/NDMzMzMz0z+amZmZmZnZPwAAAAAAAOA/NDMzMzMz4z9nZmZmZmbmP5qZmZmZmek/zczMzMzM7D8AAAAAAADwP5qZmZmZmfE/NDMzMzMz8z/NzMzMzMz0P2dmZmZmZvY/AAAAAAAA+D+amZmZmZn5PzQzMzMzM/s/zczMzMzM/D9nZmZmZmb+PwAAAAAAAABAzczMzMzMAECamZmZmZkBQGdmZmZmZgJANDMzMzMzA0AAAAAAAAAEQM3MzMzMzARAmpmZmZmZBUBnZmZmZmYGQDQzMzMzMwdAAAAAAAAACEDNzMzMzMwIQJqZmZmZmQlAZ2ZmZmZmCkA0MzMzMzMLQAAAAAAAAAxAzczMzMzMDECamZmZmZkNQGdmZmZmZg5ANDMzMzMzD0AAAAAAAAAQQGdmZmZmZhBAzczMzMzMEEAzMzMzMzMRQJqZmZmZmRFAAAAAAAAAEkBnZmZmZmYSQM3MzMzMzBJANDMzMzMzE0CamZmZmZkTQAAAAAAAABRAZ2ZmZmZmFEDNzMzMzMwUQDQzMzMzMxVAmpmZmZmZFUAAAAAAAAAWQGdmZmZmZhZAzczMzMzMFkA0MzMzMzMXQJqZmZmZmRdAAAAAAAAAGEBnZmZmZmYYQM3MzMzMzBhANDMzMzMzGUCamZmZmZkZQAAAAAAAABpAZ2ZmZmZmGkDNzMzMzMwaQDQzMzMzMxtAmpmZmZmZG0AAAAAAAAAcQGdmZmZmZhxAzczMzMzMHEA0MzMzMzMdQJqZmZmZmR1AAAAAAAAAHkBnZmZmZmYeQM3MzMzMzB5ANDMzMzMzH0CamZmZmZkfQAAAAAAAACBAMzMzMzMzIEBnZmZmZmYgQJqZmZmZmSBAzczMzMzMIEAAAAAAAAAhQDMzMzMzMyFAZ2ZmZmZmIUCamZmZmZkhQM3MzMzMzCFAAAAAAAAAIkAzMzMzMzMiQGdmZmZmZiJAmpmZmZmZIkDNzMzMzMwiQAAAAAAAACNANDMzMzMzI0BnZmZmZmYjQJqZmZmZmSNAzczMzMzMI0AAAAAAAAAkQA==",
          "dtype": "f8"
         },
         "xaxis": "x",
         "y": {
          "bdata": "AAAAAAAAAAAOyDTh7CR6PwkskbfqKpE/fzFG52svoT8rkN5oufyuPxyvsVRQbLo/n1tA6R6yxT+0aHJ8xz7RP/gQWQ61g9o/Auq3p8aj4z8spLqgFu7rPyubBUbTCPM/Q7vP+IDm+D9CrzclR2L/Pw7mqh8ZJwNApwoxTvnBBkCgtcybiHMKQAD4uQDyMQ5AhZSQFFz7EEApouiP2N4SQLeV1G0ewhRARnhuBTukFkCKDSytLoQYQDwiPpTDYRpA7G6yufw8HECc98wY3RUeQKfVDKln7B9AzX0Yr0/gIEB9eR6UQ8khQBXKvvkQsSJAHNxGVLmXI0Bqci0WPn0kQCT5FLCgYSVA19XNkOJEJkCWtFglBScnQDvS6NgJCChAvEPmFPLnKECoOvBAv8YpQLVG38JypCpAh5TH/g2BK0CYKftWklwsQEUdDCwBNy1AG8/O3FsQLkBLGlzGo+guQGKGE0Tavy9AlrrOVwBLMEDzpnYwjLUwQNfSIVeRHzFAkzIYdhCJMUDDdco2CvIxQGkX00F/WjJAwGz3PnDCMkCrsijV3SkzQNsZharIkDNAnNFYZDH3M0BUER+nGF00QKoggxZ/wjRAbF5hVWUnNUAdRsgFzIs1QEJ0+ciz7zVAXalqPx1TNkCny8YICbY2QILn7sN3GDdApy77Dmp6N0AO9juH4Ns3QJ2yOsnbPDhAkfS6cFydOECoYbsYY/04QBmudlvwXDlAP5Rk0gS8OUAhyzoWoRo6QK/77b7FeDpA1rSyY3PWOkBZXv6aqjM7QHoqiPprkDtAawZKF7jsO0CaiYGFj0g8QMbjsNjyozxA6smfo+L+PED9YVx4X1k9QIYtPOhpsz1ABvPcgwINPkBDpiXbKWY+QGRPR33gvj5A7/C9+CYXP0CdbFHb/W4/QBhnFrJlxj9ARpW3hK8OQEAURIY29TlAQDpc9zMEZUBASx0zwtyPQEA5WQomf7pAQN7i9qPr5EBA9/sbgCIPQUCUwkb+IzlBQP6d7mHwYkFAEKs17oeMQUAOKOnl6rVBQOzfgYsZ30FAFZUkIRQIQkCla6Lo2jBCQA==",
          "dtype": "f8"
         },
         "yaxis": "y"
        }
       ],
       "layout": {
        "barmode": "stack",
        "legend": {
         "title": {
          "text": "variable"
         },
         "tracegroupgap": 0
        },
        "margin": {
         "t": 60
        },
        "template": {
         "data": {
          "bar": [
           {
            "error_x": {
             "color": "#2a3f5f"
            },
            "error_y": {
             "color": "#2a3f5f"
            },
            "marker": {
             "line": {
              "color": "#E5ECF6",
              "width": 0.5
             },
             "pattern": {
              "fillmode": "overlay",
              "size": 10,
              "solidity": 0.2
             }
            },
            "type": "bar"
           }
          ],
          "barpolar": [
           {
            "marker": {
             "line": {
              "color": "#E5ECF6",
              "width": 0.5
             },
             "pattern": {
              "fillmode": "overlay",
              "size": 10,
              "solidity": 0.2
             }
            },
            "type": "barpolar"
           }
          ],
          "carpet": [
           {
            "aaxis": {
             "endlinecolor": "#2a3f5f",
             "gridcolor": "white",
             "linecolor": "white",
             "minorgridcolor": "white",
             "startlinecolor": "#2a3f5f"
            },
            "baxis": {
             "endlinecolor": "#2a3f5f",
             "gridcolor": "white",
             "linecolor": "white",
             "minorgridcolor": "white",
             "startlinecolor": "#2a3f5f"
            },
            "type": "carpet"
           }
          ],
          "choropleth": [
           {
            "colorbar": {
             "outlinewidth": 0,
             "ticks": ""
            },
            "type": "choropleth"
           }
          ],
          "contour": [
           {
            "colorbar": {
             "outlinewidth": 0,
             "ticks": ""
            },
            "colorscale": [
             [
              0,
              "#0d0887"
             ],
             [
              0.1111111111111111,
              "#46039f"
             ],
             [
              0.2222222222222222,
              "#7201a8"
             ],
             [
              0.3333333333333333,
              "#9c179e"
             ],
             [
              0.4444444444444444,
              "#bd3786"
             ],
             [
              0.5555555555555556,
              "#d8576b"
             ],
             [
              0.6666666666666666,
              "#ed7953"
             ],
             [
              0.7777777777777778,
              "#fb9f3a"
             ],
             [
              0.8888888888888888,
              "#fdca26"
             ],
             [
              1,
              "#f0f921"
             ]
            ],
            "type": "contour"
           }
          ],
          "contourcarpet": [
           {
            "colorbar": {
             "outlinewidth": 0,
             "ticks": ""
            },
            "type": "contourcarpet"
           }
          ],
          "heatmap": [
           {
            "colorbar": {
             "outlinewidth": 0,
             "ticks": ""
            },
            "colorscale": [
             [
              0,
              "#0d0887"
             ],
             [
              0.1111111111111111,
              "#46039f"
             ],
             [
              0.2222222222222222,
              "#7201a8"
             ],
             [
              0.3333333333333333,
              "#9c179e"
             ],
             [
              0.4444444444444444,
              "#bd3786"
             ],
             [
              0.5555555555555556,
              "#d8576b"
             ],
             [
              0.6666666666666666,
              "#ed7953"
             ],
             [
              0.7777777777777778,
              "#fb9f3a"
             ],
             [
              0.8888888888888888,
              "#fdca26"
             ],
             [
              1,
              "#f0f921"
             ]
            ],
            "type": "heatmap"
           }
          ],
          "histogram": [
           {
            "marker": {
             "pattern": {
              "fillmode": "overlay",
              "size": 10,
              "solidity": 0.2
             }
            },
            "type": "histogram"
           }
          ],
          "histogram2d": [
           {
            "colorbar": {
             "outlinewidth": 0,
             "ticks": ""
            },
            "colorscale": [
             [
              0,
              "#0d0887"
             ],
             [
              0.1111111111111111,
              "#46039f"
             ],
             [
              0.2222222222222222,
              "#7201a8"
             ],
             [
              0.3333333333333333,
              "#9c179e"
             ],
             [
              0.4444444444444444,
              "#bd3786"
             ],
             [
              0.5555555555555556,
              "#d8576b"
             ],
             [
              0.6666666666666666,
              "#ed7953"
             ],
             [
              0.7777777777777778,
              "#fb9f3a"
             ],
             [
              0.8888888888888888,
              "#fdca26"
             ],
             [
              1,
              "#f0f921"
             ]
            ],
            "type": "histogram2d"
           }
          ],
          "histogram2dcontour": [
           {
            "colorbar": {
             "outlinewidth": 0,
             "ticks": ""
            },
            "colorscale": [
             [
              0,
              "#0d0887"
             ],
             [
              0.1111111111111111,
              "#46039f"
             ],
             [
              0.2222222222222222,
              "#7201a8"
             ],
             [
              0.3333333333333333,
              "#9c179e"
             ],
             [
              0.4444444444444444,
              "#bd3786"
             ],
             [
              0.5555555555555556,
              "#d8576b"
             ],
             [
              0.6666666666666666,
              "#ed7953"
             ],
             [
              0.7777777777777778,
              "#fb9f3a"
             ],
             [
              0.8888888888888888,
              "#fdca26"
             ],
             [
              1,
              "#f0f921"
             ]
            ],
            "type": "histogram2dcontour"
           }
          ],
          "mesh3d": [
           {
            "colorbar": {
             "outlinewidth": 0,
             "ticks": ""
            },
            "type": "mesh3d"
           }
          ],
          "parcoords": [
           {
            "line": {
             "colorbar": {
              "outlinewidth": 0,
              "ticks": ""
             }
            },
            "type": "parcoords"
           }
          ],
          "pie": [
           {
            "automargin": true,
            "type": "pie"
           }
          ],
          "scatter": [
           {
            "fillpattern": {
             "fillmode": "overlay",
             "size": 10,
             "solidity": 0.2
            },
            "type": "scatter"
           }
          ],
          "scatter3d": [
           {
            "line": {
             "colorbar": {
              "outlinewidth": 0,
              "ticks": ""
             }
            },
            "marker": {
             "colorbar": {
              "outlinewidth": 0,
              "ticks": ""
             }
            },
            "type": "scatter3d"
           }
          ],
          "scattercarpet": [
           {
            "marker": {
             "colorbar": {
              "outlinewidth": 0,
              "ticks": ""
             }
            },
            "type": "scattercarpet"
           }
          ],
          "scattergeo": [
           {
            "marker": {
             "colorbar": {
              "outlinewidth": 0,
              "ticks": ""
             }
            },
            "type": "scattergeo"
           }
          ],
          "scattergl": [
           {
            "marker": {
             "colorbar": {
              "outlinewidth": 0,
              "ticks": ""
             }
            },
            "type": "scattergl"
           }
          ],
          "scattermap": [
           {
            "marker": {
             "colorbar": {
              "outlinewidth": 0,
              "ticks": ""
             }
            },
            "type": "scattermap"
           }
          ],
          "scattermapbox": [
           {
            "marker": {
             "colorbar": {
              "outlinewidth": 0,
              "ticks": ""
             }
            },
            "type": "scattermapbox"
           }
          ],
          "scatterpolar": [
           {
            "marker": {
             "colorbar": {
              "outlinewidth": 0,
              "ticks": ""
             }
            },
            "type": "scatterpolar"
           }
          ],
          "scatterpolargl": [
           {
            "marker": {
             "colorbar": {
              "outlinewidth": 0,
              "ticks": ""
             }
            },
            "type": "scatterpolargl"
           }
          ],
          "scatterternary": [
           {
            "marker": {
             "colorbar": {
              "outlinewidth": 0,
              "ticks": ""
             }
            },
            "type": "scatterternary"
           }
          ],
          "surface": [
           {
            "colorbar": {
             "outlinewidth": 0,
             "ticks": ""
            },
            "colorscale": [
             [
              0,
              "#0d0887"
             ],
             [
              0.1111111111111111,
              "#46039f"
             ],
             [
              0.2222222222222222,
              "#7201a8"
             ],
             [
              0.3333333333333333,
              "#9c179e"
             ],
             [
              0.4444444444444444,
              "#bd3786"
             ],
             [
              0.5555555555555556,
              "#d8576b"
             ],
             [
              0.6666666666666666,
              "#ed7953"
             ],
             [
              0.7777777777777778,
              "#fb9f3a"
             ],
             [
              0.8888888888888888,
              "#fdca26"
             ],
             [
              1,
              "#f0f921"
             ]
            ],
            "type": "surface"
           }
          ],
          "table": [
           {
            "cells": {
             "fill": {
              "color": "#EBF0F8"
             },
             "line": {
              "color": "white"
             }
            },
            "header": {
             "fill": {
              "color": "#C8D4E3"
             },
             "line": {
              "color": "white"
             }
            },
            "type": "table"
           }
          ]
         },
         "layout": {
          "annotationdefaults": {
           "arrowcolor": "#2a3f5f",
           "arrowhead": 0,
           "arrowwidth": 1
          },
          "autotypenumbers": "strict",
          "coloraxis": {
           "colorbar": {
            "outlinewidth": 0,
            "ticks": ""
           }
          },
          "colorscale": {
           "diverging": [
            [
             0,
             "#8e0152"
            ],
            [
             0.1,
             "#c51b7d"
            ],
            [
             0.2,
             "#de77ae"
            ],
            [
             0.3,
             "#f1b6da"
            ],
            [
             0.4,
             "#fde0ef"
            ],
            [
             0.5,
             "#f7f7f7"
            ],
            [
             0.6,
             "#e6f5d0"
            ],
            [
             0.7,
             "#b8e186"
            ],
            [
             0.8,
             "#7fbc41"
            ],
            [
             0.9,
             "#4d9221"
            ],
            [
             1,
             "#276419"
            ]
           ],
           "sequential": [
            [
             0,
             "#0d0887"
            ],
            [
             0.1111111111111111,
             "#46039f"
            ],
            [
             0.2222222222222222,
             "#7201a8"
            ],
            [
             0.3333333333333333,
             "#9c179e"
            ],
            [
             0.4444444444444444,
             "#bd3786"
            ],
            [
             0.5555555555555556,
             "#d8576b"
            ],
            [
             0.6666666666666666,
             "#ed7953"
            ],
            [
             0.7777777777777778,
             "#fb9f3a"
            ],
            [
             0.8888888888888888,
             "#fdca26"
            ],
            [
             1,
             "#f0f921"
            ]
           ],
           "sequentialminus": [
            [
             0,
             "#0d0887"
            ],
            [
             0.1111111111111111,
             "#46039f"
            ],
            [
             0.2222222222222222,
             "#7201a8"
            ],
            [
             0.3333333333333333,
             "#9c179e"
            ],
            [
             0.4444444444444444,
             "#bd3786"
            ],
            [
             0.5555555555555556,
             "#d8576b"
            ],
            [
             0.6666666666666666,
             "#ed7953"
            ],
            [
             0.7777777777777778,
             "#fb9f3a"
            ],
            [
             0.8888888888888888,
             "#fdca26"
            ],
            [
             1,
             "#f0f921"
            ]
           ]
          },
          "colorway": [
           "#636efa",
           "#EF553B",
           "#00cc96",
           "#ab63fa",
           "#FFA15A",
           "#19d3f3",
           "#FF6692",
           "#B6E880",
           "#FF97FF",
           "#FECB52"
          ],
          "font": {
           "color": "#2a3f5f"
          },
          "geo": {
           "bgcolor": "white",
           "lakecolor": "white",
           "landcolor": "#E5ECF6",
           "showlakes": true,
           "showland": true,
           "subunitcolor": "white"
          },
          "hoverlabel": {
           "align": "left"
          },
          "hovermode": "closest",
          "mapbox": {
           "style": "light"
          },
          "paper_bgcolor": "white",
          "plot_bgcolor": "#E5ECF6",
          "polar": {
           "angularaxis": {
            "gridcolor": "white",
            "linecolor": "white",
            "ticks": ""
           },
           "bgcolor": "#E5ECF6",
           "radialaxis": {
            "gridcolor": "white",
            "linecolor": "white",
            "ticks": ""
           }
          },
          "scene": {
           "xaxis": {
            "backgroundcolor": "#E5ECF6",
            "gridcolor": "white",
            "gridwidth": 2,
            "linecolor": "white",
            "showbackground": true,
            "ticks": "",
            "zerolinecolor": "white"
           },
           "yaxis": {
            "backgroundcolor": "#E5ECF6",
            "gridcolor": "white",
            "gridwidth": 2,
            "linecolor": "white",
            "showbackground": true,
            "ticks": "",
            "zerolinecolor": "white"
           },
           "zaxis": {
            "backgroundcolor": "#E5ECF6",
            "gridcolor": "white",
            "gridwidth": 2,
            "linecolor": "white",
            "showbackground": true,
            "ticks": "",
            "zerolinecolor": "white"
           }
          },
          "shapedefaults": {
           "line": {
            "color": "#2a3f5f"
           }
          },
          "ternary": {
           "aaxis": {
            "gridcolor": "white",
            "linecolor": "white",
            "ticks": ""
           },
           "baxis": {
            "gridcolor": "white",
            "linecolor": "white",
            "ticks": ""
           },
           "bgcolor": "#E5ECF6",
           "caxis": {
            "gridcolor": "white",
            "linecolor": "white",
            "ticks": ""
           }
          },
          "title": {
           "x": 0.05
          },
          "xaxis": {
           "automargin": true,
           "gridcolor": "white",
           "linecolor": "white",
           "ticks": "",
           "title": {
            "standoff": 15
           },
           "zerolinecolor": "white",
           "zerolinewidth": 2
          },
          "yaxis": {
           "automargin": true,
           "gridcolor": "white",
           "linecolor": "white",
           "ticks": "",
           "title": {
            "standoff": 15
           },
           "zerolinecolor": "white",
           "zerolinewidth": 2
          }
         }
        },
        "xaxis": {
         "anchor": "y",
         "domain": [
          0,
          1
         ],
         "title": {
          "text": "t"
         }
        },
        "yaxis": {
         "anchor": "x",
         "domain": [
          0,
          1
         ],
         "title": {
          "text": "avg of value"
         }
        }
       }
      },
      "text/html": [
       "<div>                        <script type=\"text/javascript\">window.PlotlyConfig = {MathJaxConfig: 'local'};</script>\n",
       "        <script charset=\"utf-8\" src=\"https://cdn.plot.ly/plotly-3.0.1.min.js\"></script>                <div id=\"05c2d6dc-80cb-42d2-9a96-1c23c381dd1a\" class=\"plotly-graph-div\" style=\"height:100%; width:100%;\"></div>            <script type=\"text/javascript\">                window.PLOTLYENV=window.PLOTLYENV || {};                                if (document.getElementById(\"05c2d6dc-80cb-42d2-9a96-1c23c381dd1a\")) {                    Plotly.newPlot(                        \"05c2d6dc-80cb-42d2-9a96-1c23c381dd1a\",                        [{\"bingroup\":\"x\",\"histfunc\":\"avg\",\"hovertemplate\":\"variable=S\\u003cbr\\u003et=%{x}\\u003cbr\\u003eavg of value=%{y}\\u003cextra\\u003e\\u003c\\u002fextra\\u003e\",\"legendgroup\":\"S\",\"marker\":{\"color\":\"#636efa\",\"pattern\":{\"shape\":\"\"}},\"name\":\"S\",\"nbinsx\":101,\"orientation\":\"v\",\"showlegend\":true,\"x\":{\"dtype\":\"f8\",\"bdata\":\"AAAAAAAAAACamZmZmZm5P5qZmZmZmck\\u002fNDMzMzMz0z+amZmZmZnZPwAAAAAAAOA\\u002fNDMzMzMz4z9nZmZmZmbmP5qZmZmZmek\\u002fzczMzMzM7D8AAAAAAADwP5qZmZmZmfE\\u002fNDMzMzMz8z\\u002fNzMzMzMz0P2dmZmZmZvY\\u002fAAAAAAAA+D+amZmZmZn5PzQzMzMzM\\u002fs\\u002fzczMzMzM\\u002fD9nZmZmZmb+PwAAAAAAAABAzczMzMzMAECamZmZmZkBQGdmZmZmZgJANDMzMzMzA0AAAAAAAAAEQM3MzMzMzARAmpmZmZmZBUBnZmZmZmYGQDQzMzMzMwdAAAAAAAAACEDNzMzMzMwIQJqZmZmZmQlAZ2ZmZmZmCkA0MzMzMzMLQAAAAAAAAAxAzczMzMzMDECamZmZmZkNQGdmZmZmZg5ANDMzMzMzD0AAAAAAAAAQQGdmZmZmZhBAzczMzMzMEEAzMzMzMzMRQJqZmZmZmRFAAAAAAAAAEkBnZmZmZmYSQM3MzMzMzBJANDMzMzMzE0CamZmZmZkTQAAAAAAAABRAZ2ZmZmZmFEDNzMzMzMwUQDQzMzMzMxVAmpmZmZmZFUAAAAAAAAAWQGdmZmZmZhZAzczMzMzMFkA0MzMzMzMXQJqZmZmZmRdAAAAAAAAAGEBnZmZmZmYYQM3MzMzMzBhANDMzMzMzGUCamZmZmZkZQAAAAAAAABpAZ2ZmZmZmGkDNzMzMzMwaQDQzMzMzMxtAmpmZmZmZG0AAAAAAAAAcQGdmZmZmZhxAzczMzMzMHEA0MzMzMzMdQJqZmZmZmR1AAAAAAAAAHkBnZmZmZmYeQM3MzMzMzB5ANDMzMzMzH0CamZmZmZkfQAAAAAAAACBAMzMzMzMzIEBnZmZmZmYgQJqZmZmZmSBAzczMzMzMIEAAAAAAAAAhQDMzMzMzMyFAZ2ZmZmZmIUCamZmZmZkhQM3MzMzMzCFAAAAAAAAAIkAzMzMzMzMiQGdmZmZmZiJAmpmZmZmZIkDNzMzMzMwiQAAAAAAAACNANDMzMzMzI0BnZmZmZmYjQJqZmZmZmSNAzczMzMzMI0AAAAAAAAAkQA==\"},\"xaxis\":\"x\",\"y\":{\"dtype\":\"f8\",\"bdata\":\"AAAAAAAAWUAPRYO5R9dYQEcHTCiZlVhAhccRDcEsWECh\\u002ft3SKIhXQNShHkdljFZASkFpdzcaVUCAvMskYBhTQFsPUttQhVBAEgMA+TQRS0DbfKhTyeNEQD9\\u002ftrtKbz5AVeiZhjYYNUCgZN+J1yIsQI4CCOQlQiJAEDCis1NGF0D7TrkQ7FcNQPsYP\\u002frHYQJA7w\\u002fob5L19j8pZ3kCTqXsP+QQEqi+3+E\\u002f3IlOr2FV2z\\u002fciU6vYVXbP9yJTq9hVds\\u002f3IlOr2FV2z\\u002fciU6vYVXbP9yJTq9hVds\\u002f3IlOr2FV2z\\u002fciU6vYVXbP9yJTq9hVds\\u002f3IlOr2FV2z\\u002fciU6vYVXbP9yJTq9hVds\\u002f3IlOr2FV2z\\u002fciU6vYVXbP9yJTq9hVds\\u002f3IlOr2FV2z\\u002fciU6vYVXbP9yJTq9hVds\\u002f3IlOr2FV2z\\u002fciU6vYVXbP9yJTq9hVds\\u002f3IlOr2FV2z\\u002fciU6vYVXbP9yJTq9hVds\\u002f3IlOr2FV2z\\u002fciU6vYVXbP9yJTq9hVds\\u002f3IlOr2FV2z\\u002fciU6vYVXbP9yJTq9hVds\\u002f3IlOr2FV2z\\u002fciU6vYVXbP9yJTq9hVds\\u002f3IlOr2FV2z\\u002fciU6vYVXbP9yJTq9hVds\\u002f3IlOr2FV2z\\u002fciU6vYVXbP9yJTq9hVds\\u002f3IlOr2FV2z\\u002fciU6vYVXbP9yJTq9hVds\\u002f3IlOr2FV2z\\u002fciU6vYVXbP9yJTq9hVds\\u002f3IlOr2FV2z\\u002fciU6vYVXbP9yJTq9hVds\\u002f3IlOr2FV2z\\u002fciU6vYVXbP9yJTq9hVds\\u002f3IlOr2FV2z\\u002fciU6vYVXbP9yJTq9hVds\\u002f3IlOr2FV2z\\u002fciU6vYVXbP9yJTq9hVds\\u002f3IlOr2FV2z\\u002fciU6vYVXbP9yJTq9hVds\\u002f3IlOr2FV2z\\u002fciU6vYVXbP9yJTq9hVds\\u002f3IlOr2FV2z\\u002fciU6vYVXbP9yJTq9hVds\\u002f3IlOr2FV2z\\u002fciU6vYVXbP9yJTq9hVds\\u002f3IlOr2FV2z\\u002fciU6vYVXbP9yJTq9hVds\\u002f3IlOr2FV2z\\u002fciU6vYVXbP9yJTq9hVds\\u002f3IlOr2FV2z\\u002fciU6vYVXbP9yJTq9hVds\\u002f3IlOr2FV2z\\u002fciU6vYVXbPw==\"},\"yaxis\":\"y\",\"type\":\"histogram\"},{\"bingroup\":\"x\",\"histfunc\":\"avg\",\"hovertemplate\":\"variable=I\\u003cbr\\u003et=%{x}\\u003cbr\\u003eavg of value=%{y}\\u003cextra\\u003e\\u003c\\u002fextra\\u003e\",\"legendgroup\":\"I\",\"marker\":{\"color\":\"#EF553B\",\"pattern\":{\"shape\":\"\"}},\"name\":\"I\",\"nbinsx\":101,\"orientation\":\"v\",\"showlegend\":true,\"x\":{\"dtype\":\"f8\",\"bdata\":\"AAAAAAAAAACamZmZmZm5P5qZmZmZmck\\u002fNDMzMzMz0z+amZmZmZnZPwAAAAAAAOA\\u002fNDMzMzMz4z9nZmZmZmbmP5qZmZmZmek\\u002fzczMzMzM7D8AAAAAAADwP5qZmZmZmfE\\u002fNDMzMzMz8z\\u002fNzMzMzMz0P2dmZmZmZvY\\u002fAAAAAAAA+D+amZmZmZn5PzQzMzMzM\\u002fs\\u002fzczMzMzM\\u002fD9nZmZmZmb+PwAAAAAAAABAzczMzMzMAECamZmZmZkBQGdmZmZmZgJANDMzMzMzA0AAAAAAAAAEQM3MzMzMzARAmpmZmZmZBUBnZmZmZmYGQDQzMzMzMwdAAAAAAAAACEDNzMzMzMwIQJqZmZmZmQlAZ2ZmZmZmCkA0MzMzMzMLQAAAAAAAAAxAzczMzMzMDECamZmZmZkNQGdmZmZmZg5ANDMzMzMzD0AAAAAAAAAQQGdmZmZmZhBAzczMzMzMEEAzMzMzMzMRQJqZmZmZmRFAAAAAAAAAEkBnZmZmZmYSQM3MzMzMzBJANDMzMzMzE0CamZmZmZkTQAAAAAAAABRAZ2ZmZmZmFEDNzMzMzMwUQDQzMzMzMxVAmpmZmZmZFUAAAAAAAAAWQGdmZmZmZhZAzczMzMzMFkA0MzMzMzMXQJqZmZmZmRdAAAAAAAAAGEBnZmZmZmYYQM3MzMzMzBhANDMzMzMzGUCamZmZmZkZQAAAAAAAABpAZ2ZmZmZmGkDNzMzMzMwaQDQzMzMzMxtAmpmZmZmZG0AAAAAAAAAcQGdmZmZmZhxAzczMzMzMHEA0MzMzMzMdQJqZmZmZmR1AAAAAAAAAHkBnZmZmZmYeQM3MzMzMzB5ANDMzMzMzH0CamZmZmZkfQAAAAAAAACBAMzMzMzMzIEBnZmZmZmYgQJqZmZmZmSBAzczMzMzMIEAAAAAAAAAhQDMzMzMzMyFAZ2ZmZmZmIUCamZmZmZkhQM3MzMzMzCFAAAAAAAAAIkAzMzMzMzMiQGdmZmZmZiJAmpmZmZmZIkDNzMzMzMwiQAAAAAAAACNANDMzMzMzI0BnZmZmZmYjQJqZmZmZmSNAzczMzMzMI0AAAAAAAAAkQA==\"},\"xaxis\":\"x\",\"y\":{\"dtype\":\"f8\",\"bdata\":\"AAAAAAAA8D9Sh02y7BP6P8z0DyGFKgVAWPsUV5AREUDiWE5feT8bQAyOYSb9ZyVAJHqI5L1rMEBeRN9OhFk4QCkvP99WQEFASB1h7DsgR0CWmNRRfixNQMRJ+gMKWFFA\\u002fkZ2WliWU0CvNC\\u002fyGz5VQH6ogXqCXlZAqlRU+ooVV0Dcz5tapIFXQHk3KDBiu1dAeFb39HPUV0AQg\\u002fzax9hXQISS0pse0FdA8sn57Wa6V0Ce8H2zZ5xXQFPPDGWOfldAiIq10tpgV0D84cPMTENXQBzkvyPkJVdAvaFtqKAIV0BH4swrgutWQDTYGH+IzlZA9NXHc7OxVkAqA4vbApVWQFMSToh2eFZAvfY2TA5cVkDmmqX5yT9WQDGXM2OpI1ZAAemzW6wHVkAkqjK20utVQKLI9EUc0FVA6L533oi0VUBHTHFTGJlVQNEtz3jKfVVAlte2Ip9iVUAwLoUllkdVQK1AzlWvLFVA1AJdiOoRVUC9BzOSR\\u002fdUQMU8iEjG3FRA1qTKgGbCVEAKFJ4QKKhUQKDr280KjlRAS9aSjg50VEDQhAYpM1pUQANrr3N4QFRAEn06Rd4mVEAl7Yh0ZA1UQE\\u002fpr9gK9FNA3ln4SNHaU0Dxn96ct8FTQGhUEqy9qFNAIQd2TuOPU0CO\\u002fh5cKHdTQJf3VK2MXlNAz+WRGhBGU0D2s4F8si1TQNIEAqxzFVNAVPQhglP9UkAO2SHYUeVSQPIFc4duzVJAaIy3aam1UkCw\\u002fsFYAp5SQI0ylS55hlJAQgRkxQ1vUkDhGZH3v1dSQNmmrp+PQFJA3C9+mHwpUkAQT\\u002fC8hhJSQIV4JOit+1FA\\u002fL5o9fHkUUD3mDnAUs5RQBWmQSTQt1FAtXRZ\\u002fWmhUUDnR4cnIItRQJ7d\\u002fn7ydFFAOzUh4OBeUUBPVnwn60hRQLAXyzERM1FA0+b021IdUUBsjw0DsAdRQFgDVYQo8lBA0CI3PbzcUEDZhEsLa8dQQAZAVcw0slBAerNCXhmdUEAsUC2fGIhQQHdiWW0yc1BA79s1p2ZeUEBwHVwrtUlQQIDBj9gdNVBA6ma+jaAgUECje\\u002f8pPQxQQA==\"},\"yaxis\":\"y\",\"type\":\"histogram\"},{\"bingroup\":\"x\",\"histfunc\":\"avg\",\"hovertemplate\":\"variable=R\\u003cbr\\u003et=%{x}\\u003cbr\\u003eavg of value=%{y}\\u003cextra\\u003e\\u003c\\u002fextra\\u003e\",\"legendgroup\":\"R\",\"marker\":{\"color\":\"#00cc96\",\"pattern\":{\"shape\":\"\"}},\"name\":\"R\",\"nbinsx\":101,\"orientation\":\"v\",\"showlegend\":true,\"x\":{\"dtype\":\"f8\",\"bdata\":\"AAAAAAAAAACamZmZmZm5P5qZmZmZmck\\u002fNDMzMzMz0z+amZmZmZnZPwAAAAAAAOA\\u002fNDMzMzMz4z9nZmZmZmbmP5qZmZmZmek\\u002fzczMzMzM7D8AAAAAAADwP5qZmZmZmfE\\u002fNDMzMzMz8z\\u002fNzMzMzMz0P2dmZmZmZvY\\u002fAAAAAAAA+D+amZmZmZn5PzQzMzMzM\\u002fs\\u002fzczMzMzM\\u002fD9nZmZmZmb+PwAAAAAAAABAzczMzMzMAECamZmZmZkBQGdmZmZmZgJANDMzMzMzA0AAAAAAAAAEQM3MzMzMzARAmpmZmZmZBUBnZmZmZmYGQDQzMzMzMwdAAAAAAAAACEDNzMzMzMwIQJqZmZmZmQlAZ2ZmZmZmCkA0MzMzMzMLQAAAAAAAAAxAzczMzMzMDECamZmZmZkNQGdmZmZmZg5ANDMzMzMzD0AAAAAAAAAQQGdmZmZmZhBAzczMzMzMEEAzMzMzMzMRQJqZmZmZmRFAAAAAAAAAEkBnZmZmZmYSQM3MzMzMzBJANDMzMzMzE0CamZmZmZkTQAAAAAAAABRAZ2ZmZmZmFEDNzMzMzMwUQDQzMzMzMxVAmpmZmZmZFUAAAAAAAAAWQGdmZmZmZhZAzczMzMzMFkA0MzMzMzMXQJqZmZmZmRdAAAAAAAAAGEBnZmZmZmYYQM3MzMzMzBhANDMzMzMzGUCamZmZmZkZQAAAAAAAABpAZ2ZmZmZmGkDNzMzMzMwaQDQzMzMzMxtAmpmZmZmZG0AAAAAAAAAcQGdmZmZmZhxAzczMzMzMHEA0MzMzMzMdQJqZmZmZmR1AAAAAAAAAHkBnZmZmZmYeQM3MzMzMzB5ANDMzMzMzH0CamZmZmZkfQAAAAAAAACBAMzMzMzMzIEBnZmZmZmYgQJqZmZmZmSBAzczMzMzMIEAAAAAAAAAhQDMzMzMzMyFAZ2ZmZmZmIUCamZmZmZkhQM3MzMzMzCFAAAAAAAAAIkAzMzMzMzMiQGdmZmZmZiJAmpmZmZmZIkDNzMzMzMwiQAAAAAAAACNANDMzMzMzI0BnZmZmZmYjQJqZmZmZmSNAzczMzMzMI0AAAAAAAAAkQA==\"},\"xaxis\":\"x\",\"y\":{\"dtype\":\"f8\",\"bdata\":\"AAAAAAAAAAAOyDTh7CR6PwkskbfqKpE\\u002ffzFG52svoT8rkN5oufyuPxyvsVRQbLo\\u002fn1tA6R6yxT+0aHJ8xz7RP\\u002fgQWQ61g9o\\u002fAuq3p8aj4z8spLqgFu7rPyubBUbTCPM\\u002fQ7vP+IDm+D9CrzclR2L\\u002fPw7mqh8ZJwNApwoxTvnBBkCgtcybiHMKQAD4uQDyMQ5AhZSQFFz7EEApouiP2N4SQLeV1G0ewhRARnhuBTukFkCKDSytLoQYQDwiPpTDYRpA7G6yufw8HECc98wY3RUeQKfVDKln7B9AzX0Yr0\\u002fgIEB9eR6UQ8khQBXKvvkQsSJAHNxGVLmXI0Bqci0WPn0kQCT5FLCgYSVA19XNkOJEJkCWtFglBScnQDvS6NgJCChAvEPmFPLnKECoOvBAv8YpQLVG38JypCpAh5TH\\u002fg2BK0CYKftWklwsQEUdDCwBNy1AG8\\u002fO3FsQLkBLGlzGo+guQGKGE0Tavy9AlrrOVwBLMEDzpnYwjLUwQNfSIVeRHzFAkzIYdhCJMUDDdco2CvIxQGkX00F\\u002fWjJAwGz3PnDCMkCrsijV3SkzQNsZharIkDNAnNFYZDH3M0BUER+nGF00QKoggxZ\\u002fwjRAbF5hVWUnNUAdRsgFzIs1QEJ0+ciz7zVAXalqPx1TNkCny8YICbY2QILn7sN3GDdApy77Dmp6N0AO9juH4Ns3QJ2yOsnbPDhAkfS6cFydOECoYbsYY\\u002f04QBmudlvwXDlAP5Rk0gS8OUAhyzoWoRo6QK\\u002f77b7FeDpA1rSyY3PWOkBZXv6aqjM7QHoqiPprkDtAawZKF7jsO0CaiYGFj0g8QMbjsNjyozxA6smfo+L+PED9YVx4X1k9QIYtPOhpsz1ABvPcgwINPkBDpiXbKWY+QGRPR33gvj5A7\\u002fC9+CYXP0CdbFHb\\u002fW4\\u002fQBhnFrJlxj9ARpW3hK8OQEAURIY29TlAQDpc9zMEZUBASx0zwtyPQEA5WQomf7pAQN7i9qPr5EBA9\\u002fsbgCIPQUCUwkb+IzlBQP6d7mHwYkFAEKs17oeMQUAOKOnl6rVBQOzfgYsZ30FAFZUkIRQIQkCla6Lo2jBCQA==\"},\"yaxis\":\"y\",\"type\":\"histogram\"}],                        {\"template\":{\"data\":{\"histogram2dcontour\":[{\"type\":\"histogram2dcontour\",\"colorbar\":{\"outlinewidth\":0,\"ticks\":\"\"},\"colorscale\":[[0.0,\"#0d0887\"],[0.1111111111111111,\"#46039f\"],[0.2222222222222222,\"#7201a8\"],[0.3333333333333333,\"#9c179e\"],[0.4444444444444444,\"#bd3786\"],[0.5555555555555556,\"#d8576b\"],[0.6666666666666666,\"#ed7953\"],[0.7777777777777778,\"#fb9f3a\"],[0.8888888888888888,\"#fdca26\"],[1.0,\"#f0f921\"]]}],\"choropleth\":[{\"type\":\"choropleth\",\"colorbar\":{\"outlinewidth\":0,\"ticks\":\"\"}}],\"histogram2d\":[{\"type\":\"histogram2d\",\"colorbar\":{\"outlinewidth\":0,\"ticks\":\"\"},\"colorscale\":[[0.0,\"#0d0887\"],[0.1111111111111111,\"#46039f\"],[0.2222222222222222,\"#7201a8\"],[0.3333333333333333,\"#9c179e\"],[0.4444444444444444,\"#bd3786\"],[0.5555555555555556,\"#d8576b\"],[0.6666666666666666,\"#ed7953\"],[0.7777777777777778,\"#fb9f3a\"],[0.8888888888888888,\"#fdca26\"],[1.0,\"#f0f921\"]]}],\"heatmap\":[{\"type\":\"heatmap\",\"colorbar\":{\"outlinewidth\":0,\"ticks\":\"\"},\"colorscale\":[[0.0,\"#0d0887\"],[0.1111111111111111,\"#46039f\"],[0.2222222222222222,\"#7201a8\"],[0.3333333333333333,\"#9c179e\"],[0.4444444444444444,\"#bd3786\"],[0.5555555555555556,\"#d8576b\"],[0.6666666666666666,\"#ed7953\"],[0.7777777777777778,\"#fb9f3a\"],[0.8888888888888888,\"#fdca26\"],[1.0,\"#f0f921\"]]}],\"contourcarpet\":[{\"type\":\"contourcarpet\",\"colorbar\":{\"outlinewidth\":0,\"ticks\":\"\"}}],\"contour\":[{\"type\":\"contour\",\"colorbar\":{\"outlinewidth\":0,\"ticks\":\"\"},\"colorscale\":[[0.0,\"#0d0887\"],[0.1111111111111111,\"#46039f\"],[0.2222222222222222,\"#7201a8\"],[0.3333333333333333,\"#9c179e\"],[0.4444444444444444,\"#bd3786\"],[0.5555555555555556,\"#d8576b\"],[0.6666666666666666,\"#ed7953\"],[0.7777777777777778,\"#fb9f3a\"],[0.8888888888888888,\"#fdca26\"],[1.0,\"#f0f921\"]]}],\"surface\":[{\"type\":\"surface\",\"colorbar\":{\"outlinewidth\":0,\"ticks\":\"\"},\"colorscale\":[[0.0,\"#0d0887\"],[0.1111111111111111,\"#46039f\"],[0.2222222222222222,\"#7201a8\"],[0.3333333333333333,\"#9c179e\"],[0.4444444444444444,\"#bd3786\"],[0.5555555555555556,\"#d8576b\"],[0.6666666666666666,\"#ed7953\"],[0.7777777777777778,\"#fb9f3a\"],[0.8888888888888888,\"#fdca26\"],[1.0,\"#f0f921\"]]}],\"mesh3d\":[{\"type\":\"mesh3d\",\"colorbar\":{\"outlinewidth\":0,\"ticks\":\"\"}}],\"scatter\":[{\"fillpattern\":{\"fillmode\":\"overlay\",\"size\":10,\"solidity\":0.2},\"type\":\"scatter\"}],\"parcoords\":[{\"type\":\"parcoords\",\"line\":{\"colorbar\":{\"outlinewidth\":0,\"ticks\":\"\"}}}],\"scatterpolargl\":[{\"type\":\"scatterpolargl\",\"marker\":{\"colorbar\":{\"outlinewidth\":0,\"ticks\":\"\"}}}],\"bar\":[{\"error_x\":{\"color\":\"#2a3f5f\"},\"error_y\":{\"color\":\"#2a3f5f\"},\"marker\":{\"line\":{\"color\":\"#E5ECF6\",\"width\":0.5},\"pattern\":{\"fillmode\":\"overlay\",\"size\":10,\"solidity\":0.2}},\"type\":\"bar\"}],\"scattergeo\":[{\"type\":\"scattergeo\",\"marker\":{\"colorbar\":{\"outlinewidth\":0,\"ticks\":\"\"}}}],\"scatterpolar\":[{\"type\":\"scatterpolar\",\"marker\":{\"colorbar\":{\"outlinewidth\":0,\"ticks\":\"\"}}}],\"histogram\":[{\"marker\":{\"pattern\":{\"fillmode\":\"overlay\",\"size\":10,\"solidity\":0.2}},\"type\":\"histogram\"}],\"scattergl\":[{\"type\":\"scattergl\",\"marker\":{\"colorbar\":{\"outlinewidth\":0,\"ticks\":\"\"}}}],\"scatter3d\":[{\"type\":\"scatter3d\",\"line\":{\"colorbar\":{\"outlinewidth\":0,\"ticks\":\"\"}},\"marker\":{\"colorbar\":{\"outlinewidth\":0,\"ticks\":\"\"}}}],\"scattermap\":[{\"type\":\"scattermap\",\"marker\":{\"colorbar\":{\"outlinewidth\":0,\"ticks\":\"\"}}}],\"scattermapbox\":[{\"type\":\"scattermapbox\",\"marker\":{\"colorbar\":{\"outlinewidth\":0,\"ticks\":\"\"}}}],\"scatterternary\":[{\"type\":\"scatterternary\",\"marker\":{\"colorbar\":{\"outlinewidth\":0,\"ticks\":\"\"}}}],\"scattercarpet\":[{\"type\":\"scattercarpet\",\"marker\":{\"colorbar\":{\"outlinewidth\":0,\"ticks\":\"\"}}}],\"carpet\":[{\"aaxis\":{\"endlinecolor\":\"#2a3f5f\",\"gridcolor\":\"white\",\"linecolor\":\"white\",\"minorgridcolor\":\"white\",\"startlinecolor\":\"#2a3f5f\"},\"baxis\":{\"endlinecolor\":\"#2a3f5f\",\"gridcolor\":\"white\",\"linecolor\":\"white\",\"minorgridcolor\":\"white\",\"startlinecolor\":\"#2a3f5f\"},\"type\":\"carpet\"}],\"table\":[{\"cells\":{\"fill\":{\"color\":\"#EBF0F8\"},\"line\":{\"color\":\"white\"}},\"header\":{\"fill\":{\"color\":\"#C8D4E3\"},\"line\":{\"color\":\"white\"}},\"type\":\"table\"}],\"barpolar\":[{\"marker\":{\"line\":{\"color\":\"#E5ECF6\",\"width\":0.5},\"pattern\":{\"fillmode\":\"overlay\",\"size\":10,\"solidity\":0.2}},\"type\":\"barpolar\"}],\"pie\":[{\"automargin\":true,\"type\":\"pie\"}]},\"layout\":{\"autotypenumbers\":\"strict\",\"colorway\":[\"#636efa\",\"#EF553B\",\"#00cc96\",\"#ab63fa\",\"#FFA15A\",\"#19d3f3\",\"#FF6692\",\"#B6E880\",\"#FF97FF\",\"#FECB52\"],\"font\":{\"color\":\"#2a3f5f\"},\"hovermode\":\"closest\",\"hoverlabel\":{\"align\":\"left\"},\"paper_bgcolor\":\"white\",\"plot_bgcolor\":\"#E5ECF6\",\"polar\":{\"bgcolor\":\"#E5ECF6\",\"angularaxis\":{\"gridcolor\":\"white\",\"linecolor\":\"white\",\"ticks\":\"\"},\"radialaxis\":{\"gridcolor\":\"white\",\"linecolor\":\"white\",\"ticks\":\"\"}},\"ternary\":{\"bgcolor\":\"#E5ECF6\",\"aaxis\":{\"gridcolor\":\"white\",\"linecolor\":\"white\",\"ticks\":\"\"},\"baxis\":{\"gridcolor\":\"white\",\"linecolor\":\"white\",\"ticks\":\"\"},\"caxis\":{\"gridcolor\":\"white\",\"linecolor\":\"white\",\"ticks\":\"\"}},\"coloraxis\":{\"colorbar\":{\"outlinewidth\":0,\"ticks\":\"\"}},\"colorscale\":{\"sequential\":[[0.0,\"#0d0887\"],[0.1111111111111111,\"#46039f\"],[0.2222222222222222,\"#7201a8\"],[0.3333333333333333,\"#9c179e\"],[0.4444444444444444,\"#bd3786\"],[0.5555555555555556,\"#d8576b\"],[0.6666666666666666,\"#ed7953\"],[0.7777777777777778,\"#fb9f3a\"],[0.8888888888888888,\"#fdca26\"],[1.0,\"#f0f921\"]],\"sequentialminus\":[[0.0,\"#0d0887\"],[0.1111111111111111,\"#46039f\"],[0.2222222222222222,\"#7201a8\"],[0.3333333333333333,\"#9c179e\"],[0.4444444444444444,\"#bd3786\"],[0.5555555555555556,\"#d8576b\"],[0.6666666666666666,\"#ed7953\"],[0.7777777777777778,\"#fb9f3a\"],[0.8888888888888888,\"#fdca26\"],[1.0,\"#f0f921\"]],\"diverging\":[[0,\"#8e0152\"],[0.1,\"#c51b7d\"],[0.2,\"#de77ae\"],[0.3,\"#f1b6da\"],[0.4,\"#fde0ef\"],[0.5,\"#f7f7f7\"],[0.6,\"#e6f5d0\"],[0.7,\"#b8e186\"],[0.8,\"#7fbc41\"],[0.9,\"#4d9221\"],[1,\"#276419\"]]},\"xaxis\":{\"gridcolor\":\"white\",\"linecolor\":\"white\",\"ticks\":\"\",\"title\":{\"standoff\":15},\"zerolinecolor\":\"white\",\"automargin\":true,\"zerolinewidth\":2},\"yaxis\":{\"gridcolor\":\"white\",\"linecolor\":\"white\",\"ticks\":\"\",\"title\":{\"standoff\":15},\"zerolinecolor\":\"white\",\"automargin\":true,\"zerolinewidth\":2},\"scene\":{\"xaxis\":{\"backgroundcolor\":\"#E5ECF6\",\"gridcolor\":\"white\",\"linecolor\":\"white\",\"showbackground\":true,\"ticks\":\"\",\"zerolinecolor\":\"white\",\"gridwidth\":2},\"yaxis\":{\"backgroundcolor\":\"#E5ECF6\",\"gridcolor\":\"white\",\"linecolor\":\"white\",\"showbackground\":true,\"ticks\":\"\",\"zerolinecolor\":\"white\",\"gridwidth\":2},\"zaxis\":{\"backgroundcolor\":\"#E5ECF6\",\"gridcolor\":\"white\",\"linecolor\":\"white\",\"showbackground\":true,\"ticks\":\"\",\"zerolinecolor\":\"white\",\"gridwidth\":2}},\"shapedefaults\":{\"line\":{\"color\":\"#2a3f5f\"}},\"annotationdefaults\":{\"arrowcolor\":\"#2a3f5f\",\"arrowhead\":0,\"arrowwidth\":1},\"geo\":{\"bgcolor\":\"white\",\"landcolor\":\"#E5ECF6\",\"subunitcolor\":\"white\",\"showland\":true,\"showlakes\":true,\"lakecolor\":\"white\"},\"title\":{\"x\":0.05},\"mapbox\":{\"style\":\"light\"}}},\"xaxis\":{\"anchor\":\"y\",\"domain\":[0.0,1.0],\"title\":{\"text\":\"t\"}},\"yaxis\":{\"anchor\":\"x\",\"domain\":[0.0,1.0],\"title\":{\"text\":\"avg of value\"}},\"legend\":{\"title\":{\"text\":\"variable\"},\"tracegroupgap\":0},\"margin\":{\"t\":60},\"barmode\":\"stack\"},                        {\"responsive\": true}                    )                };            </script>        </div>"
      ],
      "text/plain": [
       "Figure({\n",
       "    'data': [{'bingroup': 'x',\n",
       "              'histfunc': 'avg',\n",
       "              'hovertemplate': 'variable=S<br>t=%{x}<br>avg of value=%{y}<extra></extra>',\n",
       "              'legendgroup': 'S',\n",
       "              'marker': {'color': '#636efa', 'pattern': {'shape': ''}},\n",
       "              'name': 'S',\n",
       "              'nbinsx': 101,\n",
       "              'orientation': 'v',\n",
       "              'showlegend': True,\n",
       "              'type': 'histogram',\n",
       "              'x': {'bdata': ('AAAAAAAAAACamZmZmZm5P5qZmZmZmc' ... 'mZmSNAzczMzMzMI0AAAAAAAAAkQA=='),\n",
       "                    'dtype': 'f8'},\n",
       "              'xaxis': 'x',\n",
       "              'y': {'bdata': ('AAAAAAAAWUAPRYO5R9dYQEcHTCiZlV' ... '9hVds/3IlOr2FV2z/ciU6vYVXbPw=='),\n",
       "                    'dtype': 'f8'},\n",
       "              'yaxis': 'y'},\n",
       "             {'bingroup': 'x',\n",
       "              'histfunc': 'avg',\n",
       "              'hovertemplate': 'variable=I<br>t=%{x}<br>avg of value=%{y}<extra></extra>',\n",
       "              'legendgroup': 'I',\n",
       "              'marker': {'color': '#EF553B', 'pattern': {'shape': ''}},\n",
       "              'name': 'I',\n",
       "              'nbinsx': 101,\n",
       "              'orientation': 'v',\n",
       "              'showlegend': True,\n",
       "              'type': 'histogram',\n",
       "              'x': {'bdata': ('AAAAAAAAAACamZmZmZm5P5qZmZmZmc' ... 'mZmSNAzczMzMzMI0AAAAAAAAAkQA=='),\n",
       "                    'dtype': 'f8'},\n",
       "              'xaxis': 'x',\n",
       "              'y': {'bdata': ('AAAAAAAA8D9Sh02y7BP6P8z0DyGFKg' ... 'gdNVBA6ma+jaAgUECje/8pPQxQQA=='),\n",
       "                    'dtype': 'f8'},\n",
       "              'yaxis': 'y'},\n",
       "             {'bingroup': 'x',\n",
       "              'histfunc': 'avg',\n",
       "              'hovertemplate': 'variable=R<br>t=%{x}<br>avg of value=%{y}<extra></extra>',\n",
       "              'legendgroup': 'R',\n",
       "              'marker': {'color': '#00cc96', 'pattern': {'shape': ''}},\n",
       "              'name': 'R',\n",
       "              'nbinsx': 101,\n",
       "              'orientation': 'v',\n",
       "              'showlegend': True,\n",
       "              'type': 'histogram',\n",
       "              'x': {'bdata': ('AAAAAAAAAACamZmZmZm5P5qZmZmZmc' ... 'mZmSNAzczMzMzMI0AAAAAAAAAkQA=='),\n",
       "                    'dtype': 'f8'},\n",
       "              'xaxis': 'x',\n",
       "              'y': {'bdata': ('AAAAAAAAAAAOyDTh7CR6PwkskbfqKp' ... 'sZ30FAFZUkIRQIQkCla6Lo2jBCQA=='),\n",
       "                    'dtype': 'f8'},\n",
       "              'yaxis': 'y'}],\n",
       "    'layout': {'barmode': 'stack',\n",
       "               'legend': {'title': {'text': 'variable'}, 'tracegroupgap': 0},\n",
       "               'margin': {'t': 60},\n",
       "               'template': '...',\n",
       "               'xaxis': {'anchor': 'y', 'domain': [0.0, 1.0], 'title': {'text': 't'}},\n",
       "               'yaxis': {'anchor': 'x', 'domain': [0.0, 1.0], 'title': {'text': 'avg of value'}}}\n",
       "})"
      ]
     },
     "execution_count": 23,
     "metadata": {},
     "output_type": "execute_result"
    }
   ],
   "source": [
    "fig = px.histogram( df, x='t', y=['S','I','R'], barmode=\"stack\", nbins=df.shape[0], histfunc=\"avg\" )\n",
    "fig"
   ]
  },
  {
   "cell_type": "code",
   "execution_count": 24,
   "id": "dc1ba954",
   "metadata": {},
   "outputs": [
    {
     "ename": "ValueError",
     "evalue": "Mime type rendering requires nbformat>=4.2.0 but it is not installed",
     "output_type": "error",
     "traceback": [
      "\u001b[31m---------------------------------------------------------------------------\u001b[39m",
      "\u001b[31mValueError\u001b[39m                                Traceback (most recent call last)",
      "\u001b[36mFile \u001b[39m\u001b[32m~/Documents/WebCompute/.venv/lib64/python3.13/site-packages/IPython/core/formatters.py:984\u001b[39m, in \u001b[36mIPythonDisplayFormatter.__call__\u001b[39m\u001b[34m(self, obj)\u001b[39m\n\u001b[32m    982\u001b[39m method = get_real_method(obj, \u001b[38;5;28mself\u001b[39m.print_method)\n\u001b[32m    983\u001b[39m \u001b[38;5;28;01mif\u001b[39;00m method \u001b[38;5;129;01mis\u001b[39;00m \u001b[38;5;129;01mnot\u001b[39;00m \u001b[38;5;28;01mNone\u001b[39;00m:\n\u001b[32m--> \u001b[39m\u001b[32m984\u001b[39m     \u001b[43mmethod\u001b[49m\u001b[43m(\u001b[49m\u001b[43m)\u001b[49m\n\u001b[32m    985\u001b[39m     \u001b[38;5;28;01mreturn\u001b[39;00m \u001b[38;5;28;01mTrue\u001b[39;00m\n",
      "\u001b[36mFile \u001b[39m\u001b[32m~/Documents/WebCompute/.venv/lib64/python3.13/site-packages/plotly/basedatatypes.py:846\u001b[39m, in \u001b[36mBaseFigure._ipython_display_\u001b[39m\u001b[34m(self)\u001b[39m\n\u001b[32m    843\u001b[39m \u001b[38;5;28;01mimport\u001b[39;00m\u001b[38;5;250m \u001b[39m\u001b[34;01mplotly\u001b[39;00m\u001b[34;01m.\u001b[39;00m\u001b[34;01mio\u001b[39;00m\u001b[38;5;250m \u001b[39m\u001b[38;5;28;01mas\u001b[39;00m\u001b[38;5;250m \u001b[39m\u001b[34;01mpio\u001b[39;00m\n\u001b[32m    845\u001b[39m \u001b[38;5;28;01mif\u001b[39;00m pio.renderers.render_on_display \u001b[38;5;129;01mand\u001b[39;00m pio.renderers.default:\n\u001b[32m--> \u001b[39m\u001b[32m846\u001b[39m     \u001b[43mpio\u001b[49m\u001b[43m.\u001b[49m\u001b[43mshow\u001b[49m\u001b[43m(\u001b[49m\u001b[38;5;28;43mself\u001b[39;49m\u001b[43m)\u001b[49m\n\u001b[32m    847\u001b[39m \u001b[38;5;28;01melse\u001b[39;00m:\n\u001b[32m    848\u001b[39m     \u001b[38;5;28mprint\u001b[39m(\u001b[38;5;28mrepr\u001b[39m(\u001b[38;5;28mself\u001b[39m))\n",
      "\u001b[36mFile \u001b[39m\u001b[32m~/Documents/WebCompute/.venv/lib64/python3.13/site-packages/plotly/io/_renderers.py:425\u001b[39m, in \u001b[36mshow\u001b[39m\u001b[34m(fig, renderer, validate, **kwargs)\u001b[39m\n\u001b[32m    420\u001b[39m     \u001b[38;5;28;01mraise\u001b[39;00m \u001b[38;5;167;01mValueError\u001b[39;00m(\n\u001b[32m    421\u001b[39m         \u001b[33m\"\u001b[39m\u001b[33mMime type rendering requires ipython but it is not installed\u001b[39m\u001b[33m\"\u001b[39m\n\u001b[32m    422\u001b[39m     )\n\u001b[32m    424\u001b[39m \u001b[38;5;28;01mif\u001b[39;00m \u001b[38;5;129;01mnot\u001b[39;00m nbformat \u001b[38;5;129;01mor\u001b[39;00m Version(nbformat.__version__) < Version(\u001b[33m\"\u001b[39m\u001b[33m4.2.0\u001b[39m\u001b[33m\"\u001b[39m):\n\u001b[32m--> \u001b[39m\u001b[32m425\u001b[39m     \u001b[38;5;28;01mraise\u001b[39;00m \u001b[38;5;167;01mValueError\u001b[39;00m(\n\u001b[32m    426\u001b[39m         \u001b[33m\"\u001b[39m\u001b[33mMime type rendering requires nbformat>=4.2.0 but it is not installed\u001b[39m\u001b[33m\"\u001b[39m\n\u001b[32m    427\u001b[39m     )\n\u001b[32m    429\u001b[39m display_jupyter_version_warnings()\n\u001b[32m    431\u001b[39m ipython_display.display(bundle, raw=\u001b[38;5;28;01mTrue\u001b[39;00m)\n",
      "\u001b[31mValueError\u001b[39m: Mime type rendering requires nbformat>=4.2.0 but it is not installed"
     ]
    },
    {
     "data": {
      "application/vnd.plotly.v1+json": {
       "config": {
        "plotlyServerURL": "https://plot.ly"
       },
       "data": [
        {
         "hovertemplate": "variable=S<br>t=%{x}<br>value=%{y}<extra></extra>",
         "legendgroup": "S",
         "line": {
          "color": "#636efa",
          "dash": "solid"
         },
         "marker": {
          "symbol": "circle"
         },
         "mode": "lines",
         "name": "S",
         "orientation": "v",
         "showlegend": true,
         "type": "scatter",
         "x": {
          "bdata": "AAAAAAAAAACamZmZmZm5P5qZmZmZmck/NDMzMzMz0z+amZmZmZnZPwAAAAAAAOA/NDMzMzMz4z9nZmZmZmbmP5qZmZmZmek/zczMzMzM7D8AAAAAAADwP5qZmZmZmfE/NDMzMzMz8z/NzMzMzMz0P2dmZmZmZvY/AAAAAAAA+D+amZmZmZn5PzQzMzMzM/s/zczMzMzM/D9nZmZmZmb+PwAAAAAAAABAzczMzMzMAECamZmZmZkBQGdmZmZmZgJANDMzMzMzA0AAAAAAAAAEQM3MzMzMzARAmpmZmZmZBUBnZmZmZmYGQDQzMzMzMwdAAAAAAAAACEDNzMzMzMwIQJqZmZmZmQlAZ2ZmZmZmCkA0MzMzMzMLQAAAAAAAAAxAzczMzMzMDECamZmZmZkNQGdmZmZmZg5ANDMzMzMzD0AAAAAAAAAQQGdmZmZmZhBAzczMzMzMEEAzMzMzMzMRQJqZmZmZmRFAAAAAAAAAEkBnZmZmZmYSQM3MzMzMzBJANDMzMzMzE0CamZmZmZkTQAAAAAAAABRAZ2ZmZmZmFEDNzMzMzMwUQDQzMzMzMxVAmpmZmZmZFUAAAAAAAAAWQGdmZmZmZhZAzczMzMzMFkA0MzMzMzMXQJqZmZmZmRdAAAAAAAAAGEBnZmZmZmYYQM3MzMzMzBhANDMzMzMzGUCamZmZmZkZQAAAAAAAABpAZ2ZmZmZmGkDNzMzMzMwaQDQzMzMzMxtAmpmZmZmZG0AAAAAAAAAcQGdmZmZmZhxAzczMzMzMHEA0MzMzMzMdQJqZmZmZmR1AAAAAAAAAHkBnZmZmZmYeQM3MzMzMzB5ANDMzMzMzH0CamZmZmZkfQAAAAAAAACBAMzMzMzMzIEBnZmZmZmYgQJqZmZmZmSBAzczMzMzMIEAAAAAAAAAhQDMzMzMzMyFAZ2ZmZmZmIUCamZmZmZkhQM3MzMzMzCFAAAAAAAAAIkAzMzMzMzMiQGdmZmZmZiJAmpmZmZmZIkDNzMzMzMwiQAAAAAAAACNANDMzMzMzI0BnZmZmZmYjQJqZmZmZmSNAzczMzMzMI0AAAAAAAAAkQA==",
          "dtype": "f8"
         },
         "xaxis": "x",
         "y": {
          "bdata": "AAAAAAAAWUAPRYO5R9dYQEcHTCiZlVhAhccRDcEsWECh/t3SKIhXQNShHkdljFZASkFpdzcaVUCAvMskYBhTQFsPUttQhVBAEgMA+TQRS0DbfKhTyeNEQD9/trtKbz5AVeiZhjYYNUCgZN+J1yIsQI4CCOQlQiJAEDCis1NGF0D7TrkQ7FcNQPsYP/rHYQJA7w/ob5L19j8pZ3kCTqXsP+QQEqi+3+E/3IlOr2FV2z/ciU6vYVXbP9yJTq9hVds/3IlOr2FV2z/ciU6vYVXbP9yJTq9hVds/3IlOr2FV2z/ciU6vYVXbP9yJTq9hVds/3IlOr2FV2z/ciU6vYVXbP9yJTq9hVds/3IlOr2FV2z/ciU6vYVXbP9yJTq9hVds/3IlOr2FV2z/ciU6vYVXbP9yJTq9hVds/3IlOr2FV2z/ciU6vYVXbP9yJTq9hVds/3IlOr2FV2z/ciU6vYVXbP9yJTq9hVds/3IlOr2FV2z/ciU6vYVXbP9yJTq9hVds/3IlOr2FV2z/ciU6vYVXbP9yJTq9hVds/3IlOr2FV2z/ciU6vYVXbP9yJTq9hVds/3IlOr2FV2z/ciU6vYVXbP9yJTq9hVds/3IlOr2FV2z/ciU6vYVXbP9yJTq9hVds/3IlOr2FV2z/ciU6vYVXbP9yJTq9hVds/3IlOr2FV2z/ciU6vYVXbP9yJTq9hVds/3IlOr2FV2z/ciU6vYVXbP9yJTq9hVds/3IlOr2FV2z/ciU6vYVXbP9yJTq9hVds/3IlOr2FV2z/ciU6vYVXbP9yJTq9hVds/3IlOr2FV2z/ciU6vYVXbP9yJTq9hVds/3IlOr2FV2z/ciU6vYVXbP9yJTq9hVds/3IlOr2FV2z/ciU6vYVXbP9yJTq9hVds/3IlOr2FV2z/ciU6vYVXbP9yJTq9hVds/3IlOr2FV2z/ciU6vYVXbP9yJTq9hVds/3IlOr2FV2z/ciU6vYVXbP9yJTq9hVds/3IlOr2FV2z/ciU6vYVXbP9yJTq9hVds/3IlOr2FV2z/ciU6vYVXbP9yJTq9hVds/3IlOr2FV2z/ciU6vYVXbPw==",
          "dtype": "f8"
         },
         "yaxis": "y"
        },
        {
         "hovertemplate": "variable=I<br>t=%{x}<br>value=%{y}<extra></extra>",
         "legendgroup": "I",
         "line": {
          "color": "#EF553B",
          "dash": "solid"
         },
         "marker": {
          "symbol": "circle"
         },
         "mode": "lines",
         "name": "I",
         "orientation": "v",
         "showlegend": true,
         "type": "scatter",
         "x": {
          "bdata": "AAAAAAAAAACamZmZmZm5P5qZmZmZmck/NDMzMzMz0z+amZmZmZnZPwAAAAAAAOA/NDMzMzMz4z9nZmZmZmbmP5qZmZmZmek/zczMzMzM7D8AAAAAAADwP5qZmZmZmfE/NDMzMzMz8z/NzMzMzMz0P2dmZmZmZvY/AAAAAAAA+D+amZmZmZn5PzQzMzMzM/s/zczMzMzM/D9nZmZmZmb+PwAAAAAAAABAzczMzMzMAECamZmZmZkBQGdmZmZmZgJANDMzMzMzA0AAAAAAAAAEQM3MzMzMzARAmpmZmZmZBUBnZmZmZmYGQDQzMzMzMwdAAAAAAAAACEDNzMzMzMwIQJqZmZmZmQlAZ2ZmZmZmCkA0MzMzMzMLQAAAAAAAAAxAzczMzMzMDECamZmZmZkNQGdmZmZmZg5ANDMzMzMzD0AAAAAAAAAQQGdmZmZmZhBAzczMzMzMEEAzMzMzMzMRQJqZmZmZmRFAAAAAAAAAEkBnZmZmZmYSQM3MzMzMzBJANDMzMzMzE0CamZmZmZkTQAAAAAAAABRAZ2ZmZmZmFEDNzMzMzMwUQDQzMzMzMxVAmpmZmZmZFUAAAAAAAAAWQGdmZmZmZhZAzczMzMzMFkA0MzMzMzMXQJqZmZmZmRdAAAAAAAAAGEBnZmZmZmYYQM3MzMzMzBhANDMzMzMzGUCamZmZmZkZQAAAAAAAABpAZ2ZmZmZmGkDNzMzMzMwaQDQzMzMzMxtAmpmZmZmZG0AAAAAAAAAcQGdmZmZmZhxAzczMzMzMHEA0MzMzMzMdQJqZmZmZmR1AAAAAAAAAHkBnZmZmZmYeQM3MzMzMzB5ANDMzMzMzH0CamZmZmZkfQAAAAAAAACBAMzMzMzMzIEBnZmZmZmYgQJqZmZmZmSBAzczMzMzMIEAAAAAAAAAhQDMzMzMzMyFAZ2ZmZmZmIUCamZmZmZkhQM3MzMzMzCFAAAAAAAAAIkAzMzMzMzMiQGdmZmZmZiJAmpmZmZmZIkDNzMzMzMwiQAAAAAAAACNANDMzMzMzI0BnZmZmZmYjQJqZmZmZmSNAzczMzMzMI0AAAAAAAAAkQA==",
          "dtype": "f8"
         },
         "xaxis": "x",
         "y": {
          "bdata": "AAAAAAAA8D9Sh02y7BP6P8z0DyGFKgVAWPsUV5AREUDiWE5feT8bQAyOYSb9ZyVAJHqI5L1rMEBeRN9OhFk4QCkvP99WQEFASB1h7DsgR0CWmNRRfixNQMRJ+gMKWFFA/kZ2WliWU0CvNC/yGz5VQH6ogXqCXlZAqlRU+ooVV0Dcz5tapIFXQHk3KDBiu1dAeFb39HPUV0AQg/zax9hXQISS0pse0FdA8sn57Wa6V0Ce8H2zZ5xXQFPPDGWOfldAiIq10tpgV0D84cPMTENXQBzkvyPkJVdAvaFtqKAIV0BH4swrgutWQDTYGH+IzlZA9NXHc7OxVkAqA4vbApVWQFMSToh2eFZAvfY2TA5cVkDmmqX5yT9WQDGXM2OpI1ZAAemzW6wHVkAkqjK20utVQKLI9EUc0FVA6L533oi0VUBHTHFTGJlVQNEtz3jKfVVAlte2Ip9iVUAwLoUllkdVQK1AzlWvLFVA1AJdiOoRVUC9BzOSR/dUQMU8iEjG3FRA1qTKgGbCVEAKFJ4QKKhUQKDr280KjlRAS9aSjg50VEDQhAYpM1pUQANrr3N4QFRAEn06Rd4mVEAl7Yh0ZA1UQE/pr9gK9FNA3ln4SNHaU0Dxn96ct8FTQGhUEqy9qFNAIQd2TuOPU0CO/h5cKHdTQJf3VK2MXlNAz+WRGhBGU0D2s4F8si1TQNIEAqxzFVNAVPQhglP9UkAO2SHYUeVSQPIFc4duzVJAaIy3aam1UkCw/sFYAp5SQI0ylS55hlJAQgRkxQ1vUkDhGZH3v1dSQNmmrp+PQFJA3C9+mHwpUkAQT/C8hhJSQIV4JOit+1FA/L5o9fHkUUD3mDnAUs5RQBWmQSTQt1FAtXRZ/WmhUUDnR4cnIItRQJ7d/n7ydFFAOzUh4OBeUUBPVnwn60hRQLAXyzERM1FA0+b021IdUUBsjw0DsAdRQFgDVYQo8lBA0CI3PbzcUEDZhEsLa8dQQAZAVcw0slBAerNCXhmdUEAsUC2fGIhQQHdiWW0yc1BA79s1p2ZeUEBwHVwrtUlQQIDBj9gdNVBA6ma+jaAgUECje/8pPQxQQA==",
          "dtype": "f8"
         },
         "yaxis": "y"
        },
        {
         "hovertemplate": "variable=R<br>t=%{x}<br>value=%{y}<extra></extra>",
         "legendgroup": "R",
         "line": {
          "color": "#00cc96",
          "dash": "solid"
         },
         "marker": {
          "symbol": "circle"
         },
         "mode": "lines",
         "name": "R",
         "orientation": "v",
         "showlegend": true,
         "type": "scatter",
         "x": {
          "bdata": "AAAAAAAAAACamZmZmZm5P5qZmZmZmck/NDMzMzMz0z+amZmZmZnZPwAAAAAAAOA/NDMzMzMz4z9nZmZmZmbmP5qZmZmZmek/zczMzMzM7D8AAAAAAADwP5qZmZmZmfE/NDMzMzMz8z/NzMzMzMz0P2dmZmZmZvY/AAAAAAAA+D+amZmZmZn5PzQzMzMzM/s/zczMzMzM/D9nZmZmZmb+PwAAAAAAAABAzczMzMzMAECamZmZmZkBQGdmZmZmZgJANDMzMzMzA0AAAAAAAAAEQM3MzMzMzARAmpmZmZmZBUBnZmZmZmYGQDQzMzMzMwdAAAAAAAAACEDNzMzMzMwIQJqZmZmZmQlAZ2ZmZmZmCkA0MzMzMzMLQAAAAAAAAAxAzczMzMzMDECamZmZmZkNQGdmZmZmZg5ANDMzMzMzD0AAAAAAAAAQQGdmZmZmZhBAzczMzMzMEEAzMzMzMzMRQJqZmZmZmRFAAAAAAAAAEkBnZmZmZmYSQM3MzMzMzBJANDMzMzMzE0CamZmZmZkTQAAAAAAAABRAZ2ZmZmZmFEDNzMzMzMwUQDQzMzMzMxVAmpmZmZmZFUAAAAAAAAAWQGdmZmZmZhZAzczMzMzMFkA0MzMzMzMXQJqZmZmZmRdAAAAAAAAAGEBnZmZmZmYYQM3MzMzMzBhANDMzMzMzGUCamZmZmZkZQAAAAAAAABpAZ2ZmZmZmGkDNzMzMzMwaQDQzMzMzMxtAmpmZmZmZG0AAAAAAAAAcQGdmZmZmZhxAzczMzMzMHEA0MzMzMzMdQJqZmZmZmR1AAAAAAAAAHkBnZmZmZmYeQM3MzMzMzB5ANDMzMzMzH0CamZmZmZkfQAAAAAAAACBAMzMzMzMzIEBnZmZmZmYgQJqZmZmZmSBAzczMzMzMIEAAAAAAAAAhQDMzMzMzMyFAZ2ZmZmZmIUCamZmZmZkhQM3MzMzMzCFAAAAAAAAAIkAzMzMzMzMiQGdmZmZmZiJAmpmZmZmZIkDNzMzMzMwiQAAAAAAAACNANDMzMzMzI0BnZmZmZmYjQJqZmZmZmSNAzczMzMzMI0AAAAAAAAAkQA==",
          "dtype": "f8"
         },
         "xaxis": "x",
         "y": {
          "bdata": "AAAAAAAAAAAOyDTh7CR6PwkskbfqKpE/fzFG52svoT8rkN5oufyuPxyvsVRQbLo/n1tA6R6yxT+0aHJ8xz7RP/gQWQ61g9o/Auq3p8aj4z8spLqgFu7rPyubBUbTCPM/Q7vP+IDm+D9CrzclR2L/Pw7mqh8ZJwNApwoxTvnBBkCgtcybiHMKQAD4uQDyMQ5AhZSQFFz7EEApouiP2N4SQLeV1G0ewhRARnhuBTukFkCKDSytLoQYQDwiPpTDYRpA7G6yufw8HECc98wY3RUeQKfVDKln7B9AzX0Yr0/gIEB9eR6UQ8khQBXKvvkQsSJAHNxGVLmXI0Bqci0WPn0kQCT5FLCgYSVA19XNkOJEJkCWtFglBScnQDvS6NgJCChAvEPmFPLnKECoOvBAv8YpQLVG38JypCpAh5TH/g2BK0CYKftWklwsQEUdDCwBNy1AG8/O3FsQLkBLGlzGo+guQGKGE0Tavy9AlrrOVwBLMEDzpnYwjLUwQNfSIVeRHzFAkzIYdhCJMUDDdco2CvIxQGkX00F/WjJAwGz3PnDCMkCrsijV3SkzQNsZharIkDNAnNFYZDH3M0BUER+nGF00QKoggxZ/wjRAbF5hVWUnNUAdRsgFzIs1QEJ0+ciz7zVAXalqPx1TNkCny8YICbY2QILn7sN3GDdApy77Dmp6N0AO9juH4Ns3QJ2yOsnbPDhAkfS6cFydOECoYbsYY/04QBmudlvwXDlAP5Rk0gS8OUAhyzoWoRo6QK/77b7FeDpA1rSyY3PWOkBZXv6aqjM7QHoqiPprkDtAawZKF7jsO0CaiYGFj0g8QMbjsNjyozxA6smfo+L+PED9YVx4X1k9QIYtPOhpsz1ABvPcgwINPkBDpiXbKWY+QGRPR33gvj5A7/C9+CYXP0CdbFHb/W4/QBhnFrJlxj9ARpW3hK8OQEAURIY29TlAQDpc9zMEZUBASx0zwtyPQEA5WQomf7pAQN7i9qPr5EBA9/sbgCIPQUCUwkb+IzlBQP6d7mHwYkFAEKs17oeMQUAOKOnl6rVBQOzfgYsZ30FAFZUkIRQIQkCla6Lo2jBCQA==",
          "dtype": "f8"
         },
         "yaxis": "y"
        }
       ],
       "layout": {
        "legend": {
         "title": {
          "text": "variable"
         },
         "tracegroupgap": 0
        },
        "margin": {
         "t": 60
        },
        "template": {
         "data": {
          "bar": [
           {
            "error_x": {
             "color": "#2a3f5f"
            },
            "error_y": {
             "color": "#2a3f5f"
            },
            "marker": {
             "line": {
              "color": "#E5ECF6",
              "width": 0.5
             },
             "pattern": {
              "fillmode": "overlay",
              "size": 10,
              "solidity": 0.2
             }
            },
            "type": "bar"
           }
          ],
          "barpolar": [
           {
            "marker": {
             "line": {
              "color": "#E5ECF6",
              "width": 0.5
             },
             "pattern": {
              "fillmode": "overlay",
              "size": 10,
              "solidity": 0.2
             }
            },
            "type": "barpolar"
           }
          ],
          "carpet": [
           {
            "aaxis": {
             "endlinecolor": "#2a3f5f",
             "gridcolor": "white",
             "linecolor": "white",
             "minorgridcolor": "white",
             "startlinecolor": "#2a3f5f"
            },
            "baxis": {
             "endlinecolor": "#2a3f5f",
             "gridcolor": "white",
             "linecolor": "white",
             "minorgridcolor": "white",
             "startlinecolor": "#2a3f5f"
            },
            "type": "carpet"
           }
          ],
          "choropleth": [
           {
            "colorbar": {
             "outlinewidth": 0,
             "ticks": ""
            },
            "type": "choropleth"
           }
          ],
          "contour": [
           {
            "colorbar": {
             "outlinewidth": 0,
             "ticks": ""
            },
            "colorscale": [
             [
              0,
              "#0d0887"
             ],
             [
              0.1111111111111111,
              "#46039f"
             ],
             [
              0.2222222222222222,
              "#7201a8"
             ],
             [
              0.3333333333333333,
              "#9c179e"
             ],
             [
              0.4444444444444444,
              "#bd3786"
             ],
             [
              0.5555555555555556,
              "#d8576b"
             ],
             [
              0.6666666666666666,
              "#ed7953"
             ],
             [
              0.7777777777777778,
              "#fb9f3a"
             ],
             [
              0.8888888888888888,
              "#fdca26"
             ],
             [
              1,
              "#f0f921"
             ]
            ],
            "type": "contour"
           }
          ],
          "contourcarpet": [
           {
            "colorbar": {
             "outlinewidth": 0,
             "ticks": ""
            },
            "type": "contourcarpet"
           }
          ],
          "heatmap": [
           {
            "colorbar": {
             "outlinewidth": 0,
             "ticks": ""
            },
            "colorscale": [
             [
              0,
              "#0d0887"
             ],
             [
              0.1111111111111111,
              "#46039f"
             ],
             [
              0.2222222222222222,
              "#7201a8"
             ],
             [
              0.3333333333333333,
              "#9c179e"
             ],
             [
              0.4444444444444444,
              "#bd3786"
             ],
             [
              0.5555555555555556,
              "#d8576b"
             ],
             [
              0.6666666666666666,
              "#ed7953"
             ],
             [
              0.7777777777777778,
              "#fb9f3a"
             ],
             [
              0.8888888888888888,
              "#fdca26"
             ],
             [
              1,
              "#f0f921"
             ]
            ],
            "type": "heatmap"
           }
          ],
          "histogram": [
           {
            "marker": {
             "pattern": {
              "fillmode": "overlay",
              "size": 10,
              "solidity": 0.2
             }
            },
            "type": "histogram"
           }
          ],
          "histogram2d": [
           {
            "colorbar": {
             "outlinewidth": 0,
             "ticks": ""
            },
            "colorscale": [
             [
              0,
              "#0d0887"
             ],
             [
              0.1111111111111111,
              "#46039f"
             ],
             [
              0.2222222222222222,
              "#7201a8"
             ],
             [
              0.3333333333333333,
              "#9c179e"
             ],
             [
              0.4444444444444444,
              "#bd3786"
             ],
             [
              0.5555555555555556,
              "#d8576b"
             ],
             [
              0.6666666666666666,
              "#ed7953"
             ],
             [
              0.7777777777777778,
              "#fb9f3a"
             ],
             [
              0.8888888888888888,
              "#fdca26"
             ],
             [
              1,
              "#f0f921"
             ]
            ],
            "type": "histogram2d"
           }
          ],
          "histogram2dcontour": [
           {
            "colorbar": {
             "outlinewidth": 0,
             "ticks": ""
            },
            "colorscale": [
             [
              0,
              "#0d0887"
             ],
             [
              0.1111111111111111,
              "#46039f"
             ],
             [
              0.2222222222222222,
              "#7201a8"
             ],
             [
              0.3333333333333333,
              "#9c179e"
             ],
             [
              0.4444444444444444,
              "#bd3786"
             ],
             [
              0.5555555555555556,
              "#d8576b"
             ],
             [
              0.6666666666666666,
              "#ed7953"
             ],
             [
              0.7777777777777778,
              "#fb9f3a"
             ],
             [
              0.8888888888888888,
              "#fdca26"
             ],
             [
              1,
              "#f0f921"
             ]
            ],
            "type": "histogram2dcontour"
           }
          ],
          "mesh3d": [
           {
            "colorbar": {
             "outlinewidth": 0,
             "ticks": ""
            },
            "type": "mesh3d"
           }
          ],
          "parcoords": [
           {
            "line": {
             "colorbar": {
              "outlinewidth": 0,
              "ticks": ""
             }
            },
            "type": "parcoords"
           }
          ],
          "pie": [
           {
            "automargin": true,
            "type": "pie"
           }
          ],
          "scatter": [
           {
            "fillpattern": {
             "fillmode": "overlay",
             "size": 10,
             "solidity": 0.2
            },
            "type": "scatter"
           }
          ],
          "scatter3d": [
           {
            "line": {
             "colorbar": {
              "outlinewidth": 0,
              "ticks": ""
             }
            },
            "marker": {
             "colorbar": {
              "outlinewidth": 0,
              "ticks": ""
             }
            },
            "type": "scatter3d"
           }
          ],
          "scattercarpet": [
           {
            "marker": {
             "colorbar": {
              "outlinewidth": 0,
              "ticks": ""
             }
            },
            "type": "scattercarpet"
           }
          ],
          "scattergeo": [
           {
            "marker": {
             "colorbar": {
              "outlinewidth": 0,
              "ticks": ""
             }
            },
            "type": "scattergeo"
           }
          ],
          "scattergl": [
           {
            "marker": {
             "colorbar": {
              "outlinewidth": 0,
              "ticks": ""
             }
            },
            "type": "scattergl"
           }
          ],
          "scattermap": [
           {
            "marker": {
             "colorbar": {
              "outlinewidth": 0,
              "ticks": ""
             }
            },
            "type": "scattermap"
           }
          ],
          "scattermapbox": [
           {
            "marker": {
             "colorbar": {
              "outlinewidth": 0,
              "ticks": ""
             }
            },
            "type": "scattermapbox"
           }
          ],
          "scatterpolar": [
           {
            "marker": {
             "colorbar": {
              "outlinewidth": 0,
              "ticks": ""
             }
            },
            "type": "scatterpolar"
           }
          ],
          "scatterpolargl": [
           {
            "marker": {
             "colorbar": {
              "outlinewidth": 0,
              "ticks": ""
             }
            },
            "type": "scatterpolargl"
           }
          ],
          "scatterternary": [
           {
            "marker": {
             "colorbar": {
              "outlinewidth": 0,
              "ticks": ""
             }
            },
            "type": "scatterternary"
           }
          ],
          "surface": [
           {
            "colorbar": {
             "outlinewidth": 0,
             "ticks": ""
            },
            "colorscale": [
             [
              0,
              "#0d0887"
             ],
             [
              0.1111111111111111,
              "#46039f"
             ],
             [
              0.2222222222222222,
              "#7201a8"
             ],
             [
              0.3333333333333333,
              "#9c179e"
             ],
             [
              0.4444444444444444,
              "#bd3786"
             ],
             [
              0.5555555555555556,
              "#d8576b"
             ],
             [
              0.6666666666666666,
              "#ed7953"
             ],
             [
              0.7777777777777778,
              "#fb9f3a"
             ],
             [
              0.8888888888888888,
              "#fdca26"
             ],
             [
              1,
              "#f0f921"
             ]
            ],
            "type": "surface"
           }
          ],
          "table": [
           {
            "cells": {
             "fill": {
              "color": "#EBF0F8"
             },
             "line": {
              "color": "white"
             }
            },
            "header": {
             "fill": {
              "color": "#C8D4E3"
             },
             "line": {
              "color": "white"
             }
            },
            "type": "table"
           }
          ]
         },
         "layout": {
          "annotationdefaults": {
           "arrowcolor": "#2a3f5f",
           "arrowhead": 0,
           "arrowwidth": 1
          },
          "autotypenumbers": "strict",
          "coloraxis": {
           "colorbar": {
            "outlinewidth": 0,
            "ticks": ""
           }
          },
          "colorscale": {
           "diverging": [
            [
             0,
             "#8e0152"
            ],
            [
             0.1,
             "#c51b7d"
            ],
            [
             0.2,
             "#de77ae"
            ],
            [
             0.3,
             "#f1b6da"
            ],
            [
             0.4,
             "#fde0ef"
            ],
            [
             0.5,
             "#f7f7f7"
            ],
            [
             0.6,
             "#e6f5d0"
            ],
            [
             0.7,
             "#b8e186"
            ],
            [
             0.8,
             "#7fbc41"
            ],
            [
             0.9,
             "#4d9221"
            ],
            [
             1,
             "#276419"
            ]
           ],
           "sequential": [
            [
             0,
             "#0d0887"
            ],
            [
             0.1111111111111111,
             "#46039f"
            ],
            [
             0.2222222222222222,
             "#7201a8"
            ],
            [
             0.3333333333333333,
             "#9c179e"
            ],
            [
             0.4444444444444444,
             "#bd3786"
            ],
            [
             0.5555555555555556,
             "#d8576b"
            ],
            [
             0.6666666666666666,
             "#ed7953"
            ],
            [
             0.7777777777777778,
             "#fb9f3a"
            ],
            [
             0.8888888888888888,
             "#fdca26"
            ],
            [
             1,
             "#f0f921"
            ]
           ],
           "sequentialminus": [
            [
             0,
             "#0d0887"
            ],
            [
             0.1111111111111111,
             "#46039f"
            ],
            [
             0.2222222222222222,
             "#7201a8"
            ],
            [
             0.3333333333333333,
             "#9c179e"
            ],
            [
             0.4444444444444444,
             "#bd3786"
            ],
            [
             0.5555555555555556,
             "#d8576b"
            ],
            [
             0.6666666666666666,
             "#ed7953"
            ],
            [
             0.7777777777777778,
             "#fb9f3a"
            ],
            [
             0.8888888888888888,
             "#fdca26"
            ],
            [
             1,
             "#f0f921"
            ]
           ]
          },
          "colorway": [
           "#636efa",
           "#EF553B",
           "#00cc96",
           "#ab63fa",
           "#FFA15A",
           "#19d3f3",
           "#FF6692",
           "#B6E880",
           "#FF97FF",
           "#FECB52"
          ],
          "font": {
           "color": "#2a3f5f"
          },
          "geo": {
           "bgcolor": "white",
           "lakecolor": "white",
           "landcolor": "#E5ECF6",
           "showlakes": true,
           "showland": true,
           "subunitcolor": "white"
          },
          "hoverlabel": {
           "align": "left"
          },
          "hovermode": "closest",
          "mapbox": {
           "style": "light"
          },
          "paper_bgcolor": "white",
          "plot_bgcolor": "#E5ECF6",
          "polar": {
           "angularaxis": {
            "gridcolor": "white",
            "linecolor": "white",
            "ticks": ""
           },
           "bgcolor": "#E5ECF6",
           "radialaxis": {
            "gridcolor": "white",
            "linecolor": "white",
            "ticks": ""
           }
          },
          "scene": {
           "xaxis": {
            "backgroundcolor": "#E5ECF6",
            "gridcolor": "white",
            "gridwidth": 2,
            "linecolor": "white",
            "showbackground": true,
            "ticks": "",
            "zerolinecolor": "white"
           },
           "yaxis": {
            "backgroundcolor": "#E5ECF6",
            "gridcolor": "white",
            "gridwidth": 2,
            "linecolor": "white",
            "showbackground": true,
            "ticks": "",
            "zerolinecolor": "white"
           },
           "zaxis": {
            "backgroundcolor": "#E5ECF6",
            "gridcolor": "white",
            "gridwidth": 2,
            "linecolor": "white",
            "showbackground": true,
            "ticks": "",
            "zerolinecolor": "white"
           }
          },
          "shapedefaults": {
           "line": {
            "color": "#2a3f5f"
           }
          },
          "ternary": {
           "aaxis": {
            "gridcolor": "white",
            "linecolor": "white",
            "ticks": ""
           },
           "baxis": {
            "gridcolor": "white",
            "linecolor": "white",
            "ticks": ""
           },
           "bgcolor": "#E5ECF6",
           "caxis": {
            "gridcolor": "white",
            "linecolor": "white",
            "ticks": ""
           }
          },
          "title": {
           "x": 0.05
          },
          "xaxis": {
           "automargin": true,
           "gridcolor": "white",
           "linecolor": "white",
           "ticks": "",
           "title": {
            "standoff": 15
           },
           "zerolinecolor": "white",
           "zerolinewidth": 2
          },
          "yaxis": {
           "automargin": true,
           "gridcolor": "white",
           "linecolor": "white",
           "ticks": "",
           "title": {
            "standoff": 15
           },
           "zerolinecolor": "white",
           "zerolinewidth": 2
          }
         }
        },
        "xaxis": {
         "anchor": "y",
         "domain": [
          0,
          1
         ],
         "title": {
          "text": "t"
         }
        },
        "yaxis": {
         "anchor": "x",
         "domain": [
          0,
          1
         ],
         "title": {
          "text": "value"
         }
        }
       }
      },
      "text/html": [
       "<div>                        <script type=\"text/javascript\">window.PlotlyConfig = {MathJaxConfig: 'local'};</script>\n",
       "        <script charset=\"utf-8\" src=\"https://cdn.plot.ly/plotly-3.0.1.min.js\"></script>                <div id=\"d1aa508a-5da2-4d7d-964e-02abb2505902\" class=\"plotly-graph-div\" style=\"height:100%; width:100%;\"></div>            <script type=\"text/javascript\">                window.PLOTLYENV=window.PLOTLYENV || {};                                if (document.getElementById(\"d1aa508a-5da2-4d7d-964e-02abb2505902\")) {                    Plotly.newPlot(                        \"d1aa508a-5da2-4d7d-964e-02abb2505902\",                        [{\"hovertemplate\":\"variable=S\\u003cbr\\u003et=%{x}\\u003cbr\\u003evalue=%{y}\\u003cextra\\u003e\\u003c\\u002fextra\\u003e\",\"legendgroup\":\"S\",\"line\":{\"color\":\"#636efa\",\"dash\":\"solid\"},\"marker\":{\"symbol\":\"circle\"},\"mode\":\"lines\",\"name\":\"S\",\"orientation\":\"v\",\"showlegend\":true,\"x\":{\"dtype\":\"f8\",\"bdata\":\"AAAAAAAAAACamZmZmZm5P5qZmZmZmck\\u002fNDMzMzMz0z+amZmZmZnZPwAAAAAAAOA\\u002fNDMzMzMz4z9nZmZmZmbmP5qZmZmZmek\\u002fzczMzMzM7D8AAAAAAADwP5qZmZmZmfE\\u002fNDMzMzMz8z\\u002fNzMzMzMz0P2dmZmZmZvY\\u002fAAAAAAAA+D+amZmZmZn5PzQzMzMzM\\u002fs\\u002fzczMzMzM\\u002fD9nZmZmZmb+PwAAAAAAAABAzczMzMzMAECamZmZmZkBQGdmZmZmZgJANDMzMzMzA0AAAAAAAAAEQM3MzMzMzARAmpmZmZmZBUBnZmZmZmYGQDQzMzMzMwdAAAAAAAAACEDNzMzMzMwIQJqZmZmZmQlAZ2ZmZmZmCkA0MzMzMzMLQAAAAAAAAAxAzczMzMzMDECamZmZmZkNQGdmZmZmZg5ANDMzMzMzD0AAAAAAAAAQQGdmZmZmZhBAzczMzMzMEEAzMzMzMzMRQJqZmZmZmRFAAAAAAAAAEkBnZmZmZmYSQM3MzMzMzBJANDMzMzMzE0CamZmZmZkTQAAAAAAAABRAZ2ZmZmZmFEDNzMzMzMwUQDQzMzMzMxVAmpmZmZmZFUAAAAAAAAAWQGdmZmZmZhZAzczMzMzMFkA0MzMzMzMXQJqZmZmZmRdAAAAAAAAAGEBnZmZmZmYYQM3MzMzMzBhANDMzMzMzGUCamZmZmZkZQAAAAAAAABpAZ2ZmZmZmGkDNzMzMzMwaQDQzMzMzMxtAmpmZmZmZG0AAAAAAAAAcQGdmZmZmZhxAzczMzMzMHEA0MzMzMzMdQJqZmZmZmR1AAAAAAAAAHkBnZmZmZmYeQM3MzMzMzB5ANDMzMzMzH0CamZmZmZkfQAAAAAAAACBAMzMzMzMzIEBnZmZmZmYgQJqZmZmZmSBAzczMzMzMIEAAAAAAAAAhQDMzMzMzMyFAZ2ZmZmZmIUCamZmZmZkhQM3MzMzMzCFAAAAAAAAAIkAzMzMzMzMiQGdmZmZmZiJAmpmZmZmZIkDNzMzMzMwiQAAAAAAAACNANDMzMzMzI0BnZmZmZmYjQJqZmZmZmSNAzczMzMzMI0AAAAAAAAAkQA==\"},\"xaxis\":\"x\",\"y\":{\"dtype\":\"f8\",\"bdata\":\"AAAAAAAAWUAPRYO5R9dYQEcHTCiZlVhAhccRDcEsWECh\\u002ft3SKIhXQNShHkdljFZASkFpdzcaVUCAvMskYBhTQFsPUttQhVBAEgMA+TQRS0DbfKhTyeNEQD9\\u002ftrtKbz5AVeiZhjYYNUCgZN+J1yIsQI4CCOQlQiJAEDCis1NGF0D7TrkQ7FcNQPsYP\\u002frHYQJA7w\\u002fob5L19j8pZ3kCTqXsP+QQEqi+3+E\\u002f3IlOr2FV2z\\u002fciU6vYVXbP9yJTq9hVds\\u002f3IlOr2FV2z\\u002fciU6vYVXbP9yJTq9hVds\\u002f3IlOr2FV2z\\u002fciU6vYVXbP9yJTq9hVds\\u002f3IlOr2FV2z\\u002fciU6vYVXbP9yJTq9hVds\\u002f3IlOr2FV2z\\u002fciU6vYVXbP9yJTq9hVds\\u002f3IlOr2FV2z\\u002fciU6vYVXbP9yJTq9hVds\\u002f3IlOr2FV2z\\u002fciU6vYVXbP9yJTq9hVds\\u002f3IlOr2FV2z\\u002fciU6vYVXbP9yJTq9hVds\\u002f3IlOr2FV2z\\u002fciU6vYVXbP9yJTq9hVds\\u002f3IlOr2FV2z\\u002fciU6vYVXbP9yJTq9hVds\\u002f3IlOr2FV2z\\u002fciU6vYVXbP9yJTq9hVds\\u002f3IlOr2FV2z\\u002fciU6vYVXbP9yJTq9hVds\\u002f3IlOr2FV2z\\u002fciU6vYVXbP9yJTq9hVds\\u002f3IlOr2FV2z\\u002fciU6vYVXbP9yJTq9hVds\\u002f3IlOr2FV2z\\u002fciU6vYVXbP9yJTq9hVds\\u002f3IlOr2FV2z\\u002fciU6vYVXbP9yJTq9hVds\\u002f3IlOr2FV2z\\u002fciU6vYVXbP9yJTq9hVds\\u002f3IlOr2FV2z\\u002fciU6vYVXbP9yJTq9hVds\\u002f3IlOr2FV2z\\u002fciU6vYVXbP9yJTq9hVds\\u002f3IlOr2FV2z\\u002fciU6vYVXbP9yJTq9hVds\\u002f3IlOr2FV2z\\u002fciU6vYVXbP9yJTq9hVds\\u002f3IlOr2FV2z\\u002fciU6vYVXbP9yJTq9hVds\\u002f3IlOr2FV2z\\u002fciU6vYVXbP9yJTq9hVds\\u002f3IlOr2FV2z\\u002fciU6vYVXbP9yJTq9hVds\\u002f3IlOr2FV2z\\u002fciU6vYVXbP9yJTq9hVds\\u002f3IlOr2FV2z\\u002fciU6vYVXbP9yJTq9hVds\\u002f3IlOr2FV2z\\u002fciU6vYVXbPw==\"},\"yaxis\":\"y\",\"type\":\"scatter\"},{\"hovertemplate\":\"variable=I\\u003cbr\\u003et=%{x}\\u003cbr\\u003evalue=%{y}\\u003cextra\\u003e\\u003c\\u002fextra\\u003e\",\"legendgroup\":\"I\",\"line\":{\"color\":\"#EF553B\",\"dash\":\"solid\"},\"marker\":{\"symbol\":\"circle\"},\"mode\":\"lines\",\"name\":\"I\",\"orientation\":\"v\",\"showlegend\":true,\"x\":{\"dtype\":\"f8\",\"bdata\":\"AAAAAAAAAACamZmZmZm5P5qZmZmZmck\\u002fNDMzMzMz0z+amZmZmZnZPwAAAAAAAOA\\u002fNDMzMzMz4z9nZmZmZmbmP5qZmZmZmek\\u002fzczMzMzM7D8AAAAAAADwP5qZmZmZmfE\\u002fNDMzMzMz8z\\u002fNzMzMzMz0P2dmZmZmZvY\\u002fAAAAAAAA+D+amZmZmZn5PzQzMzMzM\\u002fs\\u002fzczMzMzM\\u002fD9nZmZmZmb+PwAAAAAAAABAzczMzMzMAECamZmZmZkBQGdmZmZmZgJANDMzMzMzA0AAAAAAAAAEQM3MzMzMzARAmpmZmZmZBUBnZmZmZmYGQDQzMzMzMwdAAAAAAAAACEDNzMzMzMwIQJqZmZmZmQlAZ2ZmZmZmCkA0MzMzMzMLQAAAAAAAAAxAzczMzMzMDECamZmZmZkNQGdmZmZmZg5ANDMzMzMzD0AAAAAAAAAQQGdmZmZmZhBAzczMzMzMEEAzMzMzMzMRQJqZmZmZmRFAAAAAAAAAEkBnZmZmZmYSQM3MzMzMzBJANDMzMzMzE0CamZmZmZkTQAAAAAAAABRAZ2ZmZmZmFEDNzMzMzMwUQDQzMzMzMxVAmpmZmZmZFUAAAAAAAAAWQGdmZmZmZhZAzczMzMzMFkA0MzMzMzMXQJqZmZmZmRdAAAAAAAAAGEBnZmZmZmYYQM3MzMzMzBhANDMzMzMzGUCamZmZmZkZQAAAAAAAABpAZ2ZmZmZmGkDNzMzMzMwaQDQzMzMzMxtAmpmZmZmZG0AAAAAAAAAcQGdmZmZmZhxAzczMzMzMHEA0MzMzMzMdQJqZmZmZmR1AAAAAAAAAHkBnZmZmZmYeQM3MzMzMzB5ANDMzMzMzH0CamZmZmZkfQAAAAAAAACBAMzMzMzMzIEBnZmZmZmYgQJqZmZmZmSBAzczMzMzMIEAAAAAAAAAhQDMzMzMzMyFAZ2ZmZmZmIUCamZmZmZkhQM3MzMzMzCFAAAAAAAAAIkAzMzMzMzMiQGdmZmZmZiJAmpmZmZmZIkDNzMzMzMwiQAAAAAAAACNANDMzMzMzI0BnZmZmZmYjQJqZmZmZmSNAzczMzMzMI0AAAAAAAAAkQA==\"},\"xaxis\":\"x\",\"y\":{\"dtype\":\"f8\",\"bdata\":\"AAAAAAAA8D9Sh02y7BP6P8z0DyGFKgVAWPsUV5AREUDiWE5feT8bQAyOYSb9ZyVAJHqI5L1rMEBeRN9OhFk4QCkvP99WQEFASB1h7DsgR0CWmNRRfixNQMRJ+gMKWFFA\\u002fkZ2WliWU0CvNC\\u002fyGz5VQH6ogXqCXlZAqlRU+ooVV0Dcz5tapIFXQHk3KDBiu1dAeFb39HPUV0AQg\\u002fzax9hXQISS0pse0FdA8sn57Wa6V0Ce8H2zZ5xXQFPPDGWOfldAiIq10tpgV0D84cPMTENXQBzkvyPkJVdAvaFtqKAIV0BH4swrgutWQDTYGH+IzlZA9NXHc7OxVkAqA4vbApVWQFMSToh2eFZAvfY2TA5cVkDmmqX5yT9WQDGXM2OpI1ZAAemzW6wHVkAkqjK20utVQKLI9EUc0FVA6L533oi0VUBHTHFTGJlVQNEtz3jKfVVAlte2Ip9iVUAwLoUllkdVQK1AzlWvLFVA1AJdiOoRVUC9BzOSR\\u002fdUQMU8iEjG3FRA1qTKgGbCVEAKFJ4QKKhUQKDr280KjlRAS9aSjg50VEDQhAYpM1pUQANrr3N4QFRAEn06Rd4mVEAl7Yh0ZA1UQE\\u002fpr9gK9FNA3ln4SNHaU0Dxn96ct8FTQGhUEqy9qFNAIQd2TuOPU0CO\\u002fh5cKHdTQJf3VK2MXlNAz+WRGhBGU0D2s4F8si1TQNIEAqxzFVNAVPQhglP9UkAO2SHYUeVSQPIFc4duzVJAaIy3aam1UkCw\\u002fsFYAp5SQI0ylS55hlJAQgRkxQ1vUkDhGZH3v1dSQNmmrp+PQFJA3C9+mHwpUkAQT\\u002fC8hhJSQIV4JOit+1FA\\u002fL5o9fHkUUD3mDnAUs5RQBWmQSTQt1FAtXRZ\\u002fWmhUUDnR4cnIItRQJ7d\\u002fn7ydFFAOzUh4OBeUUBPVnwn60hRQLAXyzERM1FA0+b021IdUUBsjw0DsAdRQFgDVYQo8lBA0CI3PbzcUEDZhEsLa8dQQAZAVcw0slBAerNCXhmdUEAsUC2fGIhQQHdiWW0yc1BA79s1p2ZeUEBwHVwrtUlQQIDBj9gdNVBA6ma+jaAgUECje\\u002f8pPQxQQA==\"},\"yaxis\":\"y\",\"type\":\"scatter\"},{\"hovertemplate\":\"variable=R\\u003cbr\\u003et=%{x}\\u003cbr\\u003evalue=%{y}\\u003cextra\\u003e\\u003c\\u002fextra\\u003e\",\"legendgroup\":\"R\",\"line\":{\"color\":\"#00cc96\",\"dash\":\"solid\"},\"marker\":{\"symbol\":\"circle\"},\"mode\":\"lines\",\"name\":\"R\",\"orientation\":\"v\",\"showlegend\":true,\"x\":{\"dtype\":\"f8\",\"bdata\":\"AAAAAAAAAACamZmZmZm5P5qZmZmZmck\\u002fNDMzMzMz0z+amZmZmZnZPwAAAAAAAOA\\u002fNDMzMzMz4z9nZmZmZmbmP5qZmZmZmek\\u002fzczMzMzM7D8AAAAAAADwP5qZmZmZmfE\\u002fNDMzMzMz8z\\u002fNzMzMzMz0P2dmZmZmZvY\\u002fAAAAAAAA+D+amZmZmZn5PzQzMzMzM\\u002fs\\u002fzczMzMzM\\u002fD9nZmZmZmb+PwAAAAAAAABAzczMzMzMAECamZmZmZkBQGdmZmZmZgJANDMzMzMzA0AAAAAAAAAEQM3MzMzMzARAmpmZmZmZBUBnZmZmZmYGQDQzMzMzMwdAAAAAAAAACEDNzMzMzMwIQJqZmZmZmQlAZ2ZmZmZmCkA0MzMzMzMLQAAAAAAAAAxAzczMzMzMDECamZmZmZkNQGdmZmZmZg5ANDMzMzMzD0AAAAAAAAAQQGdmZmZmZhBAzczMzMzMEEAzMzMzMzMRQJqZmZmZmRFAAAAAAAAAEkBnZmZmZmYSQM3MzMzMzBJANDMzMzMzE0CamZmZmZkTQAAAAAAAABRAZ2ZmZmZmFEDNzMzMzMwUQDQzMzMzMxVAmpmZmZmZFUAAAAAAAAAWQGdmZmZmZhZAzczMzMzMFkA0MzMzMzMXQJqZmZmZmRdAAAAAAAAAGEBnZmZmZmYYQM3MzMzMzBhANDMzMzMzGUCamZmZmZkZQAAAAAAAABpAZ2ZmZmZmGkDNzMzMzMwaQDQzMzMzMxtAmpmZmZmZG0AAAAAAAAAcQGdmZmZmZhxAzczMzMzMHEA0MzMzMzMdQJqZmZmZmR1AAAAAAAAAHkBnZmZmZmYeQM3MzMzMzB5ANDMzMzMzH0CamZmZmZkfQAAAAAAAACBAMzMzMzMzIEBnZmZmZmYgQJqZmZmZmSBAzczMzMzMIEAAAAAAAAAhQDMzMzMzMyFAZ2ZmZmZmIUCamZmZmZkhQM3MzMzMzCFAAAAAAAAAIkAzMzMzMzMiQGdmZmZmZiJAmpmZmZmZIkDNzMzMzMwiQAAAAAAAACNANDMzMzMzI0BnZmZmZmYjQJqZmZmZmSNAzczMzMzMI0AAAAAAAAAkQA==\"},\"xaxis\":\"x\",\"y\":{\"dtype\":\"f8\",\"bdata\":\"AAAAAAAAAAAOyDTh7CR6PwkskbfqKpE\\u002ffzFG52svoT8rkN5oufyuPxyvsVRQbLo\\u002fn1tA6R6yxT+0aHJ8xz7RP\\u002fgQWQ61g9o\\u002fAuq3p8aj4z8spLqgFu7rPyubBUbTCPM\\u002fQ7vP+IDm+D9CrzclR2L\\u002fPw7mqh8ZJwNApwoxTvnBBkCgtcybiHMKQAD4uQDyMQ5AhZSQFFz7EEApouiP2N4SQLeV1G0ewhRARnhuBTukFkCKDSytLoQYQDwiPpTDYRpA7G6yufw8HECc98wY3RUeQKfVDKln7B9AzX0Yr0\\u002fgIEB9eR6UQ8khQBXKvvkQsSJAHNxGVLmXI0Bqci0WPn0kQCT5FLCgYSVA19XNkOJEJkCWtFglBScnQDvS6NgJCChAvEPmFPLnKECoOvBAv8YpQLVG38JypCpAh5TH\\u002fg2BK0CYKftWklwsQEUdDCwBNy1AG8\\u002fO3FsQLkBLGlzGo+guQGKGE0Tavy9AlrrOVwBLMEDzpnYwjLUwQNfSIVeRHzFAkzIYdhCJMUDDdco2CvIxQGkX00F\\u002fWjJAwGz3PnDCMkCrsijV3SkzQNsZharIkDNAnNFYZDH3M0BUER+nGF00QKoggxZ\\u002fwjRAbF5hVWUnNUAdRsgFzIs1QEJ0+ciz7zVAXalqPx1TNkCny8YICbY2QILn7sN3GDdApy77Dmp6N0AO9juH4Ns3QJ2yOsnbPDhAkfS6cFydOECoYbsYY\\u002f04QBmudlvwXDlAP5Rk0gS8OUAhyzoWoRo6QK\\u002f77b7FeDpA1rSyY3PWOkBZXv6aqjM7QHoqiPprkDtAawZKF7jsO0CaiYGFj0g8QMbjsNjyozxA6smfo+L+PED9YVx4X1k9QIYtPOhpsz1ABvPcgwINPkBDpiXbKWY+QGRPR33gvj5A7\\u002fC9+CYXP0CdbFHb\\u002fW4\\u002fQBhnFrJlxj9ARpW3hK8OQEAURIY29TlAQDpc9zMEZUBASx0zwtyPQEA5WQomf7pAQN7i9qPr5EBA9\\u002fsbgCIPQUCUwkb+IzlBQP6d7mHwYkFAEKs17oeMQUAOKOnl6rVBQOzfgYsZ30FAFZUkIRQIQkCla6Lo2jBCQA==\"},\"yaxis\":\"y\",\"type\":\"scatter\"}],                        {\"template\":{\"data\":{\"histogram2dcontour\":[{\"type\":\"histogram2dcontour\",\"colorbar\":{\"outlinewidth\":0,\"ticks\":\"\"},\"colorscale\":[[0.0,\"#0d0887\"],[0.1111111111111111,\"#46039f\"],[0.2222222222222222,\"#7201a8\"],[0.3333333333333333,\"#9c179e\"],[0.4444444444444444,\"#bd3786\"],[0.5555555555555556,\"#d8576b\"],[0.6666666666666666,\"#ed7953\"],[0.7777777777777778,\"#fb9f3a\"],[0.8888888888888888,\"#fdca26\"],[1.0,\"#f0f921\"]]}],\"choropleth\":[{\"type\":\"choropleth\",\"colorbar\":{\"outlinewidth\":0,\"ticks\":\"\"}}],\"histogram2d\":[{\"type\":\"histogram2d\",\"colorbar\":{\"outlinewidth\":0,\"ticks\":\"\"},\"colorscale\":[[0.0,\"#0d0887\"],[0.1111111111111111,\"#46039f\"],[0.2222222222222222,\"#7201a8\"],[0.3333333333333333,\"#9c179e\"],[0.4444444444444444,\"#bd3786\"],[0.5555555555555556,\"#d8576b\"],[0.6666666666666666,\"#ed7953\"],[0.7777777777777778,\"#fb9f3a\"],[0.8888888888888888,\"#fdca26\"],[1.0,\"#f0f921\"]]}],\"heatmap\":[{\"type\":\"heatmap\",\"colorbar\":{\"outlinewidth\":0,\"ticks\":\"\"},\"colorscale\":[[0.0,\"#0d0887\"],[0.1111111111111111,\"#46039f\"],[0.2222222222222222,\"#7201a8\"],[0.3333333333333333,\"#9c179e\"],[0.4444444444444444,\"#bd3786\"],[0.5555555555555556,\"#d8576b\"],[0.6666666666666666,\"#ed7953\"],[0.7777777777777778,\"#fb9f3a\"],[0.8888888888888888,\"#fdca26\"],[1.0,\"#f0f921\"]]}],\"contourcarpet\":[{\"type\":\"contourcarpet\",\"colorbar\":{\"outlinewidth\":0,\"ticks\":\"\"}}],\"contour\":[{\"type\":\"contour\",\"colorbar\":{\"outlinewidth\":0,\"ticks\":\"\"},\"colorscale\":[[0.0,\"#0d0887\"],[0.1111111111111111,\"#46039f\"],[0.2222222222222222,\"#7201a8\"],[0.3333333333333333,\"#9c179e\"],[0.4444444444444444,\"#bd3786\"],[0.5555555555555556,\"#d8576b\"],[0.6666666666666666,\"#ed7953\"],[0.7777777777777778,\"#fb9f3a\"],[0.8888888888888888,\"#fdca26\"],[1.0,\"#f0f921\"]]}],\"surface\":[{\"type\":\"surface\",\"colorbar\":{\"outlinewidth\":0,\"ticks\":\"\"},\"colorscale\":[[0.0,\"#0d0887\"],[0.1111111111111111,\"#46039f\"],[0.2222222222222222,\"#7201a8\"],[0.3333333333333333,\"#9c179e\"],[0.4444444444444444,\"#bd3786\"],[0.5555555555555556,\"#d8576b\"],[0.6666666666666666,\"#ed7953\"],[0.7777777777777778,\"#fb9f3a\"],[0.8888888888888888,\"#fdca26\"],[1.0,\"#f0f921\"]]}],\"mesh3d\":[{\"type\":\"mesh3d\",\"colorbar\":{\"outlinewidth\":0,\"ticks\":\"\"}}],\"scatter\":[{\"fillpattern\":{\"fillmode\":\"overlay\",\"size\":10,\"solidity\":0.2},\"type\":\"scatter\"}],\"parcoords\":[{\"type\":\"parcoords\",\"line\":{\"colorbar\":{\"outlinewidth\":0,\"ticks\":\"\"}}}],\"scatterpolargl\":[{\"type\":\"scatterpolargl\",\"marker\":{\"colorbar\":{\"outlinewidth\":0,\"ticks\":\"\"}}}],\"bar\":[{\"error_x\":{\"color\":\"#2a3f5f\"},\"error_y\":{\"color\":\"#2a3f5f\"},\"marker\":{\"line\":{\"color\":\"#E5ECF6\",\"width\":0.5},\"pattern\":{\"fillmode\":\"overlay\",\"size\":10,\"solidity\":0.2}},\"type\":\"bar\"}],\"scattergeo\":[{\"type\":\"scattergeo\",\"marker\":{\"colorbar\":{\"outlinewidth\":0,\"ticks\":\"\"}}}],\"scatterpolar\":[{\"type\":\"scatterpolar\",\"marker\":{\"colorbar\":{\"outlinewidth\":0,\"ticks\":\"\"}}}],\"histogram\":[{\"marker\":{\"pattern\":{\"fillmode\":\"overlay\",\"size\":10,\"solidity\":0.2}},\"type\":\"histogram\"}],\"scattergl\":[{\"type\":\"scattergl\",\"marker\":{\"colorbar\":{\"outlinewidth\":0,\"ticks\":\"\"}}}],\"scatter3d\":[{\"type\":\"scatter3d\",\"line\":{\"colorbar\":{\"outlinewidth\":0,\"ticks\":\"\"}},\"marker\":{\"colorbar\":{\"outlinewidth\":0,\"ticks\":\"\"}}}],\"scattermap\":[{\"type\":\"scattermap\",\"marker\":{\"colorbar\":{\"outlinewidth\":0,\"ticks\":\"\"}}}],\"scattermapbox\":[{\"type\":\"scattermapbox\",\"marker\":{\"colorbar\":{\"outlinewidth\":0,\"ticks\":\"\"}}}],\"scatterternary\":[{\"type\":\"scatterternary\",\"marker\":{\"colorbar\":{\"outlinewidth\":0,\"ticks\":\"\"}}}],\"scattercarpet\":[{\"type\":\"scattercarpet\",\"marker\":{\"colorbar\":{\"outlinewidth\":0,\"ticks\":\"\"}}}],\"carpet\":[{\"aaxis\":{\"endlinecolor\":\"#2a3f5f\",\"gridcolor\":\"white\",\"linecolor\":\"white\",\"minorgridcolor\":\"white\",\"startlinecolor\":\"#2a3f5f\"},\"baxis\":{\"endlinecolor\":\"#2a3f5f\",\"gridcolor\":\"white\",\"linecolor\":\"white\",\"minorgridcolor\":\"white\",\"startlinecolor\":\"#2a3f5f\"},\"type\":\"carpet\"}],\"table\":[{\"cells\":{\"fill\":{\"color\":\"#EBF0F8\"},\"line\":{\"color\":\"white\"}},\"header\":{\"fill\":{\"color\":\"#C8D4E3\"},\"line\":{\"color\":\"white\"}},\"type\":\"table\"}],\"barpolar\":[{\"marker\":{\"line\":{\"color\":\"#E5ECF6\",\"width\":0.5},\"pattern\":{\"fillmode\":\"overlay\",\"size\":10,\"solidity\":0.2}},\"type\":\"barpolar\"}],\"pie\":[{\"automargin\":true,\"type\":\"pie\"}]},\"layout\":{\"autotypenumbers\":\"strict\",\"colorway\":[\"#636efa\",\"#EF553B\",\"#00cc96\",\"#ab63fa\",\"#FFA15A\",\"#19d3f3\",\"#FF6692\",\"#B6E880\",\"#FF97FF\",\"#FECB52\"],\"font\":{\"color\":\"#2a3f5f\"},\"hovermode\":\"closest\",\"hoverlabel\":{\"align\":\"left\"},\"paper_bgcolor\":\"white\",\"plot_bgcolor\":\"#E5ECF6\",\"polar\":{\"bgcolor\":\"#E5ECF6\",\"angularaxis\":{\"gridcolor\":\"white\",\"linecolor\":\"white\",\"ticks\":\"\"},\"radialaxis\":{\"gridcolor\":\"white\",\"linecolor\":\"white\",\"ticks\":\"\"}},\"ternary\":{\"bgcolor\":\"#E5ECF6\",\"aaxis\":{\"gridcolor\":\"white\",\"linecolor\":\"white\",\"ticks\":\"\"},\"baxis\":{\"gridcolor\":\"white\",\"linecolor\":\"white\",\"ticks\":\"\"},\"caxis\":{\"gridcolor\":\"white\",\"linecolor\":\"white\",\"ticks\":\"\"}},\"coloraxis\":{\"colorbar\":{\"outlinewidth\":0,\"ticks\":\"\"}},\"colorscale\":{\"sequential\":[[0.0,\"#0d0887\"],[0.1111111111111111,\"#46039f\"],[0.2222222222222222,\"#7201a8\"],[0.3333333333333333,\"#9c179e\"],[0.4444444444444444,\"#bd3786\"],[0.5555555555555556,\"#d8576b\"],[0.6666666666666666,\"#ed7953\"],[0.7777777777777778,\"#fb9f3a\"],[0.8888888888888888,\"#fdca26\"],[1.0,\"#f0f921\"]],\"sequentialminus\":[[0.0,\"#0d0887\"],[0.1111111111111111,\"#46039f\"],[0.2222222222222222,\"#7201a8\"],[0.3333333333333333,\"#9c179e\"],[0.4444444444444444,\"#bd3786\"],[0.5555555555555556,\"#d8576b\"],[0.6666666666666666,\"#ed7953\"],[0.7777777777777778,\"#fb9f3a\"],[0.8888888888888888,\"#fdca26\"],[1.0,\"#f0f921\"]],\"diverging\":[[0,\"#8e0152\"],[0.1,\"#c51b7d\"],[0.2,\"#de77ae\"],[0.3,\"#f1b6da\"],[0.4,\"#fde0ef\"],[0.5,\"#f7f7f7\"],[0.6,\"#e6f5d0\"],[0.7,\"#b8e186\"],[0.8,\"#7fbc41\"],[0.9,\"#4d9221\"],[1,\"#276419\"]]},\"xaxis\":{\"gridcolor\":\"white\",\"linecolor\":\"white\",\"ticks\":\"\",\"title\":{\"standoff\":15},\"zerolinecolor\":\"white\",\"automargin\":true,\"zerolinewidth\":2},\"yaxis\":{\"gridcolor\":\"white\",\"linecolor\":\"white\",\"ticks\":\"\",\"title\":{\"standoff\":15},\"zerolinecolor\":\"white\",\"automargin\":true,\"zerolinewidth\":2},\"scene\":{\"xaxis\":{\"backgroundcolor\":\"#E5ECF6\",\"gridcolor\":\"white\",\"linecolor\":\"white\",\"showbackground\":true,\"ticks\":\"\",\"zerolinecolor\":\"white\",\"gridwidth\":2},\"yaxis\":{\"backgroundcolor\":\"#E5ECF6\",\"gridcolor\":\"white\",\"linecolor\":\"white\",\"showbackground\":true,\"ticks\":\"\",\"zerolinecolor\":\"white\",\"gridwidth\":2},\"zaxis\":{\"backgroundcolor\":\"#E5ECF6\",\"gridcolor\":\"white\",\"linecolor\":\"white\",\"showbackground\":true,\"ticks\":\"\",\"zerolinecolor\":\"white\",\"gridwidth\":2}},\"shapedefaults\":{\"line\":{\"color\":\"#2a3f5f\"}},\"annotationdefaults\":{\"arrowcolor\":\"#2a3f5f\",\"arrowhead\":0,\"arrowwidth\":1},\"geo\":{\"bgcolor\":\"white\",\"landcolor\":\"#E5ECF6\",\"subunitcolor\":\"white\",\"showland\":true,\"showlakes\":true,\"lakecolor\":\"white\"},\"title\":{\"x\":0.05},\"mapbox\":{\"style\":\"light\"}}},\"xaxis\":{\"anchor\":\"y\",\"domain\":[0.0,1.0],\"title\":{\"text\":\"t\"}},\"yaxis\":{\"anchor\":\"x\",\"domain\":[0.0,1.0],\"title\":{\"text\":\"value\"}},\"legend\":{\"title\":{\"text\":\"variable\"},\"tracegroupgap\":0},\"margin\":{\"t\":60}},                        {\"responsive\": true}                    )                };            </script>        </div>"
      ],
      "text/plain": [
       "Figure({\n",
       "    'data': [{'hovertemplate': 'variable=S<br>t=%{x}<br>value=%{y}<extra></extra>',\n",
       "              'legendgroup': 'S',\n",
       "              'line': {'color': '#636efa', 'dash': 'solid'},\n",
       "              'marker': {'symbol': 'circle'},\n",
       "              'mode': 'lines',\n",
       "              'name': 'S',\n",
       "              'orientation': 'v',\n",
       "              'showlegend': True,\n",
       "              'type': 'scatter',\n",
       "              'x': {'bdata': ('AAAAAAAAAACamZmZmZm5P5qZmZmZmc' ... 'mZmSNAzczMzMzMI0AAAAAAAAAkQA=='),\n",
       "                    'dtype': 'f8'},\n",
       "              'xaxis': 'x',\n",
       "              'y': {'bdata': ('AAAAAAAAWUAPRYO5R9dYQEcHTCiZlV' ... '9hVds/3IlOr2FV2z/ciU6vYVXbPw=='),\n",
       "                    'dtype': 'f8'},\n",
       "              'yaxis': 'y'},\n",
       "             {'hovertemplate': 'variable=I<br>t=%{x}<br>value=%{y}<extra></extra>',\n",
       "              'legendgroup': 'I',\n",
       "              'line': {'color': '#EF553B', 'dash': 'solid'},\n",
       "              'marker': {'symbol': 'circle'},\n",
       "              'mode': 'lines',\n",
       "              'name': 'I',\n",
       "              'orientation': 'v',\n",
       "              'showlegend': True,\n",
       "              'type': 'scatter',\n",
       "              'x': {'bdata': ('AAAAAAAAAACamZmZmZm5P5qZmZmZmc' ... 'mZmSNAzczMzMzMI0AAAAAAAAAkQA=='),\n",
       "                    'dtype': 'f8'},\n",
       "              'xaxis': 'x',\n",
       "              'y': {'bdata': ('AAAAAAAA8D9Sh02y7BP6P8z0DyGFKg' ... 'gdNVBA6ma+jaAgUECje/8pPQxQQA=='),\n",
       "                    'dtype': 'f8'},\n",
       "              'yaxis': 'y'},\n",
       "             {'hovertemplate': 'variable=R<br>t=%{x}<br>value=%{y}<extra></extra>',\n",
       "              'legendgroup': 'R',\n",
       "              'line': {'color': '#00cc96', 'dash': 'solid'},\n",
       "              'marker': {'symbol': 'circle'},\n",
       "              'mode': 'lines',\n",
       "              'name': 'R',\n",
       "              'orientation': 'v',\n",
       "              'showlegend': True,\n",
       "              'type': 'scatter',\n",
       "              'x': {'bdata': ('AAAAAAAAAACamZmZmZm5P5qZmZmZmc' ... 'mZmSNAzczMzMzMI0AAAAAAAAAkQA=='),\n",
       "                    'dtype': 'f8'},\n",
       "              'xaxis': 'x',\n",
       "              'y': {'bdata': ('AAAAAAAAAAAOyDTh7CR6PwkskbfqKp' ... 'sZ30FAFZUkIRQIQkCla6Lo2jBCQA=='),\n",
       "                    'dtype': 'f8'},\n",
       "              'yaxis': 'y'}],\n",
       "    'layout': {'legend': {'title': {'text': 'variable'}, 'tracegroupgap': 0},\n",
       "               'margin': {'t': 60},\n",
       "               'template': '...',\n",
       "               'xaxis': {'anchor': 'y', 'domain': [0.0, 1.0], 'title': {'text': 't'}},\n",
       "               'yaxis': {'anchor': 'x', 'domain': [0.0, 1.0], 'title': {'text': 'value'}}}\n",
       "})"
      ]
     },
     "execution_count": 24,
     "metadata": {},
     "output_type": "execute_result"
    }
   ],
   "source": [
    "fig = px.line(df, x=\"t\", y=[\"S\",\"I\",\"R\"])\n",
    "fig"
   ]
  }
 ],
 "metadata": {
  "kernelspec": {
   "display_name": ".venv",
   "language": "python",
   "name": "python3"
  },
  "language_info": {
   "codemirror_mode": {
    "name": "ipython",
    "version": 3
   },
   "file_extension": ".py",
   "mimetype": "text/x-python",
   "name": "python",
   "nbconvert_exporter": "python",
   "pygments_lexer": "ipython3",
   "version": "3.13.3"
  }
 },
 "nbformat": 4,
 "nbformat_minor": 5
}
