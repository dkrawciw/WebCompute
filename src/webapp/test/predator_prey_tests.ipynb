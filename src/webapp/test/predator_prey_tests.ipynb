{
 "cells": [
  {
   "cell_type": "code",
   "execution_count": 4,
   "id": "522eb1e2",
   "metadata": {},
   "outputs": [],
   "source": [
    "import sys\n",
    "sys.path.append(\"..\")\n",
    "\n",
    "from src.PredatorPrey.PredatorPrey import PredatorPrey\n",
    "import plotly.express as px\n",
    "import pandas as pd"
   ]
  },
  {
   "cell_type": "code",
   "execution_count": 5,
   "id": "eef83412",
   "metadata": {},
   "outputs": [
    {
     "data": {
      "application/vnd.microsoft.datawrangler.viewer.v0+json": {
       "columns": [
        {
         "name": "index",
         "rawType": "int64",
         "type": "integer"
        },
        {
         "name": "Rabbits",
         "rawType": "float64",
         "type": "float"
        },
        {
         "name": "Foxes",
         "rawType": "float64",
         "type": "float"
        },
        {
         "name": "t",
         "rawType": "float64",
         "type": "float"
        }
       ],
       "ref": "9bc51c48-d8b7-41c0-9b3b-e5797f5d56b1",
       "rows": [
        [
         "0",
         "10.0",
         "10.0",
         "0.0"
        ],
        [
         "1",
         "0.06708669763617603",
         "6.1396480142508665",
         "2.0408163265306123"
        ],
        [
         "2",
         "0.020445836303086763",
         "2.7314758552083838",
         "4.081632653061225"
        ],
        [
         "3",
         "0.04186820784817051",
         "1.2134483867061143",
         "6.122448979591837"
        ],
        [
         "4",
         "0.20195284867065044",
         "0.5476788993197973",
         "8.16326530612245"
        ],
        [
         "5",
         "1.3820748457126952",
         "0.273884597678304",
         "10.204081632653061"
        ],
        [
         "6",
         "10.62891050644793",
         "0.30530197244460505",
         "12.244897959183675"
        ],
        [
         "7",
         "11.441517505610552",
         "9.620512716550575",
         "14.285714285714286"
        ],
        [
         "8",
         "0.07375233416805253",
         "6.230407953171844",
         "16.3265306122449"
        ],
        [
         "9",
         "0.02133175888320132",
         "2.7731484856652244",
         "18.367346938775512"
        ],
        [
         "10",
         "0.04276523446128398",
         "1.2328450629478946",
         "20.408163265306122"
        ],
        [
         "11",
         "0.20182419565309437",
         "0.5560712140041721",
         "22.448979591836736"
        ],
        [
         "12",
         "1.3804477762209915",
         "0.27809079663405434",
         "24.48979591836735"
        ],
        [
         "13",
         "10.545522878845862",
         "0.31715169527166814",
         "26.53061224489796"
        ],
        [
         "14",
         "11.234915861494455",
         "9.480632381597019",
         "28.571428571428573"
        ],
        [
         "15",
         "0.08095731542714568",
         "6.151638045378411",
         "30.612244897959183"
        ],
        [
         "16",
         "0.0243942724632796",
         "2.7403563556959516",
         "32.6530612244898"
        ],
        [
         "17",
         "0.04976169577636626",
         "1.2189058248006823",
         "34.69387755102041"
        ],
        [
         "18",
         "0.23843939658698227",
         "0.5519998533541708",
         "36.734693877551024"
        ],
        [
         "19",
         "1.6216247013427847",
         "0.2819276805749315",
         "38.775510204081634"
        ],
        [
         "20",
         "12.25804076016355",
         "0.36550081146886704",
         "40.816326530612244"
        ],
        [
         "21",
         "7.302833545873748",
         "10.244596714859995",
         "42.85714285714286"
        ],
        [
         "22",
         "0.06662918466581327",
         "5.796616034696454",
         "44.89795918367347"
        ],
        [
         "23",
         "0.024670963054368385",
         "2.5802800916336115",
         "46.93877551020408"
        ],
        [
         "24",
         "0.05490265531945181",
         "1.1480939487582043",
         "48.9795918367347"
        ],
        [
         "25",
         "0.27325245777646906",
         "0.5216432690694603",
         "51.02040816326531"
        ],
        [
         "26",
         "1.897926484066236",
         "0.2729366142755291",
         "53.06122448979592"
        ],
        [
         "27",
         "14.244786017395347",
         "0.42646669130858145",
         "55.10204081632653"
        ],
        [
         "28",
         "4.4878281888511875",
         "10.520578063623828",
         "57.142857142857146"
        ],
        [
         "29",
         "0.05634197790832834",
         "5.439179698186612",
         "59.183673469387756"
        ],
        [
         "30",
         "0.025360447237018843",
         "2.4200401871279333",
         "61.224489795918366"
        ],
        [
         "31",
         "0.06189057405680315",
         "1.0777008842683993",
         "63.26530612244898"
        ],
        [
         "32",
         "0.3189722587562632",
         "0.4915200580610314",
         "65.3061224489796"
        ],
        [
         "33",
         "2.2427074211763642",
         "0.26512600763225586",
         "67.34693877551021"
        ],
        [
         "34",
         "16.6978640359748",
         "0.5067231300767108",
         "69.38775510204081"
        ],
        [
         "35",
         "2.669217281620686",
         "10.213696632254177",
         "71.42857142857143"
        ],
        [
         "36",
         "0.05359448243626063",
         "5.000100411770122",
         "73.46938775510205"
        ],
        [
         "37",
         "0.0311764216474916",
         "2.225794558756804",
         "75.51020408163265"
        ],
        [
         "38",
         "0.08444928881863928",
         "0.9933442980716691",
         "77.55102040816327"
        ],
        [
         "39",
         "0.45682359092702574",
         "0.45909148474607175",
         "79.59183673469389"
        ],
        [
         "40",
         "3.263728883665756",
         "0.2706579732149692",
         "81.63265306122449"
        ],
        [
         "41",
         "22.10686481415169",
         "1.009555019660227",
         "83.6734693877551"
        ],
        [
         "42",
         "0.9860641338978059",
         "9.160661070322178",
         "85.71428571428572"
        ],
        [
         "43",
         "0.04737676719229221",
         "4.245017315746121",
         "87.75510204081633"
        ],
        [
         "44",
         "0.04155530037682549",
         "1.8910563573510992",
         "89.79591836734694"
        ],
        [
         "45",
         "0.13574603105491417",
         "0.8486173752884552",
         "91.83673469387756"
        ],
        [
         "46",
         "0.7878688128349314",
         "0.4039586120518741",
         "93.87755102040816"
        ],
        [
         "47",
         "5.736007095516328",
         "0.2957926293313673",
         "95.91836734693878"
        ],
        [
         "48",
         "25.516061916302842",
         "3.4877403455642817",
         "97.9591836734694"
        ],
        [
         "49",
         "0.29615572109915134",
         "7.422295046193143",
         "100.0"
        ]
       ],
       "shape": {
        "columns": 3,
        "rows": 50
       }
      },
      "text/html": [
       "<div>\n",
       "<style scoped>\n",
       "    .dataframe tbody tr th:only-of-type {\n",
       "        vertical-align: middle;\n",
       "    }\n",
       "\n",
       "    .dataframe tbody tr th {\n",
       "        vertical-align: top;\n",
       "    }\n",
       "\n",
       "    .dataframe thead th {\n",
       "        text-align: right;\n",
       "    }\n",
       "</style>\n",
       "<table border=\"1\" class=\"dataframe\">\n",
       "  <thead>\n",
       "    <tr style=\"text-align: right;\">\n",
       "      <th></th>\n",
       "      <th>Rabbits</th>\n",
       "      <th>Foxes</th>\n",
       "      <th>t</th>\n",
       "    </tr>\n",
       "  </thead>\n",
       "  <tbody>\n",
       "    <tr>\n",
       "      <th>0</th>\n",
       "      <td>10.000000</td>\n",
       "      <td>10.000000</td>\n",
       "      <td>0.000000</td>\n",
       "    </tr>\n",
       "    <tr>\n",
       "      <th>1</th>\n",
       "      <td>0.067087</td>\n",
       "      <td>6.139648</td>\n",
       "      <td>2.040816</td>\n",
       "    </tr>\n",
       "    <tr>\n",
       "      <th>2</th>\n",
       "      <td>0.020446</td>\n",
       "      <td>2.731476</td>\n",
       "      <td>4.081633</td>\n",
       "    </tr>\n",
       "    <tr>\n",
       "      <th>3</th>\n",
       "      <td>0.041868</td>\n",
       "      <td>1.213448</td>\n",
       "      <td>6.122449</td>\n",
       "    </tr>\n",
       "    <tr>\n",
       "      <th>4</th>\n",
       "      <td>0.201953</td>\n",
       "      <td>0.547679</td>\n",
       "      <td>8.163265</td>\n",
       "    </tr>\n",
       "    <tr>\n",
       "      <th>5</th>\n",
       "      <td>1.382075</td>\n",
       "      <td>0.273885</td>\n",
       "      <td>10.204082</td>\n",
       "    </tr>\n",
       "    <tr>\n",
       "      <th>6</th>\n",
       "      <td>10.628911</td>\n",
       "      <td>0.305302</td>\n",
       "      <td>12.244898</td>\n",
       "    </tr>\n",
       "    <tr>\n",
       "      <th>7</th>\n",
       "      <td>11.441518</td>\n",
       "      <td>9.620513</td>\n",
       "      <td>14.285714</td>\n",
       "    </tr>\n",
       "    <tr>\n",
       "      <th>8</th>\n",
       "      <td>0.073752</td>\n",
       "      <td>6.230408</td>\n",
       "      <td>16.326531</td>\n",
       "    </tr>\n",
       "    <tr>\n",
       "      <th>9</th>\n",
       "      <td>0.021332</td>\n",
       "      <td>2.773148</td>\n",
       "      <td>18.367347</td>\n",
       "    </tr>\n",
       "    <tr>\n",
       "      <th>10</th>\n",
       "      <td>0.042765</td>\n",
       "      <td>1.232845</td>\n",
       "      <td>20.408163</td>\n",
       "    </tr>\n",
       "    <tr>\n",
       "      <th>11</th>\n",
       "      <td>0.201824</td>\n",
       "      <td>0.556071</td>\n",
       "      <td>22.448980</td>\n",
       "    </tr>\n",
       "    <tr>\n",
       "      <th>12</th>\n",
       "      <td>1.380448</td>\n",
       "      <td>0.278091</td>\n",
       "      <td>24.489796</td>\n",
       "    </tr>\n",
       "    <tr>\n",
       "      <th>13</th>\n",
       "      <td>10.545523</td>\n",
       "      <td>0.317152</td>\n",
       "      <td>26.530612</td>\n",
       "    </tr>\n",
       "    <tr>\n",
       "      <th>14</th>\n",
       "      <td>11.234916</td>\n",
       "      <td>9.480632</td>\n",
       "      <td>28.571429</td>\n",
       "    </tr>\n",
       "    <tr>\n",
       "      <th>15</th>\n",
       "      <td>0.080957</td>\n",
       "      <td>6.151638</td>\n",
       "      <td>30.612245</td>\n",
       "    </tr>\n",
       "    <tr>\n",
       "      <th>16</th>\n",
       "      <td>0.024394</td>\n",
       "      <td>2.740356</td>\n",
       "      <td>32.653061</td>\n",
       "    </tr>\n",
       "    <tr>\n",
       "      <th>17</th>\n",
       "      <td>0.049762</td>\n",
       "      <td>1.218906</td>\n",
       "      <td>34.693878</td>\n",
       "    </tr>\n",
       "    <tr>\n",
       "      <th>18</th>\n",
       "      <td>0.238439</td>\n",
       "      <td>0.552000</td>\n",
       "      <td>36.734694</td>\n",
       "    </tr>\n",
       "    <tr>\n",
       "      <th>19</th>\n",
       "      <td>1.621625</td>\n",
       "      <td>0.281928</td>\n",
       "      <td>38.775510</td>\n",
       "    </tr>\n",
       "    <tr>\n",
       "      <th>20</th>\n",
       "      <td>12.258041</td>\n",
       "      <td>0.365501</td>\n",
       "      <td>40.816327</td>\n",
       "    </tr>\n",
       "    <tr>\n",
       "      <th>21</th>\n",
       "      <td>7.302834</td>\n",
       "      <td>10.244597</td>\n",
       "      <td>42.857143</td>\n",
       "    </tr>\n",
       "    <tr>\n",
       "      <th>22</th>\n",
       "      <td>0.066629</td>\n",
       "      <td>5.796616</td>\n",
       "      <td>44.897959</td>\n",
       "    </tr>\n",
       "    <tr>\n",
       "      <th>23</th>\n",
       "      <td>0.024671</td>\n",
       "      <td>2.580280</td>\n",
       "      <td>46.938776</td>\n",
       "    </tr>\n",
       "    <tr>\n",
       "      <th>24</th>\n",
       "      <td>0.054903</td>\n",
       "      <td>1.148094</td>\n",
       "      <td>48.979592</td>\n",
       "    </tr>\n",
       "    <tr>\n",
       "      <th>25</th>\n",
       "      <td>0.273252</td>\n",
       "      <td>0.521643</td>\n",
       "      <td>51.020408</td>\n",
       "    </tr>\n",
       "    <tr>\n",
       "      <th>26</th>\n",
       "      <td>1.897926</td>\n",
       "      <td>0.272937</td>\n",
       "      <td>53.061224</td>\n",
       "    </tr>\n",
       "    <tr>\n",
       "      <th>27</th>\n",
       "      <td>14.244786</td>\n",
       "      <td>0.426467</td>\n",
       "      <td>55.102041</td>\n",
       "    </tr>\n",
       "    <tr>\n",
       "      <th>28</th>\n",
       "      <td>4.487828</td>\n",
       "      <td>10.520578</td>\n",
       "      <td>57.142857</td>\n",
       "    </tr>\n",
       "    <tr>\n",
       "      <th>29</th>\n",
       "      <td>0.056342</td>\n",
       "      <td>5.439180</td>\n",
       "      <td>59.183673</td>\n",
       "    </tr>\n",
       "    <tr>\n",
       "      <th>30</th>\n",
       "      <td>0.025360</td>\n",
       "      <td>2.420040</td>\n",
       "      <td>61.224490</td>\n",
       "    </tr>\n",
       "    <tr>\n",
       "      <th>31</th>\n",
       "      <td>0.061891</td>\n",
       "      <td>1.077701</td>\n",
       "      <td>63.265306</td>\n",
       "    </tr>\n",
       "    <tr>\n",
       "      <th>32</th>\n",
       "      <td>0.318972</td>\n",
       "      <td>0.491520</td>\n",
       "      <td>65.306122</td>\n",
       "    </tr>\n",
       "    <tr>\n",
       "      <th>33</th>\n",
       "      <td>2.242707</td>\n",
       "      <td>0.265126</td>\n",
       "      <td>67.346939</td>\n",
       "    </tr>\n",
       "    <tr>\n",
       "      <th>34</th>\n",
       "      <td>16.697864</td>\n",
       "      <td>0.506723</td>\n",
       "      <td>69.387755</td>\n",
       "    </tr>\n",
       "    <tr>\n",
       "      <th>35</th>\n",
       "      <td>2.669217</td>\n",
       "      <td>10.213697</td>\n",
       "      <td>71.428571</td>\n",
       "    </tr>\n",
       "    <tr>\n",
       "      <th>36</th>\n",
       "      <td>0.053594</td>\n",
       "      <td>5.000100</td>\n",
       "      <td>73.469388</td>\n",
       "    </tr>\n",
       "    <tr>\n",
       "      <th>37</th>\n",
       "      <td>0.031176</td>\n",
       "      <td>2.225795</td>\n",
       "      <td>75.510204</td>\n",
       "    </tr>\n",
       "    <tr>\n",
       "      <th>38</th>\n",
       "      <td>0.084449</td>\n",
       "      <td>0.993344</td>\n",
       "      <td>77.551020</td>\n",
       "    </tr>\n",
       "    <tr>\n",
       "      <th>39</th>\n",
       "      <td>0.456824</td>\n",
       "      <td>0.459091</td>\n",
       "      <td>79.591837</td>\n",
       "    </tr>\n",
       "    <tr>\n",
       "      <th>40</th>\n",
       "      <td>3.263729</td>\n",
       "      <td>0.270658</td>\n",
       "      <td>81.632653</td>\n",
       "    </tr>\n",
       "    <tr>\n",
       "      <th>41</th>\n",
       "      <td>22.106865</td>\n",
       "      <td>1.009555</td>\n",
       "      <td>83.673469</td>\n",
       "    </tr>\n",
       "    <tr>\n",
       "      <th>42</th>\n",
       "      <td>0.986064</td>\n",
       "      <td>9.160661</td>\n",
       "      <td>85.714286</td>\n",
       "    </tr>\n",
       "    <tr>\n",
       "      <th>43</th>\n",
       "      <td>0.047377</td>\n",
       "      <td>4.245017</td>\n",
       "      <td>87.755102</td>\n",
       "    </tr>\n",
       "    <tr>\n",
       "      <th>44</th>\n",
       "      <td>0.041555</td>\n",
       "      <td>1.891056</td>\n",
       "      <td>89.795918</td>\n",
       "    </tr>\n",
       "    <tr>\n",
       "      <th>45</th>\n",
       "      <td>0.135746</td>\n",
       "      <td>0.848617</td>\n",
       "      <td>91.836735</td>\n",
       "    </tr>\n",
       "    <tr>\n",
       "      <th>46</th>\n",
       "      <td>0.787869</td>\n",
       "      <td>0.403959</td>\n",
       "      <td>93.877551</td>\n",
       "    </tr>\n",
       "    <tr>\n",
       "      <th>47</th>\n",
       "      <td>5.736007</td>\n",
       "      <td>0.295793</td>\n",
       "      <td>95.918367</td>\n",
       "    </tr>\n",
       "    <tr>\n",
       "      <th>48</th>\n",
       "      <td>25.516062</td>\n",
       "      <td>3.487740</td>\n",
       "      <td>97.959184</td>\n",
       "    </tr>\n",
       "    <tr>\n",
       "      <th>49</th>\n",
       "      <td>0.296156</td>\n",
       "      <td>7.422295</td>\n",
       "      <td>100.000000</td>\n",
       "    </tr>\n",
       "  </tbody>\n",
       "</table>\n",
       "</div>"
      ],
      "text/plain": [
       "      Rabbits      Foxes           t\n",
       "0   10.000000  10.000000    0.000000\n",
       "1    0.067087   6.139648    2.040816\n",
       "2    0.020446   2.731476    4.081633\n",
       "3    0.041868   1.213448    6.122449\n",
       "4    0.201953   0.547679    8.163265\n",
       "5    1.382075   0.273885   10.204082\n",
       "6   10.628911   0.305302   12.244898\n",
       "7   11.441518   9.620513   14.285714\n",
       "8    0.073752   6.230408   16.326531\n",
       "9    0.021332   2.773148   18.367347\n",
       "10   0.042765   1.232845   20.408163\n",
       "11   0.201824   0.556071   22.448980\n",
       "12   1.380448   0.278091   24.489796\n",
       "13  10.545523   0.317152   26.530612\n",
       "14  11.234916   9.480632   28.571429\n",
       "15   0.080957   6.151638   30.612245\n",
       "16   0.024394   2.740356   32.653061\n",
       "17   0.049762   1.218906   34.693878\n",
       "18   0.238439   0.552000   36.734694\n",
       "19   1.621625   0.281928   38.775510\n",
       "20  12.258041   0.365501   40.816327\n",
       "21   7.302834  10.244597   42.857143\n",
       "22   0.066629   5.796616   44.897959\n",
       "23   0.024671   2.580280   46.938776\n",
       "24   0.054903   1.148094   48.979592\n",
       "25   0.273252   0.521643   51.020408\n",
       "26   1.897926   0.272937   53.061224\n",
       "27  14.244786   0.426467   55.102041\n",
       "28   4.487828  10.520578   57.142857\n",
       "29   0.056342   5.439180   59.183673\n",
       "30   0.025360   2.420040   61.224490\n",
       "31   0.061891   1.077701   63.265306\n",
       "32   0.318972   0.491520   65.306122\n",
       "33   2.242707   0.265126   67.346939\n",
       "34  16.697864   0.506723   69.387755\n",
       "35   2.669217  10.213697   71.428571\n",
       "36   0.053594   5.000100   73.469388\n",
       "37   0.031176   2.225795   75.510204\n",
       "38   0.084449   0.993344   77.551020\n",
       "39   0.456824   0.459091   79.591837\n",
       "40   3.263729   0.270658   81.632653\n",
       "41  22.106865   1.009555   83.673469\n",
       "42   0.986064   9.160661   85.714286\n",
       "43   0.047377   4.245017   87.755102\n",
       "44   0.041555   1.891056   89.795918\n",
       "45   0.135746   0.848617   91.836735\n",
       "46   0.787869   0.403959   93.877551\n",
       "47   5.736007   0.295793   95.918367\n",
       "48  25.516062   3.487740   97.959184\n",
       "49   0.296156   7.422295  100.000000"
      ]
     },
     "execution_count": 5,
     "metadata": {},
     "output_type": "execute_result"
    }
   ],
   "source": [
    "pred_prey = PredatorPrey()\n",
    "\n",
    "soln = pred_prey.solve_basic_predator_prey()\n",
    "\n",
    "df = pd.DataFrame( soln.y.T )\n",
    "df['t'] = soln.t.T\n",
    "df.columns = [\"Rabbits\",\"Foxes\",\"t\"]\n",
    "df"
   ]
  },
  {
   "cell_type": "code",
   "execution_count": 6,
   "id": "5f4a6f49",
   "metadata": {},
   "outputs": [
    {
     "ename": "ValueError",
     "evalue": "Mime type rendering requires nbformat>=4.2.0 but it is not installed",
     "output_type": "error",
     "traceback": [
      "\u001b[31m---------------------------------------------------------------------------\u001b[39m",
      "\u001b[31mValueError\u001b[39m                                Traceback (most recent call last)",
      "\u001b[36mFile \u001b[39m\u001b[32m~/Documents/WebCompute/.venv/lib64/python3.13/site-packages/IPython/core/formatters.py:984\u001b[39m, in \u001b[36mIPythonDisplayFormatter.__call__\u001b[39m\u001b[34m(self, obj)\u001b[39m\n\u001b[32m    982\u001b[39m method = get_real_method(obj, \u001b[38;5;28mself\u001b[39m.print_method)\n\u001b[32m    983\u001b[39m \u001b[38;5;28;01mif\u001b[39;00m method \u001b[38;5;129;01mis\u001b[39;00m \u001b[38;5;129;01mnot\u001b[39;00m \u001b[38;5;28;01mNone\u001b[39;00m:\n\u001b[32m--> \u001b[39m\u001b[32m984\u001b[39m     \u001b[43mmethod\u001b[49m\u001b[43m(\u001b[49m\u001b[43m)\u001b[49m\n\u001b[32m    985\u001b[39m     \u001b[38;5;28;01mreturn\u001b[39;00m \u001b[38;5;28;01mTrue\u001b[39;00m\n",
      "\u001b[36mFile \u001b[39m\u001b[32m~/Documents/WebCompute/.venv/lib64/python3.13/site-packages/plotly/basedatatypes.py:846\u001b[39m, in \u001b[36mBaseFigure._ipython_display_\u001b[39m\u001b[34m(self)\u001b[39m\n\u001b[32m    843\u001b[39m \u001b[38;5;28;01mimport\u001b[39;00m\u001b[38;5;250m \u001b[39m\u001b[34;01mplotly\u001b[39;00m\u001b[34;01m.\u001b[39;00m\u001b[34;01mio\u001b[39;00m\u001b[38;5;250m \u001b[39m\u001b[38;5;28;01mas\u001b[39;00m\u001b[38;5;250m \u001b[39m\u001b[34;01mpio\u001b[39;00m\n\u001b[32m    845\u001b[39m \u001b[38;5;28;01mif\u001b[39;00m pio.renderers.render_on_display \u001b[38;5;129;01mand\u001b[39;00m pio.renderers.default:\n\u001b[32m--> \u001b[39m\u001b[32m846\u001b[39m     \u001b[43mpio\u001b[49m\u001b[43m.\u001b[49m\u001b[43mshow\u001b[49m\u001b[43m(\u001b[49m\u001b[38;5;28;43mself\u001b[39;49m\u001b[43m)\u001b[49m\n\u001b[32m    847\u001b[39m \u001b[38;5;28;01melse\u001b[39;00m:\n\u001b[32m    848\u001b[39m     \u001b[38;5;28mprint\u001b[39m(\u001b[38;5;28mrepr\u001b[39m(\u001b[38;5;28mself\u001b[39m))\n",
      "\u001b[36mFile \u001b[39m\u001b[32m~/Documents/WebCompute/.venv/lib64/python3.13/site-packages/plotly/io/_renderers.py:425\u001b[39m, in \u001b[36mshow\u001b[39m\u001b[34m(fig, renderer, validate, **kwargs)\u001b[39m\n\u001b[32m    420\u001b[39m     \u001b[38;5;28;01mraise\u001b[39;00m \u001b[38;5;167;01mValueError\u001b[39;00m(\n\u001b[32m    421\u001b[39m         \u001b[33m\"\u001b[39m\u001b[33mMime type rendering requires ipython but it is not installed\u001b[39m\u001b[33m\"\u001b[39m\n\u001b[32m    422\u001b[39m     )\n\u001b[32m    424\u001b[39m \u001b[38;5;28;01mif\u001b[39;00m \u001b[38;5;129;01mnot\u001b[39;00m nbformat \u001b[38;5;129;01mor\u001b[39;00m Version(nbformat.__version__) < Version(\u001b[33m\"\u001b[39m\u001b[33m4.2.0\u001b[39m\u001b[33m\"\u001b[39m):\n\u001b[32m--> \u001b[39m\u001b[32m425\u001b[39m     \u001b[38;5;28;01mraise\u001b[39;00m \u001b[38;5;167;01mValueError\u001b[39;00m(\n\u001b[32m    426\u001b[39m         \u001b[33m\"\u001b[39m\u001b[33mMime type rendering requires nbformat>=4.2.0 but it is not installed\u001b[39m\u001b[33m\"\u001b[39m\n\u001b[32m    427\u001b[39m     )\n\u001b[32m    429\u001b[39m display_jupyter_version_warnings()\n\u001b[32m    431\u001b[39m ipython_display.display(bundle, raw=\u001b[38;5;28;01mTrue\u001b[39;00m)\n",
      "\u001b[31mValueError\u001b[39m: Mime type rendering requires nbformat>=4.2.0 but it is not installed"
     ]
    },
    {
     "data": {
      "application/vnd.plotly.v1+json": {
       "config": {
        "plotlyServerURL": "https://plot.ly"
       },
       "data": [
        {
         "bingroup": "x",
         "histfunc": "avg",
         "hovertemplate": "variable=Rabbits<br>t=%{x}<br>avg of value=%{y}<extra></extra>",
         "legendgroup": "Rabbits",
         "marker": {
          "color": "#636efa",
          "pattern": {
           "shape": ""
          }
         },
         "name": "Rabbits",
         "nbinsx": 50,
         "orientation": "v",
         "showlegend": true,
         "type": "histogram",
         "x": {
          "bdata": "AAAAAAAAAAAVvJyCl1MAQBW8nIKXUxBAIBrrQ2N9GEAVvJyCl1MgQBrrQ2N9aCRAIBrrQ2N9KEAlSZIkSZIsQBW8nIKXUzBAmFPwcgpeMkAa60NjfWg0QJ2Cl1PwcjZAIBrrQ2N9OECisT401oc6QCVJkiRJkjxAp+DlFLycPkAVvJyCl1NAQNaHxvrQWEFAmFPwcgpeQkBZHxrrQ2NDQBrrQ2N9aERA3LZt27ZtRUCdgpdT8HJGQF5OwcspeEdAIBrrQ2N9SEDh5RS8nIJJQKKxPjTWh0pAY31orA+NS0AlSZIkSZJMQOYUvJyCl01Ap+DlFLycTkBprA+N9aFPQBW8nIKXU1BA9qGxPjTWUEDWh8b60FhRQLdt27Zt21FAmFPwcgpeUkB4OQUvp+BSQFkfGutDY1NAOgUvp+DlU0Aa60NjfWhUQPvQWB8a61RA3LZt27ZtVUC8nIKXU/BVQJ2Cl1PwclZAfmisD431VkBeTsHLKXhXQD801ofG+ldAIBrrQ2N9WEAAAAAAAABZQA==",
          "dtype": "f8"
         },
         "xaxis": "x",
         "y": {
          "bdata": "AAAAAAAAJEB4EVgEmCyxP+1kC9nA75Q/Zmnm7r9vpT/87i9Il9nJP0Zdb4P6HPY//JvSjgBCJUDqah6VDuImQBtlQddu4bI/r/kTG/7XlT9Of9UmU+WlP8+O7w9g1ck/B0hLaFAW9j+6uVfGThclQFfcTORGeCZAEK0hXp65tD8XDMLpz/qYP+Lu529deqk/2qM1oS6Fzj/Nciq+LPL5P/bfI+sdhChASqM+/xk2HUDKSxk5nA6xPy/X6k1YQ5k/vgcfajMcrD9J5mzg93zRP5BtNCnoXf4/U3bGl1R9LEAmu5Q7ifMRQAc2BBHb2Kw/zM76zRb4mT+YXwIPH7CvPyIf7J4KatQ/hJejlhDxAUD7kKs3p7IwQLnUE5eOWgVAP5yearxwqz8pdYc9tuyfP/SBpfV3nrU/tKnEA5k83T8Q15LjHRwKQOjfEX5bGzZAQzDbXtaN7z8+uVyDxEGoP4oWMIC8RqU/+qj4PSBgwT+QQhWoODbpP2B3E9ir8RZAVzs9ohyEOUDKOSkgN/TSPw==",
          "dtype": "f8"
         },
         "yaxis": "y"
        },
        {
         "bingroup": "x",
         "histfunc": "avg",
         "hovertemplate": "variable=Foxes<br>t=%{x}<br>avg of value=%{y}<extra></extra>",
         "legendgroup": "Foxes",
         "marker": {
          "color": "#EF553B",
          "pattern": {
           "shape": ""
          }
         },
         "name": "Foxes",
         "nbinsx": 50,
         "orientation": "v",
         "showlegend": true,
         "type": "histogram",
         "x": {
          "bdata": "AAAAAAAAAAAVvJyCl1MAQBW8nIKXUxBAIBrrQ2N9GEAVvJyCl1MgQBrrQ2N9aCRAIBrrQ2N9KEAlSZIkSZIsQBW8nIKXUzBAmFPwcgpeMkAa60NjfWg0QJ2Cl1PwcjZAIBrrQ2N9OECisT401oc6QCVJkiRJkjxAp+DlFLycPkAVvJyCl1NAQNaHxvrQWEFAmFPwcgpeQkBZHxrrQ2NDQBrrQ2N9aERA3LZt27ZtRUCdgpdT8HJGQF5OwcspeEdAIBrrQ2N9SEDh5RS8nIJJQKKxPjTWh0pAY31orA+NS0AlSZIkSZJMQOYUvJyCl01Ap+DlFLycTkBprA+N9aFPQBW8nIKXU1BA9qGxPjTWUEDWh8b60FhRQLdt27Zt21FAmFPwcgpeUkB4OQUvp+BSQFkfGutDY1NAOgUvp+DlU0Aa60NjfWhUQPvQWB8a61RA3LZt27ZtVUC8nIKXU/BVQJ2Cl1PwclZAfmisD431VkBeTsHLKXhXQD801ofG+ldAIBrrQ2N9WEAAAAAAAABZQA==",
          "dtype": "f8"
         },
         "xaxis": "x",
         "y": {
          "bdata": "AAAAAAAAJECgopjj/44YQBh4XwMQ2gVAapYE20hq8z+1NSnmlYbhPwADekNTh9E/o3LDSBGK0z92rMDXsz0jQAty/g/w6xhAkBIneWgvBkAeV6a+u7nzP1KjzNtVy+E/jig3Vz3M0T93BMSfNkzUPzC3kHIV9iJAJ+v2AEebGECBzPjzP+wFQPDD5mSjgPM/2LGxmPup4T+HA/plGgvSP07l+oNdZNc/wBDWxzt9JEA+9iEdvC8XQKGwgONppARAim6qwpde8j+anpo5TbHgP3dwDCLLd9E/XzwA8zpL2z8Hjzw1iQolQFYdo1K4wRVA9cKVBz5cA0BR2UxIQz7xP0bPrIsQdd8/m18GE9P30D+czPlsEzfgPxSYHaVpbSRAQhOFUhoAFEBCzatgbc4BQEBZPPt5ye8/QtA2QMFh3T80CdfRdVLRP8RADyojJ/A/WIz1KkJSIkBLVbjR5foQQCp0m0/EQf4//sw1oN8n6z+M0uw4ddrZP5QRWDVE7tI/TBsJaeTmC0BBptIcbrAdQA==",
          "dtype": "f8"
         },
         "yaxis": "y"
        }
       ],
       "layout": {
        "barmode": "stack",
        "legend": {
         "title": {
          "text": "variable"
         },
         "tracegroupgap": 0
        },
        "margin": {
         "t": 60
        },
        "template": {
         "data": {
          "bar": [
           {
            "error_x": {
             "color": "#2a3f5f"
            },
            "error_y": {
             "color": "#2a3f5f"
            },
            "marker": {
             "line": {
              "color": "#E5ECF6",
              "width": 0.5
             },
             "pattern": {
              "fillmode": "overlay",
              "size": 10,
              "solidity": 0.2
             }
            },
            "type": "bar"
           }
          ],
          "barpolar": [
           {
            "marker": {
             "line": {
              "color": "#E5ECF6",
              "width": 0.5
             },
             "pattern": {
              "fillmode": "overlay",
              "size": 10,
              "solidity": 0.2
             }
            },
            "type": "barpolar"
           }
          ],
          "carpet": [
           {
            "aaxis": {
             "endlinecolor": "#2a3f5f",
             "gridcolor": "white",
             "linecolor": "white",
             "minorgridcolor": "white",
             "startlinecolor": "#2a3f5f"
            },
            "baxis": {
             "endlinecolor": "#2a3f5f",
             "gridcolor": "white",
             "linecolor": "white",
             "minorgridcolor": "white",
             "startlinecolor": "#2a3f5f"
            },
            "type": "carpet"
           }
          ],
          "choropleth": [
           {
            "colorbar": {
             "outlinewidth": 0,
             "ticks": ""
            },
            "type": "choropleth"
           }
          ],
          "contour": [
           {
            "colorbar": {
             "outlinewidth": 0,
             "ticks": ""
            },
            "colorscale": [
             [
              0,
              "#0d0887"
             ],
             [
              0.1111111111111111,
              "#46039f"
             ],
             [
              0.2222222222222222,
              "#7201a8"
             ],
             [
              0.3333333333333333,
              "#9c179e"
             ],
             [
              0.4444444444444444,
              "#bd3786"
             ],
             [
              0.5555555555555556,
              "#d8576b"
             ],
             [
              0.6666666666666666,
              "#ed7953"
             ],
             [
              0.7777777777777778,
              "#fb9f3a"
             ],
             [
              0.8888888888888888,
              "#fdca26"
             ],
             [
              1,
              "#f0f921"
             ]
            ],
            "type": "contour"
           }
          ],
          "contourcarpet": [
           {
            "colorbar": {
             "outlinewidth": 0,
             "ticks": ""
            },
            "type": "contourcarpet"
           }
          ],
          "heatmap": [
           {
            "colorbar": {
             "outlinewidth": 0,
             "ticks": ""
            },
            "colorscale": [
             [
              0,
              "#0d0887"
             ],
             [
              0.1111111111111111,
              "#46039f"
             ],
             [
              0.2222222222222222,
              "#7201a8"
             ],
             [
              0.3333333333333333,
              "#9c179e"
             ],
             [
              0.4444444444444444,
              "#bd3786"
             ],
             [
              0.5555555555555556,
              "#d8576b"
             ],
             [
              0.6666666666666666,
              "#ed7953"
             ],
             [
              0.7777777777777778,
              "#fb9f3a"
             ],
             [
              0.8888888888888888,
              "#fdca26"
             ],
             [
              1,
              "#f0f921"
             ]
            ],
            "type": "heatmap"
           }
          ],
          "histogram": [
           {
            "marker": {
             "pattern": {
              "fillmode": "overlay",
              "size": 10,
              "solidity": 0.2
             }
            },
            "type": "histogram"
           }
          ],
          "histogram2d": [
           {
            "colorbar": {
             "outlinewidth": 0,
             "ticks": ""
            },
            "colorscale": [
             [
              0,
              "#0d0887"
             ],
             [
              0.1111111111111111,
              "#46039f"
             ],
             [
              0.2222222222222222,
              "#7201a8"
             ],
             [
              0.3333333333333333,
              "#9c179e"
             ],
             [
              0.4444444444444444,
              "#bd3786"
             ],
             [
              0.5555555555555556,
              "#d8576b"
             ],
             [
              0.6666666666666666,
              "#ed7953"
             ],
             [
              0.7777777777777778,
              "#fb9f3a"
             ],
             [
              0.8888888888888888,
              "#fdca26"
             ],
             [
              1,
              "#f0f921"
             ]
            ],
            "type": "histogram2d"
           }
          ],
          "histogram2dcontour": [
           {
            "colorbar": {
             "outlinewidth": 0,
             "ticks": ""
            },
            "colorscale": [
             [
              0,
              "#0d0887"
             ],
             [
              0.1111111111111111,
              "#46039f"
             ],
             [
              0.2222222222222222,
              "#7201a8"
             ],
             [
              0.3333333333333333,
              "#9c179e"
             ],
             [
              0.4444444444444444,
              "#bd3786"
             ],
             [
              0.5555555555555556,
              "#d8576b"
             ],
             [
              0.6666666666666666,
              "#ed7953"
             ],
             [
              0.7777777777777778,
              "#fb9f3a"
             ],
             [
              0.8888888888888888,
              "#fdca26"
             ],
             [
              1,
              "#f0f921"
             ]
            ],
            "type": "histogram2dcontour"
           }
          ],
          "mesh3d": [
           {
            "colorbar": {
             "outlinewidth": 0,
             "ticks": ""
            },
            "type": "mesh3d"
           }
          ],
          "parcoords": [
           {
            "line": {
             "colorbar": {
              "outlinewidth": 0,
              "ticks": ""
             }
            },
            "type": "parcoords"
           }
          ],
          "pie": [
           {
            "automargin": true,
            "type": "pie"
           }
          ],
          "scatter": [
           {
            "fillpattern": {
             "fillmode": "overlay",
             "size": 10,
             "solidity": 0.2
            },
            "type": "scatter"
           }
          ],
          "scatter3d": [
           {
            "line": {
             "colorbar": {
              "outlinewidth": 0,
              "ticks": ""
             }
            },
            "marker": {
             "colorbar": {
              "outlinewidth": 0,
              "ticks": ""
             }
            },
            "type": "scatter3d"
           }
          ],
          "scattercarpet": [
           {
            "marker": {
             "colorbar": {
              "outlinewidth": 0,
              "ticks": ""
             }
            },
            "type": "scattercarpet"
           }
          ],
          "scattergeo": [
           {
            "marker": {
             "colorbar": {
              "outlinewidth": 0,
              "ticks": ""
             }
            },
            "type": "scattergeo"
           }
          ],
          "scattergl": [
           {
            "marker": {
             "colorbar": {
              "outlinewidth": 0,
              "ticks": ""
             }
            },
            "type": "scattergl"
           }
          ],
          "scattermap": [
           {
            "marker": {
             "colorbar": {
              "outlinewidth": 0,
              "ticks": ""
             }
            },
            "type": "scattermap"
           }
          ],
          "scattermapbox": [
           {
            "marker": {
             "colorbar": {
              "outlinewidth": 0,
              "ticks": ""
             }
            },
            "type": "scattermapbox"
           }
          ],
          "scatterpolar": [
           {
            "marker": {
             "colorbar": {
              "outlinewidth": 0,
              "ticks": ""
             }
            },
            "type": "scatterpolar"
           }
          ],
          "scatterpolargl": [
           {
            "marker": {
             "colorbar": {
              "outlinewidth": 0,
              "ticks": ""
             }
            },
            "type": "scatterpolargl"
           }
          ],
          "scatterternary": [
           {
            "marker": {
             "colorbar": {
              "outlinewidth": 0,
              "ticks": ""
             }
            },
            "type": "scatterternary"
           }
          ],
          "surface": [
           {
            "colorbar": {
             "outlinewidth": 0,
             "ticks": ""
            },
            "colorscale": [
             [
              0,
              "#0d0887"
             ],
             [
              0.1111111111111111,
              "#46039f"
             ],
             [
              0.2222222222222222,
              "#7201a8"
             ],
             [
              0.3333333333333333,
              "#9c179e"
             ],
             [
              0.4444444444444444,
              "#bd3786"
             ],
             [
              0.5555555555555556,
              "#d8576b"
             ],
             [
              0.6666666666666666,
              "#ed7953"
             ],
             [
              0.7777777777777778,
              "#fb9f3a"
             ],
             [
              0.8888888888888888,
              "#fdca26"
             ],
             [
              1,
              "#f0f921"
             ]
            ],
            "type": "surface"
           }
          ],
          "table": [
           {
            "cells": {
             "fill": {
              "color": "#EBF0F8"
             },
             "line": {
              "color": "white"
             }
            },
            "header": {
             "fill": {
              "color": "#C8D4E3"
             },
             "line": {
              "color": "white"
             }
            },
            "type": "table"
           }
          ]
         },
         "layout": {
          "annotationdefaults": {
           "arrowcolor": "#2a3f5f",
           "arrowhead": 0,
           "arrowwidth": 1
          },
          "autotypenumbers": "strict",
          "coloraxis": {
           "colorbar": {
            "outlinewidth": 0,
            "ticks": ""
           }
          },
          "colorscale": {
           "diverging": [
            [
             0,
             "#8e0152"
            ],
            [
             0.1,
             "#c51b7d"
            ],
            [
             0.2,
             "#de77ae"
            ],
            [
             0.3,
             "#f1b6da"
            ],
            [
             0.4,
             "#fde0ef"
            ],
            [
             0.5,
             "#f7f7f7"
            ],
            [
             0.6,
             "#e6f5d0"
            ],
            [
             0.7,
             "#b8e186"
            ],
            [
             0.8,
             "#7fbc41"
            ],
            [
             0.9,
             "#4d9221"
            ],
            [
             1,
             "#276419"
            ]
           ],
           "sequential": [
            [
             0,
             "#0d0887"
            ],
            [
             0.1111111111111111,
             "#46039f"
            ],
            [
             0.2222222222222222,
             "#7201a8"
            ],
            [
             0.3333333333333333,
             "#9c179e"
            ],
            [
             0.4444444444444444,
             "#bd3786"
            ],
            [
             0.5555555555555556,
             "#d8576b"
            ],
            [
             0.6666666666666666,
             "#ed7953"
            ],
            [
             0.7777777777777778,
             "#fb9f3a"
            ],
            [
             0.8888888888888888,
             "#fdca26"
            ],
            [
             1,
             "#f0f921"
            ]
           ],
           "sequentialminus": [
            [
             0,
             "#0d0887"
            ],
            [
             0.1111111111111111,
             "#46039f"
            ],
            [
             0.2222222222222222,
             "#7201a8"
            ],
            [
             0.3333333333333333,
             "#9c179e"
            ],
            [
             0.4444444444444444,
             "#bd3786"
            ],
            [
             0.5555555555555556,
             "#d8576b"
            ],
            [
             0.6666666666666666,
             "#ed7953"
            ],
            [
             0.7777777777777778,
             "#fb9f3a"
            ],
            [
             0.8888888888888888,
             "#fdca26"
            ],
            [
             1,
             "#f0f921"
            ]
           ]
          },
          "colorway": [
           "#636efa",
           "#EF553B",
           "#00cc96",
           "#ab63fa",
           "#FFA15A",
           "#19d3f3",
           "#FF6692",
           "#B6E880",
           "#FF97FF",
           "#FECB52"
          ],
          "font": {
           "color": "#2a3f5f"
          },
          "geo": {
           "bgcolor": "white",
           "lakecolor": "white",
           "landcolor": "#E5ECF6",
           "showlakes": true,
           "showland": true,
           "subunitcolor": "white"
          },
          "hoverlabel": {
           "align": "left"
          },
          "hovermode": "closest",
          "mapbox": {
           "style": "light"
          },
          "paper_bgcolor": "white",
          "plot_bgcolor": "#E5ECF6",
          "polar": {
           "angularaxis": {
            "gridcolor": "white",
            "linecolor": "white",
            "ticks": ""
           },
           "bgcolor": "#E5ECF6",
           "radialaxis": {
            "gridcolor": "white",
            "linecolor": "white",
            "ticks": ""
           }
          },
          "scene": {
           "xaxis": {
            "backgroundcolor": "#E5ECF6",
            "gridcolor": "white",
            "gridwidth": 2,
            "linecolor": "white",
            "showbackground": true,
            "ticks": "",
            "zerolinecolor": "white"
           },
           "yaxis": {
            "backgroundcolor": "#E5ECF6",
            "gridcolor": "white",
            "gridwidth": 2,
            "linecolor": "white",
            "showbackground": true,
            "ticks": "",
            "zerolinecolor": "white"
           },
           "zaxis": {
            "backgroundcolor": "#E5ECF6",
            "gridcolor": "white",
            "gridwidth": 2,
            "linecolor": "white",
            "showbackground": true,
            "ticks": "",
            "zerolinecolor": "white"
           }
          },
          "shapedefaults": {
           "line": {
            "color": "#2a3f5f"
           }
          },
          "ternary": {
           "aaxis": {
            "gridcolor": "white",
            "linecolor": "white",
            "ticks": ""
           },
           "baxis": {
            "gridcolor": "white",
            "linecolor": "white",
            "ticks": ""
           },
           "bgcolor": "#E5ECF6",
           "caxis": {
            "gridcolor": "white",
            "linecolor": "white",
            "ticks": ""
           }
          },
          "title": {
           "x": 0.05
          },
          "xaxis": {
           "automargin": true,
           "gridcolor": "white",
           "linecolor": "white",
           "ticks": "",
           "title": {
            "standoff": 15
           },
           "zerolinecolor": "white",
           "zerolinewidth": 2
          },
          "yaxis": {
           "automargin": true,
           "gridcolor": "white",
           "linecolor": "white",
           "ticks": "",
           "title": {
            "standoff": 15
           },
           "zerolinecolor": "white",
           "zerolinewidth": 2
          }
         }
        },
        "xaxis": {
         "anchor": "y",
         "domain": [
          0,
          1
         ],
         "title": {
          "text": "t"
         }
        },
        "yaxis": {
         "anchor": "x",
         "domain": [
          0,
          1
         ],
         "title": {
          "text": "avg of value"
         }
        }
       }
      },
      "text/html": [
       "<div>                        <script type=\"text/javascript\">window.PlotlyConfig = {MathJaxConfig: 'local'};</script>\n",
       "        <script charset=\"utf-8\" src=\"https://cdn.plot.ly/plotly-3.0.1.min.js\"></script>                <div id=\"2e674525-56e7-4ca3-816b-0acf39d441dc\" class=\"plotly-graph-div\" style=\"height:100%; width:100%;\"></div>            <script type=\"text/javascript\">                window.PLOTLYENV=window.PLOTLYENV || {};                                if (document.getElementById(\"2e674525-56e7-4ca3-816b-0acf39d441dc\")) {                    Plotly.newPlot(                        \"2e674525-56e7-4ca3-816b-0acf39d441dc\",                        [{\"bingroup\":\"x\",\"histfunc\":\"avg\",\"hovertemplate\":\"variable=Rabbits\\u003cbr\\u003et=%{x}\\u003cbr\\u003eavg of value=%{y}\\u003cextra\\u003e\\u003c\\u002fextra\\u003e\",\"legendgroup\":\"Rabbits\",\"marker\":{\"color\":\"#636efa\",\"pattern\":{\"shape\":\"\"}},\"name\":\"Rabbits\",\"nbinsx\":50,\"orientation\":\"v\",\"showlegend\":true,\"x\":{\"dtype\":\"f8\",\"bdata\":\"AAAAAAAAAAAVvJyCl1MAQBW8nIKXUxBAIBrrQ2N9GEAVvJyCl1MgQBrrQ2N9aCRAIBrrQ2N9KEAlSZIkSZIsQBW8nIKXUzBAmFPwcgpeMkAa60NjfWg0QJ2Cl1PwcjZAIBrrQ2N9OECisT401oc6QCVJkiRJkjxAp+DlFLycPkAVvJyCl1NAQNaHxvrQWEFAmFPwcgpeQkBZHxrrQ2NDQBrrQ2N9aERA3LZt27ZtRUCdgpdT8HJGQF5OwcspeEdAIBrrQ2N9SEDh5RS8nIJJQKKxPjTWh0pAY31orA+NS0AlSZIkSZJMQOYUvJyCl01Ap+DlFLycTkBprA+N9aFPQBW8nIKXU1BA9qGxPjTWUEDWh8b60FhRQLdt27Zt21FAmFPwcgpeUkB4OQUvp+BSQFkfGutDY1NAOgUvp+DlU0Aa60NjfWhUQPvQWB8a61RA3LZt27ZtVUC8nIKXU\\u002fBVQJ2Cl1PwclZAfmisD431VkBeTsHLKXhXQD801ofG+ldAIBrrQ2N9WEAAAAAAAABZQA==\"},\"xaxis\":\"x\",\"y\":{\"dtype\":\"f8\",\"bdata\":\"AAAAAAAAJEB4EVgEmCyxP+1kC9nA75Q\\u002fZmnm7r9vpT\\u002f87i9Il9nJP0Zdb4P6HPY\\u002f\\u002fJvSjgBCJUDqah6VDuImQBtlQddu4bI\\u002fr\\u002fkTG\\u002f7XlT9Of9UmU+WlP8+O7w9g1ck\\u002fB0hLaFAW9j+6uVfGThclQFfcTORGeCZAEK0hXp65tD8XDMLpz\\u002fqYP+Lu529deqk\\u002f2qM1oS6Fzj\\u002fNciq+LPL5P\\u002fbfI+sdhChASqM+\\u002fxk2HUDKSxk5nA6xPy\\u002fX6k1YQ5k\\u002fvgcfajMcrD9J5mzg93zRP5BtNCnoXf4\\u002fU3bGl1R9LEAmu5Q7ifMRQAc2BBHb2Kw\\u002fzM76zRb4mT+YXwIPH7CvPyIf7J4KatQ\\u002fhJejlhDxAUD7kKs3p7IwQLnUE5eOWgVAP5yearxwqz8pdYc9tuyfP\\u002fSBpfV3nrU\\u002ftKnEA5k83T8Q15LjHRwKQOjfEX5bGzZAQzDbXtaN7z8+uVyDxEGoP4oWMIC8RqU\\u002f+qj4PSBgwT+QQhWoODbpP2B3E9ir8RZAVzs9ohyEOUDKOSkgN\\u002fTSPw==\"},\"yaxis\":\"y\",\"type\":\"histogram\"},{\"bingroup\":\"x\",\"histfunc\":\"avg\",\"hovertemplate\":\"variable=Foxes\\u003cbr\\u003et=%{x}\\u003cbr\\u003eavg of value=%{y}\\u003cextra\\u003e\\u003c\\u002fextra\\u003e\",\"legendgroup\":\"Foxes\",\"marker\":{\"color\":\"#EF553B\",\"pattern\":{\"shape\":\"\"}},\"name\":\"Foxes\",\"nbinsx\":50,\"orientation\":\"v\",\"showlegend\":true,\"x\":{\"dtype\":\"f8\",\"bdata\":\"AAAAAAAAAAAVvJyCl1MAQBW8nIKXUxBAIBrrQ2N9GEAVvJyCl1MgQBrrQ2N9aCRAIBrrQ2N9KEAlSZIkSZIsQBW8nIKXUzBAmFPwcgpeMkAa60NjfWg0QJ2Cl1PwcjZAIBrrQ2N9OECisT401oc6QCVJkiRJkjxAp+DlFLycPkAVvJyCl1NAQNaHxvrQWEFAmFPwcgpeQkBZHxrrQ2NDQBrrQ2N9aERA3LZt27ZtRUCdgpdT8HJGQF5OwcspeEdAIBrrQ2N9SEDh5RS8nIJJQKKxPjTWh0pAY31orA+NS0AlSZIkSZJMQOYUvJyCl01Ap+DlFLycTkBprA+N9aFPQBW8nIKXU1BA9qGxPjTWUEDWh8b60FhRQLdt27Zt21FAmFPwcgpeUkB4OQUvp+BSQFkfGutDY1NAOgUvp+DlU0Aa60NjfWhUQPvQWB8a61RA3LZt27ZtVUC8nIKXU\\u002fBVQJ2Cl1PwclZAfmisD431VkBeTsHLKXhXQD801ofG+ldAIBrrQ2N9WEAAAAAAAABZQA==\"},\"xaxis\":\"x\",\"y\":{\"dtype\":\"f8\",\"bdata\":\"AAAAAAAAJECgopjj\\u002f44YQBh4XwMQ2gVAapYE20hq8z+1NSnmlYbhPwADekNTh9E\\u002fo3LDSBGK0z92rMDXsz0jQAty\\u002fg\\u002fw6xhAkBIneWgvBkAeV6a+u7nzP1KjzNtVy+E\\u002fjig3Vz3M0T93BMSfNkzUPzC3kHIV9iJAJ+v2AEebGECBzPjzP+wFQPDD5mSjgPM\\u002f2LGxmPup4T+HA\\u002fplGgvSP07l+oNdZNc\\u002fwBDWxzt9JEA+9iEdvC8XQKGwgONppARAim6qwpde8j+anpo5TbHgP3dwDCLLd9E\\u002fXzwA8zpL2z8Hjzw1iQolQFYdo1K4wRVA9cKVBz5cA0BR2UxIQz7xP0bPrIsQdd8\\u002fm18GE9P30D+czPlsEzfgPxSYHaVpbSRAQhOFUhoAFEBCzatgbc4BQEBZPPt5ye8\\u002fQtA2QMFh3T80CdfRdVLRP8RADyojJ\\u002fA\\u002fWIz1KkJSIkBLVbjR5foQQCp0m0\\u002fEQf4\\u002f\\u002fsw1oN8n6z+M0uw4ddrZP5QRWDVE7tI\\u002fTBsJaeTmC0BBptIcbrAdQA==\"},\"yaxis\":\"y\",\"type\":\"histogram\"}],                        {\"template\":{\"data\":{\"histogram2dcontour\":[{\"type\":\"histogram2dcontour\",\"colorbar\":{\"outlinewidth\":0,\"ticks\":\"\"},\"colorscale\":[[0.0,\"#0d0887\"],[0.1111111111111111,\"#46039f\"],[0.2222222222222222,\"#7201a8\"],[0.3333333333333333,\"#9c179e\"],[0.4444444444444444,\"#bd3786\"],[0.5555555555555556,\"#d8576b\"],[0.6666666666666666,\"#ed7953\"],[0.7777777777777778,\"#fb9f3a\"],[0.8888888888888888,\"#fdca26\"],[1.0,\"#f0f921\"]]}],\"choropleth\":[{\"type\":\"choropleth\",\"colorbar\":{\"outlinewidth\":0,\"ticks\":\"\"}}],\"histogram2d\":[{\"type\":\"histogram2d\",\"colorbar\":{\"outlinewidth\":0,\"ticks\":\"\"},\"colorscale\":[[0.0,\"#0d0887\"],[0.1111111111111111,\"#46039f\"],[0.2222222222222222,\"#7201a8\"],[0.3333333333333333,\"#9c179e\"],[0.4444444444444444,\"#bd3786\"],[0.5555555555555556,\"#d8576b\"],[0.6666666666666666,\"#ed7953\"],[0.7777777777777778,\"#fb9f3a\"],[0.8888888888888888,\"#fdca26\"],[1.0,\"#f0f921\"]]}],\"heatmap\":[{\"type\":\"heatmap\",\"colorbar\":{\"outlinewidth\":0,\"ticks\":\"\"},\"colorscale\":[[0.0,\"#0d0887\"],[0.1111111111111111,\"#46039f\"],[0.2222222222222222,\"#7201a8\"],[0.3333333333333333,\"#9c179e\"],[0.4444444444444444,\"#bd3786\"],[0.5555555555555556,\"#d8576b\"],[0.6666666666666666,\"#ed7953\"],[0.7777777777777778,\"#fb9f3a\"],[0.8888888888888888,\"#fdca26\"],[1.0,\"#f0f921\"]]}],\"contourcarpet\":[{\"type\":\"contourcarpet\",\"colorbar\":{\"outlinewidth\":0,\"ticks\":\"\"}}],\"contour\":[{\"type\":\"contour\",\"colorbar\":{\"outlinewidth\":0,\"ticks\":\"\"},\"colorscale\":[[0.0,\"#0d0887\"],[0.1111111111111111,\"#46039f\"],[0.2222222222222222,\"#7201a8\"],[0.3333333333333333,\"#9c179e\"],[0.4444444444444444,\"#bd3786\"],[0.5555555555555556,\"#d8576b\"],[0.6666666666666666,\"#ed7953\"],[0.7777777777777778,\"#fb9f3a\"],[0.8888888888888888,\"#fdca26\"],[1.0,\"#f0f921\"]]}],\"surface\":[{\"type\":\"surface\",\"colorbar\":{\"outlinewidth\":0,\"ticks\":\"\"},\"colorscale\":[[0.0,\"#0d0887\"],[0.1111111111111111,\"#46039f\"],[0.2222222222222222,\"#7201a8\"],[0.3333333333333333,\"#9c179e\"],[0.4444444444444444,\"#bd3786\"],[0.5555555555555556,\"#d8576b\"],[0.6666666666666666,\"#ed7953\"],[0.7777777777777778,\"#fb9f3a\"],[0.8888888888888888,\"#fdca26\"],[1.0,\"#f0f921\"]]}],\"mesh3d\":[{\"type\":\"mesh3d\",\"colorbar\":{\"outlinewidth\":0,\"ticks\":\"\"}}],\"scatter\":[{\"fillpattern\":{\"fillmode\":\"overlay\",\"size\":10,\"solidity\":0.2},\"type\":\"scatter\"}],\"parcoords\":[{\"type\":\"parcoords\",\"line\":{\"colorbar\":{\"outlinewidth\":0,\"ticks\":\"\"}}}],\"scatterpolargl\":[{\"type\":\"scatterpolargl\",\"marker\":{\"colorbar\":{\"outlinewidth\":0,\"ticks\":\"\"}}}],\"bar\":[{\"error_x\":{\"color\":\"#2a3f5f\"},\"error_y\":{\"color\":\"#2a3f5f\"},\"marker\":{\"line\":{\"color\":\"#E5ECF6\",\"width\":0.5},\"pattern\":{\"fillmode\":\"overlay\",\"size\":10,\"solidity\":0.2}},\"type\":\"bar\"}],\"scattergeo\":[{\"type\":\"scattergeo\",\"marker\":{\"colorbar\":{\"outlinewidth\":0,\"ticks\":\"\"}}}],\"scatterpolar\":[{\"type\":\"scatterpolar\",\"marker\":{\"colorbar\":{\"outlinewidth\":0,\"ticks\":\"\"}}}],\"histogram\":[{\"marker\":{\"pattern\":{\"fillmode\":\"overlay\",\"size\":10,\"solidity\":0.2}},\"type\":\"histogram\"}],\"scattergl\":[{\"type\":\"scattergl\",\"marker\":{\"colorbar\":{\"outlinewidth\":0,\"ticks\":\"\"}}}],\"scatter3d\":[{\"type\":\"scatter3d\",\"line\":{\"colorbar\":{\"outlinewidth\":0,\"ticks\":\"\"}},\"marker\":{\"colorbar\":{\"outlinewidth\":0,\"ticks\":\"\"}}}],\"scattermap\":[{\"type\":\"scattermap\",\"marker\":{\"colorbar\":{\"outlinewidth\":0,\"ticks\":\"\"}}}],\"scattermapbox\":[{\"type\":\"scattermapbox\",\"marker\":{\"colorbar\":{\"outlinewidth\":0,\"ticks\":\"\"}}}],\"scatterternary\":[{\"type\":\"scatterternary\",\"marker\":{\"colorbar\":{\"outlinewidth\":0,\"ticks\":\"\"}}}],\"scattercarpet\":[{\"type\":\"scattercarpet\",\"marker\":{\"colorbar\":{\"outlinewidth\":0,\"ticks\":\"\"}}}],\"carpet\":[{\"aaxis\":{\"endlinecolor\":\"#2a3f5f\",\"gridcolor\":\"white\",\"linecolor\":\"white\",\"minorgridcolor\":\"white\",\"startlinecolor\":\"#2a3f5f\"},\"baxis\":{\"endlinecolor\":\"#2a3f5f\",\"gridcolor\":\"white\",\"linecolor\":\"white\",\"minorgridcolor\":\"white\",\"startlinecolor\":\"#2a3f5f\"},\"type\":\"carpet\"}],\"table\":[{\"cells\":{\"fill\":{\"color\":\"#EBF0F8\"},\"line\":{\"color\":\"white\"}},\"header\":{\"fill\":{\"color\":\"#C8D4E3\"},\"line\":{\"color\":\"white\"}},\"type\":\"table\"}],\"barpolar\":[{\"marker\":{\"line\":{\"color\":\"#E5ECF6\",\"width\":0.5},\"pattern\":{\"fillmode\":\"overlay\",\"size\":10,\"solidity\":0.2}},\"type\":\"barpolar\"}],\"pie\":[{\"automargin\":true,\"type\":\"pie\"}]},\"layout\":{\"autotypenumbers\":\"strict\",\"colorway\":[\"#636efa\",\"#EF553B\",\"#00cc96\",\"#ab63fa\",\"#FFA15A\",\"#19d3f3\",\"#FF6692\",\"#B6E880\",\"#FF97FF\",\"#FECB52\"],\"font\":{\"color\":\"#2a3f5f\"},\"hovermode\":\"closest\",\"hoverlabel\":{\"align\":\"left\"},\"paper_bgcolor\":\"white\",\"plot_bgcolor\":\"#E5ECF6\",\"polar\":{\"bgcolor\":\"#E5ECF6\",\"angularaxis\":{\"gridcolor\":\"white\",\"linecolor\":\"white\",\"ticks\":\"\"},\"radialaxis\":{\"gridcolor\":\"white\",\"linecolor\":\"white\",\"ticks\":\"\"}},\"ternary\":{\"bgcolor\":\"#E5ECF6\",\"aaxis\":{\"gridcolor\":\"white\",\"linecolor\":\"white\",\"ticks\":\"\"},\"baxis\":{\"gridcolor\":\"white\",\"linecolor\":\"white\",\"ticks\":\"\"},\"caxis\":{\"gridcolor\":\"white\",\"linecolor\":\"white\",\"ticks\":\"\"}},\"coloraxis\":{\"colorbar\":{\"outlinewidth\":0,\"ticks\":\"\"}},\"colorscale\":{\"sequential\":[[0.0,\"#0d0887\"],[0.1111111111111111,\"#46039f\"],[0.2222222222222222,\"#7201a8\"],[0.3333333333333333,\"#9c179e\"],[0.4444444444444444,\"#bd3786\"],[0.5555555555555556,\"#d8576b\"],[0.6666666666666666,\"#ed7953\"],[0.7777777777777778,\"#fb9f3a\"],[0.8888888888888888,\"#fdca26\"],[1.0,\"#f0f921\"]],\"sequentialminus\":[[0.0,\"#0d0887\"],[0.1111111111111111,\"#46039f\"],[0.2222222222222222,\"#7201a8\"],[0.3333333333333333,\"#9c179e\"],[0.4444444444444444,\"#bd3786\"],[0.5555555555555556,\"#d8576b\"],[0.6666666666666666,\"#ed7953\"],[0.7777777777777778,\"#fb9f3a\"],[0.8888888888888888,\"#fdca26\"],[1.0,\"#f0f921\"]],\"diverging\":[[0,\"#8e0152\"],[0.1,\"#c51b7d\"],[0.2,\"#de77ae\"],[0.3,\"#f1b6da\"],[0.4,\"#fde0ef\"],[0.5,\"#f7f7f7\"],[0.6,\"#e6f5d0\"],[0.7,\"#b8e186\"],[0.8,\"#7fbc41\"],[0.9,\"#4d9221\"],[1,\"#276419\"]]},\"xaxis\":{\"gridcolor\":\"white\",\"linecolor\":\"white\",\"ticks\":\"\",\"title\":{\"standoff\":15},\"zerolinecolor\":\"white\",\"automargin\":true,\"zerolinewidth\":2},\"yaxis\":{\"gridcolor\":\"white\",\"linecolor\":\"white\",\"ticks\":\"\",\"title\":{\"standoff\":15},\"zerolinecolor\":\"white\",\"automargin\":true,\"zerolinewidth\":2},\"scene\":{\"xaxis\":{\"backgroundcolor\":\"#E5ECF6\",\"gridcolor\":\"white\",\"linecolor\":\"white\",\"showbackground\":true,\"ticks\":\"\",\"zerolinecolor\":\"white\",\"gridwidth\":2},\"yaxis\":{\"backgroundcolor\":\"#E5ECF6\",\"gridcolor\":\"white\",\"linecolor\":\"white\",\"showbackground\":true,\"ticks\":\"\",\"zerolinecolor\":\"white\",\"gridwidth\":2},\"zaxis\":{\"backgroundcolor\":\"#E5ECF6\",\"gridcolor\":\"white\",\"linecolor\":\"white\",\"showbackground\":true,\"ticks\":\"\",\"zerolinecolor\":\"white\",\"gridwidth\":2}},\"shapedefaults\":{\"line\":{\"color\":\"#2a3f5f\"}},\"annotationdefaults\":{\"arrowcolor\":\"#2a3f5f\",\"arrowhead\":0,\"arrowwidth\":1},\"geo\":{\"bgcolor\":\"white\",\"landcolor\":\"#E5ECF6\",\"subunitcolor\":\"white\",\"showland\":true,\"showlakes\":true,\"lakecolor\":\"white\"},\"title\":{\"x\":0.05},\"mapbox\":{\"style\":\"light\"}}},\"xaxis\":{\"anchor\":\"y\",\"domain\":[0.0,1.0],\"title\":{\"text\":\"t\"}},\"yaxis\":{\"anchor\":\"x\",\"domain\":[0.0,1.0],\"title\":{\"text\":\"avg of value\"}},\"legend\":{\"title\":{\"text\":\"variable\"},\"tracegroupgap\":0},\"margin\":{\"t\":60},\"barmode\":\"stack\"},                        {\"responsive\": true}                    )                };            </script>        </div>"
      ],
      "text/plain": [
       "Figure({\n",
       "    'data': [{'bingroup': 'x',\n",
       "              'histfunc': 'avg',\n",
       "              'hovertemplate': 'variable=Rabbits<br>t=%{x}<br>avg of value=%{y}<extra></extra>',\n",
       "              'legendgroup': 'Rabbits',\n",
       "              'marker': {'color': '#636efa', 'pattern': {'shape': ''}},\n",
       "              'name': 'Rabbits',\n",
       "              'nbinsx': 50,\n",
       "              'orientation': 'v',\n",
       "              'showlegend': True,\n",
       "              'type': 'histogram',\n",
       "              'x': {'bdata': ('AAAAAAAAAAAVvJyCl1MAQBW8nIKXUx' ... 'fG+ldAIBrrQ2N9WEAAAAAAAABZQA=='),\n",
       "                    'dtype': 'f8'},\n",
       "              'xaxis': 'x',\n",
       "              'y': {'bdata': ('AAAAAAAAJEB4EVgEmCyxP+1kC9nA75' ... 'ir8RZAVzs9ohyEOUDKOSkgN/TSPw=='),\n",
       "                    'dtype': 'f8'},\n",
       "              'yaxis': 'y'},\n",
       "             {'bingroup': 'x',\n",
       "              'histfunc': 'avg',\n",
       "              'hovertemplate': 'variable=Foxes<br>t=%{x}<br>avg of value=%{y}<extra></extra>',\n",
       "              'legendgroup': 'Foxes',\n",
       "              'marker': {'color': '#EF553B', 'pattern': {'shape': ''}},\n",
       "              'name': 'Foxes',\n",
       "              'nbinsx': 50,\n",
       "              'orientation': 'v',\n",
       "              'showlegend': True,\n",
       "              'type': 'histogram',\n",
       "              'x': {'bdata': ('AAAAAAAAAAAVvJyCl1MAQBW8nIKXUx' ... 'fG+ldAIBrrQ2N9WEAAAAAAAABZQA=='),\n",
       "                    'dtype': 'f8'},\n",
       "              'xaxis': 'x',\n",
       "              'y': {'bdata': ('AAAAAAAAJECgopjj/44YQBh4XwMQ2g' ... 'VE7tI/TBsJaeTmC0BBptIcbrAdQA=='),\n",
       "                    'dtype': 'f8'},\n",
       "              'yaxis': 'y'}],\n",
       "    'layout': {'barmode': 'stack',\n",
       "               'legend': {'title': {'text': 'variable'}, 'tracegroupgap': 0},\n",
       "               'margin': {'t': 60},\n",
       "               'template': '...',\n",
       "               'xaxis': {'anchor': 'y', 'domain': [0.0, 1.0], 'title': {'text': 't'}},\n",
       "               'yaxis': {'anchor': 'x', 'domain': [0.0, 1.0], 'title': {'text': 'avg of value'}}}\n",
       "})"
      ]
     },
     "execution_count": 6,
     "metadata": {},
     "output_type": "execute_result"
    }
   ],
   "source": [
    "fig = px.histogram( df, x='t', y=['Rabbits',\"Foxes\"], barmode=\"stack\", nbins=df.shape[0], histfunc=\"avg\" )\n",
    "fig"
   ]
  },
  {
   "cell_type": "code",
   "execution_count": 7,
   "id": "9a22e7f2",
   "metadata": {},
   "outputs": [
    {
     "ename": "ValueError",
     "evalue": "Mime type rendering requires nbformat>=4.2.0 but it is not installed",
     "output_type": "error",
     "traceback": [
      "\u001b[31m---------------------------------------------------------------------------\u001b[39m",
      "\u001b[31mValueError\u001b[39m                                Traceback (most recent call last)",
      "\u001b[36mFile \u001b[39m\u001b[32m~/Documents/WebCompute/.venv/lib64/python3.13/site-packages/IPython/core/formatters.py:984\u001b[39m, in \u001b[36mIPythonDisplayFormatter.__call__\u001b[39m\u001b[34m(self, obj)\u001b[39m\n\u001b[32m    982\u001b[39m method = get_real_method(obj, \u001b[38;5;28mself\u001b[39m.print_method)\n\u001b[32m    983\u001b[39m \u001b[38;5;28;01mif\u001b[39;00m method \u001b[38;5;129;01mis\u001b[39;00m \u001b[38;5;129;01mnot\u001b[39;00m \u001b[38;5;28;01mNone\u001b[39;00m:\n\u001b[32m--> \u001b[39m\u001b[32m984\u001b[39m     \u001b[43mmethod\u001b[49m\u001b[43m(\u001b[49m\u001b[43m)\u001b[49m\n\u001b[32m    985\u001b[39m     \u001b[38;5;28;01mreturn\u001b[39;00m \u001b[38;5;28;01mTrue\u001b[39;00m\n",
      "\u001b[36mFile \u001b[39m\u001b[32m~/Documents/WebCompute/.venv/lib64/python3.13/site-packages/plotly/basedatatypes.py:846\u001b[39m, in \u001b[36mBaseFigure._ipython_display_\u001b[39m\u001b[34m(self)\u001b[39m\n\u001b[32m    843\u001b[39m \u001b[38;5;28;01mimport\u001b[39;00m\u001b[38;5;250m \u001b[39m\u001b[34;01mplotly\u001b[39;00m\u001b[34;01m.\u001b[39;00m\u001b[34;01mio\u001b[39;00m\u001b[38;5;250m \u001b[39m\u001b[38;5;28;01mas\u001b[39;00m\u001b[38;5;250m \u001b[39m\u001b[34;01mpio\u001b[39;00m\n\u001b[32m    845\u001b[39m \u001b[38;5;28;01mif\u001b[39;00m pio.renderers.render_on_display \u001b[38;5;129;01mand\u001b[39;00m pio.renderers.default:\n\u001b[32m--> \u001b[39m\u001b[32m846\u001b[39m     \u001b[43mpio\u001b[49m\u001b[43m.\u001b[49m\u001b[43mshow\u001b[49m\u001b[43m(\u001b[49m\u001b[38;5;28;43mself\u001b[39;49m\u001b[43m)\u001b[49m\n\u001b[32m    847\u001b[39m \u001b[38;5;28;01melse\u001b[39;00m:\n\u001b[32m    848\u001b[39m     \u001b[38;5;28mprint\u001b[39m(\u001b[38;5;28mrepr\u001b[39m(\u001b[38;5;28mself\u001b[39m))\n",
      "\u001b[36mFile \u001b[39m\u001b[32m~/Documents/WebCompute/.venv/lib64/python3.13/site-packages/plotly/io/_renderers.py:425\u001b[39m, in \u001b[36mshow\u001b[39m\u001b[34m(fig, renderer, validate, **kwargs)\u001b[39m\n\u001b[32m    420\u001b[39m     \u001b[38;5;28;01mraise\u001b[39;00m \u001b[38;5;167;01mValueError\u001b[39;00m(\n\u001b[32m    421\u001b[39m         \u001b[33m\"\u001b[39m\u001b[33mMime type rendering requires ipython but it is not installed\u001b[39m\u001b[33m\"\u001b[39m\n\u001b[32m    422\u001b[39m     )\n\u001b[32m    424\u001b[39m \u001b[38;5;28;01mif\u001b[39;00m \u001b[38;5;129;01mnot\u001b[39;00m nbformat \u001b[38;5;129;01mor\u001b[39;00m Version(nbformat.__version__) < Version(\u001b[33m\"\u001b[39m\u001b[33m4.2.0\u001b[39m\u001b[33m\"\u001b[39m):\n\u001b[32m--> \u001b[39m\u001b[32m425\u001b[39m     \u001b[38;5;28;01mraise\u001b[39;00m \u001b[38;5;167;01mValueError\u001b[39;00m(\n\u001b[32m    426\u001b[39m         \u001b[33m\"\u001b[39m\u001b[33mMime type rendering requires nbformat>=4.2.0 but it is not installed\u001b[39m\u001b[33m\"\u001b[39m\n\u001b[32m    427\u001b[39m     )\n\u001b[32m    429\u001b[39m display_jupyter_version_warnings()\n\u001b[32m    431\u001b[39m ipython_display.display(bundle, raw=\u001b[38;5;28;01mTrue\u001b[39;00m)\n",
      "\u001b[31mValueError\u001b[39m: Mime type rendering requires nbformat>=4.2.0 but it is not installed"
     ]
    },
    {
     "data": {
      "application/vnd.plotly.v1+json": {
       "config": {
        "plotlyServerURL": "https://plot.ly"
       },
       "data": [
        {
         "hovertemplate": "variable=Rabbits<br>t=%{x}<br>value=%{y}<extra></extra>",
         "legendgroup": "Rabbits",
         "line": {
          "color": "#636efa",
          "dash": "solid"
         },
         "marker": {
          "symbol": "circle"
         },
         "mode": "lines",
         "name": "Rabbits",
         "orientation": "v",
         "showlegend": true,
         "type": "scatter",
         "x": {
          "bdata": "AAAAAAAAAAAVvJyCl1MAQBW8nIKXUxBAIBrrQ2N9GEAVvJyCl1MgQBrrQ2N9aCRAIBrrQ2N9KEAlSZIkSZIsQBW8nIKXUzBAmFPwcgpeMkAa60NjfWg0QJ2Cl1PwcjZAIBrrQ2N9OECisT401oc6QCVJkiRJkjxAp+DlFLycPkAVvJyCl1NAQNaHxvrQWEFAmFPwcgpeQkBZHxrrQ2NDQBrrQ2N9aERA3LZt27ZtRUCdgpdT8HJGQF5OwcspeEdAIBrrQ2N9SEDh5RS8nIJJQKKxPjTWh0pAY31orA+NS0AlSZIkSZJMQOYUvJyCl01Ap+DlFLycTkBprA+N9aFPQBW8nIKXU1BA9qGxPjTWUEDWh8b60FhRQLdt27Zt21FAmFPwcgpeUkB4OQUvp+BSQFkfGutDY1NAOgUvp+DlU0Aa60NjfWhUQPvQWB8a61RA3LZt27ZtVUC8nIKXU/BVQJ2Cl1PwclZAfmisD431VkBeTsHLKXhXQD801ofG+ldAIBrrQ2N9WEAAAAAAAABZQA==",
          "dtype": "f8"
         },
         "xaxis": "x",
         "y": {
          "bdata": "AAAAAAAAJEB4EVgEmCyxP+1kC9nA75Q/Zmnm7r9vpT/87i9Il9nJP0Zdb4P6HPY//JvSjgBCJUDqah6VDuImQBtlQddu4bI/r/kTG/7XlT9Of9UmU+WlP8+O7w9g1ck/B0hLaFAW9j+6uVfGThclQFfcTORGeCZAEK0hXp65tD8XDMLpz/qYP+Lu529deqk/2qM1oS6Fzj/Nciq+LPL5P/bfI+sdhChASqM+/xk2HUDKSxk5nA6xPy/X6k1YQ5k/vgcfajMcrD9J5mzg93zRP5BtNCnoXf4/U3bGl1R9LEAmu5Q7ifMRQAc2BBHb2Kw/zM76zRb4mT+YXwIPH7CvPyIf7J4KatQ/hJejlhDxAUD7kKs3p7IwQLnUE5eOWgVAP5yearxwqz8pdYc9tuyfP/SBpfV3nrU/tKnEA5k83T8Q15LjHRwKQOjfEX5bGzZAQzDbXtaN7z8+uVyDxEGoP4oWMIC8RqU/+qj4PSBgwT+QQhWoODbpP2B3E9ir8RZAVzs9ohyEOUDKOSkgN/TSPw==",
          "dtype": "f8"
         },
         "yaxis": "y"
        },
        {
         "hovertemplate": "variable=Foxes<br>t=%{x}<br>value=%{y}<extra></extra>",
         "legendgroup": "Foxes",
         "line": {
          "color": "#EF553B",
          "dash": "solid"
         },
         "marker": {
          "symbol": "circle"
         },
         "mode": "lines",
         "name": "Foxes",
         "orientation": "v",
         "showlegend": true,
         "type": "scatter",
         "x": {
          "bdata": "AAAAAAAAAAAVvJyCl1MAQBW8nIKXUxBAIBrrQ2N9GEAVvJyCl1MgQBrrQ2N9aCRAIBrrQ2N9KEAlSZIkSZIsQBW8nIKXUzBAmFPwcgpeMkAa60NjfWg0QJ2Cl1PwcjZAIBrrQ2N9OECisT401oc6QCVJkiRJkjxAp+DlFLycPkAVvJyCl1NAQNaHxvrQWEFAmFPwcgpeQkBZHxrrQ2NDQBrrQ2N9aERA3LZt27ZtRUCdgpdT8HJGQF5OwcspeEdAIBrrQ2N9SEDh5RS8nIJJQKKxPjTWh0pAY31orA+NS0AlSZIkSZJMQOYUvJyCl01Ap+DlFLycTkBprA+N9aFPQBW8nIKXU1BA9qGxPjTWUEDWh8b60FhRQLdt27Zt21FAmFPwcgpeUkB4OQUvp+BSQFkfGutDY1NAOgUvp+DlU0Aa60NjfWhUQPvQWB8a61RA3LZt27ZtVUC8nIKXU/BVQJ2Cl1PwclZAfmisD431VkBeTsHLKXhXQD801ofG+ldAIBrrQ2N9WEAAAAAAAABZQA==",
          "dtype": "f8"
         },
         "xaxis": "x",
         "y": {
          "bdata": "AAAAAAAAJECgopjj/44YQBh4XwMQ2gVAapYE20hq8z+1NSnmlYbhPwADekNTh9E/o3LDSBGK0z92rMDXsz0jQAty/g/w6xhAkBIneWgvBkAeV6a+u7nzP1KjzNtVy+E/jig3Vz3M0T93BMSfNkzUPzC3kHIV9iJAJ+v2AEebGECBzPjzP+wFQPDD5mSjgPM/2LGxmPup4T+HA/plGgvSP07l+oNdZNc/wBDWxzt9JEA+9iEdvC8XQKGwgONppARAim6qwpde8j+anpo5TbHgP3dwDCLLd9E/XzwA8zpL2z8Hjzw1iQolQFYdo1K4wRVA9cKVBz5cA0BR2UxIQz7xP0bPrIsQdd8/m18GE9P30D+czPlsEzfgPxSYHaVpbSRAQhOFUhoAFEBCzatgbc4BQEBZPPt5ye8/QtA2QMFh3T80CdfRdVLRP8RADyojJ/A/WIz1KkJSIkBLVbjR5foQQCp0m0/EQf4//sw1oN8n6z+M0uw4ddrZP5QRWDVE7tI/TBsJaeTmC0BBptIcbrAdQA==",
          "dtype": "f8"
         },
         "yaxis": "y"
        }
       ],
       "layout": {
        "legend": {
         "title": {
          "text": "variable"
         },
         "tracegroupgap": 0
        },
        "margin": {
         "t": 60
        },
        "template": {
         "data": {
          "bar": [
           {
            "error_x": {
             "color": "#2a3f5f"
            },
            "error_y": {
             "color": "#2a3f5f"
            },
            "marker": {
             "line": {
              "color": "#E5ECF6",
              "width": 0.5
             },
             "pattern": {
              "fillmode": "overlay",
              "size": 10,
              "solidity": 0.2
             }
            },
            "type": "bar"
           }
          ],
          "barpolar": [
           {
            "marker": {
             "line": {
              "color": "#E5ECF6",
              "width": 0.5
             },
             "pattern": {
              "fillmode": "overlay",
              "size": 10,
              "solidity": 0.2
             }
            },
            "type": "barpolar"
           }
          ],
          "carpet": [
           {
            "aaxis": {
             "endlinecolor": "#2a3f5f",
             "gridcolor": "white",
             "linecolor": "white",
             "minorgridcolor": "white",
             "startlinecolor": "#2a3f5f"
            },
            "baxis": {
             "endlinecolor": "#2a3f5f",
             "gridcolor": "white",
             "linecolor": "white",
             "minorgridcolor": "white",
             "startlinecolor": "#2a3f5f"
            },
            "type": "carpet"
           }
          ],
          "choropleth": [
           {
            "colorbar": {
             "outlinewidth": 0,
             "ticks": ""
            },
            "type": "choropleth"
           }
          ],
          "contour": [
           {
            "colorbar": {
             "outlinewidth": 0,
             "ticks": ""
            },
            "colorscale": [
             [
              0,
              "#0d0887"
             ],
             [
              0.1111111111111111,
              "#46039f"
             ],
             [
              0.2222222222222222,
              "#7201a8"
             ],
             [
              0.3333333333333333,
              "#9c179e"
             ],
             [
              0.4444444444444444,
              "#bd3786"
             ],
             [
              0.5555555555555556,
              "#d8576b"
             ],
             [
              0.6666666666666666,
              "#ed7953"
             ],
             [
              0.7777777777777778,
              "#fb9f3a"
             ],
             [
              0.8888888888888888,
              "#fdca26"
             ],
             [
              1,
              "#f0f921"
             ]
            ],
            "type": "contour"
           }
          ],
          "contourcarpet": [
           {
            "colorbar": {
             "outlinewidth": 0,
             "ticks": ""
            },
            "type": "contourcarpet"
           }
          ],
          "heatmap": [
           {
            "colorbar": {
             "outlinewidth": 0,
             "ticks": ""
            },
            "colorscale": [
             [
              0,
              "#0d0887"
             ],
             [
              0.1111111111111111,
              "#46039f"
             ],
             [
              0.2222222222222222,
              "#7201a8"
             ],
             [
              0.3333333333333333,
              "#9c179e"
             ],
             [
              0.4444444444444444,
              "#bd3786"
             ],
             [
              0.5555555555555556,
              "#d8576b"
             ],
             [
              0.6666666666666666,
              "#ed7953"
             ],
             [
              0.7777777777777778,
              "#fb9f3a"
             ],
             [
              0.8888888888888888,
              "#fdca26"
             ],
             [
              1,
              "#f0f921"
             ]
            ],
            "type": "heatmap"
           }
          ],
          "histogram": [
           {
            "marker": {
             "pattern": {
              "fillmode": "overlay",
              "size": 10,
              "solidity": 0.2
             }
            },
            "type": "histogram"
           }
          ],
          "histogram2d": [
           {
            "colorbar": {
             "outlinewidth": 0,
             "ticks": ""
            },
            "colorscale": [
             [
              0,
              "#0d0887"
             ],
             [
              0.1111111111111111,
              "#46039f"
             ],
             [
              0.2222222222222222,
              "#7201a8"
             ],
             [
              0.3333333333333333,
              "#9c179e"
             ],
             [
              0.4444444444444444,
              "#bd3786"
             ],
             [
              0.5555555555555556,
              "#d8576b"
             ],
             [
              0.6666666666666666,
              "#ed7953"
             ],
             [
              0.7777777777777778,
              "#fb9f3a"
             ],
             [
              0.8888888888888888,
              "#fdca26"
             ],
             [
              1,
              "#f0f921"
             ]
            ],
            "type": "histogram2d"
           }
          ],
          "histogram2dcontour": [
           {
            "colorbar": {
             "outlinewidth": 0,
             "ticks": ""
            },
            "colorscale": [
             [
              0,
              "#0d0887"
             ],
             [
              0.1111111111111111,
              "#46039f"
             ],
             [
              0.2222222222222222,
              "#7201a8"
             ],
             [
              0.3333333333333333,
              "#9c179e"
             ],
             [
              0.4444444444444444,
              "#bd3786"
             ],
             [
              0.5555555555555556,
              "#d8576b"
             ],
             [
              0.6666666666666666,
              "#ed7953"
             ],
             [
              0.7777777777777778,
              "#fb9f3a"
             ],
             [
              0.8888888888888888,
              "#fdca26"
             ],
             [
              1,
              "#f0f921"
             ]
            ],
            "type": "histogram2dcontour"
           }
          ],
          "mesh3d": [
           {
            "colorbar": {
             "outlinewidth": 0,
             "ticks": ""
            },
            "type": "mesh3d"
           }
          ],
          "parcoords": [
           {
            "line": {
             "colorbar": {
              "outlinewidth": 0,
              "ticks": ""
             }
            },
            "type": "parcoords"
           }
          ],
          "pie": [
           {
            "automargin": true,
            "type": "pie"
           }
          ],
          "scatter": [
           {
            "fillpattern": {
             "fillmode": "overlay",
             "size": 10,
             "solidity": 0.2
            },
            "type": "scatter"
           }
          ],
          "scatter3d": [
           {
            "line": {
             "colorbar": {
              "outlinewidth": 0,
              "ticks": ""
             }
            },
            "marker": {
             "colorbar": {
              "outlinewidth": 0,
              "ticks": ""
             }
            },
            "type": "scatter3d"
           }
          ],
          "scattercarpet": [
           {
            "marker": {
             "colorbar": {
              "outlinewidth": 0,
              "ticks": ""
             }
            },
            "type": "scattercarpet"
           }
          ],
          "scattergeo": [
           {
            "marker": {
             "colorbar": {
              "outlinewidth": 0,
              "ticks": ""
             }
            },
            "type": "scattergeo"
           }
          ],
          "scattergl": [
           {
            "marker": {
             "colorbar": {
              "outlinewidth": 0,
              "ticks": ""
             }
            },
            "type": "scattergl"
           }
          ],
          "scattermap": [
           {
            "marker": {
             "colorbar": {
              "outlinewidth": 0,
              "ticks": ""
             }
            },
            "type": "scattermap"
           }
          ],
          "scattermapbox": [
           {
            "marker": {
             "colorbar": {
              "outlinewidth": 0,
              "ticks": ""
             }
            },
            "type": "scattermapbox"
           }
          ],
          "scatterpolar": [
           {
            "marker": {
             "colorbar": {
              "outlinewidth": 0,
              "ticks": ""
             }
            },
            "type": "scatterpolar"
           }
          ],
          "scatterpolargl": [
           {
            "marker": {
             "colorbar": {
              "outlinewidth": 0,
              "ticks": ""
             }
            },
            "type": "scatterpolargl"
           }
          ],
          "scatterternary": [
           {
            "marker": {
             "colorbar": {
              "outlinewidth": 0,
              "ticks": ""
             }
            },
            "type": "scatterternary"
           }
          ],
          "surface": [
           {
            "colorbar": {
             "outlinewidth": 0,
             "ticks": ""
            },
            "colorscale": [
             [
              0,
              "#0d0887"
             ],
             [
              0.1111111111111111,
              "#46039f"
             ],
             [
              0.2222222222222222,
              "#7201a8"
             ],
             [
              0.3333333333333333,
              "#9c179e"
             ],
             [
              0.4444444444444444,
              "#bd3786"
             ],
             [
              0.5555555555555556,
              "#d8576b"
             ],
             [
              0.6666666666666666,
              "#ed7953"
             ],
             [
              0.7777777777777778,
              "#fb9f3a"
             ],
             [
              0.8888888888888888,
              "#fdca26"
             ],
             [
              1,
              "#f0f921"
             ]
            ],
            "type": "surface"
           }
          ],
          "table": [
           {
            "cells": {
             "fill": {
              "color": "#EBF0F8"
             },
             "line": {
              "color": "white"
             }
            },
            "header": {
             "fill": {
              "color": "#C8D4E3"
             },
             "line": {
              "color": "white"
             }
            },
            "type": "table"
           }
          ]
         },
         "layout": {
          "annotationdefaults": {
           "arrowcolor": "#2a3f5f",
           "arrowhead": 0,
           "arrowwidth": 1
          },
          "autotypenumbers": "strict",
          "coloraxis": {
           "colorbar": {
            "outlinewidth": 0,
            "ticks": ""
           }
          },
          "colorscale": {
           "diverging": [
            [
             0,
             "#8e0152"
            ],
            [
             0.1,
             "#c51b7d"
            ],
            [
             0.2,
             "#de77ae"
            ],
            [
             0.3,
             "#f1b6da"
            ],
            [
             0.4,
             "#fde0ef"
            ],
            [
             0.5,
             "#f7f7f7"
            ],
            [
             0.6,
             "#e6f5d0"
            ],
            [
             0.7,
             "#b8e186"
            ],
            [
             0.8,
             "#7fbc41"
            ],
            [
             0.9,
             "#4d9221"
            ],
            [
             1,
             "#276419"
            ]
           ],
           "sequential": [
            [
             0,
             "#0d0887"
            ],
            [
             0.1111111111111111,
             "#46039f"
            ],
            [
             0.2222222222222222,
             "#7201a8"
            ],
            [
             0.3333333333333333,
             "#9c179e"
            ],
            [
             0.4444444444444444,
             "#bd3786"
            ],
            [
             0.5555555555555556,
             "#d8576b"
            ],
            [
             0.6666666666666666,
             "#ed7953"
            ],
            [
             0.7777777777777778,
             "#fb9f3a"
            ],
            [
             0.8888888888888888,
             "#fdca26"
            ],
            [
             1,
             "#f0f921"
            ]
           ],
           "sequentialminus": [
            [
             0,
             "#0d0887"
            ],
            [
             0.1111111111111111,
             "#46039f"
            ],
            [
             0.2222222222222222,
             "#7201a8"
            ],
            [
             0.3333333333333333,
             "#9c179e"
            ],
            [
             0.4444444444444444,
             "#bd3786"
            ],
            [
             0.5555555555555556,
             "#d8576b"
            ],
            [
             0.6666666666666666,
             "#ed7953"
            ],
            [
             0.7777777777777778,
             "#fb9f3a"
            ],
            [
             0.8888888888888888,
             "#fdca26"
            ],
            [
             1,
             "#f0f921"
            ]
           ]
          },
          "colorway": [
           "#636efa",
           "#EF553B",
           "#00cc96",
           "#ab63fa",
           "#FFA15A",
           "#19d3f3",
           "#FF6692",
           "#B6E880",
           "#FF97FF",
           "#FECB52"
          ],
          "font": {
           "color": "#2a3f5f"
          },
          "geo": {
           "bgcolor": "white",
           "lakecolor": "white",
           "landcolor": "#E5ECF6",
           "showlakes": true,
           "showland": true,
           "subunitcolor": "white"
          },
          "hoverlabel": {
           "align": "left"
          },
          "hovermode": "closest",
          "mapbox": {
           "style": "light"
          },
          "paper_bgcolor": "white",
          "plot_bgcolor": "#E5ECF6",
          "polar": {
           "angularaxis": {
            "gridcolor": "white",
            "linecolor": "white",
            "ticks": ""
           },
           "bgcolor": "#E5ECF6",
           "radialaxis": {
            "gridcolor": "white",
            "linecolor": "white",
            "ticks": ""
           }
          },
          "scene": {
           "xaxis": {
            "backgroundcolor": "#E5ECF6",
            "gridcolor": "white",
            "gridwidth": 2,
            "linecolor": "white",
            "showbackground": true,
            "ticks": "",
            "zerolinecolor": "white"
           },
           "yaxis": {
            "backgroundcolor": "#E5ECF6",
            "gridcolor": "white",
            "gridwidth": 2,
            "linecolor": "white",
            "showbackground": true,
            "ticks": "",
            "zerolinecolor": "white"
           },
           "zaxis": {
            "backgroundcolor": "#E5ECF6",
            "gridcolor": "white",
            "gridwidth": 2,
            "linecolor": "white",
            "showbackground": true,
            "ticks": "",
            "zerolinecolor": "white"
           }
          },
          "shapedefaults": {
           "line": {
            "color": "#2a3f5f"
           }
          },
          "ternary": {
           "aaxis": {
            "gridcolor": "white",
            "linecolor": "white",
            "ticks": ""
           },
           "baxis": {
            "gridcolor": "white",
            "linecolor": "white",
            "ticks": ""
           },
           "bgcolor": "#E5ECF6",
           "caxis": {
            "gridcolor": "white",
            "linecolor": "white",
            "ticks": ""
           }
          },
          "title": {
           "x": 0.05
          },
          "xaxis": {
           "automargin": true,
           "gridcolor": "white",
           "linecolor": "white",
           "ticks": "",
           "title": {
            "standoff": 15
           },
           "zerolinecolor": "white",
           "zerolinewidth": 2
          },
          "yaxis": {
           "automargin": true,
           "gridcolor": "white",
           "linecolor": "white",
           "ticks": "",
           "title": {
            "standoff": 15
           },
           "zerolinecolor": "white",
           "zerolinewidth": 2
          }
         }
        },
        "xaxis": {
         "anchor": "y",
         "domain": [
          0,
          1
         ],
         "title": {
          "text": "t"
         }
        },
        "yaxis": {
         "anchor": "x",
         "domain": [
          0,
          1
         ],
         "title": {
          "text": "value"
         }
        }
       }
      },
      "text/html": [
       "<div>                        <script type=\"text/javascript\">window.PlotlyConfig = {MathJaxConfig: 'local'};</script>\n",
       "        <script charset=\"utf-8\" src=\"https://cdn.plot.ly/plotly-3.0.1.min.js\"></script>                <div id=\"fa306199-3d25-437d-aa33-650ebd10b93b\" class=\"plotly-graph-div\" style=\"height:100%; width:100%;\"></div>            <script type=\"text/javascript\">                window.PLOTLYENV=window.PLOTLYENV || {};                                if (document.getElementById(\"fa306199-3d25-437d-aa33-650ebd10b93b\")) {                    Plotly.newPlot(                        \"fa306199-3d25-437d-aa33-650ebd10b93b\",                        [{\"hovertemplate\":\"variable=Rabbits\\u003cbr\\u003et=%{x}\\u003cbr\\u003evalue=%{y}\\u003cextra\\u003e\\u003c\\u002fextra\\u003e\",\"legendgroup\":\"Rabbits\",\"line\":{\"color\":\"#636efa\",\"dash\":\"solid\"},\"marker\":{\"symbol\":\"circle\"},\"mode\":\"lines\",\"name\":\"Rabbits\",\"orientation\":\"v\",\"showlegend\":true,\"x\":{\"dtype\":\"f8\",\"bdata\":\"AAAAAAAAAAAVvJyCl1MAQBW8nIKXUxBAIBrrQ2N9GEAVvJyCl1MgQBrrQ2N9aCRAIBrrQ2N9KEAlSZIkSZIsQBW8nIKXUzBAmFPwcgpeMkAa60NjfWg0QJ2Cl1PwcjZAIBrrQ2N9OECisT401oc6QCVJkiRJkjxAp+DlFLycPkAVvJyCl1NAQNaHxvrQWEFAmFPwcgpeQkBZHxrrQ2NDQBrrQ2N9aERA3LZt27ZtRUCdgpdT8HJGQF5OwcspeEdAIBrrQ2N9SEDh5RS8nIJJQKKxPjTWh0pAY31orA+NS0AlSZIkSZJMQOYUvJyCl01Ap+DlFLycTkBprA+N9aFPQBW8nIKXU1BA9qGxPjTWUEDWh8b60FhRQLdt27Zt21FAmFPwcgpeUkB4OQUvp+BSQFkfGutDY1NAOgUvp+DlU0Aa60NjfWhUQPvQWB8a61RA3LZt27ZtVUC8nIKXU\\u002fBVQJ2Cl1PwclZAfmisD431VkBeTsHLKXhXQD801ofG+ldAIBrrQ2N9WEAAAAAAAABZQA==\"},\"xaxis\":\"x\",\"y\":{\"dtype\":\"f8\",\"bdata\":\"AAAAAAAAJEB4EVgEmCyxP+1kC9nA75Q\\u002fZmnm7r9vpT\\u002f87i9Il9nJP0Zdb4P6HPY\\u002f\\u002fJvSjgBCJUDqah6VDuImQBtlQddu4bI\\u002fr\\u002fkTG\\u002f7XlT9Of9UmU+WlP8+O7w9g1ck\\u002fB0hLaFAW9j+6uVfGThclQFfcTORGeCZAEK0hXp65tD8XDMLpz\\u002fqYP+Lu529deqk\\u002f2qM1oS6Fzj\\u002fNciq+LPL5P\\u002fbfI+sdhChASqM+\\u002fxk2HUDKSxk5nA6xPy\\u002fX6k1YQ5k\\u002fvgcfajMcrD9J5mzg93zRP5BtNCnoXf4\\u002fU3bGl1R9LEAmu5Q7ifMRQAc2BBHb2Kw\\u002fzM76zRb4mT+YXwIPH7CvPyIf7J4KatQ\\u002fhJejlhDxAUD7kKs3p7IwQLnUE5eOWgVAP5yearxwqz8pdYc9tuyfP\\u002fSBpfV3nrU\\u002ftKnEA5k83T8Q15LjHRwKQOjfEX5bGzZAQzDbXtaN7z8+uVyDxEGoP4oWMIC8RqU\\u002f+qj4PSBgwT+QQhWoODbpP2B3E9ir8RZAVzs9ohyEOUDKOSkgN\\u002fTSPw==\"},\"yaxis\":\"y\",\"type\":\"scatter\"},{\"hovertemplate\":\"variable=Foxes\\u003cbr\\u003et=%{x}\\u003cbr\\u003evalue=%{y}\\u003cextra\\u003e\\u003c\\u002fextra\\u003e\",\"legendgroup\":\"Foxes\",\"line\":{\"color\":\"#EF553B\",\"dash\":\"solid\"},\"marker\":{\"symbol\":\"circle\"},\"mode\":\"lines\",\"name\":\"Foxes\",\"orientation\":\"v\",\"showlegend\":true,\"x\":{\"dtype\":\"f8\",\"bdata\":\"AAAAAAAAAAAVvJyCl1MAQBW8nIKXUxBAIBrrQ2N9GEAVvJyCl1MgQBrrQ2N9aCRAIBrrQ2N9KEAlSZIkSZIsQBW8nIKXUzBAmFPwcgpeMkAa60NjfWg0QJ2Cl1PwcjZAIBrrQ2N9OECisT401oc6QCVJkiRJkjxAp+DlFLycPkAVvJyCl1NAQNaHxvrQWEFAmFPwcgpeQkBZHxrrQ2NDQBrrQ2N9aERA3LZt27ZtRUCdgpdT8HJGQF5OwcspeEdAIBrrQ2N9SEDh5RS8nIJJQKKxPjTWh0pAY31orA+NS0AlSZIkSZJMQOYUvJyCl01Ap+DlFLycTkBprA+N9aFPQBW8nIKXU1BA9qGxPjTWUEDWh8b60FhRQLdt27Zt21FAmFPwcgpeUkB4OQUvp+BSQFkfGutDY1NAOgUvp+DlU0Aa60NjfWhUQPvQWB8a61RA3LZt27ZtVUC8nIKXU\\u002fBVQJ2Cl1PwclZAfmisD431VkBeTsHLKXhXQD801ofG+ldAIBrrQ2N9WEAAAAAAAABZQA==\"},\"xaxis\":\"x\",\"y\":{\"dtype\":\"f8\",\"bdata\":\"AAAAAAAAJECgopjj\\u002f44YQBh4XwMQ2gVAapYE20hq8z+1NSnmlYbhPwADekNTh9E\\u002fo3LDSBGK0z92rMDXsz0jQAty\\u002fg\\u002fw6xhAkBIneWgvBkAeV6a+u7nzP1KjzNtVy+E\\u002fjig3Vz3M0T93BMSfNkzUPzC3kHIV9iJAJ+v2AEebGECBzPjzP+wFQPDD5mSjgPM\\u002f2LGxmPup4T+HA\\u002fplGgvSP07l+oNdZNc\\u002fwBDWxzt9JEA+9iEdvC8XQKGwgONppARAim6qwpde8j+anpo5TbHgP3dwDCLLd9E\\u002fXzwA8zpL2z8Hjzw1iQolQFYdo1K4wRVA9cKVBz5cA0BR2UxIQz7xP0bPrIsQdd8\\u002fm18GE9P30D+czPlsEzfgPxSYHaVpbSRAQhOFUhoAFEBCzatgbc4BQEBZPPt5ye8\\u002fQtA2QMFh3T80CdfRdVLRP8RADyojJ\\u002fA\\u002fWIz1KkJSIkBLVbjR5foQQCp0m0\\u002fEQf4\\u002f\\u002fsw1oN8n6z+M0uw4ddrZP5QRWDVE7tI\\u002fTBsJaeTmC0BBptIcbrAdQA==\"},\"yaxis\":\"y\",\"type\":\"scatter\"}],                        {\"template\":{\"data\":{\"histogram2dcontour\":[{\"type\":\"histogram2dcontour\",\"colorbar\":{\"outlinewidth\":0,\"ticks\":\"\"},\"colorscale\":[[0.0,\"#0d0887\"],[0.1111111111111111,\"#46039f\"],[0.2222222222222222,\"#7201a8\"],[0.3333333333333333,\"#9c179e\"],[0.4444444444444444,\"#bd3786\"],[0.5555555555555556,\"#d8576b\"],[0.6666666666666666,\"#ed7953\"],[0.7777777777777778,\"#fb9f3a\"],[0.8888888888888888,\"#fdca26\"],[1.0,\"#f0f921\"]]}],\"choropleth\":[{\"type\":\"choropleth\",\"colorbar\":{\"outlinewidth\":0,\"ticks\":\"\"}}],\"histogram2d\":[{\"type\":\"histogram2d\",\"colorbar\":{\"outlinewidth\":0,\"ticks\":\"\"},\"colorscale\":[[0.0,\"#0d0887\"],[0.1111111111111111,\"#46039f\"],[0.2222222222222222,\"#7201a8\"],[0.3333333333333333,\"#9c179e\"],[0.4444444444444444,\"#bd3786\"],[0.5555555555555556,\"#d8576b\"],[0.6666666666666666,\"#ed7953\"],[0.7777777777777778,\"#fb9f3a\"],[0.8888888888888888,\"#fdca26\"],[1.0,\"#f0f921\"]]}],\"heatmap\":[{\"type\":\"heatmap\",\"colorbar\":{\"outlinewidth\":0,\"ticks\":\"\"},\"colorscale\":[[0.0,\"#0d0887\"],[0.1111111111111111,\"#46039f\"],[0.2222222222222222,\"#7201a8\"],[0.3333333333333333,\"#9c179e\"],[0.4444444444444444,\"#bd3786\"],[0.5555555555555556,\"#d8576b\"],[0.6666666666666666,\"#ed7953\"],[0.7777777777777778,\"#fb9f3a\"],[0.8888888888888888,\"#fdca26\"],[1.0,\"#f0f921\"]]}],\"contourcarpet\":[{\"type\":\"contourcarpet\",\"colorbar\":{\"outlinewidth\":0,\"ticks\":\"\"}}],\"contour\":[{\"type\":\"contour\",\"colorbar\":{\"outlinewidth\":0,\"ticks\":\"\"},\"colorscale\":[[0.0,\"#0d0887\"],[0.1111111111111111,\"#46039f\"],[0.2222222222222222,\"#7201a8\"],[0.3333333333333333,\"#9c179e\"],[0.4444444444444444,\"#bd3786\"],[0.5555555555555556,\"#d8576b\"],[0.6666666666666666,\"#ed7953\"],[0.7777777777777778,\"#fb9f3a\"],[0.8888888888888888,\"#fdca26\"],[1.0,\"#f0f921\"]]}],\"surface\":[{\"type\":\"surface\",\"colorbar\":{\"outlinewidth\":0,\"ticks\":\"\"},\"colorscale\":[[0.0,\"#0d0887\"],[0.1111111111111111,\"#46039f\"],[0.2222222222222222,\"#7201a8\"],[0.3333333333333333,\"#9c179e\"],[0.4444444444444444,\"#bd3786\"],[0.5555555555555556,\"#d8576b\"],[0.6666666666666666,\"#ed7953\"],[0.7777777777777778,\"#fb9f3a\"],[0.8888888888888888,\"#fdca26\"],[1.0,\"#f0f921\"]]}],\"mesh3d\":[{\"type\":\"mesh3d\",\"colorbar\":{\"outlinewidth\":0,\"ticks\":\"\"}}],\"scatter\":[{\"fillpattern\":{\"fillmode\":\"overlay\",\"size\":10,\"solidity\":0.2},\"type\":\"scatter\"}],\"parcoords\":[{\"type\":\"parcoords\",\"line\":{\"colorbar\":{\"outlinewidth\":0,\"ticks\":\"\"}}}],\"scatterpolargl\":[{\"type\":\"scatterpolargl\",\"marker\":{\"colorbar\":{\"outlinewidth\":0,\"ticks\":\"\"}}}],\"bar\":[{\"error_x\":{\"color\":\"#2a3f5f\"},\"error_y\":{\"color\":\"#2a3f5f\"},\"marker\":{\"line\":{\"color\":\"#E5ECF6\",\"width\":0.5},\"pattern\":{\"fillmode\":\"overlay\",\"size\":10,\"solidity\":0.2}},\"type\":\"bar\"}],\"scattergeo\":[{\"type\":\"scattergeo\",\"marker\":{\"colorbar\":{\"outlinewidth\":0,\"ticks\":\"\"}}}],\"scatterpolar\":[{\"type\":\"scatterpolar\",\"marker\":{\"colorbar\":{\"outlinewidth\":0,\"ticks\":\"\"}}}],\"histogram\":[{\"marker\":{\"pattern\":{\"fillmode\":\"overlay\",\"size\":10,\"solidity\":0.2}},\"type\":\"histogram\"}],\"scattergl\":[{\"type\":\"scattergl\",\"marker\":{\"colorbar\":{\"outlinewidth\":0,\"ticks\":\"\"}}}],\"scatter3d\":[{\"type\":\"scatter3d\",\"line\":{\"colorbar\":{\"outlinewidth\":0,\"ticks\":\"\"}},\"marker\":{\"colorbar\":{\"outlinewidth\":0,\"ticks\":\"\"}}}],\"scattermap\":[{\"type\":\"scattermap\",\"marker\":{\"colorbar\":{\"outlinewidth\":0,\"ticks\":\"\"}}}],\"scattermapbox\":[{\"type\":\"scattermapbox\",\"marker\":{\"colorbar\":{\"outlinewidth\":0,\"ticks\":\"\"}}}],\"scatterternary\":[{\"type\":\"scatterternary\",\"marker\":{\"colorbar\":{\"outlinewidth\":0,\"ticks\":\"\"}}}],\"scattercarpet\":[{\"type\":\"scattercarpet\",\"marker\":{\"colorbar\":{\"outlinewidth\":0,\"ticks\":\"\"}}}],\"carpet\":[{\"aaxis\":{\"endlinecolor\":\"#2a3f5f\",\"gridcolor\":\"white\",\"linecolor\":\"white\",\"minorgridcolor\":\"white\",\"startlinecolor\":\"#2a3f5f\"},\"baxis\":{\"endlinecolor\":\"#2a3f5f\",\"gridcolor\":\"white\",\"linecolor\":\"white\",\"minorgridcolor\":\"white\",\"startlinecolor\":\"#2a3f5f\"},\"type\":\"carpet\"}],\"table\":[{\"cells\":{\"fill\":{\"color\":\"#EBF0F8\"},\"line\":{\"color\":\"white\"}},\"header\":{\"fill\":{\"color\":\"#C8D4E3\"},\"line\":{\"color\":\"white\"}},\"type\":\"table\"}],\"barpolar\":[{\"marker\":{\"line\":{\"color\":\"#E5ECF6\",\"width\":0.5},\"pattern\":{\"fillmode\":\"overlay\",\"size\":10,\"solidity\":0.2}},\"type\":\"barpolar\"}],\"pie\":[{\"automargin\":true,\"type\":\"pie\"}]},\"layout\":{\"autotypenumbers\":\"strict\",\"colorway\":[\"#636efa\",\"#EF553B\",\"#00cc96\",\"#ab63fa\",\"#FFA15A\",\"#19d3f3\",\"#FF6692\",\"#B6E880\",\"#FF97FF\",\"#FECB52\"],\"font\":{\"color\":\"#2a3f5f\"},\"hovermode\":\"closest\",\"hoverlabel\":{\"align\":\"left\"},\"paper_bgcolor\":\"white\",\"plot_bgcolor\":\"#E5ECF6\",\"polar\":{\"bgcolor\":\"#E5ECF6\",\"angularaxis\":{\"gridcolor\":\"white\",\"linecolor\":\"white\",\"ticks\":\"\"},\"radialaxis\":{\"gridcolor\":\"white\",\"linecolor\":\"white\",\"ticks\":\"\"}},\"ternary\":{\"bgcolor\":\"#E5ECF6\",\"aaxis\":{\"gridcolor\":\"white\",\"linecolor\":\"white\",\"ticks\":\"\"},\"baxis\":{\"gridcolor\":\"white\",\"linecolor\":\"white\",\"ticks\":\"\"},\"caxis\":{\"gridcolor\":\"white\",\"linecolor\":\"white\",\"ticks\":\"\"}},\"coloraxis\":{\"colorbar\":{\"outlinewidth\":0,\"ticks\":\"\"}},\"colorscale\":{\"sequential\":[[0.0,\"#0d0887\"],[0.1111111111111111,\"#46039f\"],[0.2222222222222222,\"#7201a8\"],[0.3333333333333333,\"#9c179e\"],[0.4444444444444444,\"#bd3786\"],[0.5555555555555556,\"#d8576b\"],[0.6666666666666666,\"#ed7953\"],[0.7777777777777778,\"#fb9f3a\"],[0.8888888888888888,\"#fdca26\"],[1.0,\"#f0f921\"]],\"sequentialminus\":[[0.0,\"#0d0887\"],[0.1111111111111111,\"#46039f\"],[0.2222222222222222,\"#7201a8\"],[0.3333333333333333,\"#9c179e\"],[0.4444444444444444,\"#bd3786\"],[0.5555555555555556,\"#d8576b\"],[0.6666666666666666,\"#ed7953\"],[0.7777777777777778,\"#fb9f3a\"],[0.8888888888888888,\"#fdca26\"],[1.0,\"#f0f921\"]],\"diverging\":[[0,\"#8e0152\"],[0.1,\"#c51b7d\"],[0.2,\"#de77ae\"],[0.3,\"#f1b6da\"],[0.4,\"#fde0ef\"],[0.5,\"#f7f7f7\"],[0.6,\"#e6f5d0\"],[0.7,\"#b8e186\"],[0.8,\"#7fbc41\"],[0.9,\"#4d9221\"],[1,\"#276419\"]]},\"xaxis\":{\"gridcolor\":\"white\",\"linecolor\":\"white\",\"ticks\":\"\",\"title\":{\"standoff\":15},\"zerolinecolor\":\"white\",\"automargin\":true,\"zerolinewidth\":2},\"yaxis\":{\"gridcolor\":\"white\",\"linecolor\":\"white\",\"ticks\":\"\",\"title\":{\"standoff\":15},\"zerolinecolor\":\"white\",\"automargin\":true,\"zerolinewidth\":2},\"scene\":{\"xaxis\":{\"backgroundcolor\":\"#E5ECF6\",\"gridcolor\":\"white\",\"linecolor\":\"white\",\"showbackground\":true,\"ticks\":\"\",\"zerolinecolor\":\"white\",\"gridwidth\":2},\"yaxis\":{\"backgroundcolor\":\"#E5ECF6\",\"gridcolor\":\"white\",\"linecolor\":\"white\",\"showbackground\":true,\"ticks\":\"\",\"zerolinecolor\":\"white\",\"gridwidth\":2},\"zaxis\":{\"backgroundcolor\":\"#E5ECF6\",\"gridcolor\":\"white\",\"linecolor\":\"white\",\"showbackground\":true,\"ticks\":\"\",\"zerolinecolor\":\"white\",\"gridwidth\":2}},\"shapedefaults\":{\"line\":{\"color\":\"#2a3f5f\"}},\"annotationdefaults\":{\"arrowcolor\":\"#2a3f5f\",\"arrowhead\":0,\"arrowwidth\":1},\"geo\":{\"bgcolor\":\"white\",\"landcolor\":\"#E5ECF6\",\"subunitcolor\":\"white\",\"showland\":true,\"showlakes\":true,\"lakecolor\":\"white\"},\"title\":{\"x\":0.05},\"mapbox\":{\"style\":\"light\"}}},\"xaxis\":{\"anchor\":\"y\",\"domain\":[0.0,1.0],\"title\":{\"text\":\"t\"}},\"yaxis\":{\"anchor\":\"x\",\"domain\":[0.0,1.0],\"title\":{\"text\":\"value\"}},\"legend\":{\"title\":{\"text\":\"variable\"},\"tracegroupgap\":0},\"margin\":{\"t\":60}},                        {\"responsive\": true}                    )                };            </script>        </div>"
      ],
      "text/plain": [
       "Figure({\n",
       "    'data': [{'hovertemplate': 'variable=Rabbits<br>t=%{x}<br>value=%{y}<extra></extra>',\n",
       "              'legendgroup': 'Rabbits',\n",
       "              'line': {'color': '#636efa', 'dash': 'solid'},\n",
       "              'marker': {'symbol': 'circle'},\n",
       "              'mode': 'lines',\n",
       "              'name': 'Rabbits',\n",
       "              'orientation': 'v',\n",
       "              'showlegend': True,\n",
       "              'type': 'scatter',\n",
       "              'x': {'bdata': ('AAAAAAAAAAAVvJyCl1MAQBW8nIKXUx' ... 'fG+ldAIBrrQ2N9WEAAAAAAAABZQA=='),\n",
       "                    'dtype': 'f8'},\n",
       "              'xaxis': 'x',\n",
       "              'y': {'bdata': ('AAAAAAAAJEB4EVgEmCyxP+1kC9nA75' ... 'ir8RZAVzs9ohyEOUDKOSkgN/TSPw=='),\n",
       "                    'dtype': 'f8'},\n",
       "              'yaxis': 'y'},\n",
       "             {'hovertemplate': 'variable=Foxes<br>t=%{x}<br>value=%{y}<extra></extra>',\n",
       "              'legendgroup': 'Foxes',\n",
       "              'line': {'color': '#EF553B', 'dash': 'solid'},\n",
       "              'marker': {'symbol': 'circle'},\n",
       "              'mode': 'lines',\n",
       "              'name': 'Foxes',\n",
       "              'orientation': 'v',\n",
       "              'showlegend': True,\n",
       "              'type': 'scatter',\n",
       "              'x': {'bdata': ('AAAAAAAAAAAVvJyCl1MAQBW8nIKXUx' ... 'fG+ldAIBrrQ2N9WEAAAAAAAABZQA=='),\n",
       "                    'dtype': 'f8'},\n",
       "              'xaxis': 'x',\n",
       "              'y': {'bdata': ('AAAAAAAAJECgopjj/44YQBh4XwMQ2g' ... 'VE7tI/TBsJaeTmC0BBptIcbrAdQA=='),\n",
       "                    'dtype': 'f8'},\n",
       "              'yaxis': 'y'}],\n",
       "    'layout': {'legend': {'title': {'text': 'variable'}, 'tracegroupgap': 0},\n",
       "               'margin': {'t': 60},\n",
       "               'template': '...',\n",
       "               'xaxis': {'anchor': 'y', 'domain': [0.0, 1.0], 'title': {'text': 't'}},\n",
       "               'yaxis': {'anchor': 'x', 'domain': [0.0, 1.0], 'title': {'text': 'value'}}}\n",
       "})"
      ]
     },
     "execution_count": 7,
     "metadata": {},
     "output_type": "execute_result"
    }
   ],
   "source": [
    "fig = px.line(df, x=\"t\", y=[\"Rabbits\", \"Foxes\"])\n",
    "fig"
   ]
  }
 ],
 "metadata": {
  "kernelspec": {
   "display_name": ".venv",
   "language": "python",
   "name": "python3"
  },
  "language_info": {
   "codemirror_mode": {
    "name": "ipython",
    "version": 3
   },
   "file_extension": ".py",
   "mimetype": "text/x-python",
   "name": "python",
   "nbconvert_exporter": "python",
   "pygments_lexer": "ipython3",
   "version": "3.13.3"
  }
 },
 "nbformat": 4,
 "nbformat_minor": 5
}
